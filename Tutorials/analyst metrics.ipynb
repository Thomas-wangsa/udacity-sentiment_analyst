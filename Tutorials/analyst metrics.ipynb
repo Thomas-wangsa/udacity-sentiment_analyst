{
 "cells": [
  {
   "cell_type": "code",
   "execution_count": 2,
   "metadata": {},
   "outputs": [],
   "source": [
    "import numpy\n",
    "\n",
    "from sklearn.metrics import mean_squared_error\n",
    "from math import sqrt\n",
    "\n",
    "from sklearn.metrics import mean_absolute_error as MAE\n",
    "\n",
    "from sklearn.metrics import r2_score\n",
    "\n",
    "\n"
   ]
  },
  {
   "cell_type": "code",
   "execution_count": 35,
   "metadata": {},
   "outputs": [],
   "source": [
    "y = [1, 2, 3]\n",
    "f = [1.05,2.1,3.2]\n",
    "\n",
    "# Convert to numpy array and ensure double precision to avoid single precision errors\n",
    "observed = numpy.array(y, dtype=numpy.float64)\n",
    "predicted = numpy.array(f, dtype=numpy.float64)\n",
    "\n",
    "# observed = y\n",
    "# predicted = f\n",
    "\n",
    "\n",
    "rms = sqrt(mean_squared_error(observed, predicted))\n",
    "mae = MAE(observed, predicted)\n",
    "r_score = r2_score(observed, predicted)\n"
   ]
  },
  {
   "cell_type": "code",
   "execution_count": 36,
   "metadata": {},
   "outputs": [
    {
     "name": "stdout",
     "output_type": "stream",
     "text": [
      "rms :  0.13228756555322965\n",
      "mae  : 0.11666666666666677\n",
      "r_score :  0.97375\n"
     ]
    }
   ],
   "source": [
    "print(\"rms : \" , rms)\n",
    "print(\"mae  :\", mae)\n",
    "print(\"r_score : \", r_score)\n"
   ]
  },
  {
   "cell_type": "code",
   "execution_count": null,
   "metadata": {},
   "outputs": [],
   "source": []
  }
 ],
 "metadata": {
  "kernelspec": {
   "display_name": "conda_python3",
   "language": "python",
   "name": "conda_python3"
  },
  "language_info": {
   "codemirror_mode": {
    "name": "ipython",
    "version": 3
   },
   "file_extension": ".py",
   "mimetype": "text/x-python",
   "name": "python",
   "nbconvert_exporter": "python",
   "pygments_lexer": "ipython3",
   "version": "3.6.10"
  }
 },
 "nbformat": 4,
 "nbformat_minor": 4
}
