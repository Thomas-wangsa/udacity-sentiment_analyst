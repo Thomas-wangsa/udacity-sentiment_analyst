{
 "cells": [
  {
   "cell_type": "markdown",
   "metadata": {},
   "source": [
    "# Sentiment Analysis Web App\n",
    "\n",
    "_Deep Learning Nanodegree Program | Deployment_\n",
    "\n",
    "---\n",
    "\n",
    "In this notebook we will use Amazon's SageMaker service to construct a random tree model to predict the sentiment of a movie review. In addition, we will deploy this model to an endpoint and construct a very simple web app which will interact with our model's deployed endpoint.\n",
    "\n",
    "## General Outline\n",
    "\n",
    "Typically, when using a notebook instance with SageMaker, you will proceed through the following steps. Of course, not every step will need to be done with each project. Also, there is quite a lot of room for variation in many of the steps, as you will see throughout these lessons.\n",
    "\n",
    "1. Download or otherwise retrieve the data.\n",
    "2. Process / Prepare the data.\n",
    "3. Upload the processed data to S3.\n",
    "4. Train a chosen model.\n",
    "5. Test the trained model (typically using a batch transform job).\n",
    "6. Deploy the trained model.\n",
    "7. Use the deployed model.\n",
    "\n",
    "In this notebook we will progress through each of the steps above. We will also see that the final step, using the deployed model, can be quite challenging."
   ]
  },
  {
   "cell_type": "markdown",
   "metadata": {},
   "source": [
    "## Step 1: Downloading the data\n",
    "\n",
    "The dataset we are going to use is very popular among researchers in Natural Language Processing, usually referred to as the [IMDb dataset](http://ai.stanford.edu/~amaas/data/sentiment/). It consists of movie reviews from the website [imdb.com](http://www.imdb.com/), each labeled as either '**pos**itive', if the reviewer enjoyed the film, or '**neg**ative' otherwise.\n",
    "\n",
    "> Maas, Andrew L., et al. [Learning Word Vectors for Sentiment Analysis](http://ai.stanford.edu/~amaas/data/sentiment/). In _Proceedings of the 49th Annual Meeting of the Association for Computational Linguistics: Human Language Technologies_. Association for Computational Linguistics, 2011.\n",
    "\n",
    "We begin by using some Jupyter Notebook magic to download and extract the dataset."
   ]
  },
  {
   "cell_type": "code",
   "execution_count": 31,
   "metadata": {},
   "outputs": [
    {
     "name": "stdout",
     "output_type": "stream",
     "text": [
      "mkdir: cannot create directory ‘../data’: File exists\n",
      "--2020-10-03 19:33:49--  http://ai.stanford.edu/~amaas/data/sentiment/aclImdb_v1.tar.gz\n",
      "Resolving ai.stanford.edu (ai.stanford.edu)... 171.64.68.10\n",
      "Connecting to ai.stanford.edu (ai.stanford.edu)|171.64.68.10|:80... connected.\n",
      "HTTP request sent, awaiting response... 200 OK\n",
      "Length: 84125825 (80M) [application/x-gzip]\n",
      "Saving to: ‘../data/aclImdb_v1.tar.gz’\n",
      "\n",
      "../data/aclImdb_v1. 100%[===================>]  80.23M  25.4MB/s    in 4.0s    \n",
      "\n",
      "2020-10-03 19:33:53 (20.0 MB/s) - ‘../data/aclImdb_v1.tar.gz’ saved [84125825/84125825]\n",
      "\n"
     ]
    }
   ],
   "source": [
    "%mkdir ../data\n",
    "!wget -O ../data/aclImdb_v1.tar.gz http://ai.stanford.edu/~amaas/data/sentiment/aclImdb_v1.tar.gz\n",
    "!tar -zxf ../data/aclImdb_v1.tar.gz -C ../data"
   ]
  },
  {
   "cell_type": "markdown",
   "metadata": {},
   "source": [
    "## Step 2: Preparing and Processing the data\n",
    "\n",
    "The data we have downloaded is split into various files, each of which contains a single review. It will be much easier going forward if we combine these individual files into two large files, one for training and one for testing."
   ]
  },
  {
   "cell_type": "code",
   "execution_count": 32,
   "metadata": {},
   "outputs": [],
   "source": [
    "import os\n",
    "import glob\n",
    "\n",
    "def read_imdb_data(data_dir='../data/aclImdb'):\n",
    "    data = {}\n",
    "    labels = {}\n",
    "    \n",
    "    for data_type in ['train', 'test']:\n",
    "        data[data_type] = {}\n",
    "        labels[data_type] = {}\n",
    "        \n",
    "        for sentiment in ['pos', 'neg']:\n",
    "            data[data_type][sentiment] = []\n",
    "            labels[data_type][sentiment] = []\n",
    "            \n",
    "            path = os.path.join(data_dir, data_type, sentiment, '*.txt')\n",
    "            files = glob.glob(path)\n",
    "            \n",
    "            for f in files:\n",
    "                with open(f) as review:\n",
    "                    data[data_type][sentiment].append(review.read())\n",
    "                    # Here we represent a positive review by '1' and a negative review by '0'\n",
    "                    labels[data_type][sentiment].append(1 if sentiment == 'pos' else 0)\n",
    "                    \n",
    "            assert len(data[data_type][sentiment]) == len(labels[data_type][sentiment]), \\\n",
    "                    \"{}/{} data size does not match labels size\".format(data_type, sentiment)\n",
    "                \n",
    "    return data, labels"
   ]
  },
  {
   "cell_type": "code",
   "execution_count": 33,
   "metadata": {},
   "outputs": [
    {
     "name": "stdout",
     "output_type": "stream",
     "text": [
      "IMDB reviews: train = 12500 pos / 12500 neg, test = 12500 pos / 12500 neg\n"
     ]
    }
   ],
   "source": [
    "data, labels = read_imdb_data()\n",
    "print(\"IMDB reviews: train = {} pos / {} neg, test = {} pos / {} neg\".format(\n",
    "            len(data['train']['pos']), len(data['train']['neg']),\n",
    "            len(data['test']['pos']), len(data['test']['neg'])))"
   ]
  },
  {
   "cell_type": "code",
   "execution_count": 34,
   "metadata": {},
   "outputs": [],
   "source": [
    "from sklearn.utils import shuffle\n",
    "\n",
    "def prepare_imdb_data(data, labels):\n",
    "    \"\"\"Prepare training and test sets from IMDb movie reviews.\"\"\"\n",
    "    \n",
    "    #Combine positive and negative reviews and labels\n",
    "    data_train = data['train']['pos'] + data['train']['neg']\n",
    "    data_test = data['test']['pos'] + data['test']['neg']\n",
    "    labels_train = labels['train']['pos'] + labels['train']['neg']\n",
    "    labels_test = labels['test']['pos'] + labels['test']['neg']\n",
    "    \n",
    "    #Shuffle reviews and corresponding labels within training and test sets\n",
    "    data_train, labels_train = shuffle(data_train, labels_train)\n",
    "    data_test, labels_test = shuffle(data_test, labels_test)\n",
    "    \n",
    "    # Return a unified training data, test data, training labels, test labets\n",
    "    return data_train, data_test, labels_train, labels_test"
   ]
  },
  {
   "cell_type": "code",
   "execution_count": 35,
   "metadata": {},
   "outputs": [
    {
     "name": "stdout",
     "output_type": "stream",
     "text": [
      "IMDb reviews (combined): train = 25000, test = 25000\n"
     ]
    }
   ],
   "source": [
    "train_X, test_X, train_y, test_y = prepare_imdb_data(data, labels)\n",
    "print(\"IMDb reviews (combined): train = {}, test = {}\".format(len(train_X), len(test_X)))"
   ]
  },
  {
   "cell_type": "code",
   "execution_count": 36,
   "metadata": {},
   "outputs": [
    {
     "data": {
      "text/plain": [
       "\"If derivative and predictable rape-revenge thrillers are your thing, then you're in for a rare treat... They don't really appeal to me, so I couldn't find any single thing to redeem this peculiar tale. It seems like something straight out of the 1980s, a different age when this would have gone straight to video. Gillian Anderson and Danny Dyer do OK work with a weak script and a tedious scenario. But what is Gillian Anderson doing getting involved with a film like this after the brilliance of her performance as Lady Deadlock in the BBC TV adaptation of Bleak House last year? The director is said to have been influenced by witnessing a near-rape and by his work on documentaries, but even that's not an excuse for the bizarre scene where a pack of rural hounds beat up Dyer. I don't think I was the only person in the cinema laughing. What I can't understand is the involvement of the companies behind this film - FilmFour and Verve Pictures. Both have been involved in some great independent British films in recent years. Verve distributed Bullet Boy, Code 46 and Red Road - Straightheads doesn't deserve to be mentioned in the same breath. FilmFour and Verve take note: is this really the best you can do? What are independent British filmmakers going to make of your artistic judgement? It's a big blot on both of your reputations. Listen carefully: can you hear the thousands of fans of independent British films crying in despair?\""
      ]
     },
     "execution_count": 36,
     "metadata": {},
     "output_type": "execute_result"
    }
   ],
   "source": [
    "train_X[100]"
   ]
  },
  {
   "cell_type": "markdown",
   "metadata": {},
   "source": [
    "## Processing the data\n",
    "\n",
    "Now that we have our training and testing datasets merged and ready to use, we need to start processing the raw data into something that will be useable by our machine learning algorithm. To begin with, we remove any html formatting and any non-alpha numeric characters that may appear in the reviews. We will do this in a very simplistic way using Python's regular expression module. We will discuss the reason for this rather simplistic pre-processing later on."
   ]
  },
  {
   "cell_type": "code",
   "execution_count": 37,
   "metadata": {},
   "outputs": [],
   "source": [
    "import re\n",
    "\n",
    "REPLACE_NO_SPACE = re.compile(\"(\\.)|(\\;)|(\\:)|(\\!)|(\\')|(\\?)|(\\,)|(\\\")|(\\()|(\\))|(\\[)|(\\])\")\n",
    "REPLACE_WITH_SPACE = re.compile(\"(<br\\s*/><br\\s*/>)|(\\-)|(\\/)\")\n",
    "\n",
    "def review_to_words(review):\n",
    "    words = REPLACE_NO_SPACE.sub(\"\", review.lower())\n",
    "    words = REPLACE_WITH_SPACE.sub(\" \", words)\n",
    "    return words"
   ]
  },
  {
   "cell_type": "code",
   "execution_count": 38,
   "metadata": {},
   "outputs": [
    {
     "data": {
      "text/plain": [
       "'if derivative and predictable rape revenge thrillers are your thing then youre in for a rare treat they dont really appeal to me so i couldnt find any single thing to redeem this peculiar tale it seems like something straight out of the 1980s a different age when this would have gone straight to video gillian anderson and danny dyer do ok work with a weak script and a tedious scenario but what is gillian anderson doing getting involved with a film like this after the brilliance of her performance as lady deadlock in the bbc tv adaptation of bleak house last year the director is said to have been influenced by witnessing a near rape and by his work on documentaries but even thats not an excuse for the bizarre scene where a pack of rural hounds beat up dyer i dont think i was the only person in the cinema laughing what i cant understand is the involvement of the companies behind this film   filmfour and verve pictures both have been involved in some great independent british films in recent years verve distributed bullet boy code 46 and red road   straightheads doesnt deserve to be mentioned in the same breath filmfour and verve take note is this really the best you can do what are independent british filmmakers going to make of your artistic judgement its a big blot on both of your reputations listen carefully can you hear the thousands of fans of independent british films crying in despair'"
      ]
     },
     "execution_count": 38,
     "metadata": {},
     "output_type": "execute_result"
    }
   ],
   "source": [
    "review_to_words(train_X[100])"
   ]
  },
  {
   "cell_type": "code",
   "execution_count": 39,
   "metadata": {},
   "outputs": [],
   "source": [
    "import pickle\n",
    "\n",
    "cache_dir = os.path.join(\"../cache\", \"sentiment_web_app\")  # where to store cache files\n",
    "os.makedirs(cache_dir, exist_ok=True)  # ensure cache directory exists\n",
    "\n",
    "def preprocess_data(data_train, data_test, labels_train, labels_test,\n",
    "                    cache_dir=cache_dir, cache_file=\"preprocessed_data.pkl\"):\n",
    "    \"\"\"Convert each review to words; read from cache if available.\"\"\"\n",
    "\n",
    "    # If cache_file is not None, try to read from it first\n",
    "    cache_data = None\n",
    "    if cache_file is not None:\n",
    "        try:\n",
    "            with open(os.path.join(cache_dir, cache_file), \"rb\") as f:\n",
    "                cache_data = pickle.load(f)\n",
    "            print(\"Read preprocessed data from cache file:\", cache_file)\n",
    "        except:\n",
    "            pass  # unable to read from cache, but that's okay\n",
    "    \n",
    "    # If cache is missing, then do the heavy lifting\n",
    "    if cache_data is None:\n",
    "        # Preprocess training and test data to obtain words for each review\n",
    "        #words_train = list(map(review_to_words, data_train))\n",
    "        #words_test = list(map(review_to_words, data_test))\n",
    "        words_train = [review_to_words(review) for review in data_train]\n",
    "        words_test = [review_to_words(review) for review in data_test]\n",
    "        \n",
    "        # Write to cache file for future runs\n",
    "        if cache_file is not None:\n",
    "            cache_data = dict(words_train=words_train, words_test=words_test,\n",
    "                              labels_train=labels_train, labels_test=labels_test)\n",
    "            with open(os.path.join(cache_dir, cache_file), \"wb\") as f:\n",
    "                pickle.dump(cache_data, f)\n",
    "            print(\"Wrote preprocessed data to cache file:\", cache_file)\n",
    "    else:\n",
    "        # Unpack data loaded from cache file\n",
    "        words_train, words_test, labels_train, labels_test = (cache_data['words_train'],\n",
    "                cache_data['words_test'], cache_data['labels_train'], cache_data['labels_test'])\n",
    "    \n",
    "    return words_train, words_test, labels_train, labels_test"
   ]
  },
  {
   "cell_type": "code",
   "execution_count": 40,
   "metadata": {},
   "outputs": [
    {
     "name": "stdout",
     "output_type": "stream",
     "text": [
      "Read preprocessed data from cache file: preprocessed_data.pkl\n"
     ]
    }
   ],
   "source": [
    "# Preprocess data\n",
    "train_X, test_X, train_y, test_y = preprocess_data(train_X, test_X, train_y, test_y)"
   ]
  },
  {
   "cell_type": "markdown",
   "metadata": {},
   "source": [
    "### Extract Bag-of-Words features\n",
    "\n",
    "For the model we will be implementing, rather than using the reviews directly, we are going to transform each review into a Bag-of-Words feature representation. Keep in mind that 'in the wild' we will only have access to the training set so our transformer can only use the training set to construct a representation."
   ]
  },
  {
   "cell_type": "code",
   "execution_count": 41,
   "metadata": {},
   "outputs": [],
   "source": [
    "import numpy as np\n",
    "from sklearn.feature_extraction.text import CountVectorizer\n",
    "# from sklearn.externals import joblib\n",
    "# joblib is an enhanced version of pickle that is more efficient for storing NumPy arrays\n",
    "import joblib\n",
    "\n",
    "def extract_BoW_features(words_train, words_test, vocabulary_size=5000,\n",
    "                         cache_dir=cache_dir, cache_file=\"bow_features.pkl\"):\n",
    "    \"\"\"Extract Bag-of-Words for a given set of documents, already preprocessed into words.\"\"\"\n",
    "    \n",
    "    # If cache_file is not None, try to read from it first\n",
    "    cache_data = None\n",
    "    if cache_file is not None:\n",
    "        try:\n",
    "            with open(os.path.join(cache_dir, cache_file), \"rb\") as f:\n",
    "                cache_data = joblib.load(f)\n",
    "            print(\"Read features from cache file:\", cache_file)\n",
    "        except:\n",
    "            pass  # unable to read from cache, but that's okay\n",
    "    \n",
    "    # If cache is missing, then do the heavy lifting\n",
    "    if cache_data is None:\n",
    "        # Fit a vectorizer to training documents and use it to transform them\n",
    "        # NOTE: Training documents have already been preprocessed and tokenized into words;\n",
    "        #       pass in dummy functions to skip those steps, e.g. preprocessor=lambda x: x\n",
    "        vectorizer = CountVectorizer(max_features=vocabulary_size)\n",
    "        features_train = vectorizer.fit_transform(words_train).toarray()\n",
    "\n",
    "        # Apply the same vectorizer to transform the test documents (ignore unknown words)\n",
    "        features_test = vectorizer.transform(words_test).toarray()\n",
    "        \n",
    "        # NOTE: Remember to convert the features using .toarray() for a compact representation\n",
    "        \n",
    "        # Write to cache file for future runs (store vocabulary as well)\n",
    "        if cache_file is not None:\n",
    "            vocabulary = vectorizer.vocabulary_\n",
    "            cache_data = dict(features_train=features_train, features_test=features_test,\n",
    "                             vocabulary=vocabulary)\n",
    "            with open(os.path.join(cache_dir, cache_file), \"wb\") as f:\n",
    "                joblib.dump(cache_data, f)\n",
    "            print(\"Wrote features to cache file:\", cache_file)\n",
    "    else:\n",
    "        # Unpack data loaded from cache file\n",
    "        features_train, features_test, vocabulary = (cache_data['features_train'],\n",
    "                cache_data['features_test'], cache_data['vocabulary'])\n",
    "    \n",
    "    # Return both the extracted features as well as the vocabulary\n",
    "    return features_train, features_test, vocabulary"
   ]
  },
  {
   "cell_type": "code",
   "execution_count": 42,
   "metadata": {},
   "outputs": [
    {
     "name": "stdout",
     "output_type": "stream",
     "text": [
      "Read features from cache file: bow_features.pkl\n"
     ]
    }
   ],
   "source": [
    "# Extract Bag of Words features for both training and test datasets\n",
    "train_X, test_X, vocabulary = extract_BoW_features(train_X, test_X)"
   ]
  },
  {
   "cell_type": "code",
   "execution_count": 43,
   "metadata": {},
   "outputs": [
    {
     "data": {
      "text/plain": [
       "5000"
      ]
     },
     "execution_count": 43,
     "metadata": {},
     "output_type": "execute_result"
    }
   ],
   "source": [
    "len(train_X[100])"
   ]
  },
  {
   "cell_type": "markdown",
   "metadata": {},
   "source": [
    "## Step 3: Upload data to S3\n",
    "\n",
    "Now that we have created the feature representation of our training (and testing) data, it is time to start setting up and using the XGBoost classifier provided by SageMaker.\n",
    "\n",
    "### Writing the datasets\n",
    "\n",
    "The XGBoost classifier that we will be using requires the dataset to be written to a file and stored using Amazon S3. To do this, we will start by splitting the training dataset into two parts, the data we will train the model with and a validation set. Then, we will write those datasets to a file locally and then upload the files to S3. In addition, we will write the test set to a file and upload that file to S3. This is so that we can use SageMakers Batch Transform functionality to test our model once we've fit it."
   ]
  },
  {
   "cell_type": "code",
   "execution_count": 44,
   "metadata": {},
   "outputs": [],
   "source": [
    "import pandas as pd\n",
    "\n",
    "# Earlier we shuffled the training dataset so to make things simple we can just assign\n",
    "# the first 10 000 reviews to the validation set and use the remaining reviews for training.\n",
    "val_X = pd.DataFrame(train_X[:10000])\n",
    "train_X = pd.DataFrame(train_X[10000:])\n",
    "\n",
    "val_y = pd.DataFrame(train_y[:10000])\n",
    "train_y = pd.DataFrame(train_y[10000:])"
   ]
  },
  {
   "cell_type": "markdown",
   "metadata": {},
   "source": [
    "The documentation for the XGBoost algorithm in SageMaker requires that the training and validation datasets should contain no headers or index and that the label should occur first for each sample.\n",
    "\n",
    "For more information about this and other algorithms, the SageMaker developer documentation can be found on __[Amazon's website.](https://docs.aws.amazon.com/sagemaker/latest/dg/)__"
   ]
  },
  {
   "cell_type": "code",
   "execution_count": 45,
   "metadata": {},
   "outputs": [],
   "source": [
    "# First we make sure that the local directory in which we'd like to store the training and validation csv files exists.\n",
    "data_dir = '../data/sentiment_web_app'\n",
    "if not os.path.exists(data_dir):\n",
    "    os.makedirs(data_dir)"
   ]
  },
  {
   "cell_type": "code",
   "execution_count": 46,
   "metadata": {},
   "outputs": [],
   "source": [
    "pd.DataFrame(test_X).to_csv(os.path.join(data_dir, 'test.csv'), header=False, index=False)\n",
    "\n",
    "pd.concat([val_y, val_X], axis=1).to_csv(os.path.join(data_dir, 'validation.csv'), header=False, index=False)\n",
    "pd.concat([train_y, train_X], axis=1).to_csv(os.path.join(data_dir, 'train.csv'), header=False, index=False)"
   ]
  },
  {
   "cell_type": "code",
   "execution_count": 47,
   "metadata": {},
   "outputs": [],
   "source": [
    "# To save a bit of memory we can set text_X, train_X, val_X, train_y and val_y to None.\n",
    "\n",
    "test_X = train_X = val_X = train_y = val_y = None"
   ]
  },
  {
   "cell_type": "markdown",
   "metadata": {},
   "source": [
    "### Uploading Training / Validation files to S3\n",
    "\n",
    "Amazon's S3 service allows us to store files that can be accessed by both the built-in training models such as the XGBoost model we will be using as well as custom models such as the one we will see a little later.\n",
    "\n",
    "For this and most other tasks we will be doing using SageMaker, there are two methods we could use. The first is to use the low level functionality of SageMaker which requires knowing each of the objects involved in the SageMaker environment. The second is to use the high level functionality in which certain choices have been made on the user's behalf. The low level approach benefits from allowing the user a great deal of flexibility while the high level approach makes development much quicker. For our purposes we will opt to use the high level approach although using the low-level approach is certainly an option.\n",
    "\n",
    "Recall the method `upload_data()` which is a member of the object representing our current SageMaker session. What this method does is upload the data to the default bucket (which is created if it does not exist) into the path described by the key_prefix variable. To see this for yourself, once you have uploaded the data files, go to the S3 console and look to see where the files have been uploaded.\n",
    "\n",
    "For additional resources, see the __[SageMaker API documentation](http://sagemaker.readthedocs.io/en/latest/)__ and in addition the __[SageMaker Developer Guide.](https://docs.aws.amazon.com/sagemaker/latest/dg/)__"
   ]
  },
  {
   "cell_type": "code",
   "execution_count": 48,
   "metadata": {},
   "outputs": [],
   "source": [
    "import sagemaker\n",
    "\n",
    "session = sagemaker.Session() # Store the current SageMaker session\n",
    "\n",
    "# S3 prefix (which folder will we use)\n",
    "prefix = 'sentiment-web-app'\n",
    "\n",
    "test_location = session.upload_data(os.path.join(data_dir, 'test.csv'), key_prefix=prefix)\n",
    "val_location = session.upload_data(os.path.join(data_dir, 'validation.csv'), key_prefix=prefix)\n",
    "train_location = session.upload_data(os.path.join(data_dir, 'train.csv'), key_prefix=prefix)"
   ]
  },
  {
   "cell_type": "markdown",
   "metadata": {},
   "source": [
    "## Step 4: Creating the XGBoost model\n",
    "\n",
    "Now that the data has been uploaded it is time to create the XGBoost model. To begin with, we need to do some setup. At this point it is worth discussing what a model is in SageMaker. It is easiest to think of a model of comprising three different objects in the SageMaker ecosystem, which interact with one another.\n",
    "\n",
    "- Model Artifacts\n",
    "- Training Code (Container)\n",
    "- Inference Code (Container)\n",
    "\n",
    "The Model Artifacts are what you might think of as the actual model itself. For example, if you were building a neural network, the model artifacts would be the weights of the various layers. In our case, for an XGBoost model, the artifacts are the actual trees that are created during training.\n",
    "\n",
    "The other two objects, the training code and the inference code are then used to manipulate the training artifacts. More precisely, the training code uses the training data that is provided and creates the model artifacts, while the inference code uses the model artifacts to make predictions on new data.\n",
    "\n",
    "The way that SageMaker runs the training and inference code is by making use of Docker containers. For now, think of a container as being a way of packaging code up so that dependencies aren't an issue."
   ]
  },
  {
   "cell_type": "code",
   "execution_count": 49,
   "metadata": {},
   "outputs": [],
   "source": [
    "from sagemaker import get_execution_role\n",
    "\n",
    "# Our current execution role is required when creating the model as the training\n",
    "# and inference code will need to access the model artifacts.\n",
    "role = get_execution_role()"
   ]
  },
  {
   "cell_type": "code",
   "execution_count": 50,
   "metadata": {},
   "outputs": [
    {
     "data": {
      "text/plain": [
       "'arn:aws:iam::360760555806:role/IamRoleSageMaker'"
      ]
     },
     "execution_count": 50,
     "metadata": {},
     "output_type": "execute_result"
    }
   ],
   "source": [
    "role"
   ]
  },
  {
   "cell_type": "code",
   "execution_count": 51,
   "metadata": {},
   "outputs": [
    {
     "name": "stderr",
     "output_type": "stream",
     "text": [
      "'get_image_uri' method will be deprecated in favor of 'ImageURIProvider' class in SageMaker Python SDK v2.\n",
      "There is a more up to date SageMaker XGBoost image. To use the newer image, please set 'repo_version'='1.0-1'. For example:\n",
      "\tget_image_uri(region, 'xgboost', '1.0-1').\n"
     ]
    }
   ],
   "source": [
    "# We need to retrieve the location of the container which is provided by Amazon for using XGBoost.\n",
    "# As a matter of convenience, the training and inference code both use the same container.\n",
    "from sagemaker.amazon.amazon_estimator import get_image_uri\n",
    "\n",
    "container = get_image_uri(session.boto_region_name, 'xgboost')"
   ]
  },
  {
   "cell_type": "code",
   "execution_count": 52,
   "metadata": {},
   "outputs": [
    {
     "name": "stderr",
     "output_type": "stream",
     "text": [
      "Parameter image_name will be renamed to image_uri in SageMaker Python SDK v2.\n"
     ]
    }
   ],
   "source": [
    "# First we create a SageMaker estimator object for our model.\n",
    "xgb = sagemaker.estimator.Estimator(container, # The location of the container we wish to use\n",
    "                                    role,                                    # What is our current IAM Role\n",
    "                                    train_instance_count=1,                  # How many compute instances\n",
    "                                    train_instance_type='ml.m4.xlarge',      # What kind of compute instances\n",
    "                                    output_path='s3://{}/{}/output'.format(session.default_bucket(), prefix),\n",
    "                                    sagemaker_session=session)\n",
    "\n",
    "# And then set the algorithm specific parameters.\n",
    "xgb.set_hyperparameters(max_depth=5,\n",
    "                        eta=0.2,\n",
    "                        gamma=4,\n",
    "                        min_child_weight=6,\n",
    "                        subsample=0.8,\n",
    "                        silent=0,\n",
    "                        objective='binary:logistic',\n",
    "                        early_stopping_rounds=10,\n",
    "                        num_round=500)"
   ]
  },
  {
   "cell_type": "markdown",
   "metadata": {},
   "source": [
    "### Fit the XGBoost model\n",
    "\n",
    "Now that our model has been set up we simply need to attach the training and validation datasets and then ask SageMaker to set up the computation."
   ]
  },
  {
   "cell_type": "code",
   "execution_count": 53,
   "metadata": {},
   "outputs": [
    {
     "name": "stderr",
     "output_type": "stream",
     "text": [
      "'s3_input' class will be renamed to 'TrainingInput' in SageMaker Python SDK v2.\n",
      "'s3_input' class will be renamed to 'TrainingInput' in SageMaker Python SDK v2.\n"
     ]
    }
   ],
   "source": [
    "s3_input_train = sagemaker.s3_input(s3_data=train_location, content_type='csv')\n",
    "s3_input_validation = sagemaker.s3_input(s3_data=val_location, content_type='csv')"
   ]
  },
  {
   "cell_type": "code",
   "execution_count": 54,
   "metadata": {},
   "outputs": [
    {
     "name": "stdout",
     "output_type": "stream",
     "text": [
      "2020-10-03 19:35:37 Starting - Starting the training job...\n",
      "2020-10-03 19:35:39 Starting - Launching requested ML instances...\n",
      "2020-10-03 19:36:36 Starting - Preparing the instances for training......\n",
      "2020-10-03 19:37:30 Downloading - Downloading input data...\n",
      "2020-10-03 19:38:05 Training - Training image download completed. Training in progress..\u001b[34mArguments: train\u001b[0m\n",
      "\u001b[34m[2020-10-03:19:38:06:INFO] Running standalone xgboost training.\u001b[0m\n",
      "\u001b[34m[2020-10-03:19:38:06:INFO] File size need to be processed in the node: 238.5mb. Available memory size in the node: 8481.48mb\u001b[0m\n",
      "\u001b[34m[2020-10-03:19:38:06:INFO] Determined delimiter of CSV input is ','\u001b[0m\n",
      "\u001b[34m[19:38:06] S3DistributionType set as FullyReplicated\u001b[0m\n",
      "\u001b[34m[19:38:08] 15000x5000 matrix with 75000000 entries loaded from /opt/ml/input/data/train?format=csv&label_column=0&delimiter=,\u001b[0m\n",
      "\u001b[34m[2020-10-03:19:38:08:INFO] Determined delimiter of CSV input is ','\u001b[0m\n",
      "\u001b[34m[19:38:08] S3DistributionType set as FullyReplicated\u001b[0m\n",
      "\u001b[34m[19:38:09] 10000x5000 matrix with 50000000 entries loaded from /opt/ml/input/data/validation?format=csv&label_column=0&delimiter=,\u001b[0m\n",
      "\u001b[34m[19:38:12] src/tree/updater_prune.cc:74: tree pruning end, 1 roots, 42 extra nodes, 6 pruned nodes, max_depth=5\u001b[0m\n",
      "\u001b[34m[0]#011train-error:0.308133#011validation-error:0.3045\u001b[0m\n",
      "\u001b[34mMultiple eval metrics have been passed: 'validation-error' will be used for early stopping.\n",
      "\u001b[0m\n",
      "\u001b[34mWill train until validation-error hasn't improved in 10 rounds.\u001b[0m\n",
      "\u001b[34m[19:38:14] src/tree/updater_prune.cc:74: tree pruning end, 1 roots, 38 extra nodes, 6 pruned nodes, max_depth=5\u001b[0m\n",
      "\u001b[34m[1]#011train-error:0.2788#011validation-error:0.284\u001b[0m\n",
      "\u001b[34m[19:38:15] src/tree/updater_prune.cc:74: tree pruning end, 1 roots, 26 extra nodes, 6 pruned nodes, max_depth=5\u001b[0m\n",
      "\u001b[34m[2]#011train-error:0.286867#011validation-error:0.2884\u001b[0m\n",
      "\u001b[34m[19:38:17] src/tree/updater_prune.cc:74: tree pruning end, 1 roots, 38 extra nodes, 2 pruned nodes, max_depth=5\u001b[0m\n",
      "\u001b[34m[3]#011train-error:0.2832#011validation-error:0.2853\u001b[0m\n",
      "\u001b[34m[19:38:18] src/tree/updater_prune.cc:74: tree pruning end, 1 roots, 50 extra nodes, 4 pruned nodes, max_depth=5\u001b[0m\n",
      "\u001b[34m[4]#011train-error:0.265933#011validation-error:0.2729\u001b[0m\n",
      "\u001b[34m[19:38:19] src/tree/updater_prune.cc:74: tree pruning end, 1 roots, 32 extra nodes, 8 pruned nodes, max_depth=5\u001b[0m\n",
      "\u001b[34m[5]#011train-error:0.253867#011validation-error:0.2611\u001b[0m\n",
      "\u001b[34m[19:38:21] src/tree/updater_prune.cc:74: tree pruning end, 1 roots, 32 extra nodes, 8 pruned nodes, max_depth=5\u001b[0m\n",
      "\u001b[34m[6]#011train-error:0.245#011validation-error:0.2562\u001b[0m\n",
      "\u001b[34m[19:38:22] src/tree/updater_prune.cc:74: tree pruning end, 1 roots, 30 extra nodes, 6 pruned nodes, max_depth=5\u001b[0m\n",
      "\u001b[34m[7]#011train-error:0.2418#011validation-error:0.2501\u001b[0m\n",
      "\u001b[34m[19:38:23] src/tree/updater_prune.cc:74: tree pruning end, 1 roots, 32 extra nodes, 4 pruned nodes, max_depth=5\u001b[0m\n",
      "\u001b[34m[8]#011train-error:0.235467#011validation-error:0.2458\u001b[0m\n",
      "\u001b[34m[19:38:24] src/tree/updater_prune.cc:74: tree pruning end, 1 roots, 44 extra nodes, 2 pruned nodes, max_depth=5\u001b[0m\n",
      "\u001b[34m[9]#011train-error:0.228667#011validation-error:0.243\u001b[0m\n",
      "\u001b[34m[19:38:26] src/tree/updater_prune.cc:74: tree pruning end, 1 roots, 38 extra nodes, 6 pruned nodes, max_depth=5\u001b[0m\n",
      "\u001b[34m[10]#011train-error:0.2264#011validation-error:0.2394\u001b[0m\n",
      "\u001b[34m[19:38:27] src/tree/updater_prune.cc:74: tree pruning end, 1 roots, 30 extra nodes, 4 pruned nodes, max_depth=5\u001b[0m\n",
      "\u001b[34m[11]#011train-error:0.217467#011validation-error:0.2334\u001b[0m\n",
      "\u001b[34m[19:38:28] src/tree/updater_prune.cc:74: tree pruning end, 1 roots, 26 extra nodes, 8 pruned nodes, max_depth=5\u001b[0m\n",
      "\u001b[34m[12]#011train-error:0.213067#011validation-error:0.2281\u001b[0m\n",
      "\u001b[34m[19:38:29] src/tree/updater_prune.cc:74: tree pruning end, 1 roots, 34 extra nodes, 6 pruned nodes, max_depth=5\u001b[0m\n",
      "\u001b[34m[13]#011train-error:0.208733#011validation-error:0.2265\u001b[0m\n",
      "\u001b[34m[19:38:31] src/tree/updater_prune.cc:74: tree pruning end, 1 roots, 34 extra nodes, 8 pruned nodes, max_depth=5\u001b[0m\n",
      "\u001b[34m[14]#011train-error:0.2036#011validation-error:0.2217\u001b[0m\n",
      "\u001b[34m[19:38:32] src/tree/updater_prune.cc:74: tree pruning end, 1 roots, 30 extra nodes, 8 pruned nodes, max_depth=5\u001b[0m\n",
      "\u001b[34m[15]#011train-error:0.199333#011validation-error:0.2181\u001b[0m\n",
      "\u001b[34m[19:38:33] src/tree/updater_prune.cc:74: tree pruning end, 1 roots, 24 extra nodes, 6 pruned nodes, max_depth=5\u001b[0m\n",
      "\u001b[34m[16]#011train-error:0.195867#011validation-error:0.2151\u001b[0m\n",
      "\u001b[34m[19:38:34] src/tree/updater_prune.cc:74: tree pruning end, 1 roots, 22 extra nodes, 16 pruned nodes, max_depth=5\u001b[0m\n",
      "\u001b[34m[17]#011train-error:0.192533#011validation-error:0.2132\u001b[0m\n",
      "\u001b[34m[19:38:36] src/tree/updater_prune.cc:74: tree pruning end, 1 roots, 40 extra nodes, 4 pruned nodes, max_depth=5\u001b[0m\n",
      "\u001b[34m[18]#011train-error:0.190333#011validation-error:0.212\u001b[0m\n",
      "\u001b[34m[19:38:37] src/tree/updater_prune.cc:74: tree pruning end, 1 roots, 24 extra nodes, 12 pruned nodes, max_depth=5\u001b[0m\n",
      "\u001b[34m[19]#011train-error:0.186133#011validation-error:0.2093\u001b[0m\n",
      "\u001b[34m[19:38:38] src/tree/updater_prune.cc:74: tree pruning end, 1 roots, 32 extra nodes, 2 pruned nodes, max_depth=5\u001b[0m\n",
      "\u001b[34m[20]#011train-error:0.184267#011validation-error:0.2067\u001b[0m\n",
      "\u001b[34m[19:38:40] src/tree/updater_prune.cc:74: tree pruning end, 1 roots, 34 extra nodes, 6 pruned nodes, max_depth=5\u001b[0m\n",
      "\u001b[34m[21]#011train-error:0.1824#011validation-error:0.204\u001b[0m\n",
      "\u001b[34m[19:38:41] src/tree/updater_prune.cc:74: tree pruning end, 1 roots, 20 extra nodes, 12 pruned nodes, max_depth=5\u001b[0m\n",
      "\u001b[34m[22]#011train-error:0.181667#011validation-error:0.2007\u001b[0m\n",
      "\u001b[34m[19:38:42] src/tree/updater_prune.cc:74: tree pruning end, 1 roots, 34 extra nodes, 8 pruned nodes, max_depth=5\u001b[0m\n",
      "\u001b[34m[23]#011train-error:0.178867#011validation-error:0.2018\u001b[0m\n",
      "\u001b[34m[19:38:43] src/tree/updater_prune.cc:74: tree pruning end, 1 roots, 22 extra nodes, 8 pruned nodes, max_depth=5\u001b[0m\n",
      "\u001b[34m[24]#011train-error:0.177533#011validation-error:0.1991\u001b[0m\n",
      "\u001b[34m[19:38:45] src/tree/updater_prune.cc:74: tree pruning end, 1 roots, 28 extra nodes, 10 pruned nodes, max_depth=5\u001b[0m\n",
      "\u001b[34m[25]#011train-error:0.174067#011validation-error:0.1983\u001b[0m\n",
      "\u001b[34m[19:38:46] src/tree/updater_prune.cc:74: tree pruning end, 1 roots, 16 extra nodes, 14 pruned nodes, max_depth=5\u001b[0m\n",
      "\u001b[34m[26]#011train-error:0.172667#011validation-error:0.198\u001b[0m\n",
      "\u001b[34m[19:38:47] src/tree/updater_prune.cc:74: tree pruning end, 1 roots, 16 extra nodes, 16 pruned nodes, max_depth=5\u001b[0m\n",
      "\u001b[34m[27]#011train-error:0.172333#011validation-error:0.1996\u001b[0m\n",
      "\u001b[34m[19:38:48] src/tree/updater_prune.cc:74: tree pruning end, 1 roots, 24 extra nodes, 12 pruned nodes, max_depth=5\u001b[0m\n",
      "\u001b[34m[28]#011train-error:0.170133#011validation-error:0.1988\u001b[0m\n",
      "\u001b[34m[19:38:50] src/tree/updater_prune.cc:74: tree pruning end, 1 roots, 18 extra nodes, 8 pruned nodes, max_depth=5\u001b[0m\n",
      "\u001b[34m[29]#011train-error:0.168267#011validation-error:0.1961\u001b[0m\n",
      "\u001b[34m[19:38:51] src/tree/updater_prune.cc:74: tree pruning end, 1 roots, 30 extra nodes, 8 pruned nodes, max_depth=5\u001b[0m\n",
      "\u001b[34m[30]#011train-error:0.1654#011validation-error:0.193\u001b[0m\n",
      "\u001b[34m[19:38:52] src/tree/updater_prune.cc:74: tree pruning end, 1 roots, 26 extra nodes, 8 pruned nodes, max_depth=5\u001b[0m\n",
      "\u001b[34m[31]#011train-error:0.1638#011validation-error:0.1906\u001b[0m\n",
      "\u001b[34m[19:38:54] src/tree/updater_prune.cc:74: tree pruning end, 1 roots, 28 extra nodes, 8 pruned nodes, max_depth=5\u001b[0m\n",
      "\u001b[34m[32]#011train-error:0.1624#011validation-error:0.1921\u001b[0m\n",
      "\u001b[34m[19:38:55] src/tree/updater_prune.cc:74: tree pruning end, 1 roots, 24 extra nodes, 12 pruned nodes, max_depth=5\u001b[0m\n",
      "\u001b[34m[33]#011train-error:0.159733#011validation-error:0.1916\u001b[0m\n",
      "\u001b[34m[19:38:56] src/tree/updater_prune.cc:74: tree pruning end, 1 roots, 34 extra nodes, 12 pruned nodes, max_depth=5\u001b[0m\n",
      "\u001b[34m[34]#011train-error:0.158333#011validation-error:0.1906\u001b[0m\n",
      "\u001b[34m[19:38:57] src/tree/updater_prune.cc:74: tree pruning end, 1 roots, 26 extra nodes, 8 pruned nodes, max_depth=5\u001b[0m\n",
      "\u001b[34m[35]#011train-error:0.1568#011validation-error:0.1887\u001b[0m\n",
      "\u001b[34m[19:38:59] src/tree/updater_prune.cc:74: tree pruning end, 1 roots, 40 extra nodes, 8 pruned nodes, max_depth=5\u001b[0m\n",
      "\u001b[34m[36]#011train-error:0.155#011validation-error:0.1881\u001b[0m\n",
      "\u001b[34m[19:39:00] src/tree/updater_prune.cc:74: tree pruning end, 1 roots, 38 extra nodes, 10 pruned nodes, max_depth=5\u001b[0m\n",
      "\u001b[34m[37]#011train-error:0.151667#011validation-error:0.1873\u001b[0m\n",
      "\u001b[34m[19:39:01] src/tree/updater_prune.cc:74: tree pruning end, 1 roots, 20 extra nodes, 10 pruned nodes, max_depth=5\u001b[0m\n",
      "\u001b[34m[38]#011train-error:0.152067#011validation-error:0.1866\u001b[0m\n",
      "\u001b[34m[19:39:02] src/tree/updater_prune.cc:74: tree pruning end, 1 roots, 16 extra nodes, 8 pruned nodes, max_depth=5\u001b[0m\n",
      "\u001b[34m[39]#011train-error:0.151467#011validation-error:0.1864\u001b[0m\n",
      "\u001b[34m[19:39:04] src/tree/updater_prune.cc:74: tree pruning end, 1 roots, 22 extra nodes, 8 pruned nodes, max_depth=5\u001b[0m\n",
      "\u001b[34m[40]#011train-error:0.1504#011validation-error:0.1848\u001b[0m\n",
      "\u001b[34m[19:39:05] src/tree/updater_prune.cc:74: tree pruning end, 1 roots, 28 extra nodes, 16 pruned nodes, max_depth=5\u001b[0m\n",
      "\u001b[34m[41]#011train-error:0.148467#011validation-error:0.1831\u001b[0m\n",
      "\u001b[34m[19:39:06] src/tree/updater_prune.cc:74: tree pruning end, 1 roots, 14 extra nodes, 12 pruned nodes, max_depth=5\u001b[0m\n",
      "\u001b[34m[42]#011train-error:0.148#011validation-error:0.1819\u001b[0m\n"
     ]
    },
    {
     "name": "stdout",
     "output_type": "stream",
     "text": [
      "\u001b[34m[19:39:07] src/tree/updater_prune.cc:74: tree pruning end, 1 roots, 22 extra nodes, 10 pruned nodes, max_depth=5\u001b[0m\n",
      "\u001b[34m[43]#011train-error:0.146333#011validation-error:0.1797\u001b[0m\n",
      "\u001b[34m[19:39:09] src/tree/updater_prune.cc:74: tree pruning end, 1 roots, 34 extra nodes, 6 pruned nodes, max_depth=5\u001b[0m\n",
      "\u001b[34m[44]#011train-error:0.144267#011validation-error:0.1774\u001b[0m\n",
      "\u001b[34m[19:39:10] src/tree/updater_prune.cc:74: tree pruning end, 1 roots, 14 extra nodes, 10 pruned nodes, max_depth=5\u001b[0m\n",
      "\u001b[34m[45]#011train-error:0.142933#011validation-error:0.1764\u001b[0m\n",
      "\u001b[34m[19:39:11] src/tree/updater_prune.cc:74: tree pruning end, 1 roots, 10 extra nodes, 8 pruned nodes, max_depth=5\u001b[0m\n",
      "\u001b[34m[46]#011train-error:0.141733#011validation-error:0.175\u001b[0m\n",
      "\u001b[34m[19:39:12] src/tree/updater_prune.cc:74: tree pruning end, 1 roots, 42 extra nodes, 2 pruned nodes, max_depth=5\u001b[0m\n",
      "\u001b[34m[47]#011train-error:0.140333#011validation-error:0.1753\u001b[0m\n",
      "\u001b[34m[19:39:14] src/tree/updater_prune.cc:74: tree pruning end, 1 roots, 18 extra nodes, 8 pruned nodes, max_depth=5\u001b[0m\n",
      "\u001b[34m[48]#011train-error:0.139533#011validation-error:0.1742\u001b[0m\n",
      "\u001b[34m[19:39:15] src/tree/updater_prune.cc:74: tree pruning end, 1 roots, 24 extra nodes, 4 pruned nodes, max_depth=5\u001b[0m\n",
      "\u001b[34m[49]#011train-error:0.138067#011validation-error:0.1754\u001b[0m\n",
      "\u001b[34m[19:39:16] src/tree/updater_prune.cc:74: tree pruning end, 1 roots, 20 extra nodes, 12 pruned nodes, max_depth=5\u001b[0m\n",
      "\u001b[34m[50]#011train-error:0.1364#011validation-error:0.1734\u001b[0m\n",
      "\u001b[34m[19:39:18] src/tree/updater_prune.cc:74: tree pruning end, 1 roots, 24 extra nodes, 12 pruned nodes, max_depth=5\u001b[0m\n",
      "\u001b[34m[51]#011train-error:0.135867#011validation-error:0.1736\u001b[0m\n",
      "\u001b[34m[19:39:19] src/tree/updater_prune.cc:74: tree pruning end, 1 roots, 44 extra nodes, 4 pruned nodes, max_depth=5\u001b[0m\n",
      "\u001b[34m[52]#011train-error:0.135467#011validation-error:0.1709\u001b[0m\n",
      "\u001b[34m[19:39:20] src/tree/updater_prune.cc:74: tree pruning end, 1 roots, 18 extra nodes, 6 pruned nodes, max_depth=5\u001b[0m\n",
      "\u001b[34m[53]#011train-error:0.134267#011validation-error:0.1713\u001b[0m\n",
      "\u001b[34m[19:39:21] src/tree/updater_prune.cc:74: tree pruning end, 1 roots, 12 extra nodes, 12 pruned nodes, max_depth=5\u001b[0m\n",
      "\u001b[34m[54]#011train-error:0.1332#011validation-error:0.1705\u001b[0m\n",
      "\u001b[34m[19:39:23] src/tree/updater_prune.cc:74: tree pruning end, 1 roots, 16 extra nodes, 4 pruned nodes, max_depth=5\u001b[0m\n",
      "\u001b[34m[55]#011train-error:0.1328#011validation-error:0.1696\u001b[0m\n",
      "\u001b[34m[19:39:24] src/tree/updater_prune.cc:74: tree pruning end, 1 roots, 20 extra nodes, 10 pruned nodes, max_depth=5\u001b[0m\n",
      "\u001b[34m[56]#011train-error:0.1328#011validation-error:0.1693\u001b[0m\n",
      "\u001b[34m[19:39:25] src/tree/updater_prune.cc:74: tree pruning end, 1 roots, 16 extra nodes, 14 pruned nodes, max_depth=5\u001b[0m\n",
      "\u001b[34m[57]#011train-error:0.132067#011validation-error:0.1692\u001b[0m\n",
      "\u001b[34m[19:39:26] src/tree/updater_prune.cc:74: tree pruning end, 1 roots, 28 extra nodes, 10 pruned nodes, max_depth=5\u001b[0m\n",
      "\u001b[34m[58]#011train-error:0.1314#011validation-error:0.1679\u001b[0m\n",
      "\u001b[34m[19:39:28] src/tree/updater_prune.cc:74: tree pruning end, 1 roots, 36 extra nodes, 6 pruned nodes, max_depth=5\u001b[0m\n",
      "\u001b[34m[59]#011train-error:0.129133#011validation-error:0.1677\u001b[0m\n",
      "\u001b[34m[19:39:29] src/tree/updater_prune.cc:74: tree pruning end, 1 roots, 14 extra nodes, 14 pruned nodes, max_depth=5\u001b[0m\n",
      "\u001b[34m[60]#011train-error:0.128867#011validation-error:0.1672\u001b[0m\n",
      "\u001b[34m[19:39:30] src/tree/updater_prune.cc:74: tree pruning end, 1 roots, 14 extra nodes, 12 pruned nodes, max_depth=5\u001b[0m\n",
      "\u001b[34m[61]#011train-error:0.127733#011validation-error:0.1674\u001b[0m\n",
      "\u001b[34m[19:39:31] src/tree/updater_prune.cc:74: tree pruning end, 1 roots, 20 extra nodes, 6 pruned nodes, max_depth=5\u001b[0m\n",
      "\u001b[34m[62]#011train-error:0.1274#011validation-error:0.1663\u001b[0m\n",
      "\u001b[34m[19:39:33] src/tree/updater_prune.cc:74: tree pruning end, 1 roots, 20 extra nodes, 4 pruned nodes, max_depth=5\u001b[0m\n",
      "\u001b[34m[63]#011train-error:0.127933#011validation-error:0.1659\u001b[0m\n",
      "\u001b[34m[19:39:34] src/tree/updater_prune.cc:74: tree pruning end, 1 roots, 18 extra nodes, 10 pruned nodes, max_depth=5\u001b[0m\n",
      "\u001b[34m[64]#011train-error:0.1266#011validation-error:0.1656\u001b[0m\n",
      "\u001b[34m[19:39:35] src/tree/updater_prune.cc:74: tree pruning end, 1 roots, 14 extra nodes, 12 pruned nodes, max_depth=5\u001b[0m\n",
      "\u001b[34m[65]#011train-error:0.127#011validation-error:0.1647\u001b[0m\n",
      "\u001b[34m[19:39:37] src/tree/updater_prune.cc:74: tree pruning end, 1 roots, 26 extra nodes, 4 pruned nodes, max_depth=5\u001b[0m\n",
      "\u001b[34m[66]#011train-error:0.1256#011validation-error:0.1642\u001b[0m\n",
      "\u001b[34m[19:39:38] src/tree/updater_prune.cc:74: tree pruning end, 1 roots, 18 extra nodes, 12 pruned nodes, max_depth=5\u001b[0m\n",
      "\u001b[34m[67]#011train-error:0.125467#011validation-error:0.1648\u001b[0m\n",
      "\u001b[34m[19:39:39] src/tree/updater_prune.cc:74: tree pruning end, 1 roots, 34 extra nodes, 8 pruned nodes, max_depth=5\u001b[0m\n",
      "\u001b[34m[68]#011train-error:0.124333#011validation-error:0.1653\u001b[0m\n",
      "\u001b[34m[19:39:40] src/tree/updater_prune.cc:74: tree pruning end, 1 roots, 30 extra nodes, 12 pruned nodes, max_depth=5\u001b[0m\n",
      "\u001b[34m[69]#011train-error:0.122667#011validation-error:0.1658\u001b[0m\n",
      "\u001b[34m[19:39:42] src/tree/updater_prune.cc:74: tree pruning end, 1 roots, 36 extra nodes, 12 pruned nodes, max_depth=5\u001b[0m\n",
      "\u001b[34m[70]#011train-error:0.120867#011validation-error:0.1647\u001b[0m\n",
      "\u001b[34m[19:39:43] src/tree/updater_prune.cc:74: tree pruning end, 1 roots, 14 extra nodes, 8 pruned nodes, max_depth=5\u001b[0m\n",
      "\u001b[34m[71]#011train-error:0.120267#011validation-error:0.1639\u001b[0m\n",
      "\u001b[34m[19:39:44] src/tree/updater_prune.cc:74: tree pruning end, 1 roots, 18 extra nodes, 6 pruned nodes, max_depth=5\u001b[0m\n",
      "\u001b[34m[72]#011train-error:0.119733#011validation-error:0.1632\u001b[0m\n",
      "\u001b[34m[19:39:45] src/tree/updater_prune.cc:74: tree pruning end, 1 roots, 16 extra nodes, 12 pruned nodes, max_depth=5\u001b[0m\n",
      "\u001b[34m[73]#011train-error:0.1192#011validation-error:0.1624\u001b[0m\n",
      "\u001b[34m[19:39:47] src/tree/updater_prune.cc:74: tree pruning end, 1 roots, 24 extra nodes, 8 pruned nodes, max_depth=5\u001b[0m\n",
      "\u001b[34m[74]#011train-error:0.118467#011validation-error:0.1626\u001b[0m\n",
      "\u001b[34m[19:39:48] src/tree/updater_prune.cc:74: tree pruning end, 1 roots, 30 extra nodes, 0 pruned nodes, max_depth=5\u001b[0m\n",
      "\u001b[34m[75]#011train-error:0.1176#011validation-error:0.1615\u001b[0m\n",
      "\u001b[34m[19:39:49] src/tree/updater_prune.cc:74: tree pruning end, 1 roots, 16 extra nodes, 4 pruned nodes, max_depth=5\u001b[0m\n",
      "\u001b[34m[76]#011train-error:0.1168#011validation-error:0.1613\u001b[0m\n",
      "\u001b[34m[19:39:50] src/tree/updater_prune.cc:74: tree pruning end, 1 roots, 22 extra nodes, 20 pruned nodes, max_depth=5\u001b[0m\n",
      "\u001b[34m[77]#011train-error:0.1154#011validation-error:0.1604\u001b[0m\n",
      "\u001b[34m[19:39:52] src/tree/updater_prune.cc:74: tree pruning end, 1 roots, 24 extra nodes, 6 pruned nodes, max_depth=5\u001b[0m\n",
      "\u001b[34m[78]#011train-error:0.114267#011validation-error:0.1615\u001b[0m\n",
      "\u001b[34m[19:39:53] src/tree/updater_prune.cc:74: tree pruning end, 1 roots, 14 extra nodes, 4 pruned nodes, max_depth=5\u001b[0m\n",
      "\u001b[34m[79]#011train-error:0.113933#011validation-error:0.1619\u001b[0m\n",
      "\u001b[34m[19:39:54] src/tree/updater_prune.cc:74: tree pruning end, 1 roots, 22 extra nodes, 12 pruned nodes, max_depth=5\u001b[0m\n",
      "\u001b[34m[80]#011train-error:0.113333#011validation-error:0.1601\u001b[0m\n",
      "\u001b[34m[19:39:56] src/tree/updater_prune.cc:74: tree pruning end, 1 roots, 26 extra nodes, 4 pruned nodes, max_depth=5\u001b[0m\n",
      "\u001b[34m[81]#011train-error:0.112667#011validation-error:0.1591\u001b[0m\n",
      "\u001b[34m[19:39:57] src/tree/updater_prune.cc:74: tree pruning end, 1 roots, 20 extra nodes, 8 pruned nodes, max_depth=5\u001b[0m\n",
      "\u001b[34m[82]#011train-error:0.1116#011validation-error:0.1584\u001b[0m\n",
      "\u001b[34m[19:39:58] src/tree/updater_prune.cc:74: tree pruning end, 1 roots, 28 extra nodes, 10 pruned nodes, max_depth=5\u001b[0m\n",
      "\u001b[34m[83]#011train-error:0.110867#011validation-error:0.1567\u001b[0m\n",
      "\u001b[34m[19:39:59] src/tree/updater_prune.cc:74: tree pruning end, 1 roots, 22 extra nodes, 12 pruned nodes, max_depth=5\u001b[0m\n",
      "\u001b[34m[84]#011train-error:0.110933#011validation-error:0.1567\u001b[0m\n",
      "\u001b[34m[19:40:01] src/tree/updater_prune.cc:74: tree pruning end, 1 roots, 12 extra nodes, 8 pruned nodes, max_depth=5\u001b[0m\n",
      "\u001b[34m[85]#011train-error:0.110867#011validation-error:0.1566\u001b[0m\n",
      "\u001b[34m[19:40:02] src/tree/updater_prune.cc:74: tree pruning end, 1 roots, 16 extra nodes, 2 pruned nodes, max_depth=5\u001b[0m\n",
      "\u001b[34m[86]#011train-error:0.108867#011validation-error:0.1561\u001b[0m\n",
      "\u001b[34m[19:40:03] src/tree/updater_prune.cc:74: tree pruning end, 1 roots, 14 extra nodes, 10 pruned nodes, max_depth=5\u001b[0m\n",
      "\u001b[34m[87]#011train-error:0.1094#011validation-error:0.1561\u001b[0m\n",
      "\u001b[34m[19:40:05] src/tree/updater_prune.cc:74: tree pruning end, 1 roots, 22 extra nodes, 6 pruned nodes, max_depth=5\u001b[0m\n",
      "\u001b[34m[88]#011train-error:0.108933#011validation-error:0.1571\u001b[0m\n",
      "\u001b[34m[19:40:06] src/tree/updater_prune.cc:74: tree pruning end, 1 roots, 36 extra nodes, 16 pruned nodes, max_depth=5\u001b[0m\n",
      "\u001b[34m[89]#011train-error:0.1088#011validation-error:0.1571\u001b[0m\n",
      "\u001b[34m[19:40:07] src/tree/updater_prune.cc:74: tree pruning end, 1 roots, 12 extra nodes, 10 pruned nodes, max_depth=5\u001b[0m\n",
      "\u001b[34m[90]#011train-error:0.108#011validation-error:0.1568\u001b[0m\n"
     ]
    },
    {
     "name": "stdout",
     "output_type": "stream",
     "text": [
      "\u001b[34m[19:40:08] src/tree/updater_prune.cc:74: tree pruning end, 1 roots, 26 extra nodes, 10 pruned nodes, max_depth=5\u001b[0m\n",
      "\u001b[34m[91]#011train-error:0.107#011validation-error:0.1574\u001b[0m\n",
      "\u001b[34m[19:40:10] src/tree/updater_prune.cc:74: tree pruning end, 1 roots, 30 extra nodes, 14 pruned nodes, max_depth=5\u001b[0m\n",
      "\u001b[34m[92]#011train-error:0.105667#011validation-error:0.1551\u001b[0m\n",
      "\u001b[34m[19:40:11] src/tree/updater_prune.cc:74: tree pruning end, 1 roots, 12 extra nodes, 8 pruned nodes, max_depth=5\u001b[0m\n",
      "\u001b[34m[93]#011train-error:0.1054#011validation-error:0.1539\u001b[0m\n",
      "\u001b[34m[19:40:12] src/tree/updater_prune.cc:74: tree pruning end, 1 roots, 12 extra nodes, 10 pruned nodes, max_depth=5\u001b[0m\n",
      "\u001b[34m[94]#011train-error:0.105067#011validation-error:0.1537\u001b[0m\n",
      "\u001b[34m[19:40:13] src/tree/updater_prune.cc:74: tree pruning end, 1 roots, 16 extra nodes, 10 pruned nodes, max_depth=5\u001b[0m\n",
      "\u001b[34m[95]#011train-error:0.104867#011validation-error:0.1538\u001b[0m\n",
      "\u001b[34m[19:40:15] src/tree/updater_prune.cc:74: tree pruning end, 1 roots, 12 extra nodes, 18 pruned nodes, max_depth=5\u001b[0m\n",
      "\u001b[34m[96]#011train-error:0.104133#011validation-error:0.153\u001b[0m\n",
      "\u001b[34m[19:40:16] src/tree/updater_prune.cc:74: tree pruning end, 1 roots, 12 extra nodes, 12 pruned nodes, max_depth=5\u001b[0m\n",
      "\u001b[34m[97]#011train-error:0.103933#011validation-error:0.1521\u001b[0m\n",
      "\u001b[34m[19:40:17] src/tree/updater_prune.cc:74: tree pruning end, 1 roots, 16 extra nodes, 8 pruned nodes, max_depth=5\u001b[0m\n",
      "\u001b[34m[98]#011train-error:0.103933#011validation-error:0.1512\u001b[0m\n",
      "\u001b[34m[19:40:18] src/tree/updater_prune.cc:74: tree pruning end, 1 roots, 10 extra nodes, 2 pruned nodes, max_depth=5\u001b[0m\n",
      "\u001b[34m[99]#011train-error:0.103733#011validation-error:0.1506\u001b[0m\n",
      "\u001b[34m[19:40:20] src/tree/updater_prune.cc:74: tree pruning end, 1 roots, 14 extra nodes, 14 pruned nodes, max_depth=5\u001b[0m\n",
      "\u001b[34m[100]#011train-error:0.1028#011validation-error:0.1517\u001b[0m\n",
      "\u001b[34m[19:40:21] src/tree/updater_prune.cc:74: tree pruning end, 1 roots, 16 extra nodes, 2 pruned nodes, max_depth=5\u001b[0m\n",
      "\u001b[34m[101]#011train-error:0.102267#011validation-error:0.151\u001b[0m\n",
      "\u001b[34m[19:40:22] src/tree/updater_prune.cc:74: tree pruning end, 1 roots, 16 extra nodes, 2 pruned nodes, max_depth=5\u001b[0m\n",
      "\u001b[34m[102]#011train-error:0.101533#011validation-error:0.1523\u001b[0m\n",
      "\u001b[34m[19:40:24] src/tree/updater_prune.cc:74: tree pruning end, 1 roots, 30 extra nodes, 8 pruned nodes, max_depth=5\u001b[0m\n",
      "\u001b[34m[103]#011train-error:0.100933#011validation-error:0.1503\u001b[0m\n",
      "\u001b[34m[19:40:25] src/tree/updater_prune.cc:74: tree pruning end, 1 roots, 16 extra nodes, 2 pruned nodes, max_depth=5\u001b[0m\n",
      "\u001b[34m[104]#011train-error:0.1002#011validation-error:0.1493\u001b[0m\n",
      "\u001b[34m[19:40:26] src/tree/updater_prune.cc:74: tree pruning end, 1 roots, 32 extra nodes, 4 pruned nodes, max_depth=5\u001b[0m\n",
      "\u001b[34m[105]#011train-error:0.101267#011validation-error:0.1499\u001b[0m\n",
      "\u001b[34m[19:40:27] src/tree/updater_prune.cc:74: tree pruning end, 1 roots, 14 extra nodes, 6 pruned nodes, max_depth=5\u001b[0m\n",
      "\u001b[34m[106]#011train-error:0.100667#011validation-error:0.1505\u001b[0m\n",
      "\u001b[34m[19:40:29] src/tree/updater_prune.cc:74: tree pruning end, 1 roots, 12 extra nodes, 12 pruned nodes, max_depth=5\u001b[0m\n",
      "\u001b[34m[107]#011train-error:0.1002#011validation-error:0.1502\u001b[0m\n",
      "\u001b[34m[19:40:30] src/tree/updater_prune.cc:74: tree pruning end, 1 roots, 18 extra nodes, 6 pruned nodes, max_depth=5\u001b[0m\n",
      "\u001b[34m[108]#011train-error:0.099667#011validation-error:0.15\u001b[0m\n",
      "\u001b[34m[19:40:31] src/tree/updater_prune.cc:74: tree pruning end, 1 roots, 26 extra nodes, 14 pruned nodes, max_depth=5\u001b[0m\n",
      "\u001b[34m[109]#011train-error:0.099#011validation-error:0.1493\u001b[0m\n",
      "\u001b[34m[19:40:32] src/tree/updater_prune.cc:74: tree pruning end, 1 roots, 12 extra nodes, 8 pruned nodes, max_depth=5\u001b[0m\n",
      "\u001b[34m[110]#011train-error:0.098467#011validation-error:0.1494\u001b[0m\n",
      "\u001b[34m[19:40:34] src/tree/updater_prune.cc:74: tree pruning end, 1 roots, 24 extra nodes, 6 pruned nodes, max_depth=5\u001b[0m\n",
      "\u001b[34m[111]#011train-error:0.097333#011validation-error:0.1493\u001b[0m\n",
      "\u001b[34m[19:40:35] src/tree/updater_prune.cc:74: tree pruning end, 1 roots, 14 extra nodes, 6 pruned nodes, max_depth=5\u001b[0m\n",
      "\u001b[34m[112]#011train-error:0.097467#011validation-error:0.1489\u001b[0m\n",
      "\u001b[34m[19:40:36] src/tree/updater_prune.cc:74: tree pruning end, 1 roots, 26 extra nodes, 6 pruned nodes, max_depth=5\u001b[0m\n",
      "\u001b[34m[113]#011train-error:0.096667#011validation-error:0.1495\u001b[0m\n",
      "\u001b[34m[19:40:37] src/tree/updater_prune.cc:74: tree pruning end, 1 roots, 16 extra nodes, 8 pruned nodes, max_depth=5\u001b[0m\n",
      "\u001b[34m[114]#011train-error:0.0958#011validation-error:0.1491\u001b[0m\n",
      "\u001b[34m[19:40:39] src/tree/updater_prune.cc:74: tree pruning end, 1 roots, 18 extra nodes, 8 pruned nodes, max_depth=5\u001b[0m\n",
      "\u001b[34m[115]#011train-error:0.095267#011validation-error:0.1488\u001b[0m\n",
      "\u001b[34m[19:40:40] src/tree/updater_prune.cc:74: tree pruning end, 1 roots, 18 extra nodes, 2 pruned nodes, max_depth=5\u001b[0m\n",
      "\u001b[34m[116]#011train-error:0.095133#011validation-error:0.1491\u001b[0m\n",
      "\u001b[34m[19:40:41] src/tree/updater_prune.cc:74: tree pruning end, 1 roots, 16 extra nodes, 10 pruned nodes, max_depth=5\u001b[0m\n",
      "\u001b[34m[117]#011train-error:0.095333#011validation-error:0.15\u001b[0m\n",
      "\u001b[34m[19:40:42] src/tree/updater_prune.cc:74: tree pruning end, 1 roots, 14 extra nodes, 6 pruned nodes, max_depth=5\u001b[0m\n",
      "\u001b[34m[118]#011train-error:0.095533#011validation-error:0.1498\u001b[0m\n",
      "\u001b[34m[19:40:44] src/tree/updater_prune.cc:74: tree pruning end, 1 roots, 10 extra nodes, 4 pruned nodes, max_depth=5\u001b[0m\n",
      "\u001b[34m[119]#011train-error:0.095133#011validation-error:0.1496\u001b[0m\n",
      "\u001b[34m[19:40:45] src/tree/updater_prune.cc:74: tree pruning end, 1 roots, 16 extra nodes, 14 pruned nodes, max_depth=5\u001b[0m\n",
      "\u001b[34m[120]#011train-error:0.0946#011validation-error:0.1487\u001b[0m\n",
      "\u001b[34m[19:40:46] src/tree/updater_prune.cc:74: tree pruning end, 1 roots, 14 extra nodes, 8 pruned nodes, max_depth=5\u001b[0m\n",
      "\u001b[34m[121]#011train-error:0.093867#011validation-error:0.1479\u001b[0m\n",
      "\u001b[34m[19:40:48] src/tree/updater_prune.cc:74: tree pruning end, 1 roots, 22 extra nodes, 8 pruned nodes, max_depth=5\u001b[0m\n",
      "\u001b[34m[122]#011train-error:0.093#011validation-error:0.1483\u001b[0m\n",
      "\u001b[34m[19:40:49] src/tree/updater_prune.cc:74: tree pruning end, 1 roots, 24 extra nodes, 6 pruned nodes, max_depth=5\u001b[0m\n",
      "\u001b[34m[123]#011train-error:0.092#011validation-error:0.1489\u001b[0m\n",
      "\u001b[34m[19:40:50] src/tree/updater_prune.cc:74: tree pruning end, 1 roots, 12 extra nodes, 2 pruned nodes, max_depth=5\u001b[0m\n",
      "\u001b[34m[124]#011train-error:0.091667#011validation-error:0.1492\u001b[0m\n",
      "\u001b[34m[19:40:51] src/tree/updater_prune.cc:74: tree pruning end, 1 roots, 24 extra nodes, 8 pruned nodes, max_depth=5\u001b[0m\n",
      "\u001b[34m[125]#011train-error:0.091867#011validation-error:0.1489\u001b[0m\n",
      "\u001b[34m[19:40:53] src/tree/updater_prune.cc:74: tree pruning end, 1 roots, 16 extra nodes, 10 pruned nodes, max_depth=5\u001b[0m\n",
      "\u001b[34m[126]#011train-error:0.091267#011validation-error:0.1483\u001b[0m\n",
      "\u001b[34m[19:40:54] src/tree/updater_prune.cc:74: tree pruning end, 1 roots, 16 extra nodes, 8 pruned nodes, max_depth=5\u001b[0m\n",
      "\u001b[34m[127]#011train-error:0.091267#011validation-error:0.1476\u001b[0m\n",
      "\u001b[34m[19:40:55] src/tree/updater_prune.cc:74: tree pruning end, 1 roots, 14 extra nodes, 8 pruned nodes, max_depth=5\u001b[0m\n",
      "\u001b[34m[128]#011train-error:0.0906#011validation-error:0.1461\u001b[0m\n",
      "\u001b[34m[19:40:56] src/tree/updater_prune.cc:74: tree pruning end, 1 roots, 20 extra nodes, 12 pruned nodes, max_depth=5\u001b[0m\n",
      "\u001b[34m[129]#011train-error:0.091#011validation-error:0.1467\u001b[0m\n",
      "\u001b[34m[19:40:58] src/tree/updater_prune.cc:74: tree pruning end, 1 roots, 14 extra nodes, 14 pruned nodes, max_depth=5\u001b[0m\n",
      "\u001b[34m[130]#011train-error:0.091067#011validation-error:0.1459\u001b[0m\n",
      "\u001b[34m[19:40:59] src/tree/updater_prune.cc:74: tree pruning end, 1 roots, 16 extra nodes, 4 pruned nodes, max_depth=5\u001b[0m\n",
      "\u001b[34m[131]#011train-error:0.089667#011validation-error:0.146\u001b[0m\n",
      "\u001b[34m[19:41:00] src/tree/updater_prune.cc:74: tree pruning end, 1 roots, 22 extra nodes, 14 pruned nodes, max_depth=5\u001b[0m\n",
      "\u001b[34m[132]#011train-error:0.089867#011validation-error:0.1458\u001b[0m\n",
      "\u001b[34m[19:41:01] src/tree/updater_prune.cc:74: tree pruning end, 1 roots, 12 extra nodes, 8 pruned nodes, max_depth=5\u001b[0m\n",
      "\u001b[34m[133]#011train-error:0.0896#011validation-error:0.1461\u001b[0m\n",
      "\u001b[34m[19:41:03] src/tree/updater_prune.cc:74: tree pruning end, 1 roots, 10 extra nodes, 10 pruned nodes, max_depth=5\u001b[0m\n",
      "\u001b[34m[134]#011train-error:0.090067#011validation-error:0.146\u001b[0m\n"
     ]
    },
    {
     "name": "stdout",
     "output_type": "stream",
     "text": [
      "\u001b[34m[19:41:04] src/tree/updater_prune.cc:74: tree pruning end, 1 roots, 12 extra nodes, 6 pruned nodes, max_depth=5\u001b[0m\n",
      "\u001b[34m[135]#011train-error:0.0898#011validation-error:0.1456\u001b[0m\n",
      "\u001b[34m[19:41:05] src/tree/updater_prune.cc:74: tree pruning end, 1 roots, 24 extra nodes, 10 pruned nodes, max_depth=5\u001b[0m\n",
      "\u001b[34m[136]#011train-error:0.089#011validation-error:0.1452\u001b[0m\n",
      "\u001b[34m[19:41:07] src/tree/updater_prune.cc:74: tree pruning end, 1 roots, 16 extra nodes, 6 pruned nodes, max_depth=5\u001b[0m\n",
      "\u001b[34m[137]#011train-error:0.088#011validation-error:0.1452\u001b[0m\n",
      "\u001b[34m[19:41:08] src/tree/updater_prune.cc:74: tree pruning end, 1 roots, 12 extra nodes, 8 pruned nodes, max_depth=5\u001b[0m\n",
      "\u001b[34m[138]#011train-error:0.087733#011validation-error:0.1453\u001b[0m\n",
      "\u001b[34m[19:41:09] src/tree/updater_prune.cc:74: tree pruning end, 1 roots, 14 extra nodes, 10 pruned nodes, max_depth=5\u001b[0m\n",
      "\u001b[34m[139]#011train-error:0.087467#011validation-error:0.1455\u001b[0m\n",
      "\u001b[34m[19:41:10] src/tree/updater_prune.cc:74: tree pruning end, 1 roots, 20 extra nodes, 4 pruned nodes, max_depth=5\u001b[0m\n",
      "\u001b[34m[140]#011train-error:0.086667#011validation-error:0.1451\u001b[0m\n",
      "\u001b[34m[19:41:12] src/tree/updater_prune.cc:74: tree pruning end, 1 roots, 12 extra nodes, 12 pruned nodes, max_depth=5\u001b[0m\n",
      "\u001b[34m[141]#011train-error:0.086467#011validation-error:0.1444\u001b[0m\n",
      "\u001b[34m[19:41:13] src/tree/updater_prune.cc:74: tree pruning end, 1 roots, 12 extra nodes, 10 pruned nodes, max_depth=5\u001b[0m\n",
      "\u001b[34m[142]#011train-error:0.085733#011validation-error:0.1446\u001b[0m\n",
      "\u001b[34m[19:41:14] src/tree/updater_prune.cc:74: tree pruning end, 1 roots, 12 extra nodes, 8 pruned nodes, max_depth=5\u001b[0m\n",
      "\u001b[34m[143]#011train-error:0.085067#011validation-error:0.1447\u001b[0m\n",
      "\u001b[34m[19:41:15] src/tree/updater_prune.cc:74: tree pruning end, 1 roots, 14 extra nodes, 4 pruned nodes, max_depth=5\u001b[0m\n",
      "\u001b[34m[144]#011train-error:0.085133#011validation-error:0.144\u001b[0m\n",
      "\u001b[34m[19:41:17] src/tree/updater_prune.cc:74: tree pruning end, 1 roots, 20 extra nodes, 14 pruned nodes, max_depth=5\u001b[0m\n",
      "\u001b[34m[145]#011train-error:0.085333#011validation-error:0.144\u001b[0m\n",
      "\u001b[34m[19:41:18] src/tree/updater_prune.cc:74: tree pruning end, 1 roots, 14 extra nodes, 14 pruned nodes, max_depth=5\u001b[0m\n",
      "\u001b[34m[146]#011train-error:0.084733#011validation-error:0.1444\u001b[0m\n",
      "\u001b[34m[19:41:19] src/tree/updater_prune.cc:74: tree pruning end, 1 roots, 12 extra nodes, 10 pruned nodes, max_depth=5\u001b[0m\n",
      "\u001b[34m[147]#011train-error:0.084733#011validation-error:0.1441\u001b[0m\n",
      "\u001b[34m[19:41:20] src/tree/updater_prune.cc:74: tree pruning end, 1 roots, 16 extra nodes, 6 pruned nodes, max_depth=5\u001b[0m\n",
      "\u001b[34m[148]#011train-error:0.084333#011validation-error:0.1441\u001b[0m\n",
      "\u001b[34m[19:41:22] src/tree/updater_prune.cc:74: tree pruning end, 1 roots, 10 extra nodes, 6 pruned nodes, max_depth=5\u001b[0m\n",
      "\u001b[34m[149]#011train-error:0.0842#011validation-error:0.1441\u001b[0m\n",
      "\u001b[34m[19:41:23] src/tree/updater_prune.cc:74: tree pruning end, 1 roots, 14 extra nodes, 4 pruned nodes, max_depth=5\u001b[0m\n",
      "\u001b[34m[150]#011train-error:0.083933#011validation-error:0.1443\u001b[0m\n",
      "\u001b[34m[19:41:24] src/tree/updater_prune.cc:74: tree pruning end, 1 roots, 26 extra nodes, 14 pruned nodes, max_depth=5\u001b[0m\n",
      "\u001b[34m[151]#011train-error:0.083933#011validation-error:0.1433\u001b[0m\n",
      "\u001b[34m[19:41:26] src/tree/updater_prune.cc:74: tree pruning end, 1 roots, 22 extra nodes, 10 pruned nodes, max_depth=5\u001b[0m\n",
      "\u001b[34m[152]#011train-error:0.083733#011validation-error:0.1423\u001b[0m\n",
      "\u001b[34m[19:41:27] src/tree/updater_prune.cc:74: tree pruning end, 1 roots, 20 extra nodes, 4 pruned nodes, max_depth=5\u001b[0m\n",
      "\u001b[34m[153]#011train-error:0.0828#011validation-error:0.1433\u001b[0m\n",
      "\u001b[34m[19:41:28] src/tree/updater_prune.cc:74: tree pruning end, 1 roots, 14 extra nodes, 16 pruned nodes, max_depth=5\u001b[0m\n",
      "\u001b[34m[154]#011train-error:0.082933#011validation-error:0.1425\u001b[0m\n",
      "\u001b[34m[19:41:29] src/tree/updater_prune.cc:74: tree pruning end, 1 roots, 16 extra nodes, 8 pruned nodes, max_depth=5\u001b[0m\n",
      "\u001b[34m[155]#011train-error:0.082067#011validation-error:0.1413\u001b[0m\n",
      "\u001b[34m[19:41:31] src/tree/updater_prune.cc:74: tree pruning end, 1 roots, 14 extra nodes, 8 pruned nodes, max_depth=5\u001b[0m\n",
      "\u001b[34m[156]#011train-error:0.081533#011validation-error:0.1415\u001b[0m\n",
      "\u001b[34m[19:41:32] src/tree/updater_prune.cc:74: tree pruning end, 1 roots, 16 extra nodes, 4 pruned nodes, max_depth=5\u001b[0m\n",
      "\u001b[34m[157]#011train-error:0.081533#011validation-error:0.1412\u001b[0m\n",
      "\u001b[34m[19:41:33] src/tree/updater_prune.cc:74: tree pruning end, 1 roots, 16 extra nodes, 8 pruned nodes, max_depth=5\u001b[0m\n",
      "\u001b[34m[158]#011train-error:0.081867#011validation-error:0.1405\u001b[0m\n",
      "\u001b[34m[19:41:34] src/tree/updater_prune.cc:74: tree pruning end, 1 roots, 14 extra nodes, 6 pruned nodes, max_depth=5\u001b[0m\n",
      "\u001b[34m[159]#011train-error:0.082#011validation-error:0.1398\u001b[0m\n",
      "\u001b[34m[19:41:36] src/tree/updater_prune.cc:74: tree pruning end, 1 roots, 20 extra nodes, 4 pruned nodes, max_depth=5\u001b[0m\n",
      "\u001b[34m[160]#011train-error:0.081533#011validation-error:0.1399\u001b[0m\n",
      "\u001b[34m[19:41:37] src/tree/updater_prune.cc:74: tree pruning end, 1 roots, 10 extra nodes, 10 pruned nodes, max_depth=5\u001b[0m\n",
      "\u001b[34m[161]#011train-error:0.081467#011validation-error:0.1397\u001b[0m\n",
      "\u001b[34m[19:41:38] src/tree/updater_prune.cc:74: tree pruning end, 1 roots, 18 extra nodes, 6 pruned nodes, max_depth=5\u001b[0m\n",
      "\u001b[34m[162]#011train-error:0.081333#011validation-error:0.1393\u001b[0m\n",
      "\u001b[34m[19:41:39] src/tree/updater_prune.cc:74: tree pruning end, 1 roots, 18 extra nodes, 6 pruned nodes, max_depth=5\u001b[0m\n",
      "\u001b[34m[163]#011train-error:0.081467#011validation-error:0.1396\u001b[0m\n",
      "\u001b[34m[19:41:41] src/tree/updater_prune.cc:74: tree pruning end, 1 roots, 12 extra nodes, 6 pruned nodes, max_depth=5\u001b[0m\n",
      "\u001b[34m[164]#011train-error:0.081467#011validation-error:0.1398\u001b[0m\n",
      "\u001b[34m[19:41:42] src/tree/updater_prune.cc:74: tree pruning end, 1 roots, 12 extra nodes, 4 pruned nodes, max_depth=5\u001b[0m\n",
      "\u001b[34m[165]#011train-error:0.080733#011validation-error:0.1387\u001b[0m\n",
      "\u001b[34m[19:41:43] src/tree/updater_prune.cc:74: tree pruning end, 1 roots, 34 extra nodes, 4 pruned nodes, max_depth=5\u001b[0m\n",
      "\u001b[34m[166]#011train-error:0.079333#011validation-error:0.1389\u001b[0m\n",
      "\u001b[34m[19:41:44] src/tree/updater_prune.cc:74: tree pruning end, 1 roots, 14 extra nodes, 4 pruned nodes, max_depth=5\u001b[0m\n",
      "\u001b[34m[167]#011train-error:0.078933#011validation-error:0.1385\u001b[0m\n",
      "\u001b[34m[19:41:46] src/tree/updater_prune.cc:74: tree pruning end, 1 roots, 28 extra nodes, 4 pruned nodes, max_depth=5\u001b[0m\n",
      "\u001b[34m[168]#011train-error:0.078333#011validation-error:0.1389\u001b[0m\n",
      "\u001b[34m[19:41:47] src/tree/updater_prune.cc:74: tree pruning end, 1 roots, 14 extra nodes, 0 pruned nodes, max_depth=5\u001b[0m\n",
      "\u001b[34m[169]#011train-error:0.078933#011validation-error:0.139\u001b[0m\n",
      "\u001b[34m[19:41:48] src/tree/updater_prune.cc:74: tree pruning end, 1 roots, 16 extra nodes, 14 pruned nodes, max_depth=5\u001b[0m\n",
      "\u001b[34m[170]#011train-error:0.077533#011validation-error:0.1387\u001b[0m\n",
      "\u001b[34m[19:41:49] src/tree/updater_prune.cc:74: tree pruning end, 1 roots, 12 extra nodes, 6 pruned nodes, max_depth=5\u001b[0m\n",
      "\u001b[34m[171]#011train-error:0.077867#011validation-error:0.1378\u001b[0m\n",
      "\u001b[34m[19:41:51] src/tree/updater_prune.cc:74: tree pruning end, 1 roots, 16 extra nodes, 4 pruned nodes, max_depth=5\u001b[0m\n",
      "\u001b[34m[172]#011train-error:0.077133#011validation-error:0.1381\u001b[0m\n",
      "\u001b[34m[19:41:52] src/tree/updater_prune.cc:74: tree pruning end, 1 roots, 12 extra nodes, 10 pruned nodes, max_depth=5\u001b[0m\n",
      "\u001b[34m[173]#011train-error:0.077267#011validation-error:0.1386\u001b[0m\n",
      "\u001b[34m[19:41:53] src/tree/updater_prune.cc:74: tree pruning end, 1 roots, 10 extra nodes, 10 pruned nodes, max_depth=5\u001b[0m\n",
      "\u001b[34m[174]#011train-error:0.0772#011validation-error:0.1385\u001b[0m\n",
      "\u001b[34m[19:41:55] src/tree/updater_prune.cc:74: tree pruning end, 1 roots, 14 extra nodes, 2 pruned nodes, max_depth=5\u001b[0m\n",
      "\u001b[34m[175]#011train-error:0.076933#011validation-error:0.1376\u001b[0m\n",
      "\u001b[34m[19:41:56] src/tree/updater_prune.cc:74: tree pruning end, 1 roots, 12 extra nodes, 2 pruned nodes, max_depth=5\u001b[0m\n",
      "\u001b[34m[176]#011train-error:0.076933#011validation-error:0.1379\u001b[0m\n",
      "\u001b[34m[19:41:57] src/tree/updater_prune.cc:74: tree pruning end, 1 roots, 10 extra nodes, 8 pruned nodes, max_depth=5\u001b[0m\n",
      "\u001b[34m[177]#011train-error:0.077#011validation-error:0.1386\u001b[0m\n",
      "\u001b[34m[19:41:58] src/tree/updater_prune.cc:74: tree pruning end, 1 roots, 14 extra nodes, 12 pruned nodes, max_depth=5\u001b[0m\n",
      "\u001b[34m[178]#011train-error:0.076667#011validation-error:0.1386\u001b[0m\n",
      "\u001b[34m[19:42:00] src/tree/updater_prune.cc:74: tree pruning end, 1 roots, 10 extra nodes, 8 pruned nodes, max_depth=5\u001b[0m\n",
      "\u001b[34m[179]#011train-error:0.0768#011validation-error:0.1384\u001b[0m\n",
      "\u001b[34m[19:42:01] src/tree/updater_prune.cc:74: tree pruning end, 1 roots, 14 extra nodes, 10 pruned nodes, max_depth=5\u001b[0m\n",
      "\u001b[34m[180]#011train-error:0.076533#011validation-error:0.1386\u001b[0m\n",
      "\u001b[34m[19:42:02] src/tree/updater_prune.cc:74: tree pruning end, 1 roots, 12 extra nodes, 0 pruned nodes, max_depth=5\u001b[0m\n",
      "\u001b[34m[181]#011train-error:0.0766#011validation-error:0.1387\u001b[0m\n",
      "\u001b[34m[19:42:03] src/tree/updater_prune.cc:74: tree pruning end, 1 roots, 10 extra nodes, 2 pruned nodes, max_depth=5\u001b[0m\n",
      "\u001b[34m[182]#011train-error:0.076533#011validation-error:0.1381\u001b[0m\n"
     ]
    },
    {
     "name": "stdout",
     "output_type": "stream",
     "text": [
      "\u001b[34m[19:42:05] src/tree/updater_prune.cc:74: tree pruning end, 1 roots, 16 extra nodes, 18 pruned nodes, max_depth=5\u001b[0m\n",
      "\u001b[34m[183]#011train-error:0.076133#011validation-error:0.1376\u001b[0m\n",
      "\u001b[34m[19:42:06] src/tree/updater_prune.cc:74: tree pruning end, 1 roots, 16 extra nodes, 8 pruned nodes, max_depth=5\u001b[0m\n",
      "\u001b[34m[184]#011train-error:0.075733#011validation-error:0.1371\u001b[0m\n",
      "\u001b[34m[19:42:07] src/tree/updater_prune.cc:74: tree pruning end, 1 roots, 14 extra nodes, 2 pruned nodes, max_depth=5\u001b[0m\n",
      "\u001b[34m[185]#011train-error:0.0756#011validation-error:0.1368\u001b[0m\n",
      "\u001b[34m[19:42:08] src/tree/updater_prune.cc:74: tree pruning end, 1 roots, 10 extra nodes, 4 pruned nodes, max_depth=5\u001b[0m\n",
      "\u001b[34m[186]#011train-error:0.0754#011validation-error:0.1363\u001b[0m\n",
      "\u001b[34m[19:42:10] src/tree/updater_prune.cc:74: tree pruning end, 1 roots, 12 extra nodes, 10 pruned nodes, max_depth=5\u001b[0m\n",
      "\u001b[34m[187]#011train-error:0.075467#011validation-error:0.1363\u001b[0m\n",
      "\u001b[34m[19:42:11] src/tree/updater_prune.cc:74: tree pruning end, 1 roots, 12 extra nodes, 0 pruned nodes, max_depth=5\u001b[0m\n",
      "\u001b[34m[188]#011train-error:0.075333#011validation-error:0.1363\u001b[0m\n",
      "\u001b[34m[19:42:12] src/tree/updater_prune.cc:74: tree pruning end, 1 roots, 16 extra nodes, 10 pruned nodes, max_depth=5\u001b[0m\n",
      "\u001b[34m[189]#011train-error:0.075333#011validation-error:0.1363\u001b[0m\n",
      "\u001b[34m[19:42:14] src/tree/updater_prune.cc:74: tree pruning end, 1 roots, 10 extra nodes, 10 pruned nodes, max_depth=5\u001b[0m\n",
      "\u001b[34m[190]#011train-error:0.074933#011validation-error:0.1357\u001b[0m\n",
      "\u001b[34m[19:42:15] src/tree/updater_prune.cc:74: tree pruning end, 1 roots, 12 extra nodes, 4 pruned nodes, max_depth=5\u001b[0m\n",
      "\u001b[34m[191]#011train-error:0.074867#011validation-error:0.1363\u001b[0m\n",
      "\u001b[34m[19:42:16] src/tree/updater_prune.cc:74: tree pruning end, 1 roots, 10 extra nodes, 10 pruned nodes, max_depth=5\u001b[0m\n",
      "\u001b[34m[192]#011train-error:0.074933#011validation-error:0.1362\u001b[0m\n",
      "\u001b[34m[19:42:17] src/tree/updater_prune.cc:74: tree pruning end, 1 roots, 10 extra nodes, 6 pruned nodes, max_depth=5\u001b[0m\n",
      "\u001b[34m[193]#011train-error:0.074533#011validation-error:0.136\u001b[0m\n",
      "\u001b[34m[19:42:19] src/tree/updater_prune.cc:74: tree pruning end, 1 roots, 20 extra nodes, 2 pruned nodes, max_depth=5\u001b[0m\n",
      "\u001b[34m[194]#011train-error:0.074067#011validation-error:0.1356\u001b[0m\n",
      "\u001b[34m[19:42:20] src/tree/updater_prune.cc:74: tree pruning end, 1 roots, 14 extra nodes, 10 pruned nodes, max_depth=5\u001b[0m\n",
      "\u001b[34m[195]#011train-error:0.073467#011validation-error:0.1355\u001b[0m\n",
      "\u001b[34m[19:42:21] src/tree/updater_prune.cc:74: tree pruning end, 1 roots, 20 extra nodes, 4 pruned nodes, max_depth=5\u001b[0m\n",
      "\u001b[34m[196]#011train-error:0.073133#011validation-error:0.1357\u001b[0m\n",
      "\u001b[34m[19:42:22] src/tree/updater_prune.cc:74: tree pruning end, 1 roots, 18 extra nodes, 6 pruned nodes, max_depth=5\u001b[0m\n",
      "\u001b[34m[197]#011train-error:0.0726#011validation-error:0.1352\u001b[0m\n",
      "\u001b[34m[19:42:24] src/tree/updater_prune.cc:74: tree pruning end, 1 roots, 18 extra nodes, 4 pruned nodes, max_depth=5\u001b[0m\n",
      "\u001b[34m[198]#011train-error:0.071867#011validation-error:0.1343\u001b[0m\n",
      "\u001b[34m[19:42:25] src/tree/updater_prune.cc:74: tree pruning end, 1 roots, 18 extra nodes, 12 pruned nodes, max_depth=5\u001b[0m\n",
      "\u001b[34m[199]#011train-error:0.071733#011validation-error:0.1345\u001b[0m\n",
      "\u001b[34m[19:42:26] src/tree/updater_prune.cc:74: tree pruning end, 1 roots, 10 extra nodes, 2 pruned nodes, max_depth=5\u001b[0m\n",
      "\u001b[34m[200]#011train-error:0.072#011validation-error:0.134\u001b[0m\n",
      "\u001b[34m[19:42:27] src/tree/updater_prune.cc:74: tree pruning end, 1 roots, 18 extra nodes, 16 pruned nodes, max_depth=5\u001b[0m\n",
      "\u001b[34m[201]#011train-error:0.0722#011validation-error:0.134\u001b[0m\n",
      "\u001b[34m[19:42:29] src/tree/updater_prune.cc:74: tree pruning end, 1 roots, 18 extra nodes, 6 pruned nodes, max_depth=5\u001b[0m\n",
      "\u001b[34m[202]#011train-error:0.072333#011validation-error:0.1337\u001b[0m\n",
      "\u001b[34m[19:42:30] src/tree/updater_prune.cc:74: tree pruning end, 1 roots, 24 extra nodes, 18 pruned nodes, max_depth=5\u001b[0m\n",
      "\u001b[34m[203]#011train-error:0.072#011validation-error:0.1345\u001b[0m\n",
      "\u001b[34m[19:42:31] src/tree/updater_prune.cc:74: tree pruning end, 1 roots, 16 extra nodes, 6 pruned nodes, max_depth=5\u001b[0m\n",
      "\u001b[34m[204]#011train-error:0.071733#011validation-error:0.1346\u001b[0m\n",
      "\u001b[34m[19:42:32] src/tree/updater_prune.cc:74: tree pruning end, 1 roots, 16 extra nodes, 12 pruned nodes, max_depth=5\u001b[0m\n",
      "\u001b[34m[205]#011train-error:0.071067#011validation-error:0.1348\u001b[0m\n",
      "\u001b[34m[19:42:34] src/tree/updater_prune.cc:74: tree pruning end, 1 roots, 12 extra nodes, 10 pruned nodes, max_depth=5\u001b[0m\n",
      "\u001b[34m[206]#011train-error:0.071067#011validation-error:0.1349\u001b[0m\n",
      "\u001b[34m[19:42:35] src/tree/updater_prune.cc:74: tree pruning end, 1 roots, 10 extra nodes, 2 pruned nodes, max_depth=5\u001b[0m\n",
      "\u001b[34m[207]#011train-error:0.070867#011validation-error:0.1344\u001b[0m\n",
      "\u001b[34m[19:42:36] src/tree/updater_prune.cc:74: tree pruning end, 1 roots, 16 extra nodes, 2 pruned nodes, max_depth=5\u001b[0m\n",
      "\u001b[34m[208]#011train-error:0.070067#011validation-error:0.1343\u001b[0m\n",
      "\u001b[34m[19:42:38] src/tree/updater_prune.cc:74: tree pruning end, 1 roots, 14 extra nodes, 8 pruned nodes, max_depth=5\u001b[0m\n",
      "\u001b[34m[209]#011train-error:0.070467#011validation-error:0.1341\u001b[0m\n",
      "\u001b[34m[19:42:39] src/tree/updater_prune.cc:74: tree pruning end, 1 roots, 10 extra nodes, 2 pruned nodes, max_depth=5\u001b[0m\n",
      "\u001b[34m[210]#011train-error:0.070333#011validation-error:0.134\u001b[0m\n",
      "\u001b[34m[19:42:40] src/tree/updater_prune.cc:74: tree pruning end, 1 roots, 18 extra nodes, 8 pruned nodes, max_depth=5\u001b[0m\n",
      "\u001b[34m[211]#011train-error:0.070067#011validation-error:0.134\u001b[0m\n",
      "\u001b[34m[19:42:41] src/tree/updater_prune.cc:74: tree pruning end, 1 roots, 12 extra nodes, 2 pruned nodes, max_depth=5\u001b[0m\n",
      "\u001b[34m[212]#011train-error:0.0698#011validation-error:0.1346\u001b[0m\n",
      "\u001b[34mStopping. Best iteration:\u001b[0m\n",
      "\u001b[34m[202]#011train-error:0.072333#011validation-error:0.1337\n",
      "\u001b[0m\n",
      "\n",
      "2020-10-03 19:43:39 Uploading - Uploading generated training model\n",
      "2020-10-03 19:43:39 Completed - Training job completed\n",
      "Training seconds: 369\n",
      "Billable seconds: 369\n"
     ]
    }
   ],
   "source": [
    "xgb.fit({'train': s3_input_train, 'validation': s3_input_validation})"
   ]
  },
  {
   "cell_type": "markdown",
   "metadata": {},
   "source": [
    "## Step 5: Testing the model\n",
    "\n",
    "Now that we've fit our XGBoost model, it's time to see how well it performs. To do this we will use SageMakers Batch Transform functionality. Batch Transform is a convenient way to perform inference on a large dataset in a way that is not realtime. That is, we don't necessarily need to use our model's results immediately and instead we can perform inference on a large number of samples. An example of this in industry might be performing an end of month report. This method of inference can also be useful to us as it means that we can perform inference on our entire test set. \n",
    "\n",
    "To perform a Batch Transformation we need to first create a transformer objects from our trained estimator object."
   ]
  },
  {
   "cell_type": "code",
   "execution_count": 55,
   "metadata": {},
   "outputs": [
    {
     "name": "stderr",
     "output_type": "stream",
     "text": [
      "Parameter image will be renamed to image_uri in SageMaker Python SDK v2.\n"
     ]
    }
   ],
   "source": [
    "xgb_transformer = xgb.transformer(instance_count = 1, instance_type = 'ml.m4.xlarge')"
   ]
  },
  {
   "cell_type": "markdown",
   "metadata": {},
   "source": [
    "Next we actually perform the transform job. When doing so we need to make sure to specify the type of data we are sending so that it is serialized correctly in the background. In our case we are providing our model with csv data so we specify `text/csv`. Also, if the test data that we have provided is too large to process all at once then we need to specify how the data file should be split up. Since each line is a single entry in our data set we tell SageMaker that it can split the input on each line."
   ]
  },
  {
   "cell_type": "code",
   "execution_count": 56,
   "metadata": {},
   "outputs": [],
   "source": [
    "xgb_transformer.transform(test_location, content_type='text/csv', split_type='Line')"
   ]
  },
  {
   "cell_type": "markdown",
   "metadata": {},
   "source": [
    "Currently the transform job is running but it is doing so in the background. Since we wish to wait until the transform job is done and we would like a bit of feedback we can run the `wait()` method."
   ]
  },
  {
   "cell_type": "code",
   "execution_count": 57,
   "metadata": {},
   "outputs": [
    {
     "name": "stdout",
     "output_type": "stream",
     "text": [
      "............................\u001b[32m2020-10-03T19:48:25.758:[sagemaker logs]: MaxConcurrentTransforms=4, MaxPayloadInMB=6, BatchStrategy=MULTI_RECORD\u001b[0m\n",
      "\u001b[34mArguments: serve\u001b[0m\n",
      "\u001b[34m[2020-10-03 19:48:25 +0000] [1] [INFO] Starting gunicorn 19.7.1\u001b[0m\n",
      "\u001b[34m[2020-10-03 19:48:25 +0000] [1] [INFO] Listening at: http://0.0.0.0:8080 (1)\u001b[0m\n",
      "\u001b[34m[2020-10-03 19:48:25 +0000] [1] [INFO] Using worker: gevent\u001b[0m\n",
      "\u001b[35mArguments: serve\u001b[0m\n",
      "\u001b[35m[2020-10-03 19:48:25 +0000] [1] [INFO] Starting gunicorn 19.7.1\u001b[0m\n",
      "\u001b[35m[2020-10-03 19:48:25 +0000] [1] [INFO] Listening at: http://0.0.0.0:8080 (1)\u001b[0m\n",
      "\u001b[35m[2020-10-03 19:48:25 +0000] [1] [INFO] Using worker: gevent\u001b[0m\n",
      "\u001b[34m[2020-10-03 19:48:25 +0000] [36] [INFO] Booting worker with pid: 36\u001b[0m\n",
      "\u001b[34m[2020-10-03 19:48:25 +0000] [37] [INFO] Booting worker with pid: 37\u001b[0m\n",
      "\u001b[34m[2020-10-03:19:48:25:INFO] Model loaded successfully for worker : 36\u001b[0m\n",
      "\u001b[34m[2020-10-03 19:48:25 +0000] [38] [INFO] Booting worker with pid: 38\u001b[0m\n",
      "\u001b[34m[2020-10-03 19:48:25 +0000] [39] [INFO] Booting worker with pid: 39\u001b[0m\n",
      "\u001b[34m[2020-10-03:19:48:25:INFO] Model loaded successfully for worker : 37\u001b[0m\n",
      "\u001b[34m[2020-10-03:19:48:25:INFO] Model loaded successfully for worker : 38\u001b[0m\n",
      "\u001b[34m[2020-10-03:19:48:25:INFO] Model loaded successfully for worker : 39\u001b[0m\n",
      "\u001b[34m[2020-10-03:19:48:26:INFO] Sniff delimiter as ','\u001b[0m\n",
      "\u001b[34m[2020-10-03:19:48:26:INFO] Determined delimiter of CSV input is ','\u001b[0m\n",
      "\u001b[34m[2020-10-03:19:48:26:INFO] Sniff delimiter as ','\u001b[0m\n",
      "\u001b[34m[2020-10-03:19:48:26:INFO] Determined delimiter of CSV input is ','\u001b[0m\n",
      "\u001b[34m[2020-10-03:19:48:26:INFO] Sniff delimiter as ','\u001b[0m\n",
      "\u001b[34m[2020-10-03:19:48:26:INFO] Determined delimiter of CSV input is ','\u001b[0m\n",
      "\u001b[34m[2020-10-03:19:48:26:INFO] Sniff delimiter as ','\u001b[0m\n",
      "\u001b[34m[2020-10-03:19:48:26:INFO] Determined delimiter of CSV input is ','\u001b[0m\n",
      "\u001b[35m[2020-10-03 19:48:25 +0000] [36] [INFO] Booting worker with pid: 36\u001b[0m\n",
      "\u001b[35m[2020-10-03 19:48:25 +0000] [37] [INFO] Booting worker with pid: 37\u001b[0m\n",
      "\u001b[35m[2020-10-03:19:48:25:INFO] Model loaded successfully for worker : 36\u001b[0m\n",
      "\u001b[35m[2020-10-03 19:48:25 +0000] [38] [INFO] Booting worker with pid: 38\u001b[0m\n",
      "\u001b[35m[2020-10-03 19:48:25 +0000] [39] [INFO] Booting worker with pid: 39\u001b[0m\n",
      "\u001b[35m[2020-10-03:19:48:25:INFO] Model loaded successfully for worker : 37\u001b[0m\n",
      "\u001b[35m[2020-10-03:19:48:25:INFO] Model loaded successfully for worker : 38\u001b[0m\n",
      "\u001b[35m[2020-10-03:19:48:25:INFO] Model loaded successfully for worker : 39\u001b[0m\n",
      "\u001b[35m[2020-10-03:19:48:26:INFO] Sniff delimiter as ','\u001b[0m\n",
      "\u001b[35m[2020-10-03:19:48:26:INFO] Determined delimiter of CSV input is ','\u001b[0m\n",
      "\u001b[35m[2020-10-03:19:48:26:INFO] Sniff delimiter as ','\u001b[0m\n",
      "\u001b[35m[2020-10-03:19:48:26:INFO] Determined delimiter of CSV input is ','\u001b[0m\n",
      "\u001b[35m[2020-10-03:19:48:26:INFO] Sniff delimiter as ','\u001b[0m\n",
      "\u001b[35m[2020-10-03:19:48:26:INFO] Determined delimiter of CSV input is ','\u001b[0m\n",
      "\u001b[35m[2020-10-03:19:48:26:INFO] Sniff delimiter as ','\u001b[0m\n",
      "\u001b[35m[2020-10-03:19:48:26:INFO] Determined delimiter of CSV input is ','\u001b[0m\n",
      "\u001b[34m[2020-10-03:19:48:28:INFO] Sniff delimiter as ','\u001b[0m\n",
      "\u001b[34m[2020-10-03:19:48:28:INFO] Determined delimiter of CSV input is ','\u001b[0m\n",
      "\u001b[34m[2020-10-03:19:48:29:INFO] Sniff delimiter as ','\u001b[0m\n",
      "\u001b[34m[2020-10-03:19:48:29:INFO] Determined delimiter of CSV input is ','\u001b[0m\n",
      "\u001b[34m[2020-10-03:19:48:29:INFO] Sniff delimiter as ','\u001b[0m\n",
      "\u001b[34m[2020-10-03:19:48:29:INFO] Determined delimiter of CSV input is ','\u001b[0m\n",
      "\u001b[34m[2020-10-03:19:48:29:INFO] Sniff delimiter as ','\u001b[0m\n",
      "\u001b[34m[2020-10-03:19:48:29:INFO] Determined delimiter of CSV input is ','\u001b[0m\n",
      "\u001b[35m[2020-10-03:19:48:28:INFO] Sniff delimiter as ','\u001b[0m\n",
      "\u001b[35m[2020-10-03:19:48:28:INFO] Determined delimiter of CSV input is ','\u001b[0m\n",
      "\u001b[35m[2020-10-03:19:48:29:INFO] Sniff delimiter as ','\u001b[0m\n",
      "\u001b[35m[2020-10-03:19:48:29:INFO] Determined delimiter of CSV input is ','\u001b[0m\n",
      "\u001b[35m[2020-10-03:19:48:29:INFO] Sniff delimiter as ','\u001b[0m\n",
      "\u001b[35m[2020-10-03:19:48:29:INFO] Determined delimiter of CSV input is ','\u001b[0m\n",
      "\u001b[35m[2020-10-03:19:48:29:INFO] Sniff delimiter as ','\u001b[0m\n",
      "\u001b[35m[2020-10-03:19:48:29:INFO] Determined delimiter of CSV input is ','\u001b[0m\n",
      "\u001b[34m[2020-10-03:19:48:31:INFO] Sniff delimiter as ','\u001b[0m\n",
      "\u001b[34m[2020-10-03:19:48:31:INFO] Determined delimiter of CSV input is ','\u001b[0m\n",
      "\u001b[34m[2020-10-03:19:48:31:INFO] Sniff delimiter as ','\u001b[0m\n",
      "\u001b[34m[2020-10-03:19:48:31:INFO] Determined delimiter of CSV input is ','\u001b[0m\n",
      "\u001b[35m[2020-10-03:19:48:31:INFO] Sniff delimiter as ','\u001b[0m\n",
      "\u001b[35m[2020-10-03:19:48:31:INFO] Determined delimiter of CSV input is ','\u001b[0m\n",
      "\u001b[35m[2020-10-03:19:48:31:INFO] Sniff delimiter as ','\u001b[0m\n",
      "\u001b[35m[2020-10-03:19:48:31:INFO] Determined delimiter of CSV input is ','\u001b[0m\n",
      "\u001b[34m[2020-10-03:19:48:33:INFO] Sniff delimiter as ','\u001b[0m\n",
      "\u001b[34m[2020-10-03:19:48:33:INFO] Determined delimiter of CSV input is ','\u001b[0m\n",
      "\u001b[34m[2020-10-03:19:48:33:INFO] Sniff delimiter as ','\u001b[0m\n",
      "\u001b[34m[2020-10-03:19:48:33:INFO] Determined delimiter of CSV input is ','\u001b[0m\n",
      "\u001b[34m[2020-10-03:19:48:34:INFO] Sniff delimiter as ','\u001b[0m\n",
      "\u001b[34m[2020-10-03:19:48:34:INFO] Determined delimiter of CSV input is ','\u001b[0m\n",
      "\u001b[34m[2020-10-03:19:48:34:INFO] Sniff delimiter as ','\u001b[0m\n",
      "\u001b[34m[2020-10-03:19:48:34:INFO] Determined delimiter of CSV input is ','\u001b[0m\n",
      "\u001b[35m[2020-10-03:19:48:33:INFO] Sniff delimiter as ','\u001b[0m\n",
      "\u001b[35m[2020-10-03:19:48:33:INFO] Determined delimiter of CSV input is ','\u001b[0m\n",
      "\u001b[35m[2020-10-03:19:48:33:INFO] Sniff delimiter as ','\u001b[0m\n",
      "\u001b[35m[2020-10-03:19:48:33:INFO] Determined delimiter of CSV input is ','\u001b[0m\n",
      "\u001b[35m[2020-10-03:19:48:34:INFO] Sniff delimiter as ','\u001b[0m\n",
      "\u001b[35m[2020-10-03:19:48:34:INFO] Determined delimiter of CSV input is ','\u001b[0m\n",
      "\u001b[35m[2020-10-03:19:48:34:INFO] Sniff delimiter as ','\u001b[0m\n",
      "\u001b[35m[2020-10-03:19:48:34:INFO] Determined delimiter of CSV input is ','\u001b[0m\n",
      "\u001b[34m[2020-10-03:19:48:36:INFO] Sniff delimiter as ','\u001b[0m\n",
      "\u001b[34m[2020-10-03:19:48:36:INFO] Determined delimiter of CSV input is ','\u001b[0m\n",
      "\u001b[34m[2020-10-03:19:48:36:INFO] Sniff delimiter as ','\u001b[0m\n",
      "\u001b[34m[2020-10-03:19:48:36:INFO] Determined delimiter of CSV input is ','\u001b[0m\n",
      "\u001b[34m[2020-10-03:19:48:36:INFO] Sniff delimiter as ','\u001b[0m\n",
      "\u001b[34m[2020-10-03:19:48:36:INFO] Determined delimiter of CSV input is ','\u001b[0m\n",
      "\u001b[35m[2020-10-03:19:48:36:INFO] Sniff delimiter as ','\u001b[0m\n",
      "\u001b[35m[2020-10-03:19:48:36:INFO] Determined delimiter of CSV input is ','\u001b[0m\n",
      "\u001b[35m[2020-10-03:19:48:36:INFO] Sniff delimiter as ','\u001b[0m\n",
      "\u001b[35m[2020-10-03:19:48:36:INFO] Determined delimiter of CSV input is ','\u001b[0m\n",
      "\u001b[35m[2020-10-03:19:48:36:INFO] Sniff delimiter as ','\u001b[0m\n",
      "\u001b[35m[2020-10-03:19:48:36:INFO] Determined delimiter of CSV input is ','\u001b[0m\n",
      "\u001b[34m[2020-10-03:19:48:36:INFO] Sniff delimiter as ','\u001b[0m\n",
      "\u001b[34m[2020-10-03:19:48:36:INFO] Determined delimiter of CSV input is ','\u001b[0m\n",
      "\u001b[35m[2020-10-03:19:48:36:INFO] Sniff delimiter as ','\u001b[0m\n",
      "\u001b[35m[2020-10-03:19:48:36:INFO] Determined delimiter of CSV input is ','\u001b[0m\n",
      "\u001b[34m[2020-10-03:19:48:38:INFO] Sniff delimiter as ','\u001b[0m\n",
      "\u001b[34m[2020-10-03:19:48:38:INFO] Determined delimiter of CSV input is ','\u001b[0m\n",
      "\u001b[34m[2020-10-03:19:48:38:INFO] Sniff delimiter as ','\u001b[0m\n",
      "\u001b[35m[2020-10-03:19:48:38:INFO] Sniff delimiter as ','\u001b[0m\n",
      "\u001b[35m[2020-10-03:19:48:38:INFO] Determined delimiter of CSV input is ','\u001b[0m\n",
      "\u001b[35m[2020-10-03:19:48:38:INFO] Sniff delimiter as ','\u001b[0m\n",
      "\u001b[34m[2020-10-03:19:48:38:INFO] Determined delimiter of CSV input is ','\u001b[0m\n",
      "\u001b[34m[2020-10-03:19:48:39:INFO] Sniff delimiter as ','\u001b[0m\n",
      "\u001b[34m[2020-10-03:19:48:39:INFO] Determined delimiter of CSV input is ','\u001b[0m\n",
      "\u001b[34m[2020-10-03:19:48:39:INFO] Sniff delimiter as ','\u001b[0m\n",
      "\u001b[34m[2020-10-03:19:48:39:INFO] Determined delimiter of CSV input is ','\u001b[0m\n",
      "\u001b[35m[2020-10-03:19:48:38:INFO] Determined delimiter of CSV input is ','\u001b[0m\n",
      "\u001b[35m[2020-10-03:19:48:39:INFO] Sniff delimiter as ','\u001b[0m\n",
      "\u001b[35m[2020-10-03:19:48:39:INFO] Determined delimiter of CSV input is ','\u001b[0m\n",
      "\u001b[35m[2020-10-03:19:48:39:INFO] Sniff delimiter as ','\u001b[0m\n",
      "\u001b[35m[2020-10-03:19:48:39:INFO] Determined delimiter of CSV input is ','\u001b[0m\n",
      "\u001b[34m[2020-10-03:19:48:41:INFO] Sniff delimiter as ','\u001b[0m\n",
      "\u001b[34m[2020-10-03:19:48:41:INFO] Determined delimiter of CSV input is ','\u001b[0m\n",
      "\u001b[35m[2020-10-03:19:48:41:INFO] Sniff delimiter as ','\u001b[0m\n",
      "\u001b[35m[2020-10-03:19:48:41:INFO] Determined delimiter of CSV input is ','\u001b[0m\n",
      "\u001b[34m[2020-10-03:19:48:41:INFO] Sniff delimiter as ','\u001b[0m\n",
      "\u001b[34m[2020-10-03:19:48:41:INFO] Determined delimiter of CSV input is ','\u001b[0m\n",
      "\u001b[34m[2020-10-03:19:48:41:INFO] Sniff delimiter as ','\u001b[0m\n",
      "\u001b[34m[2020-10-03:19:48:41:INFO] Determined delimiter of CSV input is ','\u001b[0m\n",
      "\u001b[35m[2020-10-03:19:48:41:INFO] Sniff delimiter as ','\u001b[0m\n",
      "\u001b[35m[2020-10-03:19:48:41:INFO] Determined delimiter of CSV input is ','\u001b[0m\n",
      "\u001b[35m[2020-10-03:19:48:41:INFO] Sniff delimiter as ','\u001b[0m\n",
      "\u001b[35m[2020-10-03:19:48:41:INFO] Determined delimiter of CSV input is ','\u001b[0m\n"
     ]
    },
    {
     "name": "stdout",
     "output_type": "stream",
     "text": [
      "\n",
      "\u001b[34m[2020-10-03:19:48:43:INFO] Sniff delimiter as ','\u001b[0m\n",
      "\u001b[34m[2020-10-03:19:48:43:INFO] Determined delimiter of CSV input is ','\u001b[0m\n",
      "\u001b[34m[2020-10-03:19:48:43:INFO] Sniff delimiter as ','\u001b[0m\n",
      "\u001b[34m[2020-10-03:19:48:43:INFO] Determined delimiter of CSV input is ','\u001b[0m\n",
      "\u001b[34m[2020-10-03:19:48:44:INFO] Sniff delimiter as ','\u001b[0m\n",
      "\u001b[34m[2020-10-03:19:48:44:INFO] Determined delimiter of CSV input is ','\u001b[0m\n",
      "\u001b[35m[2020-10-03:19:48:43:INFO] Sniff delimiter as ','\u001b[0m\n",
      "\u001b[35m[2020-10-03:19:48:43:INFO] Determined delimiter of CSV input is ','\u001b[0m\n",
      "\u001b[35m[2020-10-03:19:48:43:INFO] Sniff delimiter as ','\u001b[0m\n",
      "\u001b[35m[2020-10-03:19:48:43:INFO] Determined delimiter of CSV input is ','\u001b[0m\n",
      "\u001b[35m[2020-10-03:19:48:44:INFO] Sniff delimiter as ','\u001b[0m\n",
      "\u001b[35m[2020-10-03:19:48:44:INFO] Determined delimiter of CSV input is ','\u001b[0m\n",
      "\u001b[34m[2020-10-03:19:48:46:INFO] Sniff delimiter as ','\u001b[0m\n",
      "\u001b[34m[2020-10-03:19:48:46:INFO] Determined delimiter of CSV input is ','\u001b[0m\n",
      "\u001b[34m[2020-10-03:19:48:46:INFO] Sniff delimiter as ','\u001b[0m\n",
      "\u001b[34m[2020-10-03:19:48:46:INFO] Determined delimiter of CSV input is ','\u001b[0m\n",
      "\u001b[34m[2020-10-03:19:48:46:INFO] Sniff delimiter as ','\u001b[0m\n",
      "\u001b[34m[2020-10-03:19:48:46:INFO] Determined delimiter of CSV input is ','\u001b[0m\n",
      "\u001b[34m[2020-10-03:19:48:46:INFO] Sniff delimiter as ','\u001b[0m\n",
      "\u001b[34m[2020-10-03:19:48:46:INFO] Determined delimiter of CSV input is ','\u001b[0m\n",
      "\u001b[35m[2020-10-03:19:48:46:INFO] Sniff delimiter as ','\u001b[0m\n",
      "\u001b[35m[2020-10-03:19:48:46:INFO] Determined delimiter of CSV input is ','\u001b[0m\n",
      "\u001b[35m[2020-10-03:19:48:46:INFO] Sniff delimiter as ','\u001b[0m\n",
      "\u001b[35m[2020-10-03:19:48:46:INFO] Determined delimiter of CSV input is ','\u001b[0m\n",
      "\u001b[35m[2020-10-03:19:48:46:INFO] Sniff delimiter as ','\u001b[0m\n",
      "\u001b[35m[2020-10-03:19:48:46:INFO] Determined delimiter of CSV input is ','\u001b[0m\n",
      "\u001b[35m[2020-10-03:19:48:46:INFO] Sniff delimiter as ','\u001b[0m\n",
      "\u001b[35m[2020-10-03:19:48:46:INFO] Determined delimiter of CSV input is ','\u001b[0m\n",
      "\u001b[34m[2020-10-03:19:48:48:INFO] Sniff delimiter as ','\u001b[0m\n",
      "\u001b[34m[2020-10-03:19:48:48:INFO] Determined delimiter of CSV input is ','\u001b[0m\n",
      "\u001b[35m[2020-10-03:19:48:48:INFO] Sniff delimiter as ','\u001b[0m\n",
      "\u001b[35m[2020-10-03:19:48:48:INFO] Determined delimiter of CSV input is ','\u001b[0m\n",
      "\u001b[34m[2020-10-03:19:48:48:INFO] Sniff delimiter as ','\u001b[0m\n",
      "\u001b[34m[2020-10-03:19:48:48:INFO] Determined delimiter of CSV input is ','\u001b[0m\n",
      "\u001b[34m[2020-10-03:19:48:48:INFO] Sniff delimiter as ','\u001b[0m\n",
      "\u001b[34m[2020-10-03:19:48:48:INFO] Determined delimiter of CSV input is ','\u001b[0m\n",
      "\u001b[34m[2020-10-03:19:48:48:INFO] Sniff delimiter as ','\u001b[0m\n",
      "\u001b[34m[2020-10-03:19:48:48:INFO] Determined delimiter of CSV input is ','\u001b[0m\n",
      "\u001b[35m[2020-10-03:19:48:48:INFO] Sniff delimiter as ','\u001b[0m\n",
      "\u001b[35m[2020-10-03:19:48:48:INFO] Determined delimiter of CSV input is ','\u001b[0m\n",
      "\u001b[35m[2020-10-03:19:48:48:INFO] Sniff delimiter as ','\u001b[0m\n",
      "\u001b[35m[2020-10-03:19:48:48:INFO] Determined delimiter of CSV input is ','\u001b[0m\n",
      "\u001b[35m[2020-10-03:19:48:48:INFO] Sniff delimiter as ','\u001b[0m\n",
      "\u001b[35m[2020-10-03:19:48:48:INFO] Determined delimiter of CSV input is ','\u001b[0m\n"
     ]
    }
   ],
   "source": [
    "xgb_transformer.wait()"
   ]
  },
  {
   "cell_type": "markdown",
   "metadata": {},
   "source": [
    "Now the transform job has executed and the result, the estimated sentiment of each review, has been saved on S3. Since we would rather work on this file locally we can perform a bit of notebook magic to copy the file to the `data_dir`."
   ]
  },
  {
   "cell_type": "code",
   "execution_count": 58,
   "metadata": {},
   "outputs": [
    {
     "name": "stdout",
     "output_type": "stream",
     "text": [
      "Completed 256.0 KiB/370.6 KiB (3.3 MiB/s) with 1 file(s) remaining\r",
      "Completed 370.6 KiB/370.6 KiB (4.7 MiB/s) with 1 file(s) remaining\r",
      "download: s3://sagemaker-us-east-2-360760555806/xgboost-2020-10-03-19-43-52-575/test.csv.out to ../data/sentiment_web_app/test.csv.out\r\n"
     ]
    }
   ],
   "source": [
    "!aws s3 cp --recursive $xgb_transformer.output_path $data_dir"
   ]
  },
  {
   "cell_type": "markdown",
   "metadata": {},
   "source": [
    "The last step is now to read in the output from our model, convert the output to something a little more usable, in this case we want the sentiment to be either `1` (positive) or `0` (negative), and then compare to the ground truth labels."
   ]
  },
  {
   "cell_type": "code",
   "execution_count": 59,
   "metadata": {},
   "outputs": [],
   "source": [
    "predictions = pd.read_csv(os.path.join(data_dir, 'test.csv.out'), header=None)\n",
    "predictions = [round(num) for num in predictions.squeeze().values]"
   ]
  },
  {
   "cell_type": "code",
   "execution_count": 60,
   "metadata": {},
   "outputs": [
    {
     "data": {
      "text/plain": [
       "0.86716"
      ]
     },
     "execution_count": 60,
     "metadata": {},
     "output_type": "execute_result"
    }
   ],
   "source": [
    "from sklearn.metrics import accuracy_score\n",
    "accuracy_score(test_y, predictions)"
   ]
  },
  {
   "cell_type": "markdown",
   "metadata": {},
   "source": [
    "## Step 6: Deploying the model\n",
    "\n",
    "Once we construct and fit our model, SageMaker stores the resulting model artifacts and we can use those to deploy an endpoint (inference code). To see this, look in the SageMaker console and you should see that a model has been created along with a link to the S3 location where the model artifacts have been stored.\n",
    "\n",
    "Deploying an endpoint is a lot like training the model with a few important differences. The first is that a deployed model doesn't change the model artifacts, so as you send it various testing instances the model won't change. Another difference is that since we aren't performing a fixed computation, as we were in the training step or while performing a batch transform, the compute instance that gets started stays running until we tell it to stop. This is important to note as if we forget and leave it running we will be charged the entire time.\n",
    "\n",
    "In other words **If you are no longer using a deployed endpoint, shut it down!**"
   ]
  },
  {
   "cell_type": "code",
   "execution_count": 61,
   "metadata": {},
   "outputs": [
    {
     "name": "stderr",
     "output_type": "stream",
     "text": [
      "Parameter image will be renamed to image_uri in SageMaker Python SDK v2.\n",
      "Using already existing model: xgboost-2020-10-03-19-35-37-565\n"
     ]
    },
    {
     "name": "stdout",
     "output_type": "stream",
     "text": [
      "-------------!"
     ]
    }
   ],
   "source": [
    "xgb_predictor = xgb.deploy(initial_instance_count = 1, instance_type = 'ml.m4.xlarge')"
   ]
  },
  {
   "cell_type": "markdown",
   "metadata": {},
   "source": [
    "### Testing the model (again)\n",
    "\n",
    "Now that we have deployed our endpoint, we can send the testing data to it and get back the inference results. We already did this earlier using the batch transform functionality of SageMaker, however, we will test our model again using the newly deployed endpoint so that we can make sure that it works properly and to get a bit of a feel for how the endpoint works.\n",
    "\n",
    "When using the created endpoint it is important to know that we are limited in the amount of information we can send in each call so we need to break the testing data up into chunks and then send each chunk. Also, we need to serialize our data before we send it to the endpoint to ensure that our data is transmitted properly. Fortunately, SageMaker can do the serialization part for us provided we tell it the format of our data."
   ]
  },
  {
   "cell_type": "code",
   "execution_count": 62,
   "metadata": {},
   "outputs": [],
   "source": [
    "from sagemaker.predictor import csv_serializer\n",
    "\n",
    "# We need to tell the endpoint what format the data we are sending is in so that SageMaker can perform the serialization.\n",
    "xgb_predictor.content_type = 'text/csv'\n",
    "xgb_predictor.serializer = csv_serializer"
   ]
  },
  {
   "cell_type": "code",
   "execution_count": 63,
   "metadata": {},
   "outputs": [],
   "source": [
    "# We split the data into chunks and send each chunk seperately, accumulating the results.\n",
    "\n",
    "def predict(data, rows=512):\n",
    "    split_array = np.array_split(data, int(data.shape[0] / float(rows) + 1))\n",
    "    predictions = ''\n",
    "    for array in split_array:\n",
    "        predictions = ','.join([predictions, xgb_predictor.predict(array).decode('utf-8')])\n",
    "    \n",
    "    return np.fromstring(predictions[1:], sep=',')"
   ]
  },
  {
   "cell_type": "code",
   "execution_count": 64,
   "metadata": {},
   "outputs": [],
   "source": [
    "test_X = pd.read_csv(os.path.join(data_dir, 'test.csv'), header=None).values\n",
    "\n",
    "predictions = predict(test_X)\n",
    "predictions = [round(num) for num in predictions]"
   ]
  },
  {
   "cell_type": "markdown",
   "metadata": {},
   "source": [
    "Lastly, we check to see what the accuracy of our model is."
   ]
  },
  {
   "cell_type": "code",
   "execution_count": 65,
   "metadata": {},
   "outputs": [
    {
     "data": {
      "text/plain": [
       "0.86716"
      ]
     },
     "execution_count": 65,
     "metadata": {},
     "output_type": "execute_result"
    }
   ],
   "source": [
    "from sklearn.metrics import accuracy_score\n",
    "accuracy_score(test_y, predictions)"
   ]
  },
  {
   "cell_type": "markdown",
   "metadata": {},
   "source": [
    "And the results here should agree with the model testing that we did earlier using the batch transform job.\n",
    "\n",
    "### Cleaning up\n",
    "\n",
    "Now that we've determined that deploying our model works as expected, we are going to shut it down. Remember that the longer the endpoint is left running, the greater the cost and since we have a bit more work to do before we are able to use our endpoint with our simple web app, we should shut everything down."
   ]
  },
  {
   "cell_type": "code",
   "execution_count": 68,
   "metadata": {},
   "outputs": [
    {
     "ename": "ClientError",
     "evalue": "An error occurred (ValidationException) when calling the DeleteEndpointConfig operation: Could not find endpoint configuration \"arn:aws:sagemaker:us-east-2:360760555806:endpoint-config/xgboost-2020-10-03-19-35-37-565\".",
     "output_type": "error",
     "traceback": [
      "\u001b[0;31m---------------------------------------------------------------------------\u001b[0m",
      "\u001b[0;31mClientError\u001b[0m                               Traceback (most recent call last)",
      "\u001b[0;32m<ipython-input-68-16a6b43a8b29>\u001b[0m in \u001b[0;36m<module>\u001b[0;34m\u001b[0m\n\u001b[0;32m----> 1\u001b[0;31m \u001b[0mxgb_predictor\u001b[0m\u001b[0;34m.\u001b[0m\u001b[0mdelete_endpoint\u001b[0m\u001b[0;34m(\u001b[0m\u001b[0;34m)\u001b[0m\u001b[0;34m\u001b[0m\u001b[0;34m\u001b[0m\u001b[0m\n\u001b[0m",
      "\u001b[0;32m~/anaconda3/envs/python3/lib/python3.6/site-packages/sagemaker/predictor.py\u001b[0m in \u001b[0;36mdelete_endpoint\u001b[0;34m(self, delete_endpoint_config)\u001b[0m\n\u001b[1;32m    174\u001b[0m         \"\"\"\n\u001b[1;32m    175\u001b[0m         \u001b[0;32mif\u001b[0m \u001b[0mdelete_endpoint_config\u001b[0m\u001b[0;34m:\u001b[0m\u001b[0;34m\u001b[0m\u001b[0;34m\u001b[0m\u001b[0m\n\u001b[0;32m--> 176\u001b[0;31m             \u001b[0mself\u001b[0m\u001b[0;34m.\u001b[0m\u001b[0m_delete_endpoint_config\u001b[0m\u001b[0;34m(\u001b[0m\u001b[0;34m)\u001b[0m\u001b[0;34m\u001b[0m\u001b[0;34m\u001b[0m\u001b[0m\n\u001b[0m\u001b[1;32m    177\u001b[0m \u001b[0;34m\u001b[0m\u001b[0m\n\u001b[1;32m    178\u001b[0m         \u001b[0mself\u001b[0m\u001b[0;34m.\u001b[0m\u001b[0msagemaker_session\u001b[0m\u001b[0;34m.\u001b[0m\u001b[0mdelete_endpoint\u001b[0m\u001b[0;34m(\u001b[0m\u001b[0mself\u001b[0m\u001b[0;34m.\u001b[0m\u001b[0mendpoint\u001b[0m\u001b[0;34m)\u001b[0m\u001b[0;34m\u001b[0m\u001b[0;34m\u001b[0m\u001b[0m\n",
      "\u001b[0;32m~/anaconda3/envs/python3/lib/python3.6/site-packages/sagemaker/predictor.py\u001b[0m in \u001b[0;36m_delete_endpoint_config\u001b[0;34m(self)\u001b[0m\n\u001b[1;32m    160\u001b[0m     \u001b[0;32mdef\u001b[0m \u001b[0m_delete_endpoint_config\u001b[0m\u001b[0;34m(\u001b[0m\u001b[0mself\u001b[0m\u001b[0;34m)\u001b[0m\u001b[0;34m:\u001b[0m\u001b[0;34m\u001b[0m\u001b[0;34m\u001b[0m\u001b[0m\n\u001b[1;32m    161\u001b[0m         \u001b[0;34m\"\"\"Delete the Amazon SageMaker endpoint configuration\"\"\"\u001b[0m\u001b[0;34m\u001b[0m\u001b[0;34m\u001b[0m\u001b[0m\n\u001b[0;32m--> 162\u001b[0;31m         \u001b[0mself\u001b[0m\u001b[0;34m.\u001b[0m\u001b[0msagemaker_session\u001b[0m\u001b[0;34m.\u001b[0m\u001b[0mdelete_endpoint_config\u001b[0m\u001b[0;34m(\u001b[0m\u001b[0mself\u001b[0m\u001b[0;34m.\u001b[0m\u001b[0m_endpoint_config_name\u001b[0m\u001b[0;34m)\u001b[0m\u001b[0;34m\u001b[0m\u001b[0;34m\u001b[0m\u001b[0m\n\u001b[0m\u001b[1;32m    163\u001b[0m \u001b[0;34m\u001b[0m\u001b[0m\n\u001b[1;32m    164\u001b[0m     \u001b[0;32mdef\u001b[0m \u001b[0mdelete_endpoint\u001b[0m\u001b[0;34m(\u001b[0m\u001b[0mself\u001b[0m\u001b[0;34m,\u001b[0m \u001b[0mdelete_endpoint_config\u001b[0m\u001b[0;34m=\u001b[0m\u001b[0;32mTrue\u001b[0m\u001b[0;34m)\u001b[0m\u001b[0;34m:\u001b[0m\u001b[0;34m\u001b[0m\u001b[0;34m\u001b[0m\u001b[0m\n",
      "\u001b[0;32m~/anaconda3/envs/python3/lib/python3.6/site-packages/sagemaker/session.py\u001b[0m in \u001b[0;36mdelete_endpoint_config\u001b[0;34m(self, endpoint_config_name)\u001b[0m\n\u001b[1;32m   2478\u001b[0m         \"\"\"\n\u001b[1;32m   2479\u001b[0m         \u001b[0mLOGGER\u001b[0m\u001b[0;34m.\u001b[0m\u001b[0minfo\u001b[0m\u001b[0;34m(\u001b[0m\u001b[0;34m\"Deleting endpoint configuration with name: %s\"\u001b[0m\u001b[0;34m,\u001b[0m \u001b[0mendpoint_config_name\u001b[0m\u001b[0;34m)\u001b[0m\u001b[0;34m\u001b[0m\u001b[0;34m\u001b[0m\u001b[0m\n\u001b[0;32m-> 2480\u001b[0;31m         \u001b[0mself\u001b[0m\u001b[0;34m.\u001b[0m\u001b[0msagemaker_client\u001b[0m\u001b[0;34m.\u001b[0m\u001b[0mdelete_endpoint_config\u001b[0m\u001b[0;34m(\u001b[0m\u001b[0mEndpointConfigName\u001b[0m\u001b[0;34m=\u001b[0m\u001b[0mendpoint_config_name\u001b[0m\u001b[0;34m)\u001b[0m\u001b[0;34m\u001b[0m\u001b[0;34m\u001b[0m\u001b[0m\n\u001b[0m\u001b[1;32m   2481\u001b[0m \u001b[0;34m\u001b[0m\u001b[0m\n\u001b[1;32m   2482\u001b[0m     \u001b[0;32mdef\u001b[0m \u001b[0mdelete_model\u001b[0m\u001b[0;34m(\u001b[0m\u001b[0mself\u001b[0m\u001b[0;34m,\u001b[0m \u001b[0mmodel_name\u001b[0m\u001b[0;34m)\u001b[0m\u001b[0;34m:\u001b[0m\u001b[0;34m\u001b[0m\u001b[0;34m\u001b[0m\u001b[0m\n",
      "\u001b[0;32m~/anaconda3/envs/python3/lib/python3.6/site-packages/botocore/client.py\u001b[0m in \u001b[0;36m_api_call\u001b[0;34m(self, *args, **kwargs)\u001b[0m\n\u001b[1;32m    335\u001b[0m                     \"%s() only accepts keyword arguments.\" % py_operation_name)\n\u001b[1;32m    336\u001b[0m             \u001b[0;31m# The \"self\" in this scope is referring to the BaseClient.\u001b[0m\u001b[0;34m\u001b[0m\u001b[0;34m\u001b[0m\u001b[0;34m\u001b[0m\u001b[0m\n\u001b[0;32m--> 337\u001b[0;31m             \u001b[0;32mreturn\u001b[0m \u001b[0mself\u001b[0m\u001b[0;34m.\u001b[0m\u001b[0m_make_api_call\u001b[0m\u001b[0;34m(\u001b[0m\u001b[0moperation_name\u001b[0m\u001b[0;34m,\u001b[0m \u001b[0mkwargs\u001b[0m\u001b[0;34m)\u001b[0m\u001b[0;34m\u001b[0m\u001b[0;34m\u001b[0m\u001b[0m\n\u001b[0m\u001b[1;32m    338\u001b[0m \u001b[0;34m\u001b[0m\u001b[0m\n\u001b[1;32m    339\u001b[0m         \u001b[0m_api_call\u001b[0m\u001b[0;34m.\u001b[0m\u001b[0m__name__\u001b[0m \u001b[0;34m=\u001b[0m \u001b[0mstr\u001b[0m\u001b[0;34m(\u001b[0m\u001b[0mpy_operation_name\u001b[0m\u001b[0;34m)\u001b[0m\u001b[0;34m\u001b[0m\u001b[0;34m\u001b[0m\u001b[0m\n",
      "\u001b[0;32m~/anaconda3/envs/python3/lib/python3.6/site-packages/botocore/client.py\u001b[0m in \u001b[0;36m_make_api_call\u001b[0;34m(self, operation_name, api_params)\u001b[0m\n\u001b[1;32m    654\u001b[0m             \u001b[0merror_code\u001b[0m \u001b[0;34m=\u001b[0m \u001b[0mparsed_response\u001b[0m\u001b[0;34m.\u001b[0m\u001b[0mget\u001b[0m\u001b[0;34m(\u001b[0m\u001b[0;34m\"Error\"\u001b[0m\u001b[0;34m,\u001b[0m \u001b[0;34m{\u001b[0m\u001b[0;34m}\u001b[0m\u001b[0;34m)\u001b[0m\u001b[0;34m.\u001b[0m\u001b[0mget\u001b[0m\u001b[0;34m(\u001b[0m\u001b[0;34m\"Code\"\u001b[0m\u001b[0;34m)\u001b[0m\u001b[0;34m\u001b[0m\u001b[0;34m\u001b[0m\u001b[0m\n\u001b[1;32m    655\u001b[0m             \u001b[0merror_class\u001b[0m \u001b[0;34m=\u001b[0m \u001b[0mself\u001b[0m\u001b[0;34m.\u001b[0m\u001b[0mexceptions\u001b[0m\u001b[0;34m.\u001b[0m\u001b[0mfrom_code\u001b[0m\u001b[0;34m(\u001b[0m\u001b[0merror_code\u001b[0m\u001b[0;34m)\u001b[0m\u001b[0;34m\u001b[0m\u001b[0;34m\u001b[0m\u001b[0m\n\u001b[0;32m--> 656\u001b[0;31m             \u001b[0;32mraise\u001b[0m \u001b[0merror_class\u001b[0m\u001b[0;34m(\u001b[0m\u001b[0mparsed_response\u001b[0m\u001b[0;34m,\u001b[0m \u001b[0moperation_name\u001b[0m\u001b[0;34m)\u001b[0m\u001b[0;34m\u001b[0m\u001b[0;34m\u001b[0m\u001b[0m\n\u001b[0m\u001b[1;32m    657\u001b[0m         \u001b[0;32melse\u001b[0m\u001b[0;34m:\u001b[0m\u001b[0;34m\u001b[0m\u001b[0;34m\u001b[0m\u001b[0m\n\u001b[1;32m    658\u001b[0m             \u001b[0;32mreturn\u001b[0m \u001b[0mparsed_response\u001b[0m\u001b[0;34m\u001b[0m\u001b[0;34m\u001b[0m\u001b[0m\n",
      "\u001b[0;31mClientError\u001b[0m: An error occurred (ValidationException) when calling the DeleteEndpointConfig operation: Could not find endpoint configuration \"arn:aws:sagemaker:us-east-2:360760555806:endpoint-config/xgboost-2020-10-03-19-35-37-565\"."
     ]
    }
   ],
   "source": [
    "xgb_predictor.delete_endpoint()"
   ]
  },
  {
   "cell_type": "markdown",
   "metadata": {},
   "source": [
    "## Step 7: Putting our model to work\n",
    "\n",
    "As we've mentioned a few times now, our goal is to have our model deployed and then access it using a very simple web app. The intent is for this web app to take some user submitted data (a review), send it off to our endpoint (the model) and then display the result.\n",
    "\n",
    "However, there is a small catch. Currently the only way we can access the endpoint to send it data is using the SageMaker API. We can, if we wish, expose the actual URL that our model's endpoint is receiving data from, however, if we just send it data ourselves we will not get anything in return. This is because the endpoint created by SageMaker requires the entity accessing it have the correct permissions. So, we would need to somehow authenticate our web app with AWS.\n",
    "\n",
    "Having a website that authenticates to AWS seems a bit beyond the scope of this lesson so we will opt for an alternative approach. Namely, we will create a new endpoint which does not require authentication and which acts as a proxy for the SageMaker endpoint.\n",
    "\n",
    "As an additional constraint, we will try to avoid doing any data processing in the web app itself. Remember that when we constructed and tested our model we started with a movie review, then we simplified it by removing any html formatting and punctuation, then we constructed a bag of words embedding and the resulting vector is what we sent to our model. All of this needs to be done to our user input as well.\n",
    "\n",
    "Fortunately we can do all of this data processing in the backend, using Amazon's Lambda service.\n",
    "\n",
    "<img src=\"Web App Diagram.svg\">\n",
    "\n",
    "The diagram above gives an overview of how the various services will work together. On the far right is the model which we trained above and which will be deployed using SageMaker. On the far left is our web app that collects a user's movie review, sends it off and expects a positive or negative sentiment in return.\n",
    "\n",
    "In the middle is where some of the magic happens. We will construct a Lambda function, which you can think of as a straightforward Python function that can be executed whenever a specified event occurs. This Python function will do the data processing we need to perform on a user submitted review. In addition, we will give this function permission to send and recieve data from a SageMaker endpoint.\n",
    "\n",
    "Lastly, the method we will use to execute the Lambda function is a new endpoint that we will create using API Gateway. This endpoint will be a url that listens for data to be sent to it. Once it gets some data it will pass that data on to the Lambda function and then return whatever the Lambda function returns. Essentially it will act as an interface that lets our web app communicate with the Lambda function.\n",
    "\n",
    "### Processing a single review\n",
    "\n",
    "For now, suppose we are given a movie review by our user in the form of a string, like so:"
   ]
  },
  {
   "cell_type": "code",
   "execution_count": 69,
   "metadata": {},
   "outputs": [],
   "source": [
    "test_review = \"Nothing but a disgusting materialistic pageant of glistening abed remote control greed zombies, totally devoid of any heart or heat. A romantic comedy that has zero romantic chemestry and zero laughs!\""
   ]
  },
  {
   "cell_type": "markdown",
   "metadata": {},
   "source": [
    "How do we go from this string to the bag of words feature vector that is expected by our model?\n",
    "\n",
    "If we recall at the beginning of this notebook, the first step is to remove any unnecessary characters using the `review_to_words` method. Remember that we intentionally did this in a very simplistic way. This is because we are going to have to copy this method to our (eventual) Lambda function (we will go into more detail later) and this means it needs to be rather simplistic."
   ]
  },
  {
   "cell_type": "code",
   "execution_count": 70,
   "metadata": {},
   "outputs": [
    {
     "name": "stdout",
     "output_type": "stream",
     "text": [
      "nothing but a disgusting materialistic pageant of glistening abed remote control greed zombies totally devoid of any heart or heat a romantic comedy that has zero romantic chemestry and zero laughs\n"
     ]
    }
   ],
   "source": [
    "test_words = review_to_words(test_review)\n",
    "print(test_words)"
   ]
  },
  {
   "cell_type": "markdown",
   "metadata": {},
   "source": [
    "Next, we need to construct a bag of words embedding of the `test_words` string. To do this, remember that a bag of words embedding uses a `vocabulary` consisting of the most frequently appearing words in a set of documents. Then, for each word in the vocabulary we record the number of times that word appears in `test_words`. We constructed the `vocabulary` earlier using the training set for our problem so encoding `test_words` is relatively straightforward."
   ]
  },
  {
   "cell_type": "code",
   "execution_count": 71,
   "metadata": {},
   "outputs": [],
   "source": [
    "def bow_encoding(words, vocabulary):\n",
    "    bow = [0] * len(vocabulary) # Start by setting the count for each word in the vocabulary to zero.\n",
    "    for word in words.split():  # For each word in the string\n",
    "        if word in vocabulary:  # If the word is one that occurs in the vocabulary, increase its count.\n",
    "            bow[vocabulary[word]] += 1\n",
    "    return bow"
   ]
  },
  {
   "cell_type": "code",
   "execution_count": 72,
   "metadata": {},
   "outputs": [
    {
     "name": "stdout",
     "output_type": "stream",
     "text": [
      "[0, 0, 0, 0, 0, 0, 0, 0, 0, 0, 0, 0, 0, 0, 0, 0, 0, 0, 0, 0, 0, 0, 0, 0, 0, 0, 0, 0, 0, 0, 0, 0, 0, 0, 0, 0, 0, 0, 0, 0, 0, 0, 0, 0, 0, 0, 0, 0, 0, 0, 0, 0, 0, 0, 0, 0, 0, 0, 0, 0, 0, 0, 0, 0, 0, 0, 0, 0, 0, 0, 0, 0, 0, 0, 0, 0, 0, 0, 0, 0, 0, 0, 0, 0, 0, 0, 0, 0, 0, 0, 0, 0, 0, 0, 0, 0, 0, 0, 0, 0, 0, 0, 0, 0, 0, 0, 0, 0, 0, 0, 0, 0, 0, 0, 0, 0, 0, 0, 0, 0, 0, 0, 0, 0, 0, 0, 0, 0, 0, 0, 0, 0, 0, 0, 0, 0, 0, 0, 0, 0, 0, 0, 0, 0, 0, 0, 0, 0, 0, 0, 0, 0, 0, 0, 0, 0, 0, 0, 0, 0, 0, 0, 0, 0, 0, 0, 0, 0, 0, 0, 0, 0, 0, 0, 0, 0, 0, 0, 0, 0, 0, 0, 0, 0, 0, 0, 0, 0, 0, 0, 0, 0, 0, 0, 0, 0, 0, 0, 0, 0, 0, 0, 0, 0, 0, 0, 0, 0, 0, 0, 0, 0, 0, 0, 0, 0, 0, 0, 0, 0, 0, 0, 0, 0, 0, 0, 0, 1, 0, 0, 0, 0, 0, 0, 0, 0, 0, 0, 0, 0, 0, 0, 0, 0, 0, 0, 0, 0, 0, 0, 0, 0, 0, 0, 0, 0, 1, 0, 0, 0, 0, 0, 0, 0, 0, 0, 0, 0, 0, 0, 0, 0, 0, 0, 0, 0, 0, 0, 0, 0, 0, 0, 0, 0, 0, 0, 0, 0, 0, 0, 0, 0, 0, 0, 0, 0, 0, 0, 0, 0, 0, 0, 0, 0, 0, 0, 0, 0, 0, 0, 0, 0, 0, 0, 0, 0, 0, 0, 0, 0, 0, 0, 0, 0, 0, 0, 0, 0, 0, 0, 0, 0, 0, 0, 0, 0, 0, 0, 0, 0, 0, 0, 0, 0, 0, 0, 0, 0, 0, 0, 0, 0, 0, 0, 0, 0, 0, 0, 0, 0, 0, 0, 0, 0, 0, 0, 0, 0, 0, 0, 0, 0, 0, 0, 0, 0, 0, 0, 0, 0, 0, 0, 0, 0, 0, 0, 0, 0, 0, 0, 0, 0, 0, 0, 0, 0, 0, 0, 0, 0, 0, 0, 0, 0, 0, 0, 0, 0, 0, 0, 0, 0, 0, 0, 0, 0, 0, 0, 0, 0, 0, 0, 0, 0, 0, 0, 0, 0, 0, 0, 0, 0, 0, 0, 0, 0, 0, 0, 0, 0, 0, 0, 0, 0, 0, 0, 0, 0, 0, 0, 0, 0, 0, 0, 0, 0, 0, 0, 0, 0, 0, 0, 0, 0, 0, 0, 0, 0, 0, 0, 0, 0, 0, 0, 0, 0, 0, 0, 0, 0, 0, 0, 0, 0, 0, 0, 0, 0, 0, 0, 0, 0, 0, 0, 0, 0, 0, 0, 0, 0, 0, 0, 0, 0, 0, 0, 0, 0, 0, 0, 0, 0, 0, 0, 0, 0, 0, 0, 0, 0, 0, 0, 0, 0, 0, 0, 0, 0, 0, 0, 0, 0, 0, 0, 0, 0, 0, 0, 0, 0, 0, 0, 0, 0, 0, 0, 0, 0, 0, 0, 0, 0, 0, 0, 0, 0, 0, 0, 0, 0, 0, 0, 0, 0, 0, 0, 0, 0, 0, 0, 0, 0, 0, 0, 0, 0, 0, 0, 0, 0, 0, 0, 0, 0, 0, 0, 0, 0, 0, 0, 0, 0, 0, 0, 0, 0, 0, 0, 0, 0, 0, 0, 0, 0, 0, 0, 0, 0, 0, 0, 0, 0, 0, 0, 0, 0, 0, 0, 0, 0, 0, 0, 0, 0, 0, 0, 0, 0, 0, 0, 0, 0, 0, 0, 0, 0, 1, 0, 0, 0, 0, 0, 0, 0, 0, 0, 0, 0, 0, 0, 0, 0, 0, 0, 0, 0, 0, 0, 0, 0, 0, 0, 0, 0, 0, 0, 0, 0, 0, 0, 0, 0, 0, 0, 0, 0, 0, 0, 0, 0, 0, 0, 0, 0, 0, 0, 0, 0, 0, 0, 0, 0, 0, 0, 0, 0, 0, 0, 0, 0, 0, 0, 0, 0, 0, 0, 0, 0, 0, 0, 0, 0, 0, 0, 0, 0, 0, 0, 0, 0, 0, 0, 0, 0, 0, 0, 0, 0, 0, 0, 0, 0, 0, 0, 0, 0, 0, 0, 0, 0, 0, 0, 0, 0, 0, 0, 0, 0, 0, 0, 0, 0, 0, 0, 0, 0, 0, 0, 0, 0, 0, 0, 0, 0, 0, 0, 0, 0, 0, 0, 0, 0, 0, 0, 0, 0, 0, 0, 0, 0, 0, 0, 0, 0, 0, 0, 0, 0, 0, 0, 0, 0, 0, 0, 0, 0, 0, 0, 0, 0, 0, 0, 0, 0, 0, 0, 0, 0, 0, 0, 0, 0, 0, 0, 0, 0, 0, 0, 0, 0, 0, 0, 0, 0, 0, 0, 0, 0, 0, 0, 0, 0, 0, 0, 0, 0, 0, 0, 0, 0, 0, 0, 0, 0, 0, 0, 0, 0, 0, 0, 0, 0, 0, 0, 0, 0, 0, 0, 0, 0, 0, 0, 0, 0, 0, 0, 0, 0, 0, 0, 0, 0, 0, 0, 0, 0, 0, 0, 0, 0, 0, 0, 0, 0, 0, 0, 0, 0, 0, 0, 1, 0, 0, 0, 0, 0, 0, 0, 0, 0, 0, 0, 0, 0, 0, 0, 0, 0, 0, 0, 0, 0, 0, 0, 0, 0, 0, 0, 0, 0, 0, 0, 0, 0, 0, 0, 0, 0, 0, 0, 0, 0, 0, 0, 0, 0, 0, 0, 0, 0, 0, 0, 0, 0, 0, 0, 0, 0, 0, 0, 0, 0, 0, 0, 0, 0, 0, 0, 0, 0, 0, 0, 0, 0, 0, 0, 0, 0, 0, 0, 0, 0, 0, 0, 0, 0, 0, 0, 1, 0, 0, 0, 0, 0, 0, 0, 0, 0, 0, 0, 0, 0, 0, 0, 0, 0, 0, 0, 0, 0, 0, 0, 0, 0, 0, 0, 0, 0, 0, 0, 0, 0, 0, 0, 0, 0, 0, 0, 0, 0, 0, 0, 0, 0, 0, 0, 0, 0, 0, 0, 0, 0, 0, 0, 0, 0, 0, 0, 0, 0, 0, 0, 0, 0, 0, 0, 0, 0, 0, 0, 0, 0, 0, 0, 0, 0, 0, 0, 0, 0, 0, 0, 0, 0, 0, 0, 0, 0, 0, 0, 0, 0, 0, 0, 0, 0, 0, 0, 0, 0, 0, 0, 0, 0, 0, 0, 0, 0, 0, 0, 0, 0, 0, 0, 0, 0, 0, 0, 0, 0, 0, 0, 0, 0, 0, 0, 0, 0, 0, 0, 0, 0, 0, 0, 0, 0, 0, 0, 0, 0, 0, 0, 0, 0, 0, 0, 0, 0, 0, 0, 0, 0, 0, 0, 0, 0, 0, 0, 0, 0, 0, 0, 0, 0, 0, 0, 0, 0, 0, 0, 0, 0, 0, 0, 0, 0, 0, 0, 0, 0, 0, 0, 0, 0, 0, 0, 0, 0, 0, 0, 0, 0, 0, 0, 0, 0, 0, 0, 0, 0, 0, 0, 0, 0, 0, 0, 0, 0, 0, 0, 0, 0, 0, 0, 0, 0, 0, 0, 0, 0, 0, 0, 0, 0, 0, 0, 0, 0, 0, 0, 0, 0, 0, 0, 0, 0, 0, 0, 0, 0, 0, 0, 0, 0, 0, 0, 0, 0, 0, 0, 1, 0, 0, 0, 0, 0, 0, 0, 0, 0, 0, 0, 0, 0, 0, 0, 0, 0, 0, 0, 0, 0, 0, 0, 0, 0, 0, 0, 0, 0, 0, 0, 0, 0, 0, 0, 0, 0, 0, 0, 0, 0, 0, 0, 0, 0, 0, 0, 0, 0, 0, 0, 0, 0, 0, 0, 1, 0, 0, 0, 0, 0, 0, 0, 0, 0, 0, 0, 0, 0, 0, 0, 0, 0, 0, 0, 0, 0, 0, 0, 0, 0, 0, 0, 0, 0, 0, 0, 0, 0, 0, 0, 0, 0, 0, 0, 0, 0, 0, 0, 0, 0, 0, 0, 0, 0, 0, 0, 0, 0, 0, 0, 0, 0, 0, 0, 0, 0, 0, 0, 0, 0, 0, 0, 0, 0, 0, 0, 0, 0, 0, 0, 0, 0, 0, 0, 0, 0, 0, 0, 0, 0, 0, 0, 0, 0, 0, 0, 0, 0, 0, 0, 0, 0, 0, 0, 0, 0, 0, 0, 0, 0, 0, 0, 0, 0, 0, 0, 0, 0, 0, 0, 0, 0, 0, 0, 0, 0, 0, 0, 0, 0, 0, 0, 0, 0, 0, 0, 0, 0, 0, 0, 0, 0, 0, 0, 0, 0, 0, 0, 0, 0, 0, 0, 0, 0, 0, 0, 0, 0, 0, 0, 0, 0, 0, 0, 0, 0, 0, 0, 0, 0, 0, 0, 0, 0, 0, 0, 0, 0, 0, 0, 0, 0, 0, 0, 0, 0, 0, 0, 0, 0, 0, 0, 0, 0, 0, 0, 0, 0, 0, 0, 0, 0, 0, 0, 0, 0, 0, 0, 0, 0, 0, 0, 0, 0, 0, 0, 0, 0, 0, 0, 0, 0, 0, 0, 0, 0, 0, 0, 0, 0, 0, 0, 0, 0, 0, 0, 0, 0, 0, 0, 0, 0, 0, 0, 0, 0, 0, 0, 0, 0, 0, 0, 0, 0, 0, 0, 0, 0, 0, 0, 0, 0, 0, 0, 0, 0, 0, 0, 0, 0, 0, 0, 0, 0, 0, 0, 0, 0, 0, 0, 0, 0, 0, 0, 0, 0, 0, 0, 0, 0, 0, 0, 0, 0, 0, 0, 0, 0, 0, 0, 0, 0, 0, 0, 0, 0, 0, 0, 0, 0, 0, 0, 0, 0, 0, 0, 0, 0, 0, 0, 0, 0, 0, 0, 0, 0, 0, 0, 0, 0, 0, 0, 0, 0, 0, 0, 0, 0, 0, 0, 0, 0, 0, 0, 0, 0, 0, 0, 0, 0, 0, 0, 0, 0, 0, 0, 0, 0, 0, 0, 0, 0, 0, 0, 0, 0, 0, 0, 0, 0, 0, 0, 0, 0, 0, 0, 0, 0, 0, 0, 0, 0, 0, 0, 0, 0, 0, 0, 0, 0, 0, 0, 0, 0, 0, 0, 0, 0, 0, 0, 0, 0, 0, 0, 0, 0, 0, 0, 0, 0, 0, 0, 0, 0, 0, 0, 0, 0, 0, 0, 0, 0, 0, 0, 0, 0, 0, 0, 0, 0, 0, 0, 0, 0, 0, 0, 0, 0, 0, 0, 0, 0, 0, 0, 0, 0, 0, 0, 0, 0, 0, 0, 0, 0, 0, 0, 0, 0, 0, 0, 0, 0, 0, 0, 0, 0, 0, 0, 0, 0, 0, 0, 0, 0, 0, 0, 0, 0, 0, 0, 0, 0, 0, 0, 0, 0, 0, 0, 0, 0, 0, 0, 0, 0, 0, 0, 0, 0, 0, 0, 0, 0, 0, 0, 0, 0, 0, 0, 0, 0, 0, 0, 0, 0, 0, 0, 0, 0, 0, 0, 0, 0, 0, 0, 0, 0, 0, 0, 0, 0, 0, 0, 0, 0, 0, 0, 0, 0, 0, 0, 0, 0, 0, 0, 0, 0, 0, 0, 0, 0, 0, 0, 0, 0, 0, 0, 0, 0, 0, 0, 0, 0, 0, 0, 0, 0, 0, 0, 0, 0, 0, 0, 0, 0, 0, 0, 0, 0, 0, 0, 0, 0, 0, 0, 0, 0, 0, 0, 0, 0, 0, 0, 0, 0, 0, 0, 0, 0, 0, 0, 0, 0, 0, 0, 0, 0, 0, 0, 0, 0, 0, 0, 0, 0, 0, 0, 0, 0, 0, 0, 0, 0, 0, 0, 0, 0, 0, 0, 0, 0, 0, 0, 0, 0, 0, 0, 0, 0, 0, 0, 0, 0, 0, 0, 0, 0, 0, 0, 0, 0, 0, 0, 0, 0, 0, 0, 0, 0, 0, 0, 0, 0, 0, 0, 0, 0, 0, 0, 0, 0, 0, 0, 0, 0, 0, 0, 0, 0, 0, 0, 0, 0, 0, 0, 0, 0, 0, 1, 0, 0, 0, 0, 0, 0, 0, 0, 0, 0, 0, 0, 0, 0, 0, 0, 0, 0, 0, 0, 0, 0, 0, 0, 0, 0, 0, 0, 0, 0, 0, 0, 0, 0, 0, 0, 0, 0, 0, 0, 0, 0, 0, 0, 0, 0, 0, 0, 0, 0, 0, 0, 0, 0, 0, 0, 0, 0, 0, 0, 0, 0, 0, 0, 0, 0, 0, 0, 0, 0, 0, 0, 0, 0, 1, 0, 0, 0, 0, 0, 0, 0, 0, 0, 0, 0, 0, 0, 0, 0, 0, 0, 0, 0, 0, 1, 0, 0, 1, 0, 0, 0, 0, 0, 0, 0, 0, 0, 0, 0, 0, 0, 0, 0, 0, 0, 0, 0, 0, 0, 0, 0, 0, 0, 0, 0, 0, 0, 0, 0, 0, 0, 0, 0, 0, 0, 0, 0, 0, 0, 0, 0, 0, 0, 0, 0, 0, 0, 0, 0, 0, 0, 0, 0, 0, 0, 0, 0, 0, 0, 0, 0, 0, 0, 0, 0, 0, 0, 0, 0, 0, 0, 0, 0, 0, 0, 0, 0, 0, 0, 0, 0, 0, 0, 0, 0, 0, 0, 0, 0, 0, 0, 0, 0, 0, 0, 0, 0, 0, 0, 0, 0, 0, 0, 0, 0, 0, 0, 0, 0, 0, 0, 0, 0, 0, 0, 0, 0, 0, 0, 0, 0, 0, 0, 0, 0, 0, 0, 0, 0, 0, 0, 0, 0, 0, 0, 0, 0, 0, 0, 0, 0, 0, 0, 0, 0, 0, 0, 0, 0, 0, 0, 0, 0, 0, 0, 0, 0, 0, 0, 0, 0, 0, 0, 0, 0, 0, 0, 0, 0, 0, 0, 0, 0, 0, 0, 0, 0, 0, 0, 0, 0, 0, 0, 0, 0, 0, 0, 0, 0, 0, 0, 0, 0, 0, 0, 0, 0, 0, 0, 0, 0, 0, 0, 0, 0, 0, 0, 0, 0, 0, 0, 0, 0, 0, 0, 0, 0, 0, 0, 0, 0, 0, 0, 0, 0, 0, 0, 0, 0, 0, 0, 0, 0, 0, 0, 0, 0, 0, 0, 0, 0, 0, 0, 0, 0, 0, 0, 0, 0, 0, 0, 0, 0, 0, 0, 0, 0, 0, 0, 0, 0, 0, 0, 0, 0, 0, 0, 0, 0, 0, 0, 0, 0, 0, 0, 0, 0, 0, 0, 0, 0, 0, 0, 0, 0, 0, 0, 0, 0, 0, 0, 0, 0, 0, 0, 0, 0, 0, 0, 0, 0, 0, 0, 0, 0, 0, 0, 0, 0, 0, 0, 0, 0, 0, 0, 0, 0, 0, 0, 0, 0, 0, 0, 0, 0, 0, 0, 0, 0, 0, 0, 0, 0, 0, 0, 0, 0, 0, 0, 0, 0, 0, 0, 0, 0, 0, 0, 0, 0, 0, 0, 0, 0, 0, 0, 0, 0, 0, 0, 0, 0, 0, 0, 0, 0, 0, 0, 0, 0, 0, 0, 0, 0, 0, 0, 0, 0, 0, 0, 0, 0, 0, 0, 0, 0, 0, 0, 0, 0, 0, 0, 0, 0, 0, 0, 0, 0, 0, 0, 0, 0, 0, 0, 0, 0, 0, 0, 0, 0, 0, 0, 0, 0, 0, 0, 0, 0, 0, 0, 0, 0, 0, 0, 0, 0, 0, 0, 0, 0, 0, 0, 0, 0, 0, 0, 0, 0, 0, 0, 0, 0, 0, 0, 0, 0, 0, 0, 0, 0, 0, 0, 0, 0, 0, 0, 0, 0, 0, 0, 0, 0, 0, 0, 1, 0, 0, 0, 0, 0, 0, 0, 0, 0, 0, 0, 0, 0, 0, 0, 0, 0, 0, 0, 0, 0, 0, 0, 0, 0, 0, 0, 0, 0, 0, 0, 0, 0, 0, 0, 0, 0, 0, 0, 0, 0, 0, 0, 0, 0, 0, 0, 0, 0, 0, 0, 0, 0, 0, 0, 0, 0, 0, 0, 0, 0, 0, 0, 0, 0, 0, 0, 0, 0, 0, 0, 0, 0, 0, 0, 0, 0, 0, 0, 0, 0, 0, 0, 0, 0, 0, 0, 0, 0, 0, 0, 0, 0, 0, 0, 0, 0, 0, 0, 0, 0, 0, 0, 0, 0, 0, 0, 0, 0, 0, 0, 0, 0, 0, 0, 0, 0, 0, 0, 0, 0, 0, 0, 0, 0, 0, 0, 0, 0, 0, 0, 0, 0, 0, 0, 0, 0, 0, 0, 0, 0, 0, 0, 0, 0, 0, 0, 0, 0, 0, 0, 0, 0, 0, 0, 0, 0, 0, 0, 0, 0, 0, 0, 0, 0, 0, 0, 0, 0, 0, 0, 0, 0, 0, 0, 0, 0, 0, 0, 0, 0, 0, 0, 0, 0, 0, 0, 0, 0, 0, 0, 0, 0, 0, 0, 0, 0, 0, 0, 0, 0, 0, 0, 0, 0, 0, 0, 0, 0, 0, 0, 0, 0, 0, 0, 0, 0, 0, 0, 0, 0, 0, 0, 0, 0, 0, 0, 0, 0, 0, 0, 0, 0, 0, 0, 0, 0, 0, 0, 0, 0, 0, 0, 0, 0, 0, 0, 0, 0, 0, 0, 0, 0, 0, 0, 0, 0, 0, 0, 0, 0, 0, 0, 0, 0, 0, 0, 0, 0, 0, 0, 0, 0, 0, 0, 0, 0, 0, 0, 0, 0, 0, 0, 0, 0, 0, 0, 0, 0, 0, 0, 0, 0, 0, 0, 0, 0, 0, 0, 0, 0, 0, 0, 0, 0, 0, 0, 0, 0, 0, 0, 0, 0, 0, 0, 0, 0, 0, 0, 0, 0, 0, 0, 0, 0, 0, 0, 0, 0, 0, 0, 0, 0, 0, 0, 0, 0, 0, 0, 0, 0, 0, 0, 0, 0, 0, 0, 0, 0, 0, 0, 0, 0, 0, 0, 0, 0, 0, 0, 0, 0, 0, 0, 0, 0, 0, 0, 0, 0, 0, 0, 0, 0, 0, 0, 0, 0, 0, 0, 0, 0, 0, 0, 0, 0, 0, 0, 0, 0, 0, 0, 0, 0, 0, 0, 0, 0, 0, 0, 0, 0, 0, 0, 0, 0, 0, 0, 0, 0, 0, 0, 0, 0, 0, 0, 0, 0, 0, 0, 0, 0, 0, 0, 0, 0, 0, 0, 0, 0, 0, 0, 0, 0, 0, 0, 0, 0, 0, 0, 0, 0, 0, 0, 0, 0, 0, 0, 0, 0, 0, 0, 0, 0, 0, 0, 0, 0, 0, 0, 0, 0, 0, 0, 0, 0, 0, 0, 0, 0, 0, 0, 0, 0, 0, 0, 0, 0, 0, 0, 0, 0, 0, 0, 0, 0, 0, 0, 0, 0, 0, 0, 0, 0, 0, 0, 0, 0, 0, 0, 0, 0, 0, 0, 0, 0, 0, 0, 0, 0, 0, 0, 0, 0, 1, 0, 0, 0, 0, 0, 0, 0, 0, 0, 0, 0, 0, 0, 0, 0, 0, 0, 0, 0, 0, 0, 0, 0, 0, 0, 0, 0, 0, 0, 0, 0, 0, 0, 0, 0, 2, 0, 0, 0, 0, 0, 0, 0, 0, 0, 0, 0, 0, 0, 0, 0, 0, 0, 0, 0, 0, 0, 0, 0, 0, 0, 0, 0, 0, 0, 0, 0, 0, 0, 0, 0, 0, 0, 0, 0, 0, 1, 0, 0, 0, 0, 0, 0, 0, 0, 0, 0, 0, 0, 0, 0, 0, 0, 0, 0, 0, 0, 0, 0, 0, 0, 0, 0, 0, 0, 0, 0, 0, 0, 0, 0, 0, 0, 0, 0, 0, 0, 0, 0, 0, 0, 0, 0, 0, 0, 0, 0, 0, 0, 0, 0, 0, 0, 0, 0, 0, 0, 0, 0, 0, 0, 0, 0, 0, 0, 0, 0, 0, 0, 0, 0, 0, 0, 0, 0, 0, 0, 0, 0, 0, 0, 0, 0, 0, 0, 0, 0, 0, 0, 0, 0, 0, 0, 0, 0, 0, 0, 0, 0, 0, 0, 0, 0, 0, 0, 0, 0, 0, 0, 0, 0, 0, 0, 0, 0, 0, 0, 0, 0, 0, 0, 0, 0, 0, 0, 0, 0, 0, 0, 0, 0, 0, 0, 0, 0, 0, 0, 0, 0, 0, 0, 0, 0, 0, 0, 0, 0, 0, 0, 0, 0, 0, 0, 0, 0, 0, 0, 0, 0, 0, 0, 0, 0, 0, 0, 0, 0, 0, 0, 0, 0, 0, 0, 0, 0, 0, 0, 0, 0, 0, 0, 0, 0, 0, 0, 0, 0, 0, 0, 0, 0, 0, 0, 0, 0, 0, 0, 0, 0, 0, 0, 0, 0, 0, 0, 0, 0, 0, 0, 0, 0, 0, 0, 0, 0, 0, 0, 0, 0, 0, 0, 0, 0, 0, 0, 0, 0, 0, 0, 0, 0, 0, 0, 0, 0, 0, 0, 0, 0, 0, 0, 0, 0, 0, 0, 0, 0, 0, 0, 0, 0, 0, 0, 0, 0, 0, 0, 0, 0, 0, 0, 0, 0, 0, 0, 0, 0, 0, 0, 0, 0, 0, 0, 0, 0, 0, 0, 0, 0, 0, 0, 0, 0, 0, 0, 0, 0, 0, 0, 0, 0, 0, 0, 0, 0, 0, 0, 0, 0, 0, 0, 0, 0, 0, 0, 0, 0, 0, 0, 0, 0, 0, 0, 0, 0, 0, 0, 0, 0, 0, 0, 0, 0, 0, 0, 0, 0, 0, 0, 0, 0, 0, 0, 0, 0, 0, 0, 0, 0, 0, 0, 0, 0, 0, 0, 0, 0, 0, 0, 0, 0, 0, 0, 0, 0, 0, 0, 0, 0, 0, 0, 0, 0, 0, 0, 0, 0, 0, 0, 0, 0, 0, 0, 0, 0, 0, 0, 0, 0, 0, 0, 0, 0, 0, 0, 0, 0, 0, 0, 0, 0, 0, 0, 0, 0, 0, 0, 0, 0, 0, 0, 0, 0, 0, 0, 0, 0, 0, 0, 0, 0, 0, 0, 0, 0, 0, 0, 0, 0, 0, 0, 0, 0, 0, 0, 0, 0, 0, 0, 0, 0, 0, 0, 0, 0, 0, 0, 0, 0, 0, 0, 0, 0, 0, 0, 0, 0, 0, 0, 0, 0, 0, 0, 0, 0, 0, 0, 0, 0, 0, 0, 0, 0, 0, 0, 0, 0, 0, 0, 0, 0, 0, 0, 0, 0, 0, 0, 0, 0, 0, 0, 0, 0, 0, 0, 0, 0, 0, 0, 0, 0, 0, 0, 0, 0, 1, 0, 0, 0, 0, 0, 0, 0, 0, 0, 0, 0, 0, 0, 0, 0, 0, 0, 0, 0, 0, 0, 0, 0, 0, 0, 0, 0, 0, 0, 0, 0, 0, 0, 0, 0, 0, 0, 0, 0, 0, 0, 0, 0, 0, 0, 0, 0, 0, 0, 0, 0, 0, 0, 0, 0, 0, 0, 0, 0, 0, 0, 0, 0, 0, 0, 0, 0, 0, 0, 0, 0, 0, 0, 0, 0, 0, 0, 0, 0, 0, 0, 0, 0, 0, 0, 0, 0, 0, 0, 0, 0, 0, 0, 0, 0, 0, 0, 0, 0, 0, 0, 0, 0, 0, 0, 0, 0, 0, 0, 2, 0, 0, 0, 0, 0, 0, 0, 0, 0, 0, 0, 0, 0, 0, 0, 0, 0, 0, 0, 0, 0, 0, 0, 0, 0, 0, 0, 0, 0, 0, 0, 0, 0, 0, 0, 0, 0, 0, 0, 0, 0, 0, 0, 0, 0, 0, 0, 0, 0, 0, 0, 0, 0, 0, 0, 0, 0, 0, 0, 0, 0, 0, 0, 0, 0, 0, 0, 0, 0, 0, 0, 0, 0, 0, 0, 0, 0, 0, 0, 0, 0, 0, 0, 0, 0, 0, 0, 0, 0, 0, 0, 0, 0, 0, 0, 0, 0, 0, 0, 0, 0, 0, 0, 0, 0, 0, 0, 0, 0, 0, 0, 0, 0, 0, 0, 0, 0, 0, 0, 0, 0, 0, 0, 0, 0, 0, 0, 0, 0, 0, 0, 0, 0, 0, 0, 0, 0, 0, 0, 0, 0, 0, 0, 0, 0, 0, 0, 0, 0, 0, 0, 0, 0, 0, 0, 0, 0, 0, 0, 0, 0, 0, 0, 0, 0, 0, 0, 0, 0, 0, 0, 0, 0, 0, 0, 0, 0, 0, 0, 0, 0, 0, 0, 0, 0, 0, 0, 0, 0, 0, 0, 0, 0, 0, 0, 0, 0, 0, 0, 0, 0, 0, 0, 0, 0, 0, 0, 0, 0, 0, 0, 0, 0, 0, 0, 0, 0, 0, 0, 0, 0, 0, 0, 0, 0, 0, 0, 0, 0, 0, 0, 0, 0, 0, 0, 0, 0, 0, 0, 0, 0, 0, 0, 0, 0, 0, 0, 0, 0, 0, 0, 0, 0, 0, 0, 0, 0, 0, 0, 0, 0, 0, 0, 0, 0, 0, 0, 0, 0, 0, 0, 0, 0, 0, 0, 0, 0, 0, 0, 0, 0, 0, 0, 0, 0, 0, 0, 0, 0, 0, 0, 0, 0, 0, 0, 0, 0, 0, 0, 0, 0, 0, 0, 0, 0, 0, 0, 0, 0, 0, 0, 0, 0, 0, 0, 0, 0, 0, 0, 0, 0, 0, 0, 0, 0, 0, 0, 0, 0, 0, 0, 0, 0, 0, 0, 0, 0, 0, 0, 0, 0, 0, 0, 0, 0, 0, 0, 0, 0, 0, 0, 0, 0, 0, 0, 0, 0, 0, 0, 0, 0, 0, 0, 0, 0, 0, 0, 0, 0, 0, 0, 0, 0, 0, 0, 0, 0, 0, 0, 0, 0, 0, 0, 0, 0, 0, 0, 0, 0, 0, 0, 0, 0, 0, 0, 0, 0, 0, 0, 0, 0, 0, 0, 0, 0, 0, 0, 0, 0, 0, 0, 0, 0, 0, 0, 0, 0, 0, 0, 0, 0, 0, 0, 0, 0, 0, 0, 0, 0, 0, 0, 0, 0, 0, 0, 0, 0, 0, 0, 0, 0, 0, 0, 0, 0, 0, 0, 0, 0, 0, 0, 0, 0, 0, 0, 0, 0, 0, 0, 0, 0, 0, 0, 0, 0, 0, 0, 0, 0, 0, 0, 0, 0, 0, 0, 0, 0, 0, 0, 0, 0, 0, 0, 0, 0, 0, 0, 0, 0, 0, 0, 0, 0, 0, 0, 0, 0, 0, 0, 0, 0, 0, 0, 0, 0, 0, 0, 0, 0, 0, 0, 0, 0, 0, 0, 0, 0, 0, 0, 0, 0, 0, 0, 0, 0, 0, 0, 0, 0, 0, 0, 0, 0, 0, 0, 0, 0, 0, 0, 0, 0, 0, 0, 0, 0, 0, 0, 0, 0, 0, 0, 0, 0, 0, 0, 0, 0, 0, 0, 0, 0, 0, 0, 0, 0, 0, 0, 0, 0, 0, 0, 0, 0, 0, 0, 0, 0, 0, 0, 0, 0, 0, 0, 0, 0, 0, 0, 0, 0, 0, 0, 0, 0, 0, 0, 0, 0, 0, 0, 0, 0, 0, 0, 0, 0, 0, 0, 0, 0, 0, 0, 0, 0, 0, 0, 0, 0, 0, 0, 0, 0, 0, 0, 0, 0, 0, 0, 0, 0, 0, 0, 0, 0, 0, 0, 0, 0, 0, 0, 0, 0, 0, 0, 0, 0, 0, 0, 0, 0, 0, 0, 0, 0, 0, 0, 0, 0, 0, 0, 0, 0, 0, 0, 0, 0, 0, 0, 0, 0, 0, 0, 0, 0, 0, 0, 0, 0, 0, 0, 0, 0, 0, 0, 0, 0, 0, 0, 0, 1, 0, 0, 0, 0, 0, 0, 0, 0, 0, 0, 0, 0, 0, 0, 0, 0, 0, 0, 0, 0, 0, 0, 0, 0, 0, 0, 0, 0, 0, 0, 0, 0, 0, 0, 0, 0, 0, 0, 0, 0, 0, 0, 0, 0, 0, 0, 0, 0, 0, 0, 0, 0, 0, 0, 0, 0, 0, 0, 0, 0, 0, 0, 0, 0, 0, 0, 0, 0, 0, 0, 0, 0, 0, 0, 0, 0, 0, 0, 0, 0, 0, 0, 0, 0, 0, 0, 0, 0, 0, 0, 0, 0, 0, 0, 0, 0, 0, 0, 0, 0, 0, 0, 0, 0, 0, 0, 0, 1, 0, 0, 0, 0, 0, 0, 0, 0, 0, 0, 0, 0, 0, 0, 0, 0, 0, 0, 0, 0, 0, 0, 0, 0, 0, 0, 0, 0, 0, 0, 0, 0, 0, 0, 0, 0, 0, 0, 0, 0, 0, 0, 0, 0, 0, 0, 0, 0, 0, 0, 0, 0, 0, 0, 0, 0, 0, 0, 0, 0, 0, 0, 0, 0, 0, 0, 0, 0, 0, 0, 0, 0, 0, 0, 0, 0, 0, 0, 0, 0, 0, 0, 0, 0, 0, 0, 0, 0, 0, 0, 0, 0, 0, 0, 0, 0, 0, 0, 0, 0, 0, 0, 0, 0, 0, 0, 0, 0, 0, 0, 0, 0, 0, 0, 0, 0, 0, 0, 0, 0, 0, 0, 0, 0, 0, 0, 0, 0, 0, 0, 0, 0, 0, 0, 0, 0, 0, 0, 0, 0, 0, 0, 0, 0, 0, 0, 0, 0, 0, 0, 0, 0, 0, 0, 0, 0, 0, 0, 0, 0, 0, 0, 0, 0, 0, 0, 0, 0, 0, 0, 0, 0, 0, 0, 0, 0, 0, 0, 0, 0, 0, 0, 0, 0, 0, 0, 0, 0, 0, 0, 0, 0, 0, 0, 0, 0, 0, 0, 0, 0, 0, 0, 0, 0, 0, 0, 0, 0, 0, 0, 0, 0, 0, 0, 0, 0, 0, 0, 0, 0, 0, 0, 0, 0, 0, 0, 0, 0, 0, 0, 0, 0, 0, 0, 0, 0, 0, 0, 0, 0, 0, 0, 0, 0, 0, 0, 0, 0, 0, 0, 0, 0, 0, 0, 0, 0, 0, 0, 0, 0, 0, 0, 0, 0, 0, 0, 0, 0, 0, 0, 0, 0, 0, 0, 0, 0, 0, 0, 0, 0, 0, 0, 0, 0, 0, 0, 0, 0, 0, 0, 0, 0, 0, 0, 0, 0, 0, 0, 0, 0, 0, 0, 0, 0, 0, 0, 0, 0, 0, 0, 0, 0, 0, 0, 0, 0, 0, 0, 0, 0, 0, 0, 0, 0, 0, 0, 0, 0, 0, 0, 0, 0, 0, 0, 0, 0, 0, 0, 0, 0, 0, 0, 0, 0, 0, 0, 0, 0, 0, 0, 0, 0, 0, 0, 0, 0, 0, 0, 0, 0, 0, 0, 0, 0, 0, 0, 0, 0, 0, 0, 0, 0, 0, 0, 0, 0, 0, 0, 0, 0, 0, 0, 0, 0, 0, 0, 0, 0, 0, 0, 0, 0, 0, 0, 0, 0, 0, 0, 0, 0, 0, 0, 0, 0, 0, 0, 0, 0, 0, 0, 0, 0, 0, 0, 0, 0, 0, 0, 0, 0, 0, 0, 0, 0, 0, 0, 0, 0, 0, 0, 0, 0, 0, 0, 0, 0, 0, 0, 0, 0, 0, 0, 0, 0, 0, 0, 0, 0, 0, 0, 0, 0, 0, 0, 0, 0, 0, 0, 0, 0, 0, 0, 0, 0, 2, 0, 1, 0]\n"
     ]
    }
   ],
   "source": [
    "test_bow = bow_encoding(test_words, vocabulary)\n",
    "print(test_bow)"
   ]
  },
  {
   "cell_type": "code",
   "execution_count": 73,
   "metadata": {},
   "outputs": [
    {
     "data": {
      "text/plain": [
       "5000"
      ]
     },
     "execution_count": 73,
     "metadata": {},
     "output_type": "execute_result"
    }
   ],
   "source": [
    "len(test_bow)"
   ]
  },
  {
   "cell_type": "markdown",
   "metadata": {},
   "source": [
    "So now we know how to construct a bag of words encoding of a user provided review, how to we send it to our endpoint? First, we need to start the endpoint back up."
   ]
  },
  {
   "cell_type": "code",
   "execution_count": 74,
   "metadata": {},
   "outputs": [
    {
     "name": "stderr",
     "output_type": "stream",
     "text": [
      "Parameter image will be renamed to image_uri in SageMaker Python SDK v2.\n",
      "Using already existing model: xgboost-2020-10-03-19-35-37-565\n"
     ]
    },
    {
     "name": "stdout",
     "output_type": "stream",
     "text": [
      "-------------!"
     ]
    }
   ],
   "source": [
    "xgb_predictor = xgb.deploy(initial_instance_count = 1, instance_type = 'ml.m4.xlarge')"
   ]
  },
  {
   "cell_type": "markdown",
   "metadata": {},
   "source": [
    "At this point we could just do the same thing that we did earlier when we tested our deployed model and send `test_bow` to our endpoint using the `xgb_predictor` object. However, when we eventually construct our Lambda function we won't have access to this object, so how do we call a SageMaker endpoint?\n",
    "\n",
    "It turns out that Python functions that are used in Lambda have access to another Amazon library called `boto3`. This library provides an API for working with Amazon services, including SageMaker. To start with, we need to get a handle to the SageMaker runtime."
   ]
  },
  {
   "cell_type": "code",
   "execution_count": 75,
   "metadata": {},
   "outputs": [],
   "source": [
    "import boto3\n",
    "\n",
    "runtime = boto3.Session().client('sagemaker-runtime')"
   ]
  },
  {
   "cell_type": "markdown",
   "metadata": {},
   "source": [
    "And now that we have access to the SageMaker runtime, we can ask it to make use of (invoke) an endpoint that has already been created. However, we need to provide SageMaker with the name of the deployed endpoint. To find this out we can print it out using the `xgb_predictor` object."
   ]
  },
  {
   "cell_type": "code",
   "execution_count": 76,
   "metadata": {},
   "outputs": [
    {
     "data": {
      "text/plain": [
       "'xgboost-2020-10-03-19-35-37-565'"
      ]
     },
     "execution_count": 76,
     "metadata": {},
     "output_type": "execute_result"
    }
   ],
   "source": [
    "xgb_predictor.endpoint"
   ]
  },
  {
   "cell_type": "markdown",
   "metadata": {},
   "source": [
    "Using the SageMaker runtime and the name of our endpoint, we can invoke the endpoint and send it the `test_bow` data."
   ]
  },
  {
   "cell_type": "code",
   "execution_count": 77,
   "metadata": {},
   "outputs": [
    {
     "ename": "ParamValidationError",
     "evalue": "Parameter validation failed:\nInvalid type for parameter Body, value: [0, 0, 0, 0, 0, 0, 0, 0, 0, 0, 0, 0, 0, 0, 0, 0, 0, 0, 0, 0, 0, 0, 0, 0, 0, 0, 0, 0, 0, 0, 0, 0, 0, 0, 0, 0, 0, 0, 0, 0, 0, 0, 0, 0, 0, 0, 0, 0, 0, 0, 0, 0, 0, 0, 0, 0, 0, 0, 0, 0, 0, 0, 0, 0, 0, 0, 0, 0, 0, 0, 0, 0, 0, 0, 0, 0, 0, 0, 0, 0, 0, 0, 0, 0, 0, 0, 0, 0, 0, 0, 0, 0, 0, 0, 0, 0, 0, 0, 0, 0, 0, 0, 0, 0, 0, 0, 0, 0, 0, 0, 0, 0, 0, 0, 0, 0, 0, 0, 0, 0, 0, 0, 0, 0, 0, 0, 0, 0, 0, 0, 0, 0, 0, 0, 0, 0, 0, 0, 0, 0, 0, 0, 0, 0, 0, 0, 0, 0, 0, 0, 0, 0, 0, 0, 0, 0, 0, 0, 0, 0, 0, 0, 0, 0, 0, 0, 0, 0, 0, 0, 0, 0, 0, 0, 0, 0, 0, 0, 0, 0, 0, 0, 0, 0, 0, 0, 0, 0, 0, 0, 0, 0, 0, 0, 0, 0, 0, 0, 0, 0, 0, 0, 0, 0, 0, 0, 0, 0, 0, 0, 0, 0, 0, 0, 0, 0, 0, 0, 0, 0, 0, 0, 0, 0, 0, 0, 0, 1, 0, 0, 0, 0, 0, 0, 0, 0, 0, 0, 0, 0, 0, 0, 0, 0, 0, 0, 0, 0, 0, 0, 0, 0, 0, 0, 0, 0, 1, 0, 0, 0, 0, 0, 0, 0, 0, 0, 0, 0, 0, 0, 0, 0, 0, 0, 0, 0, 0, 0, 0, 0, 0, 0, 0, 0, 0, 0, 0, 0, 0, 0, 0, 0, 0, 0, 0, 0, 0, 0, 0, 0, 0, 0, 0, 0, 0, 0, 0, 0, 0, 0, 0, 0, 0, 0, 0, 0, 0, 0, 0, 0, 0, 0, 0, 0, 0, 0, 0, 0, 0, 0, 0, 0, 0, 0, 0, 0, 0, 0, 0, 0, 0, 0, 0, 0, 0, 0, 0, 0, 0, 0, 0, 0, 0, 0, 0, 0, 0, 0, 0, 0, 0, 0, 0, 0, 0, 0, 0, 0, 0, 0, 0, 0, 0, 0, 0, 0, 0, 0, 0, 0, 0, 0, 0, 0, 0, 0, 0, 0, 0, 0, 0, 0, 0, 0, 0, 0, 0, 0, 0, 0, 0, 0, 0, 0, 0, 0, 0, 0, 0, 0, 0, 0, 0, 0, 0, 0, 0, 0, 0, 0, 0, 0, 0, 0, 0, 0, 0, 0, 0, 0, 0, 0, 0, 0, 0, 0, 0, 0, 0, 0, 0, 0, 0, 0, 0, 0, 0, 0, 0, 0, 0, 0, 0, 0, 0, 0, 0, 0, 0, 0, 0, 0, 0, 0, 0, 0, 0, 0, 0, 0, 0, 0, 0, 0, 0, 0, 0, 0, 0, 0, 0, 0, 0, 0, 0, 0, 0, 0, 0, 0, 0, 0, 0, 0, 0, 0, 0, 0, 0, 0, 0, 0, 0, 0, 0, 0, 0, 0, 0, 0, 0, 0, 0, 0, 0, 0, 0, 0, 0, 0, 0, 0, 0, 0, 0, 0, 0, 0, 0, 0, 0, 0, 0, 0, 0, 0, 0, 0, 0, 0, 0, 0, 0, 0, 0, 0, 0, 0, 0, 0, 0, 0, 0, 0, 0, 0, 0, 0, 0, 0, 0, 0, 0, 0, 0, 0, 0, 0, 0, 0, 0, 0, 0, 0, 0, 0, 0, 0, 0, 0, 0, 0, 0, 0, 0, 0, 0, 0, 0, 0, 0, 0, 0, 0, 0, 0, 0, 0, 0, 0, 0, 0, 0, 0, 0, 0, 0, 0, 0, 0, 0, 0, 0, 0, 0, 0, 0, 0, 0, 0, 0, 0, 0, 0, 0, 0, 0, 0, 0, 0, 0, 0, 0, 0, 0, 0, 1, 0, 0, 0, 0, 0, 0, 0, 0, 0, 0, 0, 0, 0, 0, 0, 0, 0, 0, 0, 0, 0, 0, 0, 0, 0, 0, 0, 0, 0, 0, 0, 0, 0, 0, 0, 0, 0, 0, 0, 0, 0, 0, 0, 0, 0, 0, 0, 0, 0, 0, 0, 0, 0, 0, 0, 0, 0, 0, 0, 0, 0, 0, 0, 0, 0, 0, 0, 0, 0, 0, 0, 0, 0, 0, 0, 0, 0, 0, 0, 0, 0, 0, 0, 0, 0, 0, 0, 0, 0, 0, 0, 0, 0, 0, 0, 0, 0, 0, 0, 0, 0, 0, 0, 0, 0, 0, 0, 0, 0, 0, 0, 0, 0, 0, 0, 0, 0, 0, 0, 0, 0, 0, 0, 0, 0, 0, 0, 0, 0, 0, 0, 0, 0, 0, 0, 0, 0, 0, 0, 0, 0, 0, 0, 0, 0, 0, 0, 0, 0, 0, 0, 0, 0, 0, 0, 0, 0, 0, 0, 0, 0, 0, 0, 0, 0, 0, 0, 0, 0, 0, 0, 0, 0, 0, 0, 0, 0, 0, 0, 0, 0, 0, 0, 0, 0, 0, 0, 0, 0, 0, 0, 0, 0, 0, 0, 0, 0, 0, 0, 0, 0, 0, 0, 0, 0, 0, 0, 0, 0, 0, 0, 0, 0, 0, 0, 0, 0, 0, 0, 0, 0, 0, 0, 0, 0, 0, 0, 0, 0, 0, 0, 0, 0, 0, 0, 0, 0, 0, 0, 0, 0, 0, 0, 0, 0, 0, 0, 0, 0, 0, 0, 0, 0, 1, 0, 0, 0, 0, 0, 0, 0, 0, 0, 0, 0, 0, 0, 0, 0, 0, 0, 0, 0, 0, 0, 0, 0, 0, 0, 0, 0, 0, 0, 0, 0, 0, 0, 0, 0, 0, 0, 0, 0, 0, 0, 0, 0, 0, 0, 0, 0, 0, 0, 0, 0, 0, 0, 0, 0, 0, 0, 0, 0, 0, 0, 0, 0, 0, 0, 0, 0, 0, 0, 0, 0, 0, 0, 0, 0, 0, 0, 0, 0, 0, 0, 0, 0, 0, 0, 0, 0, 1, 0, 0, 0, 0, 0, 0, 0, 0, 0, 0, 0, 0, 0, 0, 0, 0, 0, 0, 0, 0, 0, 0, 0, 0, 0, 0, 0, 0, 0, 0, 0, 0, 0, 0, 0, 0, 0, 0, 0, 0, 0, 0, 0, 0, 0, 0, 0, 0, 0, 0, 0, 0, 0, 0, 0, 0, 0, 0, 0, 0, 0, 0, 0, 0, 0, 0, 0, 0, 0, 0, 0, 0, 0, 0, 0, 0, 0, 0, 0, 0, 0, 0, 0, 0, 0, 0, 0, 0, 0, 0, 0, 0, 0, 0, 0, 0, 0, 0, 0, 0, 0, 0, 0, 0, 0, 0, 0, 0, 0, 0, 0, 0, 0, 0, 0, 0, 0, 0, 0, 0, 0, 0, 0, 0, 0, 0, 0, 0, 0, 0, 0, 0, 0, 0, 0, 0, 0, 0, 0, 0, 0, 0, 0, 0, 0, 0, 0, 0, 0, 0, 0, 0, 0, 0, 0, 0, 0, 0, 0, 0, 0, 0, 0, 0, 0, 0, 0, 0, 0, 0, 0, 0, 0, 0, 0, 0, 0, 0, 0, 0, 0, 0, 0, 0, 0, 0, 0, 0, 0, 0, 0, 0, 0, 0, 0, 0, 0, 0, 0, 0, 0, 0, 0, 0, 0, 0, 0, 0, 0, 0, 0, 0, 0, 0, 0, 0, 0, 0, 0, 0, 0, 0, 0, 0, 0, 0, 0, 0, 0, 0, 0, 0, 0, 0, 0, 0, 0, 0, 0, 0, 0, 0, 0, 0, 0, 0, 0, 0, 0, 0, 0, 1, 0, 0, 0, 0, 0, 0, 0, 0, 0, 0, 0, 0, 0, 0, 0, 0, 0, 0, 0, 0, 0, 0, 0, 0, 0, 0, 0, 0, 0, 0, 0, 0, 0, 0, 0, 0, 0, 0, 0, 0, 0, 0, 0, 0, 0, 0, 0, 0, 0, 0, 0, 0, 0, 0, 0, 1, 0, 0, 0, 0, 0, 0, 0, 0, 0, 0, 0, 0, 0, 0, 0, 0, 0, 0, 0, 0, 0, 0, 0, 0, 0, 0, 0, 0, 0, 0, 0, 0, 0, 0, 0, 0, 0, 0, 0, 0, 0, 0, 0, 0, 0, 0, 0, 0, 0, 0, 0, 0, 0, 0, 0, 0, 0, 0, 0, 0, 0, 0, 0, 0, 0, 0, 0, 0, 0, 0, 0, 0, 0, 0, 0, 0, 0, 0, 0, 0, 0, 0, 0, 0, 0, 0, 0, 0, 0, 0, 0, 0, 0, 0, 0, 0, 0, 0, 0, 0, 0, 0, 0, 0, 0, 0, 0, 0, 0, 0, 0, 0, 0, 0, 0, 0, 0, 0, 0, 0, 0, 0, 0, 0, 0, 0, 0, 0, 0, 0, 0, 0, 0, 0, 0, 0, 0, 0, 0, 0, 0, 0, 0, 0, 0, 0, 0, 0, 0, 0, 0, 0, 0, 0, 0, 0, 0, 0, 0, 0, 0, 0, 0, 0, 0, 0, 0, 0, 0, 0, 0, 0, 0, 0, 0, 0, 0, 0, 0, 0, 0, 0, 0, 0, 0, 0, 0, 0, 0, 0, 0, 0, 0, 0, 0, 0, 0, 0, 0, 0, 0, 0, 0, 0, 0, 0, 0, 0, 0, 0, 0, 0, 0, 0, 0, 0, 0, 0, 0, 0, 0, 0, 0, 0, 0, 0, 0, 0, 0, 0, 0, 0, 0, 0, 0, 0, 0, 0, 0, 0, 0, 0, 0, 0, 0, 0, 0, 0, 0, 0, 0, 0, 0, 0, 0, 0, 0, 0, 0, 0, 0, 0, 0, 0, 0, 0, 0, 0, 0, 0, 0, 0, 0, 0, 0, 0, 0, 0, 0, 0, 0, 0, 0, 0, 0, 0, 0, 0, 0, 0, 0, 0, 0, 0, 0, 0, 0, 0, 0, 0, 0, 0, 0, 0, 0, 0, 0, 0, 0, 0, 0, 0, 0, 0, 0, 0, 0, 0, 0, 0, 0, 0, 0, 0, 0, 0, 0, 0, 0, 0, 0, 0, 0, 0, 0, 0, 0, 0, 0, 0, 0, 0, 0, 0, 0, 0, 0, 0, 0, 0, 0, 0, 0, 0, 0, 0, 0, 0, 0, 0, 0, 0, 0, 0, 0, 0, 0, 0, 0, 0, 0, 0, 0, 0, 0, 0, 0, 0, 0, 0, 0, 0, 0, 0, 0, 0, 0, 0, 0, 0, 0, 0, 0, 0, 0, 0, 0, 0, 0, 0, 0, 0, 0, 0, 0, 0, 0, 0, 0, 0, 0, 0, 0, 0, 0, 0, 0, 0, 0, 0, 0, 0, 0, 0, 0, 0, 0, 0, 0, 0, 0, 0, 0, 0, 0, 0, 0, 0, 0, 0, 0, 0, 0, 0, 0, 0, 0, 0, 0, 0, 0, 0, 0, 0, 0, 0, 0, 0, 0, 0, 0, 0, 0, 0, 0, 0, 0, 0, 0, 0, 0, 0, 0, 0, 0, 0, 0, 0, 0, 0, 0, 0, 0, 0, 0, 0, 0, 0, 0, 0, 0, 0, 0, 0, 0, 0, 0, 0, 0, 0, 0, 0, 0, 0, 0, 0, 0, 0, 0, 0, 0, 0, 0, 0, 0, 0, 0, 0, 0, 0, 0, 0, 0, 0, 0, 0, 0, 0, 0, 0, 0, 0, 0, 0, 0, 0, 0, 0, 0, 0, 0, 0, 0, 0, 0, 0, 0, 0, 0, 0, 0, 0, 0, 0, 0, 0, 0, 0, 0, 0, 0, 0, 0, 0, 0, 0, 0, 0, 0, 0, 0, 0, 0, 0, 0, 0, 0, 0, 0, 0, 0, 0, 0, 0, 0, 0, 0, 0, 0, 0, 0, 0, 0, 0, 0, 0, 0, 0, 0, 0, 0, 0, 0, 0, 0, 0, 0, 0, 0, 0, 0, 0, 0, 0, 0, 0, 0, 0, 0, 0, 0, 0, 0, 0, 0, 0, 0, 0, 0, 0, 0, 0, 0, 0, 0, 0, 0, 0, 0, 0, 0, 0, 0, 0, 0, 0, 0, 0, 0, 0, 0, 0, 0, 0, 0, 0, 0, 0, 0, 0, 0, 0, 0, 0, 0, 0, 0, 0, 0, 0, 0, 0, 0, 0, 0, 0, 0, 0, 0, 0, 0, 0, 1, 0, 0, 0, 0, 0, 0, 0, 0, 0, 0, 0, 0, 0, 0, 0, 0, 0, 0, 0, 0, 0, 0, 0, 0, 0, 0, 0, 0, 0, 0, 0, 0, 0, 0, 0, 0, 0, 0, 0, 0, 0, 0, 0, 0, 0, 0, 0, 0, 0, 0, 0, 0, 0, 0, 0, 0, 0, 0, 0, 0, 0, 0, 0, 0, 0, 0, 0, 0, 0, 0, 0, 0, 0, 0, 1, 0, 0, 0, 0, 0, 0, 0, 0, 0, 0, 0, 0, 0, 0, 0, 0, 0, 0, 0, 0, 1, 0, 0, 1, 0, 0, 0, 0, 0, 0, 0, 0, 0, 0, 0, 0, 0, 0, 0, 0, 0, 0, 0, 0, 0, 0, 0, 0, 0, 0, 0, 0, 0, 0, 0, 0, 0, 0, 0, 0, 0, 0, 0, 0, 0, 0, 0, 0, 0, 0, 0, 0, 0, 0, 0, 0, 0, 0, 0, 0, 0, 0, 0, 0, 0, 0, 0, 0, 0, 0, 0, 0, 0, 0, 0, 0, 0, 0, 0, 0, 0, 0, 0, 0, 0, 0, 0, 0, 0, 0, 0, 0, 0, 0, 0, 0, 0, 0, 0, 0, 0, 0, 0, 0, 0, 0, 0, 0, 0, 0, 0, 0, 0, 0, 0, 0, 0, 0, 0, 0, 0, 0, 0, 0, 0, 0, 0, 0, 0, 0, 0, 0, 0, 0, 0, 0, 0, 0, 0, 0, 0, 0, 0, 0, 0, 0, 0, 0, 0, 0, 0, 0, 0, 0, 0, 0, 0, 0, 0, 0, 0, 0, 0, 0, 0, 0, 0, 0, 0, 0, 0, 0, 0, 0, 0, 0, 0, 0, 0, 0, 0, 0, 0, 0, 0, 0, 0, 0, 0, 0, 0, 0, 0, 0, 0, 0, 0, 0, 0, 0, 0, 0, 0, 0, 0, 0, 0, 0, 0, 0, 0, 0, 0, 0, 0, 0, 0, 0, 0, 0, 0, 0, 0, 0, 0, 0, 0, 0, 0, 0, 0, 0, 0, 0, 0, 0, 0, 0, 0, 0, 0, 0, 0, 0, 0, 0, 0, 0, 0, 0, 0, 0, 0, 0, 0, 0, 0, 0, 0, 0, 0, 0, 0, 0, 0, 0, 0, 0, 0, 0, 0, 0, 0, 0, 0, 0, 0, 0, 0, 0, 0, 0, 0, 0, 0, 0, 0, 0, 0, 0, 0, 0, 0, 0, 0, 0, 0, 0, 0, 0, 0, 0, 0, 0, 0, 0, 0, 0, 0, 0, 0, 0, 0, 0, 0, 0, 0, 0, 0, 0, 0, 0, 0, 0, 0, 0, 0, 0, 0, 0, 0, 0, 0, 0, 0, 0, 0, 0, 0, 0, 0, 0, 0, 0, 0, 0, 0, 0, 0, 0, 0, 0, 0, 0, 0, 0, 0, 0, 0, 0, 0, 0, 0, 0, 0, 0, 0, 0, 0, 0, 0, 0, 0, 0, 0, 0, 0, 0, 0, 0, 0, 0, 0, 0, 0, 0, 0, 0, 0, 0, 0, 0, 0, 0, 0, 0, 0, 0, 0, 0, 0, 0, 0, 0, 0, 0, 0, 0, 0, 0, 0, 0, 0, 0, 0, 0, 0, 0, 0, 0, 0, 0, 0, 0, 0, 0, 0, 0, 0, 0, 0, 0, 0, 0, 0, 0, 0, 0, 0, 0, 0, 0, 0, 0, 0, 0, 0, 0, 0, 0, 0, 0, 0, 0, 0, 0, 0, 0, 0, 0, 0, 0, 0, 0, 0, 0, 0, 0, 0, 1, 0, 0, 0, 0, 0, 0, 0, 0, 0, 0, 0, 0, 0, 0, 0, 0, 0, 0, 0, 0, 0, 0, 0, 0, 0, 0, 0, 0, 0, 0, 0, 0, 0, 0, 0, 0, 0, 0, 0, 0, 0, 0, 0, 0, 0, 0, 0, 0, 0, 0, 0, 0, 0, 0, 0, 0, 0, 0, 0, 0, 0, 0, 0, 0, 0, 0, 0, 0, 0, 0, 0, 0, 0, 0, 0, 0, 0, 0, 0, 0, 0, 0, 0, 0, 0, 0, 0, 0, 0, 0, 0, 0, 0, 0, 0, 0, 0, 0, 0, 0, 0, 0, 0, 0, 0, 0, 0, 0, 0, 0, 0, 0, 0, 0, 0, 0, 0, 0, 0, 0, 0, 0, 0, 0, 0, 0, 0, 0, 0, 0, 0, 0, 0, 0, 0, 0, 0, 0, 0, 0, 0, 0, 0, 0, 0, 0, 0, 0, 0, 0, 0, 0, 0, 0, 0, 0, 0, 0, 0, 0, 0, 0, 0, 0, 0, 0, 0, 0, 0, 0, 0, 0, 0, 0, 0, 0, 0, 0, 0, 0, 0, 0, 0, 0, 0, 0, 0, 0, 0, 0, 0, 0, 0, 0, 0, 0, 0, 0, 0, 0, 0, 0, 0, 0, 0, 0, 0, 0, 0, 0, 0, 0, 0, 0, 0, 0, 0, 0, 0, 0, 0, 0, 0, 0, 0, 0, 0, 0, 0, 0, 0, 0, 0, 0, 0, 0, 0, 0, 0, 0, 0, 0, 0, 0, 0, 0, 0, 0, 0, 0, 0, 0, 0, 0, 0, 0, 0, 0, 0, 0, 0, 0, 0, 0, 0, 0, 0, 0, 0, 0, 0, 0, 0, 0, 0, 0, 0, 0, 0, 0, 0, 0, 0, 0, 0, 0, 0, 0, 0, 0, 0, 0, 0, 0, 0, 0, 0, 0, 0, 0, 0, 0, 0, 0, 0, 0, 0, 0, 0, 0, 0, 0, 0, 0, 0, 0, 0, 0, 0, 0, 0, 0, 0, 0, 0, 0, 0, 0, 0, 0, 0, 0, 0, 0, 0, 0, 0, 0, 0, 0, 0, 0, 0, 0, 0, 0, 0, 0, 0, 0, 0, 0, 0, 0, 0, 0, 0, 0, 0, 0, 0, 0, 0, 0, 0, 0, 0, 0, 0, 0, 0, 0, 0, 0, 0, 0, 0, 0, 0, 0, 0, 0, 0, 0, 0, 0, 0, 0, 0, 0, 0, 0, 0, 0, 0, 0, 0, 0, 0, 0, 0, 0, 0, 0, 0, 0, 0, 0, 0, 0, 0, 0, 0, 0, 0, 0, 0, 0, 0, 0, 0, 0, 0, 0, 0, 0, 0, 0, 0, 0, 0, 0, 0, 0, 0, 0, 0, 0, 0, 0, 0, 0, 0, 0, 0, 0, 0, 0, 0, 0, 0, 0, 0, 0, 0, 0, 0, 0, 0, 0, 0, 0, 0, 0, 0, 0, 0, 0, 0, 0, 0, 0, 0, 0, 0, 0, 0, 0, 0, 0, 0, 0, 0, 0, 0, 0, 0, 0, 0, 0, 0, 0, 0, 0, 0, 0, 0, 0, 0, 0, 0, 0, 0, 0, 0, 0, 0, 0, 0, 0, 0, 0, 0, 1, 0, 0, 0, 0, 0, 0, 0, 0, 0, 0, 0, 0, 0, 0, 0, 0, 0, 0, 0, 0, 0, 0, 0, 0, 0, 0, 0, 0, 0, 0, 0, 0, 0, 0, 0, 2, 0, 0, 0, 0, 0, 0, 0, 0, 0, 0, 0, 0, 0, 0, 0, 0, 0, 0, 0, 0, 0, 0, 0, 0, 0, 0, 0, 0, 0, 0, 0, 0, 0, 0, 0, 0, 0, 0, 0, 0, 1, 0, 0, 0, 0, 0, 0, 0, 0, 0, 0, 0, 0, 0, 0, 0, 0, 0, 0, 0, 0, 0, 0, 0, 0, 0, 0, 0, 0, 0, 0, 0, 0, 0, 0, 0, 0, 0, 0, 0, 0, 0, 0, 0, 0, 0, 0, 0, 0, 0, 0, 0, 0, 0, 0, 0, 0, 0, 0, 0, 0, 0, 0, 0, 0, 0, 0, 0, 0, 0, 0, 0, 0, 0, 0, 0, 0, 0, 0, 0, 0, 0, 0, 0, 0, 0, 0, 0, 0, 0, 0, 0, 0, 0, 0, 0, 0, 0, 0, 0, 0, 0, 0, 0, 0, 0, 0, 0, 0, 0, 0, 0, 0, 0, 0, 0, 0, 0, 0, 0, 0, 0, 0, 0, 0, 0, 0, 0, 0, 0, 0, 0, 0, 0, 0, 0, 0, 0, 0, 0, 0, 0, 0, 0, 0, 0, 0, 0, 0, 0, 0, 0, 0, 0, 0, 0, 0, 0, 0, 0, 0, 0, 0, 0, 0, 0, 0, 0, 0, 0, 0, 0, 0, 0, 0, 0, 0, 0, 0, 0, 0, 0, 0, 0, 0, 0, 0, 0, 0, 0, 0, 0, 0, 0, 0, 0, 0, 0, 0, 0, 0, 0, 0, 0, 0, 0, 0, 0, 0, 0, 0, 0, 0, 0, 0, 0, 0, 0, 0, 0, 0, 0, 0, 0, 0, 0, 0, 0, 0, 0, 0, 0, 0, 0, 0, 0, 0, 0, 0, 0, 0, 0, 0, 0, 0, 0, 0, 0, 0, 0, 0, 0, 0, 0, 0, 0, 0, 0, 0, 0, 0, 0, 0, 0, 0, 0, 0, 0, 0, 0, 0, 0, 0, 0, 0, 0, 0, 0, 0, 0, 0, 0, 0, 0, 0, 0, 0, 0, 0, 0, 0, 0, 0, 0, 0, 0, 0, 0, 0, 0, 0, 0, 0, 0, 0, 0, 0, 0, 0, 0, 0, 0, 0, 0, 0, 0, 0, 0, 0, 0, 0, 0, 0, 0, 0, 0, 0, 0, 0, 0, 0, 0, 0, 0, 0, 0, 0, 0, 0, 0, 0, 0, 0, 0, 0, 0, 0, 0, 0, 0, 0, 0, 0, 0, 0, 0, 0, 0, 0, 0, 0, 0, 0, 0, 0, 0, 0, 0, 0, 0, 0, 0, 0, 0, 0, 0, 0, 0, 0, 0, 0, 0, 0, 0, 0, 0, 0, 0, 0, 0, 0, 0, 0, 0, 0, 0, 0, 0, 0, 0, 0, 0, 0, 0, 0, 0, 0, 0, 0, 0, 0, 0, 0, 0, 0, 0, 0, 0, 0, 0, 0, 0, 0, 0, 0, 0, 0, 0, 0, 0, 0, 0, 0, 0, 0, 0, 0, 0, 0, 0, 0, 0, 0, 0, 0, 0, 0, 0, 0, 0, 0, 0, 0, 0, 0, 0, 0, 0, 0, 0, 0, 0, 0, 0, 0, 0, 0, 0, 0, 0, 0, 0, 0, 0, 0, 0, 0, 0, 0, 0, 0, 0, 0, 0, 0, 0, 0, 0, 0, 0, 0, 0, 0, 0, 0, 0, 0, 0, 0, 1, 0, 0, 0, 0, 0, 0, 0, 0, 0, 0, 0, 0, 0, 0, 0, 0, 0, 0, 0, 0, 0, 0, 0, 0, 0, 0, 0, 0, 0, 0, 0, 0, 0, 0, 0, 0, 0, 0, 0, 0, 0, 0, 0, 0, 0, 0, 0, 0, 0, 0, 0, 0, 0, 0, 0, 0, 0, 0, 0, 0, 0, 0, 0, 0, 0, 0, 0, 0, 0, 0, 0, 0, 0, 0, 0, 0, 0, 0, 0, 0, 0, 0, 0, 0, 0, 0, 0, 0, 0, 0, 0, 0, 0, 0, 0, 0, 0, 0, 0, 0, 0, 0, 0, 0, 0, 0, 0, 0, 0, 2, 0, 0, 0, 0, 0, 0, 0, 0, 0, 0, 0, 0, 0, 0, 0, 0, 0, 0, 0, 0, 0, 0, 0, 0, 0, 0, 0, 0, 0, 0, 0, 0, 0, 0, 0, 0, 0, 0, 0, 0, 0, 0, 0, 0, 0, 0, 0, 0, 0, 0, 0, 0, 0, 0, 0, 0, 0, 0, 0, 0, 0, 0, 0, 0, 0, 0, 0, 0, 0, 0, 0, 0, 0, 0, 0, 0, 0, 0, 0, 0, 0, 0, 0, 0, 0, 0, 0, 0, 0, 0, 0, 0, 0, 0, 0, 0, 0, 0, 0, 0, 0, 0, 0, 0, 0, 0, 0, 0, 0, 0, 0, 0, 0, 0, 0, 0, 0, 0, 0, 0, 0, 0, 0, 0, 0, 0, 0, 0, 0, 0, 0, 0, 0, 0, 0, 0, 0, 0, 0, 0, 0, 0, 0, 0, 0, 0, 0, 0, 0, 0, 0, 0, 0, 0, 0, 0, 0, 0, 0, 0, 0, 0, 0, 0, 0, 0, 0, 0, 0, 0, 0, 0, 0, 0, 0, 0, 0, 0, 0, 0, 0, 0, 0, 0, 0, 0, 0, 0, 0, 0, 0, 0, 0, 0, 0, 0, 0, 0, 0, 0, 0, 0, 0, 0, 0, 0, 0, 0, 0, 0, 0, 0, 0, 0, 0, 0, 0, 0, 0, 0, 0, 0, 0, 0, 0, 0, 0, 0, 0, 0, 0, 0, 0, 0, 0, 0, 0, 0, 0, 0, 0, 0, 0, 0, 0, 0, 0, 0, 0, 0, 0, 0, 0, 0, 0, 0, 0, 0, 0, 0, 0, 0, 0, 0, 0, 0, 0, 0, 0, 0, 0, 0, 0, 0, 0, 0, 0, 0, 0, 0, 0, 0, 0, 0, 0, 0, 0, 0, 0, 0, 0, 0, 0, 0, 0, 0, 0, 0, 0, 0, 0, 0, 0, 0, 0, 0, 0, 0, 0, 0, 0, 0, 0, 0, 0, 0, 0, 0, 0, 0, 0, 0, 0, 0, 0, 0, 0, 0, 0, 0, 0, 0, 0, 0, 0, 0, 0, 0, 0, 0, 0, 0, 0, 0, 0, 0, 0, 0, 0, 0, 0, 0, 0, 0, 0, 0, 0, 0, 0, 0, 0, 0, 0, 0, 0, 0, 0, 0, 0, 0, 0, 0, 0, 0, 0, 0, 0, 0, 0, 0, 0, 0, 0, 0, 0, 0, 0, 0, 0, 0, 0, 0, 0, 0, 0, 0, 0, 0, 0, 0, 0, 0, 0, 0, 0, 0, 0, 0, 0, 0, 0, 0, 0, 0, 0, 0, 0, 0, 0, 0, 0, 0, 0, 0, 0, 0, 0, 0, 0, 0, 0, 0, 0, 0, 0, 0, 0, 0, 0, 0, 0, 0, 0, 0, 0, 0, 0, 0, 0, 0, 0, 0, 0, 0, 0, 0, 0, 0, 0, 0, 0, 0, 0, 0, 0, 0, 0, 0, 0, 0, 0, 0, 0, 0, 0, 0, 0, 0, 0, 0, 0, 0, 0, 0, 0, 0, 0, 0, 0, 0, 0, 0, 0, 0, 0, 0, 0, 0, 0, 0, 0, 0, 0, 0, 0, 0, 0, 0, 0, 0, 0, 0, 0, 0, 0, 0, 0, 0, 0, 0, 0, 0, 0, 0, 0, 0, 0, 0, 0, 0, 0, 0, 0, 0, 0, 0, 0, 0, 0, 0, 0, 0, 0, 0, 0, 0, 0, 0, 0, 0, 0, 0, 0, 0, 0, 0, 0, 0, 0, 0, 0, 0, 0, 0, 0, 0, 0, 0, 0, 0, 0, 0, 0, 0, 0, 0, 0, 0, 0, 0, 0, 0, 0, 0, 0, 0, 0, 0, 0, 0, 0, 0, 0, 0, 0, 0, 0, 0, 0, 0, 0, 0, 0, 0, 0, 0, 0, 0, 0, 0, 0, 0, 0, 0, 0, 0, 0, 0, 0, 0, 0, 0, 0, 0, 0, 0, 0, 0, 0, 0, 0, 0, 0, 0, 0, 0, 0, 0, 0, 0, 0, 0, 0, 0, 0, 0, 0, 0, 0, 0, 0, 0, 0, 0, 0, 0, 0, 0, 0, 0, 0, 0, 0, 0, 0, 0, 0, 0, 0, 0, 0, 0, 0, 0, 0, 0, 0, 0, 0, 0, 0, 0, 0, 0, 0, 0, 0, 0, 1, 0, 0, 0, 0, 0, 0, 0, 0, 0, 0, 0, 0, 0, 0, 0, 0, 0, 0, 0, 0, 0, 0, 0, 0, 0, 0, 0, 0, 0, 0, 0, 0, 0, 0, 0, 0, 0, 0, 0, 0, 0, 0, 0, 0, 0, 0, 0, 0, 0, 0, 0, 0, 0, 0, 0, 0, 0, 0, 0, 0, 0, 0, 0, 0, 0, 0, 0, 0, 0, 0, 0, 0, 0, 0, 0, 0, 0, 0, 0, 0, 0, 0, 0, 0, 0, 0, 0, 0, 0, 0, 0, 0, 0, 0, 0, 0, 0, 0, 0, 0, 0, 0, 0, 0, 0, 0, 0, 1, 0, 0, 0, 0, 0, 0, 0, 0, 0, 0, 0, 0, 0, 0, 0, 0, 0, 0, 0, 0, 0, 0, 0, 0, 0, 0, 0, 0, 0, 0, 0, 0, 0, 0, 0, 0, 0, 0, 0, 0, 0, 0, 0, 0, 0, 0, 0, 0, 0, 0, 0, 0, 0, 0, 0, 0, 0, 0, 0, 0, 0, 0, 0, 0, 0, 0, 0, 0, 0, 0, 0, 0, 0, 0, 0, 0, 0, 0, 0, 0, 0, 0, 0, 0, 0, 0, 0, 0, 0, 0, 0, 0, 0, 0, 0, 0, 0, 0, 0, 0, 0, 0, 0, 0, 0, 0, 0, 0, 0, 0, 0, 0, 0, 0, 0, 0, 0, 0, 0, 0, 0, 0, 0, 0, 0, 0, 0, 0, 0, 0, 0, 0, 0, 0, 0, 0, 0, 0, 0, 0, 0, 0, 0, 0, 0, 0, 0, 0, 0, 0, 0, 0, 0, 0, 0, 0, 0, 0, 0, 0, 0, 0, 0, 0, 0, 0, 0, 0, 0, 0, 0, 0, 0, 0, 0, 0, 0, 0, 0, 0, 0, 0, 0, 0, 0, 0, 0, 0, 0, 0, 0, 0, 0, 0, 0, 0, 0, 0, 0, 0, 0, 0, 0, 0, 0, 0, 0, 0, 0, 0, 0, 0, 0, 0, 0, 0, 0, 0, 0, 0, 0, 0, 0, 0, 0, 0, 0, 0, 0, 0, 0, 0, 0, 0, 0, 0, 0, 0, 0, 0, 0, 0, 0, 0, 0, 0, 0, 0, 0, 0, 0, 0, 0, 0, 0, 0, 0, 0, 0, 0, 0, 0, 0, 0, 0, 0, 0, 0, 0, 0, 0, 0, 0, 0, 0, 0, 0, 0, 0, 0, 0, 0, 0, 0, 0, 0, 0, 0, 0, 0, 0, 0, 0, 0, 0, 0, 0, 0, 0, 0, 0, 0, 0, 0, 0, 0, 0, 0, 0, 0, 0, 0, 0, 0, 0, 0, 0, 0, 0, 0, 0, 0, 0, 0, 0, 0, 0, 0, 0, 0, 0, 0, 0, 0, 0, 0, 0, 0, 0, 0, 0, 0, 0, 0, 0, 0, 0, 0, 0, 0, 0, 0, 0, 0, 0, 0, 0, 0, 0, 0, 0, 0, 0, 0, 0, 0, 0, 0, 0, 0, 0, 0, 0, 0, 0, 0, 0, 0, 0, 0, 0, 0, 0, 0, 0, 0, 0, 0, 0, 0, 0, 0, 0, 0, 0, 0, 0, 0, 0, 0, 0, 0, 0, 0, 0, 0, 0, 0, 0, 0, 0, 0, 0, 0, 0, 0, 0, 0, 0, 0, 0, 0, 0, 0, 0, 0, 0, 0, 0, 0, 0, 0, 0, 0, 0, 0, 0, 0, 0, 0, 0, 0, 0, 0, 0, 0, 0, 0, 0, 0, 0, 0, 0, 0, 0, 0, 0, 0, 0, 0, 0, 0, 0, 0, 2, 0, 1, 0], type: <class 'list'>, valid types: <class 'bytes'>, <class 'bytearray'>, file-like object",
     "output_type": "error",
     "traceback": [
      "\u001b[0;31m---------------------------------------------------------------------------\u001b[0m",
      "\u001b[0;31mParamValidationError\u001b[0m                      Traceback (most recent call last)",
      "\u001b[0;32m<ipython-input-77-c9ab54ae3a48>\u001b[0m in \u001b[0;36m<module>\u001b[0;34m\u001b[0m\n\u001b[1;32m      1\u001b[0m response = runtime.invoke_endpoint(EndpointName = xgb_predictor.endpoint, # The name of the endpoint we created\n\u001b[1;32m      2\u001b[0m                                        \u001b[0mContentType\u001b[0m \u001b[0;34m=\u001b[0m \u001b[0;34m'text/csv'\u001b[0m\u001b[0;34m,\u001b[0m                     \u001b[0;31m# The data format that is expected\u001b[0m\u001b[0;34m\u001b[0m\u001b[0;34m\u001b[0m\u001b[0m\n\u001b[0;32m----> 3\u001b[0;31m                                        Body = test_bow)\n\u001b[0m",
      "\u001b[0;32m~/anaconda3/envs/python3/lib/python3.6/site-packages/botocore/client.py\u001b[0m in \u001b[0;36m_api_call\u001b[0;34m(self, *args, **kwargs)\u001b[0m\n\u001b[1;32m    335\u001b[0m                     \"%s() only accepts keyword arguments.\" % py_operation_name)\n\u001b[1;32m    336\u001b[0m             \u001b[0;31m# The \"self\" in this scope is referring to the BaseClient.\u001b[0m\u001b[0;34m\u001b[0m\u001b[0;34m\u001b[0m\u001b[0;34m\u001b[0m\u001b[0m\n\u001b[0;32m--> 337\u001b[0;31m             \u001b[0;32mreturn\u001b[0m \u001b[0mself\u001b[0m\u001b[0;34m.\u001b[0m\u001b[0m_make_api_call\u001b[0m\u001b[0;34m(\u001b[0m\u001b[0moperation_name\u001b[0m\u001b[0;34m,\u001b[0m \u001b[0mkwargs\u001b[0m\u001b[0;34m)\u001b[0m\u001b[0;34m\u001b[0m\u001b[0;34m\u001b[0m\u001b[0m\n\u001b[0m\u001b[1;32m    338\u001b[0m \u001b[0;34m\u001b[0m\u001b[0m\n\u001b[1;32m    339\u001b[0m         \u001b[0m_api_call\u001b[0m\u001b[0;34m.\u001b[0m\u001b[0m__name__\u001b[0m \u001b[0;34m=\u001b[0m \u001b[0mstr\u001b[0m\u001b[0;34m(\u001b[0m\u001b[0mpy_operation_name\u001b[0m\u001b[0;34m)\u001b[0m\u001b[0;34m\u001b[0m\u001b[0;34m\u001b[0m\u001b[0m\n",
      "\u001b[0;32m~/anaconda3/envs/python3/lib/python3.6/site-packages/botocore/client.py\u001b[0m in \u001b[0;36m_make_api_call\u001b[0;34m(self, operation_name, api_params)\u001b[0m\n\u001b[1;32m    627\u001b[0m         }\n\u001b[1;32m    628\u001b[0m         request_dict = self._convert_to_request_dict(\n\u001b[0;32m--> 629\u001b[0;31m             api_params, operation_model, context=request_context)\n\u001b[0m\u001b[1;32m    630\u001b[0m \u001b[0;34m\u001b[0m\u001b[0m\n\u001b[1;32m    631\u001b[0m         \u001b[0mservice_id\u001b[0m \u001b[0;34m=\u001b[0m \u001b[0mself\u001b[0m\u001b[0;34m.\u001b[0m\u001b[0m_service_model\u001b[0m\u001b[0;34m.\u001b[0m\u001b[0mservice_id\u001b[0m\u001b[0;34m.\u001b[0m\u001b[0mhyphenize\u001b[0m\u001b[0;34m(\u001b[0m\u001b[0;34m)\u001b[0m\u001b[0;34m\u001b[0m\u001b[0;34m\u001b[0m\u001b[0m\n",
      "\u001b[0;32m~/anaconda3/envs/python3/lib/python3.6/site-packages/botocore/client.py\u001b[0m in \u001b[0;36m_convert_to_request_dict\u001b[0;34m(self, api_params, operation_model, context)\u001b[0m\n\u001b[1;32m    675\u001b[0m             api_params, operation_model, context)\n\u001b[1;32m    676\u001b[0m         request_dict = self._serializer.serialize_to_request(\n\u001b[0;32m--> 677\u001b[0;31m             api_params, operation_model)\n\u001b[0m\u001b[1;32m    678\u001b[0m         \u001b[0;32mif\u001b[0m \u001b[0;32mnot\u001b[0m \u001b[0mself\u001b[0m\u001b[0;34m.\u001b[0m\u001b[0m_client_config\u001b[0m\u001b[0;34m.\u001b[0m\u001b[0minject_host_prefix\u001b[0m\u001b[0;34m:\u001b[0m\u001b[0;34m\u001b[0m\u001b[0;34m\u001b[0m\u001b[0m\n\u001b[1;32m    679\u001b[0m             \u001b[0mrequest_dict\u001b[0m\u001b[0;34m.\u001b[0m\u001b[0mpop\u001b[0m\u001b[0;34m(\u001b[0m\u001b[0;34m'host_prefix'\u001b[0m\u001b[0;34m,\u001b[0m \u001b[0;32mNone\u001b[0m\u001b[0;34m)\u001b[0m\u001b[0;34m\u001b[0m\u001b[0;34m\u001b[0m\u001b[0m\n",
      "\u001b[0;32m~/anaconda3/envs/python3/lib/python3.6/site-packages/botocore/validate.py\u001b[0m in \u001b[0;36mserialize_to_request\u001b[0;34m(self, parameters, operation_model)\u001b[0m\n\u001b[1;32m    295\u001b[0m                                                     operation_model.input_shape)\n\u001b[1;32m    296\u001b[0m             \u001b[0;32mif\u001b[0m \u001b[0mreport\u001b[0m\u001b[0;34m.\u001b[0m\u001b[0mhas_errors\u001b[0m\u001b[0;34m(\u001b[0m\u001b[0;34m)\u001b[0m\u001b[0;34m:\u001b[0m\u001b[0;34m\u001b[0m\u001b[0;34m\u001b[0m\u001b[0m\n\u001b[0;32m--> 297\u001b[0;31m                 \u001b[0;32mraise\u001b[0m \u001b[0mParamValidationError\u001b[0m\u001b[0;34m(\u001b[0m\u001b[0mreport\u001b[0m\u001b[0;34m=\u001b[0m\u001b[0mreport\u001b[0m\u001b[0;34m.\u001b[0m\u001b[0mgenerate_report\u001b[0m\u001b[0;34m(\u001b[0m\u001b[0;34m)\u001b[0m\u001b[0;34m)\u001b[0m\u001b[0;34m\u001b[0m\u001b[0;34m\u001b[0m\u001b[0m\n\u001b[0m\u001b[1;32m    298\u001b[0m         return self._serializer.serialize_to_request(parameters,\n\u001b[1;32m    299\u001b[0m                                                      operation_model)\n",
      "\u001b[0;31mParamValidationError\u001b[0m: Parameter validation failed:\nInvalid type for parameter Body, value: [0, 0, 0, 0, 0, 0, 0, 0, 0, 0, 0, 0, 0, 0, 0, 0, 0, 0, 0, 0, 0, 0, 0, 0, 0, 0, 0, 0, 0, 0, 0, 0, 0, 0, 0, 0, 0, 0, 0, 0, 0, 0, 0, 0, 0, 0, 0, 0, 0, 0, 0, 0, 0, 0, 0, 0, 0, 0, 0, 0, 0, 0, 0, 0, 0, 0, 0, 0, 0, 0, 0, 0, 0, 0, 0, 0, 0, 0, 0, 0, 0, 0, 0, 0, 0, 0, 0, 0, 0, 0, 0, 0, 0, 0, 0, 0, 0, 0, 0, 0, 0, 0, 0, 0, 0, 0, 0, 0, 0, 0, 0, 0, 0, 0, 0, 0, 0, 0, 0, 0, 0, 0, 0, 0, 0, 0, 0, 0, 0, 0, 0, 0, 0, 0, 0, 0, 0, 0, 0, 0, 0, 0, 0, 0, 0, 0, 0, 0, 0, 0, 0, 0, 0, 0, 0, 0, 0, 0, 0, 0, 0, 0, 0, 0, 0, 0, 0, 0, 0, 0, 0, 0, 0, 0, 0, 0, 0, 0, 0, 0, 0, 0, 0, 0, 0, 0, 0, 0, 0, 0, 0, 0, 0, 0, 0, 0, 0, 0, 0, 0, 0, 0, 0, 0, 0, 0, 0, 0, 0, 0, 0, 0, 0, 0, 0, 0, 0, 0, 0, 0, 0, 0, 0, 0, 0, 0, 0, 1, 0, 0, 0, 0, 0, 0, 0, 0, 0, 0, 0, 0, 0, 0, 0, 0, 0, 0, 0, 0, 0, 0, 0, 0, 0, 0, 0, 0, 1, 0, 0, 0, 0, 0, 0, 0, 0, 0, 0, 0, 0, 0, 0, 0, 0, 0, 0, 0, 0, 0, 0, 0, 0, 0, 0, 0, 0, 0, 0, 0, 0, 0, 0, 0, 0, 0, 0, 0, 0, 0, 0, 0, 0, 0, 0, 0, 0, 0, 0, 0, 0, 0, 0, 0, 0, 0, 0, 0, 0, 0, 0, 0, 0, 0, 0, 0, 0, 0, 0, 0, 0, 0, 0, 0, 0, 0, 0, 0, 0, 0, 0, 0, 0, 0, 0, 0, 0, 0, 0, 0, 0, 0, 0, 0, 0, 0, 0, 0, 0, 0, 0, 0, 0, 0, 0, 0, 0, 0, 0, 0, 0, 0, 0, 0, 0, 0, 0, 0, 0, 0, 0, 0, 0, 0, 0, 0, 0, 0, 0, 0, 0, 0, 0, 0, 0, 0, 0, 0, 0, 0, 0, 0, 0, 0, 0, 0, 0, 0, 0, 0, 0, 0, 0, 0, 0, 0, 0, 0, 0, 0, 0, 0, 0, 0, 0, 0, 0, 0, 0, 0, 0, 0, 0, 0, 0, 0, 0, 0, 0, 0, 0, 0, 0, 0, 0, 0, 0, 0, 0, 0, 0, 0, 0, 0, 0, 0, 0, 0, 0, 0, 0, 0, 0, 0, 0, 0, 0, 0, 0, 0, 0, 0, 0, 0, 0, 0, 0, 0, 0, 0, 0, 0, 0, 0, 0, 0, 0, 0, 0, 0, 0, 0, 0, 0, 0, 0, 0, 0, 0, 0, 0, 0, 0, 0, 0, 0, 0, 0, 0, 0, 0, 0, 0, 0, 0, 0, 0, 0, 0, 0, 0, 0, 0, 0, 0, 0, 0, 0, 0, 0, 0, 0, 0, 0, 0, 0, 0, 0, 0, 0, 0, 0, 0, 0, 0, 0, 0, 0, 0, 0, 0, 0, 0, 0, 0, 0, 0, 0, 0, 0, 0, 0, 0, 0, 0, 0, 0, 0, 0, 0, 0, 0, 0, 0, 0, 0, 0, 0, 0, 0, 0, 0, 0, 0, 0, 0, 0, 0, 0, 0, 0, 0, 0, 0, 0, 0, 0, 0, 0, 0, 0, 0, 0, 0, 0, 0, 0, 0, 0, 0, 0, 0, 0, 0, 0, 0, 0, 0, 0, 0, 0, 0, 0, 0, 0, 0, 0, 0, 0, 0, 0, 0, 0, 0, 0, 0, 0, 0, 1, 0, 0, 0, 0, 0, 0, 0, 0, 0, 0, 0, 0, 0, 0, 0, 0, 0, 0, 0, 0, 0, 0, 0, 0, 0, 0, 0, 0, 0, 0, 0, 0, 0, 0, 0, 0, 0, 0, 0, 0, 0, 0, 0, 0, 0, 0, 0, 0, 0, 0, 0, 0, 0, 0, 0, 0, 0, 0, 0, 0, 0, 0, 0, 0, 0, 0, 0, 0, 0, 0, 0, 0, 0, 0, 0, 0, 0, 0, 0, 0, 0, 0, 0, 0, 0, 0, 0, 0, 0, 0, 0, 0, 0, 0, 0, 0, 0, 0, 0, 0, 0, 0, 0, 0, 0, 0, 0, 0, 0, 0, 0, 0, 0, 0, 0, 0, 0, 0, 0, 0, 0, 0, 0, 0, 0, 0, 0, 0, 0, 0, 0, 0, 0, 0, 0, 0, 0, 0, 0, 0, 0, 0, 0, 0, 0, 0, 0, 0, 0, 0, 0, 0, 0, 0, 0, 0, 0, 0, 0, 0, 0, 0, 0, 0, 0, 0, 0, 0, 0, 0, 0, 0, 0, 0, 0, 0, 0, 0, 0, 0, 0, 0, 0, 0, 0, 0, 0, 0, 0, 0, 0, 0, 0, 0, 0, 0, 0, 0, 0, 0, 0, 0, 0, 0, 0, 0, 0, 0, 0, 0, 0, 0, 0, 0, 0, 0, 0, 0, 0, 0, 0, 0, 0, 0, 0, 0, 0, 0, 0, 0, 0, 0, 0, 0, 0, 0, 0, 0, 0, 0, 0, 0, 0, 0, 0, 0, 0, 0, 0, 0, 0, 0, 0, 1, 0, 0, 0, 0, 0, 0, 0, 0, 0, 0, 0, 0, 0, 0, 0, 0, 0, 0, 0, 0, 0, 0, 0, 0, 0, 0, 0, 0, 0, 0, 0, 0, 0, 0, 0, 0, 0, 0, 0, 0, 0, 0, 0, 0, 0, 0, 0, 0, 0, 0, 0, 0, 0, 0, 0, 0, 0, 0, 0, 0, 0, 0, 0, 0, 0, 0, 0, 0, 0, 0, 0, 0, 0, 0, 0, 0, 0, 0, 0, 0, 0, 0, 0, 0, 0, 0, 0, 1, 0, 0, 0, 0, 0, 0, 0, 0, 0, 0, 0, 0, 0, 0, 0, 0, 0, 0, 0, 0, 0, 0, 0, 0, 0, 0, 0, 0, 0, 0, 0, 0, 0, 0, 0, 0, 0, 0, 0, 0, 0, 0, 0, 0, 0, 0, 0, 0, 0, 0, 0, 0, 0, 0, 0, 0, 0, 0, 0, 0, 0, 0, 0, 0, 0, 0, 0, 0, 0, 0, 0, 0, 0, 0, 0, 0, 0, 0, 0, 0, 0, 0, 0, 0, 0, 0, 0, 0, 0, 0, 0, 0, 0, 0, 0, 0, 0, 0, 0, 0, 0, 0, 0, 0, 0, 0, 0, 0, 0, 0, 0, 0, 0, 0, 0, 0, 0, 0, 0, 0, 0, 0, 0, 0, 0, 0, 0, 0, 0, 0, 0, 0, 0, 0, 0, 0, 0, 0, 0, 0, 0, 0, 0, 0, 0, 0, 0, 0, 0, 0, 0, 0, 0, 0, 0, 0, 0, 0, 0, 0, 0, 0, 0, 0, 0, 0, 0, 0, 0, 0, 0, 0, 0, 0, 0, 0, 0, 0, 0, 0, 0, 0, 0, 0, 0, 0, 0, 0, 0, 0, 0, 0, 0, 0, 0, 0, 0, 0, 0, 0, 0, 0, 0, 0, 0, 0, 0, 0, 0, 0, 0, 0, 0, 0, 0, 0, 0, 0, 0, 0, 0, 0, 0, 0, 0, 0, 0, 0, 0, 0, 0, 0, 0, 0, 0, 0, 0, 0, 0, 0, 0, 0, 0, 0, 0, 0, 0, 0, 0, 0, 0, 1, 0, 0, 0, 0, 0, 0, 0, 0, 0, 0, 0, 0, 0, 0, 0, 0, 0, 0, 0, 0, 0, 0, 0, 0, 0, 0, 0, 0, 0, 0, 0, 0, 0, 0, 0, 0, 0, 0, 0, 0, 0, 0, 0, 0, 0, 0, 0, 0, 0, 0, 0, 0, 0, 0, 0, 1, 0, 0, 0, 0, 0, 0, 0, 0, 0, 0, 0, 0, 0, 0, 0, 0, 0, 0, 0, 0, 0, 0, 0, 0, 0, 0, 0, 0, 0, 0, 0, 0, 0, 0, 0, 0, 0, 0, 0, 0, 0, 0, 0, 0, 0, 0, 0, 0, 0, 0, 0, 0, 0, 0, 0, 0, 0, 0, 0, 0, 0, 0, 0, 0, 0, 0, 0, 0, 0, 0, 0, 0, 0, 0, 0, 0, 0, 0, 0, 0, 0, 0, 0, 0, 0, 0, 0, 0, 0, 0, 0, 0, 0, 0, 0, 0, 0, 0, 0, 0, 0, 0, 0, 0, 0, 0, 0, 0, 0, 0, 0, 0, 0, 0, 0, 0, 0, 0, 0, 0, 0, 0, 0, 0, 0, 0, 0, 0, 0, 0, 0, 0, 0, 0, 0, 0, 0, 0, 0, 0, 0, 0, 0, 0, 0, 0, 0, 0, 0, 0, 0, 0, 0, 0, 0, 0, 0, 0, 0, 0, 0, 0, 0, 0, 0, 0, 0, 0, 0, 0, 0, 0, 0, 0, 0, 0, 0, 0, 0, 0, 0, 0, 0, 0, 0, 0, 0, 0, 0, 0, 0, 0, 0, 0, 0, 0, 0, 0, 0, 0, 0, 0, 0, 0, 0, 0, 0, 0, 0, 0, 0, 0, 0, 0, 0, 0, 0, 0, 0, 0, 0, 0, 0, 0, 0, 0, 0, 0, 0, 0, 0, 0, 0, 0, 0, 0, 0, 0, 0, 0, 0, 0, 0, 0, 0, 0, 0, 0, 0, 0, 0, 0, 0, 0, 0, 0, 0, 0, 0, 0, 0, 0, 0, 0, 0, 0, 0, 0, 0, 0, 0, 0, 0, 0, 0, 0, 0, 0, 0, 0, 0, 0, 0, 0, 0, 0, 0, 0, 0, 0, 0, 0, 0, 0, 0, 0, 0, 0, 0, 0, 0, 0, 0, 0, 0, 0, 0, 0, 0, 0, 0, 0, 0, 0, 0, 0, 0, 0, 0, 0, 0, 0, 0, 0, 0, 0, 0, 0, 0, 0, 0, 0, 0, 0, 0, 0, 0, 0, 0, 0, 0, 0, 0, 0, 0, 0, 0, 0, 0, 0, 0, 0, 0, 0, 0, 0, 0, 0, 0, 0, 0, 0, 0, 0, 0, 0, 0, 0, 0, 0, 0, 0, 0, 0, 0, 0, 0, 0, 0, 0, 0, 0, 0, 0, 0, 0, 0, 0, 0, 0, 0, 0, 0, 0, 0, 0, 0, 0, 0, 0, 0, 0, 0, 0, 0, 0, 0, 0, 0, 0, 0, 0, 0, 0, 0, 0, 0, 0, 0, 0, 0, 0, 0, 0, 0, 0, 0, 0, 0, 0, 0, 0, 0, 0, 0, 0, 0, 0, 0, 0, 0, 0, 0, 0, 0, 0, 0, 0, 0, 0, 0, 0, 0, 0, 0, 0, 0, 0, 0, 0, 0, 0, 0, 0, 0, 0, 0, 0, 0, 0, 0, 0, 0, 0, 0, 0, 0, 0, 0, 0, 0, 0, 0, 0, 0, 0, 0, 0, 0, 0, 0, 0, 0, 0, 0, 0, 0, 0, 0, 0, 0, 0, 0, 0, 0, 0, 0, 0, 0, 0, 0, 0, 0, 0, 0, 0, 0, 0, 0, 0, 0, 0, 0, 0, 0, 0, 0, 0, 0, 0, 0, 0, 0, 0, 0, 0, 0, 0, 0, 0, 0, 0, 0, 0, 0, 0, 0, 0, 0, 0, 0, 0, 0, 0, 0, 0, 0, 0, 0, 0, 0, 0, 0, 0, 0, 0, 0, 0, 0, 0, 0, 0, 0, 0, 0, 0, 0, 0, 0, 0, 0, 0, 0, 0, 0, 0, 0, 0, 0, 0, 0, 0, 0, 0, 0, 0, 0, 0, 0, 0, 0, 0, 0, 0, 0, 0, 0, 0, 0, 0, 0, 0, 0, 0, 0, 0, 0, 0, 0, 0, 0, 0, 0, 0, 0, 0, 0, 0, 0, 0, 0, 0, 0, 0, 0, 0, 0, 0, 0, 0, 0, 0, 0, 0, 0, 0, 0, 0, 0, 0, 0, 0, 0, 0, 0, 0, 0, 0, 0, 0, 0, 0, 0, 0, 0, 0, 0, 0, 0, 0, 0, 0, 0, 0, 0, 0, 0, 0, 0, 0, 0, 0, 1, 0, 0, 0, 0, 0, 0, 0, 0, 0, 0, 0, 0, 0, 0, 0, 0, 0, 0, 0, 0, 0, 0, 0, 0, 0, 0, 0, 0, 0, 0, 0, 0, 0, 0, 0, 0, 0, 0, 0, 0, 0, 0, 0, 0, 0, 0, 0, 0, 0, 0, 0, 0, 0, 0, 0, 0, 0, 0, 0, 0, 0, 0, 0, 0, 0, 0, 0, 0, 0, 0, 0, 0, 0, 0, 1, 0, 0, 0, 0, 0, 0, 0, 0, 0, 0, 0, 0, 0, 0, 0, 0, 0, 0, 0, 0, 1, 0, 0, 1, 0, 0, 0, 0, 0, 0, 0, 0, 0, 0, 0, 0, 0, 0, 0, 0, 0, 0, 0, 0, 0, 0, 0, 0, 0, 0, 0, 0, 0, 0, 0, 0, 0, 0, 0, 0, 0, 0, 0, 0, 0, 0, 0, 0, 0, 0, 0, 0, 0, 0, 0, 0, 0, 0, 0, 0, 0, 0, 0, 0, 0, 0, 0, 0, 0, 0, 0, 0, 0, 0, 0, 0, 0, 0, 0, 0, 0, 0, 0, 0, 0, 0, 0, 0, 0, 0, 0, 0, 0, 0, 0, 0, 0, 0, 0, 0, 0, 0, 0, 0, 0, 0, 0, 0, 0, 0, 0, 0, 0, 0, 0, 0, 0, 0, 0, 0, 0, 0, 0, 0, 0, 0, 0, 0, 0, 0, 0, 0, 0, 0, 0, 0, 0, 0, 0, 0, 0, 0, 0, 0, 0, 0, 0, 0, 0, 0, 0, 0, 0, 0, 0, 0, 0, 0, 0, 0, 0, 0, 0, 0, 0, 0, 0, 0, 0, 0, 0, 0, 0, 0, 0, 0, 0, 0, 0, 0, 0, 0, 0, 0, 0, 0, 0, 0, 0, 0, 0, 0, 0, 0, 0, 0, 0, 0, 0, 0, 0, 0, 0, 0, 0, 0, 0, 0, 0, 0, 0, 0, 0, 0, 0, 0, 0, 0, 0, 0, 0, 0, 0, 0, 0, 0, 0, 0, 0, 0, 0, 0, 0, 0, 0, 0, 0, 0, 0, 0, 0, 0, 0, 0, 0, 0, 0, 0, 0, 0, 0, 0, 0, 0, 0, 0, 0, 0, 0, 0, 0, 0, 0, 0, 0, 0, 0, 0, 0, 0, 0, 0, 0, 0, 0, 0, 0, 0, 0, 0, 0, 0, 0, 0, 0, 0, 0, 0, 0, 0, 0, 0, 0, 0, 0, 0, 0, 0, 0, 0, 0, 0, 0, 0, 0, 0, 0, 0, 0, 0, 0, 0, 0, 0, 0, 0, 0, 0, 0, 0, 0, 0, 0, 0, 0, 0, 0, 0, 0, 0, 0, 0, 0, 0, 0, 0, 0, 0, 0, 0, 0, 0, 0, 0, 0, 0, 0, 0, 0, 0, 0, 0, 0, 0, 0, 0, 0, 0, 0, 0, 0, 0, 0, 0, 0, 0, 0, 0, 0, 0, 0, 0, 0, 0, 0, 0, 0, 0, 0, 0, 0, 0, 0, 0, 0, 0, 0, 0, 0, 0, 0, 0, 0, 0, 0, 0, 0, 0, 0, 0, 0, 0, 0, 0, 0, 0, 0, 0, 0, 0, 0, 0, 0, 0, 0, 0, 0, 0, 0, 0, 0, 0, 0, 0, 0, 0, 0, 0, 0, 0, 0, 0, 0, 0, 0, 0, 0, 0, 0, 0, 0, 0, 0, 0, 0, 0, 0, 0, 0, 0, 0, 0, 0, 0, 0, 0, 0, 0, 0, 0, 0, 0, 0, 0, 0, 0, 0, 0, 0, 1, 0, 0, 0, 0, 0, 0, 0, 0, 0, 0, 0, 0, 0, 0, 0, 0, 0, 0, 0, 0, 0, 0, 0, 0, 0, 0, 0, 0, 0, 0, 0, 0, 0, 0, 0, 0, 0, 0, 0, 0, 0, 0, 0, 0, 0, 0, 0, 0, 0, 0, 0, 0, 0, 0, 0, 0, 0, 0, 0, 0, 0, 0, 0, 0, 0, 0, 0, 0, 0, 0, 0, 0, 0, 0, 0, 0, 0, 0, 0, 0, 0, 0, 0, 0, 0, 0, 0, 0, 0, 0, 0, 0, 0, 0, 0, 0, 0, 0, 0, 0, 0, 0, 0, 0, 0, 0, 0, 0, 0, 0, 0, 0, 0, 0, 0, 0, 0, 0, 0, 0, 0, 0, 0, 0, 0, 0, 0, 0, 0, 0, 0, 0, 0, 0, 0, 0, 0, 0, 0, 0, 0, 0, 0, 0, 0, 0, 0, 0, 0, 0, 0, 0, 0, 0, 0, 0, 0, 0, 0, 0, 0, 0, 0, 0, 0, 0, 0, 0, 0, 0, 0, 0, 0, 0, 0, 0, 0, 0, 0, 0, 0, 0, 0, 0, 0, 0, 0, 0, 0, 0, 0, 0, 0, 0, 0, 0, 0, 0, 0, 0, 0, 0, 0, 0, 0, 0, 0, 0, 0, 0, 0, 0, 0, 0, 0, 0, 0, 0, 0, 0, 0, 0, 0, 0, 0, 0, 0, 0, 0, 0, 0, 0, 0, 0, 0, 0, 0, 0, 0, 0, 0, 0, 0, 0, 0, 0, 0, 0, 0, 0, 0, 0, 0, 0, 0, 0, 0, 0, 0, 0, 0, 0, 0, 0, 0, 0, 0, 0, 0, 0, 0, 0, 0, 0, 0, 0, 0, 0, 0, 0, 0, 0, 0, 0, 0, 0, 0, 0, 0, 0, 0, 0, 0, 0, 0, 0, 0, 0, 0, 0, 0, 0, 0, 0, 0, 0, 0, 0, 0, 0, 0, 0, 0, 0, 0, 0, 0, 0, 0, 0, 0, 0, 0, 0, 0, 0, 0, 0, 0, 0, 0, 0, 0, 0, 0, 0, 0, 0, 0, 0, 0, 0, 0, 0, 0, 0, 0, 0, 0, 0, 0, 0, 0, 0, 0, 0, 0, 0, 0, 0, 0, 0, 0, 0, 0, 0, 0, 0, 0, 0, 0, 0, 0, 0, 0, 0, 0, 0, 0, 0, 0, 0, 0, 0, 0, 0, 0, 0, 0, 0, 0, 0, 0, 0, 0, 0, 0, 0, 0, 0, 0, 0, 0, 0, 0, 0, 0, 0, 0, 0, 0, 0, 0, 0, 0, 0, 0, 0, 0, 0, 0, 0, 0, 0, 0, 0, 0, 0, 0, 0, 0, 0, 0, 0, 0, 0, 0, 0, 0, 0, 0, 0, 0, 0, 0, 0, 0, 0, 0, 0, 0, 0, 0, 0, 0, 0, 0, 0, 0, 0, 0, 0, 0, 0, 0, 0, 0, 0, 0, 0, 0, 0, 0, 0, 0, 0, 0, 0, 0, 0, 0, 0, 0, 0, 0, 0, 0, 0, 0, 0, 0, 0, 0, 0, 0, 0, 0, 0, 0, 0, 0, 0, 0, 0, 0, 0, 0, 0, 0, 0, 0, 0, 0, 1, 0, 0, 0, 0, 0, 0, 0, 0, 0, 0, 0, 0, 0, 0, 0, 0, 0, 0, 0, 0, 0, 0, 0, 0, 0, 0, 0, 0, 0, 0, 0, 0, 0, 0, 0, 2, 0, 0, 0, 0, 0, 0, 0, 0, 0, 0, 0, 0, 0, 0, 0, 0, 0, 0, 0, 0, 0, 0, 0, 0, 0, 0, 0, 0, 0, 0, 0, 0, 0, 0, 0, 0, 0, 0, 0, 0, 1, 0, 0, 0, 0, 0, 0, 0, 0, 0, 0, 0, 0, 0, 0, 0, 0, 0, 0, 0, 0, 0, 0, 0, 0, 0, 0, 0, 0, 0, 0, 0, 0, 0, 0, 0, 0, 0, 0, 0, 0, 0, 0, 0, 0, 0, 0, 0, 0, 0, 0, 0, 0, 0, 0, 0, 0, 0, 0, 0, 0, 0, 0, 0, 0, 0, 0, 0, 0, 0, 0, 0, 0, 0, 0, 0, 0, 0, 0, 0, 0, 0, 0, 0, 0, 0, 0, 0, 0, 0, 0, 0, 0, 0, 0, 0, 0, 0, 0, 0, 0, 0, 0, 0, 0, 0, 0, 0, 0, 0, 0, 0, 0, 0, 0, 0, 0, 0, 0, 0, 0, 0, 0, 0, 0, 0, 0, 0, 0, 0, 0, 0, 0, 0, 0, 0, 0, 0, 0, 0, 0, 0, 0, 0, 0, 0, 0, 0, 0, 0, 0, 0, 0, 0, 0, 0, 0, 0, 0, 0, 0, 0, 0, 0, 0, 0, 0, 0, 0, 0, 0, 0, 0, 0, 0, 0, 0, 0, 0, 0, 0, 0, 0, 0, 0, 0, 0, 0, 0, 0, 0, 0, 0, 0, 0, 0, 0, 0, 0, 0, 0, 0, 0, 0, 0, 0, 0, 0, 0, 0, 0, 0, 0, 0, 0, 0, 0, 0, 0, 0, 0, 0, 0, 0, 0, 0, 0, 0, 0, 0, 0, 0, 0, 0, 0, 0, 0, 0, 0, 0, 0, 0, 0, 0, 0, 0, 0, 0, 0, 0, 0, 0, 0, 0, 0, 0, 0, 0, 0, 0, 0, 0, 0, 0, 0, 0, 0, 0, 0, 0, 0, 0, 0, 0, 0, 0, 0, 0, 0, 0, 0, 0, 0, 0, 0, 0, 0, 0, 0, 0, 0, 0, 0, 0, 0, 0, 0, 0, 0, 0, 0, 0, 0, 0, 0, 0, 0, 0, 0, 0, 0, 0, 0, 0, 0, 0, 0, 0, 0, 0, 0, 0, 0, 0, 0, 0, 0, 0, 0, 0, 0, 0, 0, 0, 0, 0, 0, 0, 0, 0, 0, 0, 0, 0, 0, 0, 0, 0, 0, 0, 0, 0, 0, 0, 0, 0, 0, 0, 0, 0, 0, 0, 0, 0, 0, 0, 0, 0, 0, 0, 0, 0, 0, 0, 0, 0, 0, 0, 0, 0, 0, 0, 0, 0, 0, 0, 0, 0, 0, 0, 0, 0, 0, 0, 0, 0, 0, 0, 0, 0, 0, 0, 0, 0, 0, 0, 0, 0, 0, 0, 0, 0, 0, 0, 0, 0, 0, 0, 0, 0, 0, 0, 0, 0, 0, 0, 0, 0, 0, 0, 0, 0, 0, 0, 0, 0, 0, 0, 0, 0, 0, 0, 0, 0, 0, 0, 0, 0, 0, 0, 0, 0, 0, 0, 0, 0, 0, 0, 0, 0, 0, 0, 0, 0, 0, 0, 0, 0, 0, 0, 0, 0, 0, 0, 0, 0, 0, 0, 0, 0, 0, 0, 0, 0, 0, 0, 0, 0, 0, 0, 0, 0, 0, 0, 0, 0, 0, 0, 0, 1, 0, 0, 0, 0, 0, 0, 0, 0, 0, 0, 0, 0, 0, 0, 0, 0, 0, 0, 0, 0, 0, 0, 0, 0, 0, 0, 0, 0, 0, 0, 0, 0, 0, 0, 0, 0, 0, 0, 0, 0, 0, 0, 0, 0, 0, 0, 0, 0, 0, 0, 0, 0, 0, 0, 0, 0, 0, 0, 0, 0, 0, 0, 0, 0, 0, 0, 0, 0, 0, 0, 0, 0, 0, 0, 0, 0, 0, 0, 0, 0, 0, 0, 0, 0, 0, 0, 0, 0, 0, 0, 0, 0, 0, 0, 0, 0, 0, 0, 0, 0, 0, 0, 0, 0, 0, 0, 0, 0, 0, 2, 0, 0, 0, 0, 0, 0, 0, 0, 0, 0, 0, 0, 0, 0, 0, 0, 0, 0, 0, 0, 0, 0, 0, 0, 0, 0, 0, 0, 0, 0, 0, 0, 0, 0, 0, 0, 0, 0, 0, 0, 0, 0, 0, 0, 0, 0, 0, 0, 0, 0, 0, 0, 0, 0, 0, 0, 0, 0, 0, 0, 0, 0, 0, 0, 0, 0, 0, 0, 0, 0, 0, 0, 0, 0, 0, 0, 0, 0, 0, 0, 0, 0, 0, 0, 0, 0, 0, 0, 0, 0, 0, 0, 0, 0, 0, 0, 0, 0, 0, 0, 0, 0, 0, 0, 0, 0, 0, 0, 0, 0, 0, 0, 0, 0, 0, 0, 0, 0, 0, 0, 0, 0, 0, 0, 0, 0, 0, 0, 0, 0, 0, 0, 0, 0, 0, 0, 0, 0, 0, 0, 0, 0, 0, 0, 0, 0, 0, 0, 0, 0, 0, 0, 0, 0, 0, 0, 0, 0, 0, 0, 0, 0, 0, 0, 0, 0, 0, 0, 0, 0, 0, 0, 0, 0, 0, 0, 0, 0, 0, 0, 0, 0, 0, 0, 0, 0, 0, 0, 0, 0, 0, 0, 0, 0, 0, 0, 0, 0, 0, 0, 0, 0, 0, 0, 0, 0, 0, 0, 0, 0, 0, 0, 0, 0, 0, 0, 0, 0, 0, 0, 0, 0, 0, 0, 0, 0, 0, 0, 0, 0, 0, 0, 0, 0, 0, 0, 0, 0, 0, 0, 0, 0, 0, 0, 0, 0, 0, 0, 0, 0, 0, 0, 0, 0, 0, 0, 0, 0, 0, 0, 0, 0, 0, 0, 0, 0, 0, 0, 0, 0, 0, 0, 0, 0, 0, 0, 0, 0, 0, 0, 0, 0, 0, 0, 0, 0, 0, 0, 0, 0, 0, 0, 0, 0, 0, 0, 0, 0, 0, 0, 0, 0, 0, 0, 0, 0, 0, 0, 0, 0, 0, 0, 0, 0, 0, 0, 0, 0, 0, 0, 0, 0, 0, 0, 0, 0, 0, 0, 0, 0, 0, 0, 0, 0, 0, 0, 0, 0, 0, 0, 0, 0, 0, 0, 0, 0, 0, 0, 0, 0, 0, 0, 0, 0, 0, 0, 0, 0, 0, 0, 0, 0, 0, 0, 0, 0, 0, 0, 0, 0, 0, 0, 0, 0, 0, 0, 0, 0, 0, 0, 0, 0, 0, 0, 0, 0, 0, 0, 0, 0, 0, 0, 0, 0, 0, 0, 0, 0, 0, 0, 0, 0, 0, 0, 0, 0, 0, 0, 0, 0, 0, 0, 0, 0, 0, 0, 0, 0, 0, 0, 0, 0, 0, 0, 0, 0, 0, 0, 0, 0, 0, 0, 0, 0, 0, 0, 0, 0, 0, 0, 0, 0, 0, 0, 0, 0, 0, 0, 0, 0, 0, 0, 0, 0, 0, 0, 0, 0, 0, 0, 0, 0, 0, 0, 0, 0, 0, 0, 0, 0, 0, 0, 0, 0, 0, 0, 0, 0, 0, 0, 0, 0, 0, 0, 0, 0, 0, 0, 0, 0, 0, 0, 0, 0, 0, 0, 0, 0, 0, 0, 0, 0, 0, 0, 0, 0, 0, 0, 0, 0, 0, 0, 0, 0, 0, 0, 0, 0, 0, 0, 0, 0, 0, 0, 0, 0, 0, 0, 0, 0, 0, 0, 0, 0, 0, 0, 0, 0, 0, 0, 0, 0, 0, 0, 0, 0, 0, 0, 0, 0, 0, 0, 0, 0, 0, 0, 0, 0, 0, 0, 0, 0, 0, 0, 0, 0, 0, 0, 0, 0, 0, 0, 0, 0, 0, 0, 0, 0, 0, 0, 0, 0, 0, 0, 0, 0, 0, 0, 0, 0, 0, 0, 0, 0, 0, 0, 0, 0, 0, 0, 0, 0, 0, 0, 0, 0, 0, 0, 0, 0, 0, 0, 0, 0, 0, 0, 0, 0, 0, 0, 0, 0, 0, 0, 0, 0, 0, 0, 0, 0, 0, 0, 0, 0, 0, 0, 0, 0, 0, 0, 0, 0, 0, 0, 0, 0, 0, 0, 0, 0, 0, 0, 0, 0, 0, 0, 0, 0, 0, 0, 0, 0, 0, 0, 0, 0, 0, 0, 0, 0, 0, 0, 0, 0, 0, 0, 0, 0, 0, 0, 0, 0, 0, 0, 0, 0, 0, 0, 1, 0, 0, 0, 0, 0, 0, 0, 0, 0, 0, 0, 0, 0, 0, 0, 0, 0, 0, 0, 0, 0, 0, 0, 0, 0, 0, 0, 0, 0, 0, 0, 0, 0, 0, 0, 0, 0, 0, 0, 0, 0, 0, 0, 0, 0, 0, 0, 0, 0, 0, 0, 0, 0, 0, 0, 0, 0, 0, 0, 0, 0, 0, 0, 0, 0, 0, 0, 0, 0, 0, 0, 0, 0, 0, 0, 0, 0, 0, 0, 0, 0, 0, 0, 0, 0, 0, 0, 0, 0, 0, 0, 0, 0, 0, 0, 0, 0, 0, 0, 0, 0, 0, 0, 0, 0, 0, 0, 1, 0, 0, 0, 0, 0, 0, 0, 0, 0, 0, 0, 0, 0, 0, 0, 0, 0, 0, 0, 0, 0, 0, 0, 0, 0, 0, 0, 0, 0, 0, 0, 0, 0, 0, 0, 0, 0, 0, 0, 0, 0, 0, 0, 0, 0, 0, 0, 0, 0, 0, 0, 0, 0, 0, 0, 0, 0, 0, 0, 0, 0, 0, 0, 0, 0, 0, 0, 0, 0, 0, 0, 0, 0, 0, 0, 0, 0, 0, 0, 0, 0, 0, 0, 0, 0, 0, 0, 0, 0, 0, 0, 0, 0, 0, 0, 0, 0, 0, 0, 0, 0, 0, 0, 0, 0, 0, 0, 0, 0, 0, 0, 0, 0, 0, 0, 0, 0, 0, 0, 0, 0, 0, 0, 0, 0, 0, 0, 0, 0, 0, 0, 0, 0, 0, 0, 0, 0, 0, 0, 0, 0, 0, 0, 0, 0, 0, 0, 0, 0, 0, 0, 0, 0, 0, 0, 0, 0, 0, 0, 0, 0, 0, 0, 0, 0, 0, 0, 0, 0, 0, 0, 0, 0, 0, 0, 0, 0, 0, 0, 0, 0, 0, 0, 0, 0, 0, 0, 0, 0, 0, 0, 0, 0, 0, 0, 0, 0, 0, 0, 0, 0, 0, 0, 0, 0, 0, 0, 0, 0, 0, 0, 0, 0, 0, 0, 0, 0, 0, 0, 0, 0, 0, 0, 0, 0, 0, 0, 0, 0, 0, 0, 0, 0, 0, 0, 0, 0, 0, 0, 0, 0, 0, 0, 0, 0, 0, 0, 0, 0, 0, 0, 0, 0, 0, 0, 0, 0, 0, 0, 0, 0, 0, 0, 0, 0, 0, 0, 0, 0, 0, 0, 0, 0, 0, 0, 0, 0, 0, 0, 0, 0, 0, 0, 0, 0, 0, 0, 0, 0, 0, 0, 0, 0, 0, 0, 0, 0, 0, 0, 0, 0, 0, 0, 0, 0, 0, 0, 0, 0, 0, 0, 0, 0, 0, 0, 0, 0, 0, 0, 0, 0, 0, 0, 0, 0, 0, 0, 0, 0, 0, 0, 0, 0, 0, 0, 0, 0, 0, 0, 0, 0, 0, 0, 0, 0, 0, 0, 0, 0, 0, 0, 0, 0, 0, 0, 0, 0, 0, 0, 0, 0, 0, 0, 0, 0, 0, 0, 0, 0, 0, 0, 0, 0, 0, 0, 0, 0, 0, 0, 0, 0, 0, 0, 0, 0, 0, 0, 0, 0, 0, 0, 0, 0, 0, 0, 0, 0, 0, 0, 0, 0, 0, 0, 0, 0, 0, 0, 0, 0, 0, 0, 0, 0, 0, 0, 0, 0, 0, 0, 0, 0, 0, 0, 0, 0, 0, 0, 0, 0, 0, 0, 0, 0, 0, 0, 0, 0, 0, 0, 0, 0, 0, 0, 0, 0, 0, 0, 0, 0, 0, 0, 0, 0, 0, 0, 0, 0, 0, 0, 0, 0, 0, 0, 0, 2, 0, 1, 0], type: <class 'list'>, valid types: <class 'bytes'>, <class 'bytearray'>, file-like object"
     ]
    }
   ],
   "source": [
    "response = runtime.invoke_endpoint(EndpointName = xgb_predictor.endpoint, # The name of the endpoint we created\n",
    "                                       ContentType = 'text/csv',                     # The data format that is expected\n",
    "                                       Body = test_bow)"
   ]
  },
  {
   "cell_type": "markdown",
   "metadata": {},
   "source": [
    "So why did we get an error?\n",
    "\n",
    "Because we tried to send the endpoint a list of integers but it expected us to send data of type `text/csv`. So, we need to convert it."
   ]
  },
  {
   "cell_type": "code",
   "execution_count": 80,
   "metadata": {},
   "outputs": [
    {
     "data": {
      "text/plain": [
       "'0,0,0,0,0,0,0,0,0,0,0,0,0,0,0,0,0,0,0,0,0,0,0,0,0,0,0,0,0,0,0,0,0,0,0,0,0,0,0,0,0,0,0,0,0,0,0,0,0,0,0,0,0,0,0,0,0,0,0,0,0,0,0,0,0,0,0,0,0,0,0,0,0,0,0,0,0,0,0,0,0,0,0,0,0,0,0,0,0,0,0,0,0,0,0,0,0,0,0,0,0,0,0,0,0,0,0,0,0,0,0,0,0,0,0,0,0,0,0,0,0,0,0,0,0,0,0,0,0,0,0,0,0,0,0,0,0,0,0,0,0,0,0,0,0,0,0,0,0,0,0,0,0,0,0,0,0,0,0,0,0,0,0,0,0,0,0,0,0,0,0,0,0,0,0,0,0,0,0,0,0,0,0,0,0,0,0,0,0,0,0,0,0,0,0,0,0,0,0,0,0,0,0,0,0,0,0,0,0,0,0,0,0,0,0,0,0,0,0,0,0,0,0,0,0,0,0,1,0,0,0,0,0,0,0,0,0,0,0,0,0,0,0,0,0,0,0,0,0,0,0,0,0,0,0,0,1,0,0,0,0,0,0,0,0,0,0,0,0,0,0,0,0,0,0,0,0,0,0,0,0,0,0,0,0,0,0,0,0,0,0,0,0,0,0,0,0,0,0,0,0,0,0,0,0,0,0,0,0,0,0,0,0,0,0,0,0,0,0,0,0,0,0,0,0,0,0,0,0,0,0,0,0,0,0,0,0,0,0,0,0,0,0,0,0,0,0,0,0,0,0,0,0,0,0,0,0,0,0,0,0,0,0,0,0,0,0,0,0,0,0,0,0,0,0,0,0,0,0,0,0,0,0,0,0,0,0,0,0,0,0,0,0,0,0,0,0,0,0,0,0,0,0,0,0,0,0,0,0,0,0,0,0,0,0,0,0,0,0,0,0,0,0,0,0,0,0,0,0,0,0,0,0,0,0,0,0,0,0,0,0,0,0,0,0,0,0,0,0,0,0,0,0,0,0,0,0,0,0,0,0,0,0,0,0,0,0,0,0,0,0,0,0,0,0,0,0,0,0,0,0,0,0,0,0,0,0,0,0,0,0,0,0,0,0,0,0,0,0,0,0,0,0,0,0,0,0,0,0,0,0,0,0,0,0,0,0,0,0,0,0,0,0,0,0,0,0,0,0,0,0,0,0,0,0,0,0,0,0,0,0,0,0,0,0,0,0,0,0,0,0,0,0,0,0,0,0,0,0,0,0,0,0,0,0,0,0,0,0,0,0,0,0,0,0,0,0,0,0,0,0,0,0,0,0,0,0,0,0,0,0,0,0,0,0,0,0,0,0,0,0,0,0,0,0,0,0,0,0,0,0,0,0,0,0,0,0,0,0,0,0,0,0,0,0,0,0,0,0,0,0,0,0,0,0,0,1,0,0,0,0,0,0,0,0,0,0,0,0,0,0,0,0,0,0,0,0,0,0,0,0,0,0,0,0,0,0,0,0,0,0,0,0,0,0,0,0,0,0,0,0,0,0,0,0,0,0,0,0,0,0,0,0,0,0,0,0,0,0,0,0,0,0,0,0,0,0,0,0,0,0,0,0,0,0,0,0,0,0,0,0,0,0,0,0,0,0,0,0,0,0,0,0,0,0,0,0,0,0,0,0,0,0,0,0,0,0,0,0,0,0,0,0,0,0,0,0,0,0,0,0,0,0,0,0,0,0,0,0,0,0,0,0,0,0,0,0,0,0,0,0,0,0,0,0,0,0,0,0,0,0,0,0,0,0,0,0,0,0,0,0,0,0,0,0,0,0,0,0,0,0,0,0,0,0,0,0,0,0,0,0,0,0,0,0,0,0,0,0,0,0,0,0,0,0,0,0,0,0,0,0,0,0,0,0,0,0,0,0,0,0,0,0,0,0,0,0,0,0,0,0,0,0,0,0,0,0,0,0,0,0,0,0,0,0,0,0,0,0,0,0,0,0,0,0,0,0,0,0,0,1,0,0,0,0,0,0,0,0,0,0,0,0,0,0,0,0,0,0,0,0,0,0,0,0,0,0,0,0,0,0,0,0,0,0,0,0,0,0,0,0,0,0,0,0,0,0,0,0,0,0,0,0,0,0,0,0,0,0,0,0,0,0,0,0,0,0,0,0,0,0,0,0,0,0,0,0,0,0,0,0,0,0,0,0,0,0,0,1,0,0,0,0,0,0,0,0,0,0,0,0,0,0,0,0,0,0,0,0,0,0,0,0,0,0,0,0,0,0,0,0,0,0,0,0,0,0,0,0,0,0,0,0,0,0,0,0,0,0,0,0,0,0,0,0,0,0,0,0,0,0,0,0,0,0,0,0,0,0,0,0,0,0,0,0,0,0,0,0,0,0,0,0,0,0,0,0,0,0,0,0,0,0,0,0,0,0,0,0,0,0,0,0,0,0,0,0,0,0,0,0,0,0,0,0,0,0,0,0,0,0,0,0,0,0,0,0,0,0,0,0,0,0,0,0,0,0,0,0,0,0,0,0,0,0,0,0,0,0,0,0,0,0,0,0,0,0,0,0,0,0,0,0,0,0,0,0,0,0,0,0,0,0,0,0,0,0,0,0,0,0,0,0,0,0,0,0,0,0,0,0,0,0,0,0,0,0,0,0,0,0,0,0,0,0,0,0,0,0,0,0,0,0,0,0,0,0,0,0,0,0,0,0,0,0,0,0,0,0,0,0,0,0,0,0,0,0,0,0,0,0,0,0,0,0,0,0,0,0,0,1,0,0,0,0,0,0,0,0,0,0,0,0,0,0,0,0,0,0,0,0,0,0,0,0,0,0,0,0,0,0,0,0,0,0,0,0,0,0,0,0,0,0,0,0,0,0,0,0,0,0,0,0,0,0,0,1,0,0,0,0,0,0,0,0,0,0,0,0,0,0,0,0,0,0,0,0,0,0,0,0,0,0,0,0,0,0,0,0,0,0,0,0,0,0,0,0,0,0,0,0,0,0,0,0,0,0,0,0,0,0,0,0,0,0,0,0,0,0,0,0,0,0,0,0,0,0,0,0,0,0,0,0,0,0,0,0,0,0,0,0,0,0,0,0,0,0,0,0,0,0,0,0,0,0,0,0,0,0,0,0,0,0,0,0,0,0,0,0,0,0,0,0,0,0,0,0,0,0,0,0,0,0,0,0,0,0,0,0,0,0,0,0,0,0,0,0,0,0,0,0,0,0,0,0,0,0,0,0,0,0,0,0,0,0,0,0,0,0,0,0,0,0,0,0,0,0,0,0,0,0,0,0,0,0,0,0,0,0,0,0,0,0,0,0,0,0,0,0,0,0,0,0,0,0,0,0,0,0,0,0,0,0,0,0,0,0,0,0,0,0,0,0,0,0,0,0,0,0,0,0,0,0,0,0,0,0,0,0,0,0,0,0,0,0,0,0,0,0,0,0,0,0,0,0,0,0,0,0,0,0,0,0,0,0,0,0,0,0,0,0,0,0,0,0,0,0,0,0,0,0,0,0,0,0,0,0,0,0,0,0,0,0,0,0,0,0,0,0,0,0,0,0,0,0,0,0,0,0,0,0,0,0,0,0,0,0,0,0,0,0,0,0,0,0,0,0,0,0,0,0,0,0,0,0,0,0,0,0,0,0,0,0,0,0,0,0,0,0,0,0,0,0,0,0,0,0,0,0,0,0,0,0,0,0,0,0,0,0,0,0,0,0,0,0,0,0,0,0,0,0,0,0,0,0,0,0,0,0,0,0,0,0,0,0,0,0,0,0,0,0,0,0,0,0,0,0,0,0,0,0,0,0,0,0,0,0,0,0,0,0,0,0,0,0,0,0,0,0,0,0,0,0,0,0,0,0,0,0,0,0,0,0,0,0,0,0,0,0,0,0,0,0,0,0,0,0,0,0,0,0,0,0,0,0,0,0,0,0,0,0,0,0,0,0,0,0,0,0,0,0,0,0,0,0,0,0,0,0,0,0,0,0,0,0,0,0,0,0,0,0,0,0,0,0,0,0,0,0,0,0,0,0,0,0,0,0,0,0,0,0,0,0,0,0,0,0,0,0,0,0,0,0,0,0,0,0,0,0,0,0,0,0,0,0,0,0,0,0,0,0,0,0,0,0,0,0,0,0,0,0,0,0,0,0,0,0,0,0,0,0,0,0,0,0,0,0,0,0,0,0,0,0,0,0,0,0,0,0,0,0,0,0,0,0,0,0,0,0,0,0,0,0,0,0,0,0,0,0,0,0,0,0,0,0,0,0,0,0,0,0,0,0,0,0,0,0,0,0,0,0,0,0,0,0,0,0,0,0,0,0,0,0,0,0,0,0,0,0,0,0,0,0,0,0,0,0,0,0,0,0,0,0,0,0,0,0,0,0,0,0,0,0,0,0,0,0,0,0,0,0,0,0,0,0,0,0,0,0,1,0,0,0,0,0,0,0,0,0,0,0,0,0,0,0,0,0,0,0,0,0,0,0,0,0,0,0,0,0,0,0,0,0,0,0,0,0,0,0,0,0,0,0,0,0,0,0,0,0,0,0,0,0,0,0,0,0,0,0,0,0,0,0,0,0,0,0,0,0,0,0,0,0,0,1,0,0,0,0,0,0,0,0,0,0,0,0,0,0,0,0,0,0,0,0,1,0,0,1,0,0,0,0,0,0,0,0,0,0,0,0,0,0,0,0,0,0,0,0,0,0,0,0,0,0,0,0,0,0,0,0,0,0,0,0,0,0,0,0,0,0,0,0,0,0,0,0,0,0,0,0,0,0,0,0,0,0,0,0,0,0,0,0,0,0,0,0,0,0,0,0,0,0,0,0,0,0,0,0,0,0,0,0,0,0,0,0,0,0,0,0,0,0,0,0,0,0,0,0,0,0,0,0,0,0,0,0,0,0,0,0,0,0,0,0,0,0,0,0,0,0,0,0,0,0,0,0,0,0,0,0,0,0,0,0,0,0,0,0,0,0,0,0,0,0,0,0,0,0,0,0,0,0,0,0,0,0,0,0,0,0,0,0,0,0,0,0,0,0,0,0,0,0,0,0,0,0,0,0,0,0,0,0,0,0,0,0,0,0,0,0,0,0,0,0,0,0,0,0,0,0,0,0,0,0,0,0,0,0,0,0,0,0,0,0,0,0,0,0,0,0,0,0,0,0,0,0,0,0,0,0,0,0,0,0,0,0,0,0,0,0,0,0,0,0,0,0,0,0,0,0,0,0,0,0,0,0,0,0,0,0,0,0,0,0,0,0,0,0,0,0,0,0,0,0,0,0,0,0,0,0,0,0,0,0,0,0,0,0,0,0,0,0,0,0,0,0,0,0,0,0,0,0,0,0,0,0,0,0,0,0,0,0,0,0,0,0,0,0,0,0,0,0,0,0,0,0,0,0,0,0,0,0,0,0,0,0,0,0,0,0,0,0,0,0,0,0,0,0,0,0,0,0,0,0,0,0,0,0,0,0,0,0,0,0,0,0,0,0,0,0,0,0,0,0,0,0,0,0,0,0,0,0,0,0,0,0,0,0,0,0,0,0,0,0,0,0,0,0,0,0,0,0,0,0,0,0,0,0,0,0,0,0,0,0,0,0,0,0,0,0,0,0,0,0,0,0,0,0,0,0,0,0,0,0,0,0,0,0,0,0,0,0,0,0,0,0,0,0,0,0,0,0,0,0,0,0,0,0,0,0,0,0,0,1,0,0,0,0,0,0,0,0,0,0,0,0,0,0,0,0,0,0,0,0,0,0,0,0,0,0,0,0,0,0,0,0,0,0,0,0,0,0,0,0,0,0,0,0,0,0,0,0,0,0,0,0,0,0,0,0,0,0,0,0,0,0,0,0,0,0,0,0,0,0,0,0,0,0,0,0,0,0,0,0,0,0,0,0,0,0,0,0,0,0,0,0,0,0,0,0,0,0,0,0,0,0,0,0,0,0,0,0,0,0,0,0,0,0,0,0,0,0,0,0,0,0,0,0,0,0,0,0,0,0,0,0,0,0,0,0,0,0,0,0,0,0,0,0,0,0,0,0,0,0,0,0,0,0,0,0,0,0,0,0,0,0,0,0,0,0,0,0,0,0,0,0,0,0,0,0,0,0,0,0,0,0,0,0,0,0,0,0,0,0,0,0,0,0,0,0,0,0,0,0,0,0,0,0,0,0,0,0,0,0,0,0,0,0,0,0,0,0,0,0,0,0,0,0,0,0,0,0,0,0,0,0,0,0,0,0,0,0,0,0,0,0,0,0,0,0,0,0,0,0,0,0,0,0,0,0,0,0,0,0,0,0,0,0,0,0,0,0,0,0,0,0,0,0,0,0,0,0,0,0,0,0,0,0,0,0,0,0,0,0,0,0,0,0,0,0,0,0,0,0,0,0,0,0,0,0,0,0,0,0,0,0,0,0,0,0,0,0,0,0,0,0,0,0,0,0,0,0,0,0,0,0,0,0,0,0,0,0,0,0,0,0,0,0,0,0,0,0,0,0,0,0,0,0,0,0,0,0,0,0,0,0,0,0,0,0,0,0,0,0,0,0,0,0,0,0,0,0,0,0,0,0,0,0,0,0,0,0,0,0,0,0,0,0,0,0,0,0,0,0,0,0,0,0,0,0,0,0,0,0,0,0,0,0,0,0,0,0,0,0,0,0,0,0,0,0,0,0,0,0,0,0,0,0,0,0,0,0,0,0,0,0,0,0,0,0,0,0,0,0,0,0,0,0,0,0,0,0,0,0,0,0,0,0,0,0,0,0,0,0,0,0,0,0,0,0,0,0,0,0,0,0,0,0,0,0,0,0,0,0,0,0,0,0,0,0,0,0,0,0,0,0,0,0,0,0,0,0,0,0,0,0,0,1,0,0,0,0,0,0,0,0,0,0,0,0,0,0,0,0,0,0,0,0,0,0,0,0,0,0,0,0,0,0,0,0,0,0,0,2,0,0,0,0,0,0,0,0,0,0,0,0,0,0,0,0,0,0,0,0,0,0,0,0,0,0,0,0,0,0,0,0,0,0,0,0,0,0,0,0,1,0,0,0,0,0,0,0,0,0,0,0,0,0,0,0,0,0,0,0,0,0,0,0,0,0,0,0,0,0,0,0,0,0,0,0,0,0,0,0,0,0,0,0,0,0,0,0,0,0,0,0,0,0,0,0,0,0,0,0,0,0,0,0,0,0,0,0,0,0,0,0,0,0,0,0,0,0,0,0,0,0,0,0,0,0,0,0,0,0,0,0,0,0,0,0,0,0,0,0,0,0,0,0,0,0,0,0,0,0,0,0,0,0,0,0,0,0,0,0,0,0,0,0,0,0,0,0,0,0,0,0,0,0,0,0,0,0,0,0,0,0,0,0,0,0,0,0,0,0,0,0,0,0,0,0,0,0,0,0,0,0,0,0,0,0,0,0,0,0,0,0,0,0,0,0,0,0,0,0,0,0,0,0,0,0,0,0,0,0,0,0,0,0,0,0,0,0,0,0,0,0,0,0,0,0,0,0,0,0,0,0,0,0,0,0,0,0,0,0,0,0,0,0,0,0,0,0,0,0,0,0,0,0,0,0,0,0,0,0,0,0,0,0,0,0,0,0,0,0,0,0,0,0,0,0,0,0,0,0,0,0,0,0,0,0,0,0,0,0,0,0,0,0,0,0,0,0,0,0,0,0,0,0,0,0,0,0,0,0,0,0,0,0,0,0,0,0,0,0,0,0,0,0,0,0,0,0,0,0,0,0,0,0,0,0,0,0,0,0,0,0,0,0,0,0,0,0,0,0,0,0,0,0,0,0,0,0,0,0,0,0,0,0,0,0,0,0,0,0,0,0,0,0,0,0,0,0,0,0,0,0,0,0,0,0,0,0,0,0,0,0,0,0,0,0,0,0,0,0,0,0,0,0,0,0,0,0,0,0,0,0,0,0,0,0,0,0,0,0,0,0,0,0,0,0,0,0,0,0,0,0,0,0,0,0,0,0,0,0,0,0,0,0,0,0,0,0,0,0,0,0,0,0,0,0,0,0,0,0,0,0,0,0,0,0,0,0,0,0,0,0,0,0,0,0,0,0,0,0,0,0,0,0,0,0,0,0,0,0,0,0,0,0,0,0,0,0,0,0,0,0,0,0,0,0,0,0,0,0,0,0,0,0,0,0,0,0,0,1,0,0,0,0,0,0,0,0,0,0,0,0,0,0,0,0,0,0,0,0,0,0,0,0,0,0,0,0,0,0,0,0,0,0,0,0,0,0,0,0,0,0,0,0,0,0,0,0,0,0,0,0,0,0,0,0,0,0,0,0,0,0,0,0,0,0,0,0,0,0,0,0,0,0,0,0,0,0,0,0,0,0,0,0,0,0,0,0,0,0,0,0,0,0,0,0,0,0,0,0,0,0,0,0,0,0,0,0,0,2,0,0,0,0,0,0,0,0,0,0,0,0,0,0,0,0,0,0,0,0,0,0,0,0,0,0,0,0,0,0,0,0,0,0,0,0,0,0,0,0,0,0,0,0,0,0,0,0,0,0,0,0,0,0,0,0,0,0,0,0,0,0,0,0,0,0,0,0,0,0,0,0,0,0,0,0,0,0,0,0,0,0,0,0,0,0,0,0,0,0,0,0,0,0,0,0,0,0,0,0,0,0,0,0,0,0,0,0,0,0,0,0,0,0,0,0,0,0,0,0,0,0,0,0,0,0,0,0,0,0,0,0,0,0,0,0,0,0,0,0,0,0,0,0,0,0,0,0,0,0,0,0,0,0,0,0,0,0,0,0,0,0,0,0,0,0,0,0,0,0,0,0,0,0,0,0,0,0,0,0,0,0,0,0,0,0,0,0,0,0,0,0,0,0,0,0,0,0,0,0,0,0,0,0,0,0,0,0,0,0,0,0,0,0,0,0,0,0,0,0,0,0,0,0,0,0,0,0,0,0,0,0,0,0,0,0,0,0,0,0,0,0,0,0,0,0,0,0,0,0,0,0,0,0,0,0,0,0,0,0,0,0,0,0,0,0,0,0,0,0,0,0,0,0,0,0,0,0,0,0,0,0,0,0,0,0,0,0,0,0,0,0,0,0,0,0,0,0,0,0,0,0,0,0,0,0,0,0,0,0,0,0,0,0,0,0,0,0,0,0,0,0,0,0,0,0,0,0,0,0,0,0,0,0,0,0,0,0,0,0,0,0,0,0,0,0,0,0,0,0,0,0,0,0,0,0,0,0,0,0,0,0,0,0,0,0,0,0,0,0,0,0,0,0,0,0,0,0,0,0,0,0,0,0,0,0,0,0,0,0,0,0,0,0,0,0,0,0,0,0,0,0,0,0,0,0,0,0,0,0,0,0,0,0,0,0,0,0,0,0,0,0,0,0,0,0,0,0,0,0,0,0,0,0,0,0,0,0,0,0,0,0,0,0,0,0,0,0,0,0,0,0,0,0,0,0,0,0,0,0,0,0,0,0,0,0,0,0,0,0,0,0,0,0,0,0,0,0,0,0,0,0,0,0,0,0,0,0,0,0,0,0,0,0,0,0,0,0,0,0,0,0,0,0,0,0,0,0,0,0,0,0,0,0,0,0,0,0,0,0,0,0,0,0,0,0,0,0,0,0,0,0,0,0,0,0,0,0,0,0,0,0,0,0,0,0,0,0,0,0,0,0,0,0,0,0,0,0,0,0,0,0,0,0,0,0,0,0,0,0,0,0,0,0,0,0,0,0,0,0,0,0,0,0,0,0,0,0,0,0,0,0,0,0,0,0,0,0,0,0,0,0,0,0,0,0,0,0,0,0,0,0,0,0,0,0,0,0,0,0,0,0,0,0,0,0,0,0,0,0,0,0,0,0,0,0,0,0,0,0,0,0,0,0,0,0,0,0,0,0,0,0,0,0,0,0,0,0,0,0,0,0,0,0,0,0,0,0,0,0,0,0,0,0,0,0,0,0,0,0,0,0,0,0,0,0,0,0,1,0,0,0,0,0,0,0,0,0,0,0,0,0,0,0,0,0,0,0,0,0,0,0,0,0,0,0,0,0,0,0,0,0,0,0,0,0,0,0,0,0,0,0,0,0,0,0,0,0,0,0,0,0,0,0,0,0,0,0,0,0,0,0,0,0,0,0,0,0,0,0,0,0,0,0,0,0,0,0,0,0,0,0,0,0,0,0,0,0,0,0,0,0,0,0,0,0,0,0,0,0,0,0,0,0,0,0,1,0,0,0,0,0,0,0,0,0,0,0,0,0,0,0,0,0,0,0,0,0,0,0,0,0,0,0,0,0,0,0,0,0,0,0,0,0,0,0,0,0,0,0,0,0,0,0,0,0,0,0,0,0,0,0,0,0,0,0,0,0,0,0,0,0,0,0,0,0,0,0,0,0,0,0,0,0,0,0,0,0,0,0,0,0,0,0,0,0,0,0,0,0,0,0,0,0,0,0,0,0,0,0,0,0,0,0,0,0,0,0,0,0,0,0,0,0,0,0,0,0,0,0,0,0,0,0,0,0,0,0,0,0,0,0,0,0,0,0,0,0,0,0,0,0,0,0,0,0,0,0,0,0,0,0,0,0,0,0,0,0,0,0,0,0,0,0,0,0,0,0,0,0,0,0,0,0,0,0,0,0,0,0,0,0,0,0,0,0,0,0,0,0,0,0,0,0,0,0,0,0,0,0,0,0,0,0,0,0,0,0,0,0,0,0,0,0,0,0,0,0,0,0,0,0,0,0,0,0,0,0,0,0,0,0,0,0,0,0,0,0,0,0,0,0,0,0,0,0,0,0,0,0,0,0,0,0,0,0,0,0,0,0,0,0,0,0,0,0,0,0,0,0,0,0,0,0,0,0,0,0,0,0,0,0,0,0,0,0,0,0,0,0,0,0,0,0,0,0,0,0,0,0,0,0,0,0,0,0,0,0,0,0,0,0,0,0,0,0,0,0,0,0,0,0,0,0,0,0,0,0,0,0,0,0,0,0,0,0,0,0,0,0,0,0,0,0,0,0,0,0,0,0,0,0,0,0,0,0,0,0,0,0,0,0,0,0,0,0,0,0,0,0,0,0,0,0,0,0,0,0,0,0,0,0,0,0,0,0,0,0,0,0,0,0,0,0,0,0,0,0,0,0,0,0,0,0,0,0,0,0,0,0,0,0,0,0,0,0,0,0,0,0,0,0,0,0,0,0,0,0,0,0,0,0,0,0,0,0,0,0,0,0,0,0,0,0,0,0,0,0,0,0,0,0,0,0,0,0,0,0,0,0,0,2,0,1,0'"
      ]
     },
     "execution_count": 80,
     "metadata": {},
     "output_type": "execute_result"
    }
   ],
   "source": [
    "check = ','.join([str(val) for val in test_bow])\n",
    "\n",
    "check"
   ]
  },
  {
   "cell_type": "code",
   "execution_count": 81,
   "metadata": {},
   "outputs": [],
   "source": [
    "response = runtime.invoke_endpoint(EndpointName = xgb_predictor.endpoint, # The name of the endpoint we created\n",
    "                                       ContentType = 'text/csv',                     # The data format that is expected\n",
    "                                       Body = ','.join([str(val) for val in test_bow]).encode('utf-8'))"
   ]
  },
  {
   "cell_type": "code",
   "execution_count": 82,
   "metadata": {},
   "outputs": [
    {
     "name": "stdout",
     "output_type": "stream",
     "text": [
      "{'ResponseMetadata': {'RequestId': '63ed51fc-e748-4a5f-8c66-034ee8adaf6b', 'HTTPStatusCode': 200, 'HTTPHeaders': {'x-amzn-requestid': '63ed51fc-e748-4a5f-8c66-034ee8adaf6b', 'x-amzn-invoked-production-variant': 'AllTraffic', 'date': 'Sat, 3 Oct 2020 20:09:04 GMT', 'content-type': 'text/csv; charset=utf-8', 'content-length': '13'}, 'RetryAttempts': 0}, 'ContentType': 'text/csv; charset=utf-8', 'InvokedProductionVariant': 'AllTraffic', 'Body': <botocore.response.StreamingBody object at 0x7f204c43c9e8>}\n"
     ]
    }
   ],
   "source": [
    "print(response)"
   ]
  },
  {
   "cell_type": "markdown",
   "metadata": {},
   "source": [
    "As we can see, the response from our model is a somewhat complicated looking dict that contains a bunch of information. The bit that we are most interested in is `'Body'` object which is a streaming object that we need to `read` in order to make use of."
   ]
  },
  {
   "cell_type": "code",
   "execution_count": 83,
   "metadata": {},
   "outputs": [
    {
     "name": "stdout",
     "output_type": "stream",
     "text": [
      "0.36486440897\n"
     ]
    }
   ],
   "source": [
    "response = response['Body'].read().decode('utf-8')\n",
    "print(response)"
   ]
  },
  {
   "cell_type": "markdown",
   "metadata": {},
   "source": [
    "Now that we know how to process the incoming user data we can start setting up the infrastructure to make our simple web app work. To do this we will make use of two different services. Amazon's Lambda and API Gateway services.\n",
    "\n",
    "Lambda is a service which allows someone to write some relatively simple code and have it executed whenever a chosen trigger occurs. For example, you may want to update a database whenever new data is uploaded to a folder stored on S3.\n",
    "\n",
    "API Gateway is a service that allows you to create HTTP endpoints (url addresses) which are connected to other AWS services. One of the benefits to this is that you get to decide what credentials, if any, are required to access these endpoints.\n",
    "\n",
    "In our case we are going to set up an HTTP endpoint through API Gateway which is open to the public. Then, whenever anyone sends data to our public endpoint we will trigger a Lambda function which will send the input (in our case a review) to our model's endpoint and then return the result."
   ]
  },
  {
   "cell_type": "markdown",
   "metadata": {},
   "source": [
    "### Setting up a Lambda function\n",
    "\n",
    "The first thing we are going to do is set up a Lambda function. This Lambda function will be executed whenever our public API has data sent to it. When it is executed it will receive the data, perform any sort of processing that is required, send the data (the review) to the SageMaker endpoint we've created and then return the result.\n",
    "\n",
    "#### Part A: Create an IAM Role for the Lambda function\n",
    "\n",
    "Since we want the Lambda function to call a SageMaker endpoint, we need to make sure that it has permission to do so. To do this, we will construct a role that we can later give the Lambda function.\n",
    "\n",
    "Using the AWS Console, navigate to the **IAM** page and click on **Roles**. Then, click on **Create role**. Make sure that the **AWS service** is the type of trusted entity selected and choose **Lambda** as the service that will use this role, then click **Next: Permissions**.\n",
    "\n",
    "In the search box type `sagemaker` and select the check box next to the **AmazonSageMakerFullAccess** policy. Then, click on **Next: Review**.\n",
    "\n",
    "Lastly, give this role a name. Make sure you use a name that you will remember later on, for example `LambdaSageMakerRole`. Then, click on **Create role**."
   ]
  },
  {
   "cell_type": "markdown",
   "metadata": {},
   "source": [
    "#### Part B: Create a Lambda function\n",
    "\n",
    "Now it is time to actually create the Lambda function. Remember from earlier that in order to process the user provided input and send it to our endpoint we need to gather two pieces of information:\n",
    "\n",
    " - The name of the endpoint, and\n",
    " - the vocabulary object.\n",
    "\n",
    "We will copy these pieces of information to our Lambda function after we create it.\n",
    "\n",
    "To start, using the AWS Console, navigate to the AWS Lambda page and click on **Create a function**. When you get to the next page, make sure that **Author from scratch** is selected. Now, name your Lambda function, using a name that you will remember later on, for example `sentiment_analysis_xgboost_func`. Make sure that the **Python 3.6** runtime is selected and then choose the role that you created in the previous part. Then, click on **Create Function**.\n",
    "\n",
    "On the next page you will see some information about the Lambda function you've just created. If you scroll down you should see an editor in which you can write the code that will be executed when your Lambda function is triggered. Collecting the code we wrote above to process a single review and adding it to the provided example `lambda_handler` we arrive at the following.\n",
    "\n",
    "```python\n",
    "# We need to use the low-level library to interact with SageMaker since the SageMaker API\n",
    "# is not available natively through Lambda.\n",
    "import boto3\n",
    "\n",
    "# And we need the regular expression library to do some of the data processing\n",
    "import re\n",
    "\n",
    "REPLACE_NO_SPACE = re.compile(\"(\\.)|(\\;)|(\\:)|(\\!)|(\\')|(\\?)|(\\,)|(\\\")|(\\()|(\\))|(\\[)|(\\])\")\n",
    "REPLACE_WITH_SPACE = re.compile(\"(<br\\s*/><br\\s*/>)|(\\-)|(\\/)\")\n",
    "\n",
    "def review_to_words(review):\n",
    "    words = REPLACE_NO_SPACE.sub(\"\", review.lower())\n",
    "    words = REPLACE_WITH_SPACE.sub(\" \", words)\n",
    "    return words\n",
    "    \n",
    "def bow_encoding(words, vocabulary):\n",
    "    bow = [0] * len(vocabulary) # Start by setting the count for each word in the vocabulary to zero.\n",
    "    for word in words.split():  # For each word in the string\n",
    "        if word in vocabulary:  # If the word is one that occurs in the vocabulary, increase its count.\n",
    "            bow[vocabulary[word]] += 1\n",
    "    return bow\n",
    "\n",
    "\n",
    "def lambda_handler(event, context):\n",
    "    \n",
    "    vocab = \"*** ACTUAL VOCABULARY GOES HERE ***\"\n",
    "    \n",
    "    words = review_to_words(event['body'])\n",
    "    bow = bow_encoding(words, vocab)\n",
    "\n",
    "    # The SageMaker runtime is what allows us to invoke the endpoint that we've created.\n",
    "    runtime = boto3.Session().client('sagemaker-runtime')\n",
    "\n",
    "    # Now we use the SageMaker runtime to invoke our endpoint, sending the review we were given\n",
    "    response = runtime.invoke_endpoint(EndpointName = '***ENDPOINT NAME HERE***',# The name of the endpoint we created\n",
    "                                       ContentType = 'text/csv',                 # The data format that is expected\n",
    "                                       Body = ','.join([str(val) for val in bow]).encode('utf-8')) # The actual review\n",
    "\n",
    "    # The response is an HTTP response whose body contains the result of our inference\n",
    "    result = response['Body'].read().decode('utf-8')\n",
    "    \n",
    "    # Round the result so that our web app only gets '1' or '0' as a response.\n",
    "    result = round(float(result))\n",
    "\n",
    "    return {\n",
    "        'statusCode' : 200,\n",
    "        'headers' : { 'Content-Type' : 'text/plain', 'Access-Control-Allow-Origin' : '*' },\n",
    "        'body' : str(result)\n",
    "    }\n",
    "```"
   ]
  },
  {
   "cell_type": "markdown",
   "metadata": {},
   "source": [
    "Once you have copy and pasted the code above into the Lambda code editor, replace the `**ENDPOINT NAME HERE**` portion with the name of the endpoint that we deployed earlier. You can determine the name of the endpoint using the code cell below."
   ]
  },
  {
   "cell_type": "code",
   "execution_count": 84,
   "metadata": {},
   "outputs": [
    {
     "data": {
      "text/plain": [
       "'xgboost-2020-10-03-19-35-37-565'"
      ]
     },
     "execution_count": 84,
     "metadata": {},
     "output_type": "execute_result"
    }
   ],
   "source": [
    "xgb_predictor.endpoint"
   ]
  },
  {
   "cell_type": "markdown",
   "metadata": {},
   "source": [
    "In addition, you will need to copy the vocabulary dict to the appropriate place in the code at the beginning of the `lambda_handler` method. The cell below prints out the vocabulary dict in a way that is easy to copy and paste."
   ]
  },
  {
   "cell_type": "code",
   "execution_count": 85,
   "metadata": {},
   "outputs": [
    {
     "name": "stdout",
     "output_type": "stream",
     "text": [
      "{'this': 4456, 'film': 1717, 'takes': 4350, 'you': 4986, 'on': 3106, 'one': 3108, 'familys': 1647, 'impossible': 2250, 'journey': 2422, 'and': 227, 'makes': 2716, 'feel': 1685, 'every': 1540, 'step': 4175, 'of': 3084, 'their': 4430, 'beautifully': 429, 'acted': 99, 'photographed': 3261, 'real': 3549, 'its': 2371, 'last': 2521, 'line': 2610, 'with': 4911, 'hope': 2156, 'is': 2361, 'the': 4425, 'more': 2905, 'powerful': 3363, 'in': 2258, 'memory': 2804, 'my': 2952, '10': 0, 'rating': 3531, 'merely': 2815, 'for': 1785, 'fun': 1849, 'factor': 1623, 'that': 4423, 'decided': 1149, 'liked': 2600, 'slaughter': 4021, 'high': 2101, 'even': 1534, 'before': 440, 'watching': 4814, 'it': 2367, 'yes': 4982, 'typical': 4621, 'revenge': 3676, 'several': 3905, 'years': 4979, 'after': 144, 'dirty': 1268, 'story': 4207, 'but': 636, 'how': 2182, 'can': 665, 'not': 3041, 'like': 2599, 'some': 4061, 'stuff': 4243, 'they': 4441, 'pull': 3464, 'here': 2087, 'couldnt': 1009, 'have': 2053, 'scene': 3809, 'million': 2848, 'ok': 3099, 'so': 4046, 'maybe': 2776, 'we': 4822, 'could': 1008, 'be': 418, 'cynical': 1094, 'say': 3799, 'movie': 2927, 'offers': 3091, 'nothing': 3048, 'new': 3004, 'well': 4842, 'doesnt': 1309, 'pretend': 3384, 'to': 4506, 'sort': 4077, 'flick': 1755, 'characters': 760, 'scream': 3826, 'probably': 3410, 'watched': 4812, 'rules': 3754, 'about': 68, 'survive': 4320, 'horror': 2169, 'all': 188, 'who': 4870, 'watch': 4810, 'people': 3224, 'suffer': 4275, 'doing': 1312, 'these': 4440, 'things': 4450, 'obviously': 3073, 'got': 1945, 'as': 311, 'get': 1900, 'what': 4857, '60s': 55, 'still': 4188, 'gotta': 1947, 'love': 2669, 'don': 1320, 'didnt': 1242, 'sing': 3992, 'king': 2480, 'queen': 3488, 'catholic': 720, 'had': 2004, '11': 2, 'school': 3813, 'hasnt': 2045, 'been': 438, 'mass': 2753, '35': 46, 'except': 1557, 'thought': 4461, 'id': 2213, 'kick': 2461, 'out': 3143, 'did': 1241, 'first': 1737, 'two': 4618, 'was': 4804, 'standard': 4144, 'sexuality': 3909, 'etc': 1528, 'then': 4435, 'suddenly': 4273, 'turned': 4604, 'mean': 2779, 'really': 3558, 'now': 3055, 'mind': 2850, 'saw': 3798, 'hit': 2123, 'wouldnt': 4958, 'quite': 3498, 'offended': 3086, 'at': 331, 'such': 4268, 'nasty': 2969, 'church': 813, 'if': 2223, 'known': 2493, 'those': 4459, 'term': 4404, 'few': 1701, 'since': 3990, 'rented': 3630, 'video': 4732, 'wont': 4932, 'go': 1925, 'back': 378, 'rent': 3628, 'again': 147, 'perspective': 3248, 'just': 2438, 'left': 2561, 'ugly': 4623, 'taste': 4368, 'mouth': 2921, 'wonder': 4926, 'experience': 1581, 'actors': 105, 'because': 432, 'either': 1439, 'hate': 2047, 'or': 3125, 'themselves': 4434, 'an': 224, 'incredibly': 2271, 'anti': 254, 'offensive': 3087, 'anyone': 259, 'has': 2044, 'respect': 3654, 'education': 1425, 'which': 4866, 'do': 1302, 'there': 4437, 'were': 4847, 'no': 3021, 'better': 472, 'teachers': 4375, '50s': 53, 'whatever': 4858, 'else': 1449, 'forced': 1788, 'me': 2778, 'learn': 2550, 'read': 3545, 'write': 4967, 'english': 1484, 'language': 2516, 'made': 2697, 'us': 4688, 'many': 2732, 'kids': 2468, 'today': 4507, 'simple': 3983, 'heads': 2060, 'truth': 4597, 'theres': 4439, 'essential': 1523, 'success': 4265, 'america': 213, 'ya': 4976, 'add': 116, 'great': 1965, 'any': 256, 'advanced': 129, 'degree': 1164, 'want': 4787, 'will': 4885, 'stand': 4143, 'good': 1938, 'continue': 970, 'your': 4991, 'also': 200, 'rest': 3659, 'life': 2592, 'matter': 2769, 'think': 4451, 'cast': 710, 'lousy': 2667, 'rotten': 3740, 'script': 3834, 'bad': 382, 'badly': 383, 'trust': 4596, 'taught': 4369, 'writer': 4968, 'director': 1264, 'mixed': 2878, 'emotions': 1462, 'project': 3430, 'stupid': 4247, 'sat': 3786, 'room': 3736, 'involved': 2347, 'making': 2718, 'dont': 1324, 'know': 2490, 'where': 4863, 'begin': 442, 'ill': 2229, 'from': 1841, 'cover': 1023, 'alive': 187, 'tension': 4403, 'cube': 1077, 'own': 3160, 'versus': 4721, 'seen': 3865, 'cant': 671, 'comment': 898, 'excellent': 1556, 'recommend': 3573, 'everyone': 1543, 'however': 2184, 'case': 707, 'someone': 4064, 'clearly': 840, 'confused': 942, 'boredom': 543, 'ahead': 160, 'spoil': 4121, 'entire': 1503, 'plot': 3312, 'besides': 468, 'being': 448, 'holy': 2141, 'cheese': 780, 'worth': 4953, 'spending': 4106, 'time': 4494, 'struggle': 4234, 'keep': 2450, 'open': 3113, 'american': 214, 'military': 2845, 'once': 3107, 'lost': 2660, 'desert': 1198, 'apparently': 270, 'sense': 3877, 'theyre': 4444, 'both': 548, 'surely': 4308, 'practically': 3365, 'same': 3778, 'place': 3285, 'different': 1248, 'monkey': 2891, 'broke': 594, 'into': 2333, 'alien': 184, 'something': 4066, 'passed': 3205, 'japanese': 2383, 'eat': 1412, 'ever': 1539, 'thing': 4449, 'whos': 4875, 'enough': 1492, 'kill': 2469, 'current': 1085, 'host': 2174, 'wants': 4790, 'use': 4690, 'decide': 1148, 'make': 2713, 'pass': 3204, 'daughter': 1122, 'other': 3137, 'dude': 1382, 'instead': 2308, 'picking': 3270, 'full': 1847, 'are': 285, 'already': 198, 'side': 3965, 'idea': 2214, 'pick': 3268, 'criminal': 1058, 'death': 1142, 'row': 3744, 'oh': 3097, 'reason': 3559, 'particular': 3197, 'he': 2057, 'person': 3241, 'history': 2122, 'die': 1243, 'non': 3028, 'shock': 3938, 'execution': 1567, 'method': 2825, 'dies': 1245, 'effect': 1429, 'when': 4861, 'staff': 4138, 'though': 4460, 'deadly': 1134, 'cut': 1090, 'down': 1335, 'bill': 481, 'turns': 4607, 'matrix': 2767, 'would': 4957, 'lame': 2511, 'fighting': 1710, 'tears': 4379, 'feels': 1688, 'hour': 2177, 'wait': 4769, 'remember': 3618, 'up': 4681, 'point': 3319, 'actually': 110, 'totally': 4531, 'waste': 4807, 'human': 2189, 'lives': 2628, 'end': 1469, 'only': 3111, 'moment': 2887, 'away': 369, 'sleep': 4024, 'wall': 4780, 'by': 642, 'through': 4476, 'his': 2119, 'chest': 784, 'hes': 2094, 'hanging': 2024, 'around': 297, 'another': 250, 'walks': 4779, 'says': 3801, 'im': 2233, 'pain': 3173, 'shoot': 3942, 'living': 2629, 'looks': 2649, 'him': 2111, 'anything': 260, 'guy': 2001, 'shoots': 3944, 'stomach': 4196, 'thanks': 4422, 'anime': 243, 'series': 3890, 'starts': 4159, 'interesting': 2326, 'exciting': 1564, 'events': 1537, 'executed': 1566, 'everything': 1545, 'explained': 1588, 'right': 3697, 'viewer': 4737, 'each': 1396, 'episode': 1508, 'imagine': 2239, 'disappointment': 1275, 'find': 1727, 'sci': 3815, 'fi': 1702, 'thriller': 4471, 'giant': 1906, 'robot': 3718, 'adventure': 131, 'backdrop': 379, 'psycho': 3460, 'religious': 3610, 'exploitation': 1593, 'hear': 2062, 'youre': 4992, 'negative': 2992, 'simply': 3986, 'forget': 1794, 'original': 3130, 'alternate': 201, 'endings': 1473, 'disappointing': 1274, 'too': 4521, 'warning': 4799, 'review': 3677, 'contains': 965, 'spoiler': 4123, 'wow': 4962, 'almost': 194, 'note': 3045, 'said': 3774, 'than': 4419, 'lots': 2662, 'random': 3516, 'scenes': 3811, 'together': 4510, 'loose': 2650, 'attempt': 340, 'protagonists': 3445, 'cannot': 670, 'call': 651, 'them': 4431, 'heroes': 2090, 'innocent': 2295, 'food': 1779, 'rob': 3711, 'similar': 3978, 'reasons': 3562, 'tons': 4519, 'seems': 3864, 'topless': 4526, 'naked': 2960, 'reviews': 3680, 'claim': 828, 'gets': 1901, 'killed': 2470, 'early': 1401, 'adding': 118, '70': 56, 'minutes': 2860, 'audience': 352, 'torture': 4528, 'shake': 3914, 'feeling': 1686, 'animal': 239, 'abuse': 75, 'occurred': 3078, 'numerous': 3063, 'times': 4496, 'cinematic': 818, 'mst3k': 2933, 'mood': 2899, 'might': 2836, 'watchable': 4811, 'most': 2910, 'part': 3196, 'dvd': 1392, 'lot': 2661, 'understand': 4641, 'private': 3407, 'jokes': 2416, 'symbolism': 4340, 'guess': 1990, 'tried': 4582, 'send': 3875, 'message': 2819, 'wasted': 4808, 'felt': 1693, 'basically': 407, 'mediocre': 2791, 'nice': 3009, 'special': 4097, 'effects': 1432, 'kid': 2465, 'becomes': 434, 'war': 4791, 'whatsoever': 4860, 'anyway': 261, 'hell': 2078, 'talking': 4359, 'between': 475, 'big': 478, 'heart': 2065, 'bottom': 552, 'visuals': 4758, 'screams': 3828, 'river': 3708, 'princess': 3400, 'terrible': 4406, 'cute': 1091, 'crap': 1032, 'style': 4249, 'substance': 4258, 'funny': 1853, 'should': 3951, 'deep': 1154, 'genre': 1889, 'films': 1722, 'young': 4989, 'hired': 2118, 'finish': 1733, 'campy': 664, 'called': 652, 'danger': 1110, 'jeremy': 2395, 'davies': 1126, 'ridden': 3692, 'filmmaker': 1720, 'artist': 307, 'hardly': 2037, 'outside': 3148, 'thin': 4448, 'paper': 3186, 'father': 1667, 'jason': 2384, 'introduced': 2338, 'shown': 3959, 'door': 1328, 'without': 4913, 'eye': 1612, 'candy': 668, 'compared': 912, 'filmmakers': 1721, 'memories': 2803, 'comparison': 914, 'movies': 2928, 'developed': 1223, 'lessons': 2578, 'comic': 893, 'describe': 1194, 'whats': 4859, 'target': 4365, 'homage': 2142, 'rather': 3530, 'length': 2569, 'version': 4719, 'setting': 3900, 'evident': 1548, 'visual': 4756, 'humor': 2193, 'within': 4912, 'fails': 1629, 'share': 3920, 'why': 4877, 'mess': 2818, 'continuity': 973, 'errors': 1517, 'chooses': 800, 'weapon': 4827, 'chosen': 805, 'critics': 1065, 'lack': 2503, 'empty': 1466, 'does': 1308, 'roman': 3732, 'ends': 1475, 'saying': 3800, 'may': 2775, 'considered': 952, 'city': 825, 'choice': 797, '15': 7, 'minute': 2859, 'included': 2263, 'extras': 1609, 'record': 3575, 'breaking': 571, 'sure': 4307, '30': 43, 'guts': 2000, 'title': 4503, 'suggests': 4281, 'based': 404, 'problem': 3411, 'romantic': 3734, 'subplots': 4256, 'songs': 4072, 'boring': 544, 'killing': 2473, 'soldier': 4053, 'direction': 1261, 'front': 1842, 'border': 540, 'music': 2947, 'okay': 3100, 'amongst': 219, 'huge': 2186, 'stands': 4147, 'tall': 4361, 'very': 4722, 'likable': 2598, 'moments': 2888, 'never': 3002, 'expect': 1576, 'adaptation': 114, 'follow': 1773, 'closely': 855, 'novel': 3053, 'especially': 1521, 'beloved': 461, 'evening': 1535, 'books': 537, 'author': 359, 'susan': 4325, 'screenplay': 3831, 'executive': 1568, 'producer': 3418, 'enjoyed': 1487, 'book': 536, 'bother': 549, 'far': 1654, 'bear': 420, 'resemblance': 3647, 'our': 3141, 'completely': 923, 'bride': 578, 'harris': 2039, 'son': 4070, 'buddy': 609, 'drunk': 1376, 'ann': 244, 'single': 3996, 'character': 758, 'screen': 3829, 'worst': 4952, 'passing': 3207, 'cutting': 1093, 'meant': 2784, 'grown': 1985, 'children': 792, 'having': 2055, 'obnoxious': 3068, 'juvenile': 2442, 'fights': 1711, 'work': 4940, 'disaster': 1276, 'skip': 4016, 'somewhat': 4068, 'dull': 1385, 'tv': 4608, 'cable': 644, 'station': 4164, 'run': 3755, 'chasing': 772, 'killer': 2471, 'computer': 928, 'virus': 4751, 'buffs': 612, 'noted': 3046, 'weekend': 4837, 'debut': 1144, 'mail': 2706, 'across': 97, 'world': 4946, '40': 49, 'year': 4978, 'old': 3101, 'virgin': 4748, 'image': 2234, 'sex': 3907, 'lonely': 2643, 'urge': 4687, 'past': 3210, 'experiences': 1583, 'enthusiasm': 1502, 'women': 4923, 'unexpected': 4648, 'happens': 2030, 'falls': 1641, 'andy': 231, 'steve': 4181, 'indeed': 2272, 'works': 4945, 'store': 4204, 'action': 101, 'figures': 1714, 'displayed': 1292, 'throughout': 4477, 'see': 3855, 'lovely': 2671, 'home': 2143, 'theater': 4426, 'system': 4344, 'watches': 4813, 'survivor': 4323, 'kind': 2477, 'elderly': 1441, 'neighbors': 2995, 'pretty': 3387, 'definition': 1163, 'needs': 2991, 'talk': 4357, 'heres': 2088, 'picture': 3272, 'task': 4367, 'dealing': 1137, 'subject': 4253, 'mature': 2773, 'fashion': 1660, 'easily': 1407, 'hands': 2021, 'team': 4377, 'endless': 1474, 'gags': 1863, 'thankfully': 4421, 'low': 2676, 'aimed': 163, 'gay': 1877, 'community': 908, 'way': 4819, 'taken': 4349, 'towards': 4539, 'while': 4867, 'playing': 3303, 'game': 1865, 'less': 2575, 'ultimate': 4625, 'driven': 1366, 'guys': 2002, '20': 30, 'toys': 4542, 'himself': 2112, 'done': 1322, 'found': 1812, 'amusing': 222, 'touching': 4535, 'able': 67, 'relate': 3595, 'teenager': 4389, 'present': 3377, 'showing': 3958, 'looked': 2647, 'bit': 489, 'arrogant': 303, 'teen': 4387, 'afternoon': 145, 'screening': 3830, 'course': 1020, 'everyday': 1542, 'morning': 2907, 'rise': 3703, 'ask': 316, 'buddies': 608, 'try': 4598, 'methods': 2826, 'attention': 345, 'opposite': 3124, 'discovered': 1280, 'three': 4468, 'fellow': 1692, 'david': 1125, 'paul': 3217, 'jay': 2387, 'assume': 328, 'woman': 4921, 'further': 1854, 'loves': 2674, 'revealed': 3672, 'hilariously': 2108, 'flashback': 1747, 'sequence': 3887, 'put': 3483, 'mission': 2871, 'laid': 2509, 'help': 2080, 'proved': 3449, 'date': 1119, 'leslie': 2574, 'mann': 2728, 'puts': 3484, 'driving': 1369, 'creepy': 1053, 'encounter': 1467, 'elizabeth': 1446, 'girl': 1910, 'eventually': 1538, 'total': 4530, 'meets': 2795, 'catherine': 719, 'friendly': 1837, 'street': 4216, 'looking': 2648, 'collection': 874, 'figure': 1712, 'large': 2517, 'financial': 1726, 'weve': 4855, 'waiting': 4771, 'deals': 1138, 'issue': 2365, 'wrong': 4973, 'lets': 2580, 'look': 2646, 'forever': 1793, 'important': 2248, 'must': 2951, 'body': 528, 'honest': 2147, 'according': 89, 'website': 4833, 'various': 4713, 'news': 3006, 'fact': 1622, 'blood': 513, 'shirt': 3937, 'directed': 1259, 'co': 867, 'written': 4972, 'starred': 4153, 'sweet': 4335, 'eyes': 1614, 'shut': 3961, 'intelligent': 2315, 'ive': 2373, 'whole': 4872, 'treated': 4571, 'dignity': 1252, 'off': 3085, 'advice': 134, 'relationship': 3599, 'related': 3596, 'level': 2584, 'plays': 3304, 'leave': 2555, 'strength': 4219, 'sexy': 3911, 'true': 4594, 'late': 2523, 'vegas': 4715, 'lady': 2508, 'little': 2624, '70s': 57, 'neither': 2997, 'clever': 841, 'nor': 3033, 'tired': 4500, 'robbery': 3712, 'storyline': 4208, 'thats': 4424, 'designed': 1203, 'plan': 3290, 'involves': 2349, 'plain': 3289, 'view': 4735, 'scale': 3802, 'building': 615, 'waitress': 4772, 'blow': 515, 'her': 2086, 'opportunity': 3122, 'much': 2935, 'huh': 2188, 'stevens': 4183, 'aforementioned': 140, 'breasts': 573, 'arent': 288, 'particularly': 3198, 'memorable': 2802, 'stars': 4155, 'involvement': 2348, 'idiotic': 2220, 'gun': 1997, 'wanted': 4788, 'always': 204, 'enjoy': 1485, 'shots': 3950, 'itself': 2372, 'rate': 3528, 'higher': 2102, 'perfectly': 3229, 'enjoyable': 1486, 'highly': 2106, 'location': 2635, 'international': 2327, 'knew': 2487, 'christ': 807, 'russian': 3762, 'need': 2988, 'save': 3794, 'day': 1130, 'buck': 606, 'youll': 4988, 'tell': 4394, 'show': 3953, 'light': 2595, 'five': 1744, 'golden': 1935, 'faith': 1634, 'country': 1015, 'boy': 558, 'player': 3301, 'goes': 1931, 'night': 3014, 'trial': 4578, 'match': 2762, 'picked': 3269, 'cousin': 1022, 'become': 433, 'drug': 1374, 'deal': 1136, 'involving': 2350, 'local': 2634, 'shark': 3921, 'tiny': 4499, 'gangster': 1869, 'anywhere': 263, 'australian': 357, 'needless': 2990, 'chaos': 755, 'isnt': 2363, 'long': 2644, 'thoughts': 4463, 'nights': 3017, 'accomplished': 88, 'western': 4852, 'professional': 3424, 'actor': 104, 'performance': 3231, 'naive': 2959, 'successfully': 4267, 'below': 462, 'age': 149, 'best': 469, 'support': 4302, 'comes': 891, 'john': 2410, 'entertaining': 1500, 'role': 3727, 'cops': 994, 'following': 1775, 'roll': 3729, 'fast': 1662, 'paced': 3164, 'often': 3096, 'worthwhile': 4955, 'short': 3946, 'lived': 2626, 'viewing': 4739, 'football': 1784, 'started': 4157, 'using': 4696, 'break': 570, 'ready': 3548, 'bet': 470, 'added': 117, 'unique': 4660, 'element': 1443, 'season': 3843, 'during': 1388, 'college': 875, 'small': 4033, 'due': 1383, 'stinker': 4191, 'west': 4851, 'virginia': 4749, 'start': 4156, 'grasp': 1961, 'happening': 2029, 'care': 684, 'seem': 3861, 'lead': 2545, 'yet': 4984, 'premise': 3373, 'believable': 453, 'realistic': 3552, 'twists': 4617, 'arrive': 300, 'problems': 3412, 'happen': 2027, 'decisions': 1152, 'sometimes': 4067, 'led': 2558, 'certain': 737, 'choices': 798, 'expectations': 1577, 'gave': 1876, 'questions': 3492, 'upon': 4682, 'opening': 3115, 'worse': 4951, 'under': 4637, 'italian': 2368, 'wife': 4883, 'saved': 3795, 'starting': 4158, 'presumably': 3383, 'gold': 1933, 'hide': 2098, 'evil': 1549, 'property': 3441, 'none': 3029, 'seemed': 3862, 'acceptable': 82, 'am': 205, 'missing': 2870, 'eric': 1515, 'jack': 2374, 'bruce': 603, 'ginger': 1909, 'baker': 385, 're': 3537, 'play': 3299, 'ago': 155, 'trio': 4585, 'days': 1131, 'england': 1483, 'hair': 2006, 'wild': 4884, 'clothes': 860, 'loud': 2664, 'played': 3300, 'combination': 883, 'rock': 3721, 'blues': 520, '60': 54, 'wonderful': 4928, 'concert': 936, 'disc': 1278, 'shows': 3960, 'extremely': 1611, 'familiar': 1644, 'whom': 4874, 'hadnt': 2005, 'decades': 1146, 'surprised': 4312, 'speed': 4103, 'freak': 1825, 'near': 2980, 'shape': 3919, 'solid': 4057, 'voice': 4760, 'pleasure': 3309, 'material': 2766, 'performing': 3236, 'key': 2459, 'agree': 156, 'sounded': 4082, 'second': 3846, 'song': 4071, 'outstanding': 3149, 'highlight': 2104, 'recommended': 3574, 'jane': 2381, 'daily': 1098, 'mirror': 2862, 'strip': 4228, 'cartoon': 704, 'exercise': 1569, 'nostalgia': 3039, 'context': 969, 'younger': 4990, 'viewers': 4738, 'undoubtedly': 4646, 'comedy': 890, 'miss': 2867, 'todays': 4508, '40s': 50, 'fantasy': 1653, 'created': 1038, 'troops': 4589, 'she': 3923, 'double': 1331, 'meaning': 2780, 'common': 906, 'tales': 4356, 'edgar': 1418, 'theme': 4432, 'era': 1514, 'bunch': 623, 'bumbling': 622, 'nazis': 2979, 'equally': 1511, 'set': 3898, 'african': 143, 'jungle': 2435, 'fans': 1651, 'coming': 896, 'welcome': 4841, 'addition': 119, 'although': 202, 'production': 3422, 'values': 4708, 'pair': 3179, 'period': 3239, 'piece': 3275, 'berlin': 467, 'behind': 447, 'seeing': 3857, 'reminded': 3621, 'brooklyn': 596, 'depressing': 1188, 'slow': 4031, 'contrived': 977, 'bergman': 466, 'edited': 1421, 'miracle': 2861, 'filmed': 1718, 'released': 3605, 'came': 656, 'hard': 2034, 'mark': 2739, 'misses': 2869, 'fan': 1649, 'fell': 1691, 'expected': 1578, 'heavy': 2071, 'metal': 2823, '2000': 31, 'kinda': 2478, 'moving': 2929, 'dialogue': 1234, 'imagined': 2240, 'points': 3322, 'stop': 4201, 'energy': 1479, 'spirit': 4113, 'drew': 1361, 'covers': 1025, 'portion': 3341, 'used': 4691, 'later': 2525, 'parts': 3202, 'focus': 1767, 'overall': 3152, 'working': 4944, 'amazing': 210, 'sadly': 3769, 'wasnt': 4806, 'copy': 995, 'dust': 1389, 'until': 4678, 'finally': 1725, 'throw': 4478, 'excited': 1562, 'christian': 808, 'writing': 4971, 'chance': 747, 'interview': 2330, 'give': 1913, 'believe': 454, 'surprise': 4311, 'kept': 2457, 'teenage': 4388, 'adult': 126, 'gone': 1936, 'divorce': 1301, 'disappointed': 1273, 'went': 4846, 'emotional': 1460, 'bring': 586, 'cold': 872, 'grim': 1975, 'noir': 3024, 'definitely': 1162, 'gripping': 1977, 'crime': 1056, 'opens': 3116, 'jones': 2419, 'credits': 1051, 'dramatic': 1348, 'views': 4741, 'bus': 631, 'toward': 4538, 'effectively': 1431, 'photography': 3263, 'hall': 2010, 'superb': 4295, 'job': 2406, 'clear': 839, 'robert': 3714, 'blake': 499, 'scott': 3824, 'wilson': 4891, 'natural': 2974, 'born': 545, 'portraying': 3346, 'free': 1828, 'spirited': 4114, 'next': 3008, 'thrill': 4470, 'kinds': 2479, 'rich': 3686, 'poor': 3331, 'taking': 4351, 'alcohol': 177, 'cross': 1067, 'path': 3212, 'farm': 1657, 'family': 1646, 'leaving': 2557, 'witnesses': 4916, 'thinking': 4452, 'hunting': 2202, 'mexico': 2828, 'treasure': 4569, 'ironic': 2356, 'selling': 3873, 'tells': 4396, 'four': 1813, 'members': 2801, 'tied': 4488, 'shot': 3949, 'head': 2058, 'throat': 4475, 'doors': 1329, 'asks': 319, 'stewart': 4184, 'tonight': 4518, 'murders': 2944, 'killers': 2472, 'discover': 1279, 'fat': 1664, 'safe': 3771, 'prison': 3404, 'told': 4512, 'truly': 4595, 'senseless': 3878, 'question': 3490, 'half': 2008, 'depth': 1190, 'catch': 714, 'final': 1723, 'carry': 700, 'interest': 2324, 'boys': 560, 'theyve': 4445, 'mistakes': 2874, 'witness': 4914, 'actual': 109, 'including': 2265, 'murder': 2940, 'mr': 2930, 'richard': 3687, 'brooks': 597, 'brilliant': 584, 'depiction': 1185, 'men': 2805, 'mere': 2814, 'chilling': 794, 'documentary': 1307, 'car': 680, 'stephen': 4176, 'main': 2707, 'mario': 2738, 'michael': 2830, 'sounds': 4084, 'test': 4415, 'speaks': 4096, 'ratings': 3532, 'twice': 4611, 'absolutely': 73, 'desire': 1205, 'trash': 4563, 'awful': 372, 'slightest': 4028, 'bits': 491, 'christopher': 811, 'walken': 4776, 'ruined': 3751, 'black': 494, 'ben': 463, 'stiller': 4189, 'reminds': 3622, 'money': 2889, 'amy': 223, 'annoying': 249, 'productions': 3423, 'casting': 711, '80s': 60, 'suggest': 4280, 'renting': 3631, 'elephant': 1445, 'walk': 4774, 'literature': 2623, 'entertainment': 1501, 'melodramatic': 2798, 'genuine': 1892, 'personal': 3243, 'previous': 3390, 'reviewer': 3678, 'central': 735, 'mansion': 2731, 'built': 618, 'former': 1801, 'owner': 3161, 'tom': 4513, 'traditional': 4549, 'major': 2711, 'source': 4086, 'water': 4815, 'essentially': 1524, 'center': 732, 'man': 2721, 'peter': 3250, 'super': 4294, 'mother': 2912, 'growing': 1984, 'foreign': 1791, 'fathers': 1668, 'club': 863, 'models': 2882, 'self': 3869, 'tame': 4362, 'nature': 2976, 'liking': 2604, 'tea': 4372, 'bull': 619, 'thus': 4485, 'join': 2413, 'tale': 4352, 'crucial': 1069, 'dry': 1378, 'access': 84, 'desperation': 1210, 'animals': 240, 'humans': 2191, 'power': 3362, 'island': 2362, 'india': 2274, 'quickly': 3494, 'learns': 2553, 'scenery': 3810, 'taylor': 4371, 'exotic': 1575, 'magnificent': 2705, 'recognize': 3571, 'atmosphere': 333, 'latter': 2528, 'wealth': 4825, 'british': 590, 'slave': 4022, 'build': 614, 'overlooked': 3156, 'wonderfully': 4929, 'window': 4894, 'art': 304, 'directors': 1266, 'johnson': 2412, 'hal': 2007, 'reveals': 3674, 'careful': 688, 'detail': 1217, 'against': 148, 'background': 380, 'described': 1195, 'drive': 1364, 'fully': 1848, 'appreciate': 279, 'fine': 1730, 'camera': 659, 'scope': 3821, 'mid': 2833, 'relevant': 3606, 'running': 3756, 'surprisingly': 4315, 'reality': 3553, 'mad': 2696, 'fetched': 1699, 'currently': 1086, 'desperate': 1208, 'raise': 3510, 'bar': 396, 'controversial': 979, 'court': 1021, 'theatrical': 4429, 'justice': 2439, 'department': 1182, 'satire': 3788, 'intelligence': 2314, 'missed': 2868, 'considering': 953, 'state': 4160, 'biggest': 480, 'secret': 3849, 'government': 1949, 'media': 2789, 'masses': 2755, 'scary': 3807, 'unless': 4667, 'accurate': 91, 'accept': 81, 'brutal': 604, 'future': 1857, 'aired': 166, 'usually': 4698, 'kings': 2482, 'ending': 1472, 'changed': 750, 'formula': 1803, 'corny': 998, 'liners': 2611, 'situation': 4008, 'dolph': 1317, 'dave': 1124, 'artistic': 308, 'strong': 4229, 'excitement': 1563, 'colors': 879, 'gives': 1915, 'individual': 2278, 'cool': 990, 'andrew': 229, 'davis': 1127, 'attached': 336, 'directs': 1267, 'score': 3822, 'dated': 1120, 'timeless': 4495, 'integrity': 2312, 'excessive': 1561, 'convincingly': 987, 'apart': 264, 'bugs': 613, 'poorly': 3332, 'staged': 4140, 'passes': 3206, 'climax': 849, 'release': 3604, 'horrid': 2166, 'brand': 566, 'transfer': 4557, 'literally': 2622, 'pop': 3333, 'ex': 1550, 'soundtrack': 4085, 'constant': 958, 'channels': 754, 'masters': 2761, 'intriguing': 2336, 'documentaries': 1306, 'trailer': 4552, 'meet': 2793, 'neat': 2983, 'blah': 497, 'ingredients': 2290, 'acting': 100, 'remarks': 3617, 'sorry': 4076, 'wondering': 4930, 'holes': 2134, 'blockbuster': 510, 'vhs': 4724, 'realized': 3555, 'vision': 4753, 'influenced': 2288, 'stock': 4193, 'smoking': 4040, 'loved': 2670, 'leads': 2548, 'beautiful': 428, 'intrigued': 2335, 'insight': 2299, 'culture': 1080, 'somewhere': 4069, 'laugh': 2529, 'movement': 2924, 'westerns': 4853, 'james': 2379, 'anthony': 253, 'hero': 2089, 'violent': 4747, 'edge': 1419, 'thousand': 4464, 'competition': 919, 'held': 2075, 'town': 4540, 'sidekick': 3966, 'mitchell': 2876, 'dutch': 1390, 'henry': 2085, 'brown': 602, 'shelley': 3928, 'winters': 4901, 'prize': 3408, 'winning': 4898, 'escapes': 1520, 'miller': 2847, 'charles': 764, 'hold': 2130, 'camp': 662, 'attack': 337, 'indians': 2276, 'hudson': 2185, 'cheating': 776, 'meanwhile': 2785, 'notorious': 3052, 'johnny': 2411, 'dean': 1140, 'dan': 1103, 'kills': 2475, 'allows': 193, 'take': 4348, 'planning': 3294, 'plans': 3295, 'holding': 2131, 'bank': 394, 'hills': 2110, 'pursuit': 3479, 'showdown': 3955, 'wide': 4879, 'type': 4619, 'emotion': 1459, 'universal': 4663, 'contract': 974, 'players': 3302, 'mentioned': 2811, 'above': 69, 'appears': 278, 'chuck': 812, 'ray': 3535, 'sheriff': 3929, 'tony': 4520, 'curtis': 1088, 'soldiers': 4054, 'chief': 788, 'roles': 3728, 'classic': 835, 'word': 4937, 'responsible': 3658, 'career': 686, 'star': 4150, 'cinema': 816, 'smiling': 4037, 'surprising': 4314, 'straight': 4210, 'took': 4522, 'decision': 1151, 'visit': 4754, 'brother': 599, 'joke': 2415, 'friends': 1838, 'laughing': 2533, 'bought': 553, 'myself': 2954, 'hunters': 2201, 'rule': 3753, 'allowed': 191, 'words': 4938, 'repeated': 3633, 'credit': 1050, 'whoever': 4871, 'thank': 4420, 'suit': 4283, 'grab': 1950, 'yourself': 4993, 'horrible': 2164, 'imdb': 2241, 'warn': 4796, 'expert': 1586, 'per': 3226, 'zombies': 4998, 'house': 2179, 'psychotic': 3462, 'party': 3203, 'massacre': 2754, 'ii': 2227, 'others': 3138, 'sucks': 4271, 'scared': 3805, 'individuals': 2279, 'lines': 2612, 'devoid': 1230, 'motivation': 2915, 'pieces': 3276, 'angle': 236, 'figured': 1713, 'foot': 1782, 'millions': 2849, 'object': 3067, 'amateur': 207, 'crew': 1054, 'lazy': 2543, 'impressed': 2252, 'gory': 1944, 'dead': 1133, 'buff': 611, 'challenge': 743, 'darkness': 1118, 'quote': 3499, 'vampire': 4709, '2006': 37, 'festival': 1698, 'synopsis': 4343, 'guide': 1994, 'check': 777, 'bite': 490, 'cliché': 844, 'over': 3150, 'top': 4524, 'hunt': 2199, 'seriously': 3892, 'weak': 4823, 'chick': 786, 'saves': 3796, 'vote': 4765, 'students': 4239, 'improvement': 2257, '45': 51, 'nightmares': 3016, 'freddy': 1827, 'acts': 108, 'became': 431, 'least': 2554, 'appeal': 271, 'carried': 698, 'exactly': 1552, 'paid': 3172, 'nearly': 2982, 'types': 4620, 'ones': 3109, 'hollywood': 2138, 'willing': 4889, 'porn': 3339, 'offered': 3089, 'week': 4836, 'guest': 1993, 'elm': 1448, 'fall': 1638, 'asleep': 320, 'comedies': 889, 'sappy': 3784, 'interested': 2325, 'smile': 4036, 'tough': 4536, 'whether': 4865, 'youve': 4995, 'tiger': 4490, 'knows': 2494, 'going': 1932, 'married': 2744, 'dreams': 1355, 'happy': 2033, 'ring': 3699, 'cruel': 1071, 'fill': 1715, 'supporting': 4303, 'larry': 2520, 'julie': 2429, 'airplane': 167, 'saturday': 3792, 'live': 2625, 'regular': 3594, 'powers': 3364, 'thomas': 4457, 'variety': 4712, 'faces': 1619, 'saving': 3797, 'talented': 4354, 'advantage': 130, 'inspired': 2302, 'steal': 4170, 'frame': 1816, 'joy': 2423, 'rarely': 3526, 'along': 196, 'terribly': 4407, 'lee': 2559, 'whose': 4876, 'control': 978, 'blair': 498, 'understated': 4644, 'brilliance': 583, 'sophisticated': 4075, 'marry': 2745, 'julia': 2428, 'wears': 4831, 'actress': 106, 'falling': 1640, 'easy': 1411, 'subtle': 4260, 'magical': 2704, 'slightly': 4029, 'simplicity': 3984, 'broken': 595, 'havent': 2054, 'shakespeare': 3915, 'relative': 3601, 'entirely': 1504, 'absurd': 74, 'order': 3127, 'ancient': 226, 'manages': 2725, 'gender': 1879, 'form': 1799, 'wish': 4904, 'lees': 2560, 'explain': 1587, 'girlfriend': 1911, 'clothing': 861, 'among': 218, 'werewolf': 4849, 'please': 3307, 'dozens': 1339, 'anymore': 258, 'buy': 640, 'doubt': 1332, 'favourite': 1674, 'daughters': 1123, 'laughed': 2532, 'cried': 1055, 'craven': 1035, 'judge': 2425, 'child': 789, 'god': 1927, 'keeps': 2452, 'damn': 1101, 'mistress': 2875, 'skin': 4015, 'regret': 3593, 'concept': 931, 'creature': 1046, 'results': 3663, 'nightmare': 3015, 'overdone': 3154, 'twisted': 4616, 'fascinating': 1659, 'attracted': 349, 'bright': 582, 'lights': 2597, 'count': 1011, 'studio': 4240, 'nine': 3018, 'discussion': 1284, 'enter': 1495, 'garden': 1873, 'combat': 882, 'uncle': 4634, 'stage': 4139, 'carrying': 701, 'board': 523, 'brothers': 600, 'soon': 4074, 'jerk': 2396, 'stealing': 4171, 'threatening': 4467, 'demands': 1175, 'returns': 3669, 'business': 633, 'beginning': 443, 'occur': 3077, 'crush': 1073, 'trick': 4580, 'shes': 3930, 'crack': 1028, 'come': 886, 'unlike': 4668, 'violence': 4746, 'quick': 3493, 'law': 2538, 'hot': 2175, 'ways': 4821, 'youd': 4987, 'unusual': 4679, 'usual': 4697, 'ultimately': 4626, 'destroyed': 1214, 'despite': 1211, 'handled': 2020, 'result': 3662, 'weird': 4840, 'fight': 1708, 'jr': 2424, 'admire': 122, 'butt': 638, 'kicked': 2462, 'load': 2631, 'silly': 3976, 'souls': 4080, 'affect': 137, 'critical': 1063, 'soul': 4079, 'television': 4393, 'wasting': 4809, 'hunter': 2200, 'female': 1694, 'given': 1914, 'act': 98, 'impressive': 2254, 'brad': 561, 'trying': 4599, 'guarantee': 1988, 'ruin': 3750, 'lisa': 2616, 'shooting': 3943, 'arm': 292, 'radio': 3507, 'getting': 1902, 'de': 1132, 'niro': 3020, 'max': 2774, 'taxi': 4370, 'driver': 1367, 'fear': 1677, 'unfortunately': 4652, 'scripts': 3836, 'difficult': 1249, 'frustrated': 1843, 'sports': 4130, 'lacks': 2506, 'ended': 1471, 'flat': 1749, 'bobby': 526, 'baseball': 403, 'originally': 3132, 'elements': 1444, 'hint': 2113, 'producers': 3419, 'minds': 2853, 'admit': 123, 'entertained': 1499, 'flawed': 1751, 'remembered': 3619, '1990s': 26, 'white': 4869, 'entry': 1505, 'bush': 632, 'office': 3092, 'report': 3637, 'favorite': 1672, 'authority': 360, 'hilarious': 2107, 'dumb': 1386, 'heard': 2063, 'billy': 482, 'alan': 172, 'clichés': 846, 'phony': 3259, 'busy': 635, 'cry': 1074, 'fake': 1636, 'let': 2579, 'fairly': 1632, 'subplot': 4255, 'extra': 1607, 'health': 2061, 'crisis': 1061, 'doctors': 1305, 'moon': 2901, 'la': 2501, 'writers': 4969, 'painted': 3177, 'corner': 997, 'mostly': 2911, 'earth': 1404, 'heaven': 2069, 'north': 3037, 'winter': 4900, 'folk': 1771, 'gods': 1929, 'daniel': 1112, 'suffers': 4278, 'village': 4742, 'unlikely': 4669, 'talent': 4353, 'class': 833, 'contest': 968, 'band': 391, 'girls': 1912, 'dancers': 1106, 'causes': 725, 'plenty': 3310, 'realise': 3550, 'husbands': 2206, 'increasingly': 2269, 'strongly': 4231, 'youth': 4994, 'passion': 3208, 'stereotype': 4178, 'falk': 1637, 'hours': 2178, 'wrapped': 4964, 'monster': 2893, 'seeking': 3859, 'ideas': 2216, 'budget': 610, 'spent': 4108, 'mummy': 2938, 'george': 1894, 'wallace': 4781, 'ford': 1790, 'dick': 1239, 'longer': 2645, 'madness': 2698, 'catches': 715, 'covered': 1024, 'states': 4163, '1973': 20, 'spain': 4091, 'nudity': 3060, 'versions': 4720, 'dubbed': 1380, 'print': 3402, 'titled': 4504, 'likes': 2602, 'rated': 3529, 'happened': 2028, 'fury': 1856, '12': 3, 'pops': 3335, 'pg': 3253, 'tape': 4364, 'dollar': 1314, 'spoilers': 4124, 'begins': 444, 'sexual': 3908, 'certainly': 738, 'ranks': 3521, 'treat': 4570, 'graphic': 1959, 'audiences': 353, 'likely': 2601, 'desperately': 1209, 'hence': 2084, 'scheme': 3812, 'involve': 2346, 'affair': 136, 'wreck': 4965, 'marriage': 2743, 'physically': 3266, 'helps': 2083, 'spots': 4132, 'presented': 3379, 'complete': 922, 'bed': 436, 'karen': 2445, 'bedroom': 437, 'shadow': 3912, 'vs': 4766, 'atrocious': 335, 'dubbing': 1381, 'sequences': 3888, 'aka': 169, 'bloody': 514, 'terror': 4411, 'format': 1800, 'ie': 2222, 'outrageous': 3147, 'kitchen': 2486, 'sink': 3999, 'approach': 282, 'pan': 3183, 'copies': 993, 'carries': 699, '1972': 19, 'directly': 1263, 'offering': 3090, 'evidence': 1547, 'decent': 1147, 'perfect': 3227, 'spanish': 4092, 'subtitles': 4259, 'hurts': 2204, 'reflect': 3586, 'franco': 1821, 'interaction': 2323, 'honor': 2151, 'code': 869, 'treats': 4573, 'themes': 4433, 'duty': 1391, 'guilt': 1995, 'recall': 3564, 'seventies': 3904, 'leading': 2547, 'masterful': 2758, 'catching': 716, 'spectacular': 4101, 'needed': 2989, 'lesser': 2576, 'awake': 365, 'argument': 291, 'achieve': 93, 'suspense': 4329, 'kudos': 2498, 'pictures': 3273, 'mgm': 2829, 'combined': 885, 'soft': 4051, 'hearted': 2066, 'male': 2719, 'minor': 2858, 'joseph': 2420, 'carradine': 695, 'dancer': 1105, 'face': 1617, 'dance': 1104, 'thousands': 4465, 'viewed': 4736, 'price': 3392, 'famous': 1648, 'holmes': 2140, 'smith': 4038, 'recognized': 3572, 'shop': 3945, 'jimmy': 2404, 'margaret': 2735, 'sullivan': 4287, 'color': 877, 'rolled': 3730, 'possibilities': 3351, 'hollywoods': 2139, 'finest': 1731, 'directing': 1260, 'levels': 2585, 'couple': 1017, 'locations': 2636, 'provided': 3452, 'horribly': 2165, 'mill': 2846, 'hundred': 2196, 'development': 1225, 'caring': 691, 'studios': 4241, 'yeah': 4977, 'surreal': 4316, 'nonetheless': 3030, 'ought': 3140, 'follows': 1776, 'comical': 894, 'nonsense': 3031, 'quality': 3487, 'primary': 3397, 'list': 2617, 'favorites': 1673, 'brian': 577, 'smart': 4035, '90s': 62, 'opinion': 3119, 'nowadays': 3056, 'shame': 3918, 'revolves': 3683, 'cage': 645, 'prove': 3448, 'lucky': 2683, 'mistaken': 2873, 'texas': 4417, 'decides': 1150, 'split': 4120, 'accidentally': 86, 'hits': 2126, 'road': 3710, 'hospital': 2173, 'dennis': 1179, 'hopper': 2162, 'therefore': 4438, 'turn': 4603, 'close': 853, 'pace': 3163, 'structure': 4233, 'portrayed': 3345, 'facial': 1620, 'expressions': 1604, 'flynn': 1766, 'miscast': 2863, 'convince': 984, 'qualities': 3486, 'keeping': 2451, 'personality': 3245, 'spot': 4131, 'sub': 4252, 'plots': 3313, 'drinking': 1363, 'clues': 865, 'knowledge': 2492, 'sad': 3767, 'sucked': 4270, 'drawn': 1351, 'meaningful': 2781, 'gore': 1942, 'generally': 1882, 'comments': 901, 'suck': 4269, 'lake': 2510, 'boat': 524, 'beating': 425, 'herself': 2093, 'blame': 500, 'forgot': 1797, 'gabriel': 1860, 'boyfriend': 559, 'leo': 2571, 'giving': 1916, 'appear': 273, 'williams': 4887, 'derek': 1192, 'walked': 4775, 'friend': 1836, 'endearing': 1470, 'eyed': 1613, 'innocence': 2294, 'thrilling': 4473, 'empire': 1465, 'strikes': 4225, 'return': 3666, 'commercial': 902, 'lucas': 2680, 'ashamed': 312, 'proves': 3450, 'greedy': 1970, 'initial': 2291, 'raising': 3512, 'plus': 3314, 'pig': 3277, 'flesh': 1754, 'pet': 3249, 'monsters': 2894, 'ad': 111, 'pile': 3278, 'rebel': 3563, 'aliens': 185, 'fifteen': 1707, 'seconds': 3848, 'blatant': 503, 'cheap': 774, 'appalling': 268, 'slap': 4018, 'notion': 3051, 'dreck': 1357, 'hooked': 2154, 'garbage': 1871, 'dream': 1354, 'theyll': 4443, 'theaters': 4427, 'parents': 3191, 'itll': 2370, 'handful': 2018, 'redeeming': 3579, 'miserable': 2864, 'rip': 3701, 'managed': 2723, 'barely': 399, 'nose': 3038, 'surface': 4309, 'absolute': 72, 'sell': 3871, 'personally': 3246, 'helping': 2082, 'removed': 3626, 'gorgeous': 1943, 'trees': 4575, 'ripped': 3702, 'area': 286, 'shocking': 3940, 'showed': 3956, 'depressed': 1187, 'disturbing': 1300, 'necessarily': 2984, 'content': 967, 'possible': 3353, 'foul': 1811, 'sake': 3775, 'avoid': 363, 'threw': 4469, 'forest': 1792, 'explanation': 1591, 'factory': 1624, 'villains': 4744, 'dressed': 1359, 'standing': 4146, 'bell': 458, 'bored': 542, 'woods': 4935, 'sleeping': 4025, 'dialog': 1232, 'pay': 3219, 'inappropriate': 2260, 'telling': 4395, 'police': 3325, 'realize': 3554, 'walking': 4778, 'theyd': 4442, 'americans': 215, 'narrative': 2967, 'outcome': 3144, 'european': 1531, 'purpose': 3477, 'summer': 4290, 'loving': 2675, 'beach': 419, 'flashbacks': 1748, 'tries': 4583, 'suicide': 4282, 'brings': 588, 'psychiatrist': 3458, 'alone': 195, 'meat': 2787, 'feelings': 1687, 'happiness': 2032, 'troubled': 4591, 'commit': 904, 'friendship': 1839, 'depression': 1189, 'walls': 4782, 'william': 4886, 'choose': 799, 'criminals': 1059, 'serving': 3897, 'crimes': 1057, 'costumes': 1007, 'presentation': 3378, 'ship': 3934, 'contact': 962, 'drop': 1370, 'surrounding': 4318, 'intended': 2316, 'cameos': 658, 'lesson': 2577, 'redemption': 3580, 'tear': 4378, 'spoke': 4125, 'wind': 4893, 'actions': 102, 'relief': 3607, 'allowing': 192, 'event': 1536, 'map': 2733, 'hopefully': 2158, 'example': 1554, 'benefit': 465, 'prisoners': 3406, 'confidence': 939, 'prepared': 3374, 'sit': 4003, 'notice': 3049, 'worked': 4941, 'animation': 242, 'beings': 449, 'craig': 1031, 'cartoons': 705, 'shadows': 3913, 'painting': 3178, 'ironically': 2357, 'technical': 4380, 'pacing': 3165, 'marvelous': 2750, 'dialogs': 1233, 'corruption': 1003, 'seat': 3845, 'leaves': 2556, 'ups': 4684, 'uk': 4624, 'finished': 1734, 'disappoint': 1272, 'group': 1981, 'forty': 1808, 'plane': 3291, 'crash': 1034, 'rescue': 3645, 'weeks': 4838, 'survivors': 4324, 'explore': 1595, 'admittedly': 124, 'pilot': 3279, 'episodes': 1509, 'possibility': 3352, 'nevertheless': 3003, 'possibly': 3354, 'greatest': 1967, 'drama': 1346, 'supernatural': 4301, 'mysterious': 2956, 'progresses': 3429, 'unable': 4629, 'introduces': 2339, 'mystery': 2957, 'twist': 4615, 'stunning': 4244, 'finale': 1724, 'answers': 252, 'titles': 4505, 'ten': 4398, 'deeply': 1156, 'size': 4012, 'jobs': 2407, 'obvious': 3072, 'perhaps': 3238, 'alright': 199, 'stupidity': 4248, 'irony': 2358, 'imitation': 2242, 'circumstances': 822, 'stereotypes': 4179, 'frankly': 1824, 'drink': 1362, 'stay': 4166, 'embarrassed': 1454, 'pointless': 3321, 'german': 1897, 'jerry': 2397, 'dog': 1310, 'wooden': 4934, 'mob': 2880, 'boss': 547, 'sent': 3880, 'specifically': 4100, 'machine': 2693, 'zombie': 4997, 'trapped': 4562, 'turning': 4606, 'stopped': 4202, 'risk': 3705, 'sleazy': 4023, 'italy': 2369, 'roger': 3725, 'heat': 2068, 'directorial': 1265, 'oscar': 3135, 'jonathan': 2418, 'value': 4707, 'naturally': 2975, 'caught': 722, 'womens': 4924, 'bound': 554, 'escape': 1518, 'ambitious': 212, 'field': 1705, 'helped': 2081, 'masterpiece': 2759, 'silence': 3974, 'legendary': 2565, 'barbara': 397, 'brilliantly': 585, 'enjoys': 1490, 'track': 4543, 'official': 3095, 'sequel': 3885, 'fulci': 1846, 'resembles': 3648, 'companion': 909, 'produced': 3417, 'editor': 1424, 'magic': 2703, 'swear': 4333, 'hotel': 2176, 'em': 1453, 'mention': 2810, 'oliver': 3103, 'moody': 2900, 'mrs': 2931, 'won': 4925, 'awards': 367, 'struck': 4232, 'answer': 251, 'response': 3656, 'string': 4227, 'headed': 2059, 'stronger': 4230, 'seven': 3903, 'sinatra': 3989, 'convincing': 986, 'performances': 3232, 'transformation': 4558, 'pokemon': 3323, 'unknown': 4666, 'concerning': 934, 'environment': 1506, 'arguably': 289, 'includes': 2264, 'humour': 2195, 'cgi': 740, 'represented': 3640, 'rocket': 3722, 'rubbish': 3748, 'flaws': 1753, 'unnecessary': 4670, 'uninteresting': 4658, 'strange': 4211, 'curious': 1084, 'minimal': 2856, 'wouldve': 4959, 'name': 2961, 'filled': 1716, 'latest': 2526, 'cars': 702, 'names': 2964, 'diane': 1238, 'sue': 4274, 'wanting': 4789, 'means': 2783, 'vehicle': 4716, '50': 52, 'remake': 3614, 'cult': 1078, 'status': 4165, 'loaded': 2632, 'recent': 3568, 'win': 4892, 'chases': 771, 'compelling': 917, 'position': 3348, 'theatre': 4428, 'amazingly': 211, 'detailed': 1218, 'coffee': 870, 'cup': 1081, 'specific': 4099, 'prior': 3403, 'chinese': 796, 'leader': 2546, 'simon': 3982, 'wins': 4899, 'refuses': 3589, 'recognition': 3570, 'asian': 314, 'featuring': 1682, 'gangsters': 1870, 'necessary': 2985, 'effective': 1430, '100': 1, 'changes': 751, 'settle': 3902, 'surprises': 4313, 'award': 366, 'winner': 4897, 'hong': 2150, 'kong': 2495, 'heroic': 2091, 'cinematography': 820, 'editing': 1422, 'exposed': 1599, 'fiction': 1703, 'fresh': 1834, 'innovative': 2296, 'existent': 1573, 'post': 3355, 'category': 718, 'forward': 1809, 'storytelling': 4209, 'jennifer': 2393, 'walker': 4777, 'ball': 388, 'teeth': 4392, 'secondly': 3847, 'industry': 2281, 'third': 4454, 'bible': 477, 'jesus': 2400, 'fourth': 1814, 'crappy': 1033, 'thrown': 4480, 'onto': 3112, 'calling': 653, 'population': 3338, 'clichéd': 845, 'mix': 2877, 'modern': 2883, 'borrowed': 546, 'superficial': 4297, 'create': 1037, 'willis': 4890, 'minded': 2851, 'standards': 4145, 'vampires': 4710, 'dark': 1116, 'nicely': 3010, 'jon': 2417, 'bathroom': 412, 'contrast': 976, 'unfolds': 4649, 'produce': 3416, 'grew': 1973, 'prefer': 3371, 'stories': 4205, 'presents': 3380, 'segments': 3868, 'tragic': 4551, 'september': 3884, '2001': 32, 'united': 4662, 'tragedy': 4550, 'sympathy': 4342, 'mainly': 2708, 'ken': 2454, 'segment': 3867, 'usa': 4689, 'number': 3061, 'victims': 4729, 'countries': 1014, 'contemporary': 966, 'accused': 92, 'iran': 2351, 'teacher': 4374, 'france': 1817, 'york': 4985, 'nearby': 2981, 'sean': 3840, 'poetic': 3316, 'sadness': 3770, 'nation': 2970, 'manipulative': 2727, 'inspiration': 2301, 'brazil': 569, 'efforts': 1434, 'gordon': 1941, 'moore': 2902, 'died': 1244, 'feature': 1679, 'unfortunate': 4651, 'loss': 2659, 'hand': 2016, 'farce': 1655, '1930s': 11, 'centers': 734, 'arthur': 305, 'drunken': 1377, 'losing': 2658, 'grandmother': 1956, 'runs': 3757, 'linda': 2609, 'tie': 4487, 'loads': 2633, 'slapstick': 4019, 'spoiled': 4122, 'talents': 4355, 'devoted': 1231, 'fate': 1666, 'proceedings': 3413, 'pre': 3368, 'martin': 2748, 'dad': 1096, 'steals': 4172, 'ralph': 3513, 'fly': 1764, 'veteran': 4723, 'inevitably': 2284, 'photos': 3264, 'notes': 3047, 'complex': 924, 'explosions': 1598, 'gratuitous': 1962, 'general': 1881, 'paying': 3220, 'requires': 3644, 'mental': 2808, 'change': 749, 'compare': 911, 'terms': 4405, 'generic': 1886, 'intense': 2317, 'influence': 2287, 'effort': 1433, 'study': 4242, 'jackson': 2376, 'kevin': 2458, 'ability': 66, 'corrupt': 1002, 'fire': 1735, 'similarities': 3979, 'parallel': 3188, 'political': 3327, 'public': 3463, 'details': 1219, 'complexity': 925, 'unrealistic': 4675, 'knowing': 2491, 'flawless': 1752, 'weakest': 4824, 'link': 2613, 'accent': 79, 'captures': 678, 'text': 4418, 'baby': 376, 'louis': 2665, 'fred': 1826, 'parody': 3195, 'wise': 4903, 'warm': 4793, 'nonsensical': 3032, 'satisfied': 3789, 'signs': 3973, 'worthy': 4956, 'overwhelming': 3159, 'musical': 2948, 'suspects': 4327, 'suffered': 4276, 'uncomfortable': 4635, 'plight': 3311, 'depicted': 1183, 'achievement': 95, 'remarkable': 3615, 'faithful': 1635, 'strangely': 4212, 'hints': 2114, 'isolated': 2364, 'lacking': 2505, 'bonus': 535, 'interviews': 2331, 'commentary': 899, 'blank': 502, 'amateurish': 208, 'satisfying': 3791, 'grey': 1974, 'generous': 1887, 'stick': 4185, 'ridiculous': 3694, 'embarrassing': 1455, 'paltrow': 3181, 'shallow': 3917, 'heroine': 2092, 'questionable': 3491, 'laughable': 2530, 'starring': 4154, 'kate': 2447, 'disney': 1289, 'toilet': 4511, 'flight': 1758, 'steven': 4182, 'seagal': 3839, 'cake': 648, 'bollywood': 531, 'utterly': 4700, 'shower': 3957, 'clean': 838, 'suspect': 4326, 'workers': 4943, 'dvds': 1393, 'wear': 4829, 'receive': 3565, 'thru': 4482, 'genuinely': 1893, 'shines': 3932, 'round': 3742, 'stress': 4220, 'exists': 1574, 'exist': 1570, 'messages': 2820, 'games': 1866, 'frank': 1822, 'lynch': 2691, 'bizarre': 493, 'maintain': 2710, 'painfully': 3175, 'pages': 3171, 'glover': 1924, 'humorous': 2194, 'difference': 1246, 'tedious': 4386, 'painful': 3174, 'hated': 2048, 'gerard': 1896, 'butler': 637, 'conversation': 981, 'earlier': 1400, 'worry': 4950, 'adorable': 125, 'precious': 3369, 'luck': 2681, 'spell': 4104, 'madonna': 2699, 'failing': 1628, 'shed': 3924, 'persona': 3242, 'fare': 1656, 'league': 2549, 'weight': 4839, 'trouble': 4590, 'asked': 317, 'regardless': 3592, 'opposed': 3123, 'bette': 471, 'streep': 4215, 'fail': 1626, 'lacked': 2504, 'bomb': 532, '1971': 18, 'wicked': 4878, 'devil': 1228, 'attacked': 338, 'gifted': 1908, 'capable': 672, 'letting': 2583, 'convey': 983, 'woody': 4936, 'allen': 189, 'inferior': 2286, 'pat': 3211, 'stilted': 4190, 'stiff': 4187, 'nervous': 3000, 'aware': 368, 'cameras': 660, 'closer': 856, 'incredible': 2270, 'ease': 1405, 'unconvincing': 4636, 'sincere': 3991, 'witch': 4909, 'fay': 1675, 'laura': 2536, 'tommy': 4515, 'mars': 2746, 'middle': 2834, 'believed': 455, 'filming': 1719, 'montage': 2895, 'survival': 4319, 'drag': 1342, 'tight': 4491, 'suited': 4285, 'styles': 4250, '30s': 45, 'moral': 2903, 'tone': 4516, 'erotic': 1516, 'silent': 3975, 'providing': 3454, 'calm': 655, 'glimpse': 1920, 'mask': 2752, 'battle': 414, 'trailers': 4553, 'deeper': 1155, 'jim': 2403, 'carrey': 696, 'angry': 238, 'morgan': 2906, 'freeman': 1830, 'crude': 1070, 'laughs': 2534, 'red': 3578, 'sea': 3838, 'reactions': 3544, 'seemingly': 3863, 'overly': 3157, 'exaggerated': 1553, 'walter': 4783, 'facing': 1621, 'generated': 1883, 'resist': 3650, '90': 61, 'presence': 3376, 'putting': 3485, 'hey': 2096, 'press': 3382, 'speak': 4094, 'credibility': 1048, 'ms': 2932, 'fighter': 1709, 'thrills': 4474, 'stinks': 4192, 'porno': 3340, 'deserved': 1200, 'hopes': 2160, 'joe': 2408, 'snl': 4044, 'member': 2800, 'pleasantly': 3306, 'chris': 806, 'contrary': 975, 'attempts': 343, 'lewis': 2586, 'miserably': 2865, 'physical': 3265, 'ignorant': 2224, 'fool': 1780, 'jumping': 2432, 'ape': 266, 'package': 3168, 'supposed': 4305, 'gag': 1862, 'performed': 3233, 'timing': 4497, 'delivery': 1173, 'dragged': 1343, 'gonna': 1937, 'eddie': 1417, 'murphy': 2945, 'bland': 501, 'childrens': 793, 'godzilla': 1930, 'creatures': 1047, 'chain': 741, 'stale': 4141, 'uninspired': 4655, 'conclusion': 937, 'rare': 3525, 'connection': 947, 'cure': 1082, 'closing': 859, 'inside': 2298, 'universe': 4664, 'thoroughly': 4458, 'market': 2740, 'karloff': 2446, 'struggling': 4236, 'scientist': 3818, 'wealthy': 4826, 'womans': 4922, 'husband': 2205, 'gain': 1864, 'fortune': 1807, 'dying': 1394, 'victim': 4728, 'breaks': 572, 'selfish': 3870, 'sinister': 3998, 'unintentionally': 4657, 'designs': 1204, 'videos': 4733, 'bat': 410, 'box': 556, 'design': 1202, 'equipment': 1512, 'mini': 2855, 'screens': 3832, 'anyways': 262, 'search': 3841, 'destroy': 1213, 'careers': 687, 'visually': 4757, 'lit': 2621, 'boot': 539, 'virtually': 4750, 'alas': 173, 'unoriginal': 4671, 'logic': 2638, 'halfway': 2009, 'abandoned': 63, 'thugs': 4483, 'california': 650, 'ted': 4385, 'turner': 4605, 'victoria': 4731, 'ghost': 1903, 'deliberately': 1166, 'damon': 1102, 'remaining': 3612, 'impression': 2253, 'emma': 1458, 'romance': 3733, 'wit': 4908, 'required': 3643, 'offer': 3088, 'proper': 3439, 'shocked': 3939, 'handsome': 2022, 'heck': 2072, 'charm': 767, 'pride': 3394, 'importantly': 2249, 'heights': 2074, 'extraordinary': 1608, 'supposedly': 4306, 'tag': 4347, 'move': 2922, 'portrays': 3347, 'cause': 723, 'idiot': 2219, 'average': 362, 'molly': 2885, 'mom': 2886, 'park': 3193, 'pregnant': 3372, 'sees': 3866, 'trek': 4576, 'purely': 3475, 'wearing': 4830, 'bakshi': 386, 'blond': 511, 'racist': 3506, 'gem': 1878, 'consider': 950, 'condition': 938, 'crowd': 1068, 'london': 2641, 'blowing': 516, 'sound': 4081, 'grow': 1983, 'sheer': 3925, 'temple': 4397, 'martial': 2747, 'arts': 310, 'kung': 2499, 'fu': 1845, 'epic': 1507, 'choreography': 802, 'gray': 1964, 'crafted': 1030, 'cultural': 1079, 'nostalgic': 3040, 'experienced': 1582, 'grade': 1952, 'learned': 2551, 'courage': 1019, 'sacrifice': 3766, 'doomed': 1327, 'tracy': 4545, 'detective': 1220, 'tracks': 4544, 'popular': 3336, 'warner': 4798, 'comics': 895, 'liberal': 2588, 'technology': 4384, 'notably': 3043, 'fair': 1631, 'danny': 1113, 'suspenseful': 4330, 'batman': 413, 'features': 1681, 'warren': 4800, 'beatty': 427, 'al': 171, 'pacino': 3166, 'hoffman': 2129, 'van': 4711, 'fit': 1741, 'brought': 601, 'sets': 3899, 'lighting': 2596, 'speaking': 4095, 'actresses': 107, 'page': 3170, 'reading': 3546, 'paint': 3176, 'technically': 4381, 'direct': 1258, 'aside': 315, 'expecting': 1579, 'endure': 1476, 'focused': 1768, 'witty': 4917, 'listen': 2619, 'parker': 3194, 'complain': 920, 'captivating': 675, 'spy': 4135, 'werent': 4848, 'social': 4049, 'beauty': 430, 'gas': 1875, 'picks': 3271, 'clumsy': 866, 'rid': 3691, 'arrival': 299, 'worker': 4942, 'provides': 3453, 'desired': 1206, 'freedom': 1829, 'pushed': 3481, 'goal': 1926, 'committed': 905, 'lover': 2672, 'finds': 1729, 'arms': 294, 'prostitute': 3443, 'portrait': 3342, 'slight': 4027, 'touch': 4532, 'criticism': 1064, 'carefully': 689, 'revelation': 3675, 'succeeds': 4264, 'accident': 85, 'society': 4050, 'distribution': 1298, 'generation': 1884, 'captain': 674, 'appeared': 276, 'quiet': 3495, 'creativity': 1043, 'granted': 1958, 'doctor': 1304, 'artificial': 306, 'awkward': 374, 'express': 1601, 'beyond': 476, 'science': 3816, 'portray': 3343, '1st': 29, 'seasons': 3844, 'ryan': 3765, 'chemistry': 782, 'harry': 2040, 'kim': 2476, 'paris': 3192, 'occasional': 3075, 'glad': 1917, 'footage': 1783, 'creative': 1042, 'exploration': 1594, 'charlie': 765, 'retarded': 3664, 'thick': 4446, 'wood': 4933, 'earned': 1402, 'cash': 709, 'wars': 4803, 'trilogy': 4584, 'superior': 4299, 'consistent': 954, 'gary': 1874, 'forth': 1805, 'makers': 2715, 'concerned': 933, 'creating': 1040, 'aspect': 321, 'originality': 3131, 'worlds': 4947, 'ice': 2211, 'planet': 3292, 'bears': 421, 'construction': 961, 'solo': 4058, 'whereas': 4864, 'stuck': 4237, 'convinced': 985, 'luke': 2687, 'fisher': 1740, 'space': 4090, 'cared': 685, 'ian': 2210, 'fault': 1669, 'elaborate': 1440, 'constructed': 960, 'battles': 415, 'worn': 4948, 'flaw': 1750, 'realism': 3551, 'saga': 3773, 'psychological': 3461, 'protagonist': 3444, 'ensemble': 1493, 'statement': 4162, 'global': 1921, 'refreshing': 3588, 'research': 3646, 'lord': 2652, 'striking': 4226, 'sitting': 4007, 'tense': 4402, 'performer': 3234, 'apparent': 269, 'expression': 1603, 'neighbor': 2993, 'clue': 864, 'instance': 2305, 'kidnapped': 2467, 'locked': 2637, 'closet': 858, 'replaced': 3636, 'attempting': 342, 'oddly': 3082, 'pal': 3180, 'underground': 4638, 'pitch': 3282, 'petty': 3252, 'discovers': 1281, 'religion': 3609, 'jail': 2377, 'priest': 3395, 'duo': 1387, 'instant': 2306, 'program': 3427, 'pays': 3221, 'vulnerable': 4767, 'assault': 324, 'wrote': 4974, 'met': 2822, 'downright': 1337, 'network': 3001, 'reporter': 3638, 'service': 3896, 'followed': 1774, 'chicago': 785, 'underlying': 4639, 'goofy': 1940, 'suspend': 4328, 'disbelief': 1277, 'charming': 768, 'mary': 2751, 'sam': 3777, 'ladies': 2507, 'rick': 3690, 'morris': 2909, 'businessman': 634, 'georges': 1895, 'normal': 3034, 'highlights': 2105, 'misery': 2866, 'repeatedly': 3634, 'mentally': 2809, 'peoples': 3225, 'south': 4087, 'australia': 356, 'amount': 220, 'talks': 4360, 'confusion': 944, 'basic': 406, 'separate': 3883, 'lawrence': 2539, 'jenny': 2394, 'chances': 748, 'finding': 1728, 'attractive': 351, 'positive': 3349, 'appealing': 272, 'attitude': 346, 'matters': 2770, 'deserves': 1201, 'subjects': 4254, 'appreciated': 280, 'medium': 2792, 'national': 2971, 'cinemas': 817, 'quest': 3489, 'identity': 2218, 'flop': 1761, 'damage': 1100, 'reputation': 3642, 'sounding': 4083, 'reflection': 3587, 'dealt': 1139, 'europe': 1530, 'french': 1831, 'wave': 4817, 'faster': 1663, 'ignore': 2225, 'issues': 2366, 'multi': 2936, 'importance': 2247, 'ground': 1980, 'comedic': 888, 'stops': 4203, 'easier': 1406, 'prime': 3398, 'favor': 1671, 'manager': 2724, 'belongs': 460, 'punishment': 3470, 'formulaic': 1804, 'flying': 1765, 'display': 1291, 'sword': 4339, 'doubts': 1333, 'explicit': 1592, 'otherwise': 3139, 'mate': 2765, 'dislike': 1288, 'gundam': 1998, 'wing': 4896, 'jumps': 2433, 'calls': 654, 'seed': 3856, 'fits': 1742, 'everybody': 1541, 'angels': 234, 'maggie': 2702, 'lively': 2627, 'notch': 3044, 'impress': 2251, 'popcorn': 3334, 'navy': 2977, '20th': 39, 'century': 736, 'ships': 3935, 'rogers': 3726, 'trade': 4546, 'sally': 3776, 'singing': 3995, 'winds': 4895, 'officer': 3093, 'fallen': 1639, 'tooth': 4523, 'sign': 3970, '17': 9, 'minimum': 2857, 'costume': 1006, 'andrews': 230, 'gene': 1880, 'represents': 3641, 'morality': 2904, 'occasion': 3074, 'shoes': 3941, 'wet': 4854, 'becoming': 435, 'lie': 2590, 'conventional': 980, 'gritty': 1978, 'urban': 4686, 'anger': 235, 'riveting': 3709, 'potential': 3358, 'movements': 2925, 'apartment': 265, 'immediately': 2243, 'hitting': 2127, 'rage': 3508, 'equal': 1510, 'nicholas': 3011, 'dangerous': 1111, 'unreal': 4674, 'independent': 2273, 'artists': 309, 'pathetic': 3213, 'adults': 127, 'greater': 1966, 'voices': 4762, 'nicholson': 3012, 'sellers': 3872, 'dr': 1340, 'skills': 4014, 'draw': 1349, 'wayne': 4820, '3rd': 48, 'dinner': 1254, 'closest': 857, 'tortured': 4529, 'beaten': 424, 'feet': 1689, 'motivations': 2916, 'dialogues': 1235, 'insulting': 2311, 'serial': 3889, 'hiding': 2100, 'christmas': 810, 'asking': 318, 'santa': 3783, 'scare': 3803, 'satan': 3787, 'sends': 3876, 'demon': 1177, 'eve': 1533, 'trap': 4561, 'sun': 4291, 'demons': 1178, 'devils': 1229, 'dancing': 1108, 'occurs': 3079, 'initially': 2292, 'neil': 2996, 'opened': 3114, 'matthau': 2771, 'lemmon': 2567, 'felix': 1690, 'laughter': 2535, 'sisters': 4002, 'sharp': 3922, 'fantastic': 1652, 'reynolds': 3685, 'mothers': 2913, 'shirley': 3936, 'mistake': 2872, 'menacing': 2807, 'phone': 3258, 'briefly': 581, 'sister': 4001, 'piano': 3267, 'insane': 2297, 'air': 165, 'spoken': 4126, 'brief': 580, 'mainstream': 2709, 'respected': 3655, 'older': 3102, 'mildly': 2841, 'infamous': 2285, 'forgotten': 1798, 'tend': 4399, 'served': 3894, 'albert': 175, 'inducing': 2280, 'unfunny': 4653, 'incident': 2261, '1980': 21, 'aid': 161, 'horrifying': 2168, 'sadistic': 3768, 'ned': 2987, 'foster': 1810, 'brenda': 576, 'burton': 630, 'twenty': 4610, 'costs': 1005, 'company': 910, 'holds': 2132, 'shortly': 3947, 'midnight': 2835, 'bang': 393, 'jump': 2430, 'scares': 3806, 'bbc': 417, 'sides': 3967, 'describes': 1196, 'lovers': 2673, 'columbo': 881, 'retired': 3665, 'proud': 3447, 'africa': 142, '1950s': 14, 'claire': 831, 'emotionally': 1461, 'poem': 3315, 'depicts': 1186, 'nowhere': 3057, 'emphasis': 1464, 'returning': 3668, 'childhood': 790, 'traveling': 4566, 'household': 2180, 'families': 1645, 'rooms': 3737, 'limits': 2607, 'bodies': 527, 'sexually': 3910, 'prevent': 3388, 'dress': 1358, 'forms': 1802, 'bond': 533, 'beneath': 464, 'sky': 4017, 'spite': 4117, 'master': 2757, 'table': 4345, 'command': 897, 'loses': 2657, 'land': 2512, 'mountains': 2919, 'jean': 2390, 'racial': 3504, 'balance': 387, 'uses': 4695, 'attraction': 350, 'loosely': 2651, 'adapted': 115, 'slowly': 4032, 'simplistic': 3985, 'guard': 1989, 'protect': 3446, 'coach': 868, 'lies': 2591, 'hoping': 2161, 'cat': 713, 'mouse': 2920, 'angles': 237, 'odds': 3083, 'motion': 2914, 'serves': 3895, 'expensive': 1580, 'countless': 1013, 'frightening': 1840, 'stereotypical': 4180, 'cliche': 843, 'defense': 1159, 'contain': 963, 'push': 3480, 'limited': 2606, 'sticks': 4186, 'magazine': 2701, 'ron': 3735, 'funniest': 1852, 'vacation': 4702, 'routine': 3743, 'excuse': 1565, 'groups': 1982, 'duke': 1384, 'bob': 525, 'exception': 1558, 'numbers': 3062, 'propaganda': 3438, 'train': 4554, 'jazz': 2388, 'unseen': 4676, 'soviet': 4089, 'proceeds': 3414, 'scientific': 3817, 'rush': 3759, 'adds': 120, 'funnier': 1851, 'wes': 4850, 'ludicrous': 2685, 'howard': 2183, 'agrees': 158, 'tim': 4493, 'robbins': 3713, 'ed': 1416, 'genius': 1888, 'ensues': 1494, 'university': 4665, 'glorious': 1922, 'appropriate': 283, 'hire': 2117, 'trip': 4586, 'restaurant': 3660, 'hoped': 2157, 'laughably': 2531, 'false': 1642, 'friday': 1835, 'witnessed': 4915, 'touches': 4534, 'junk': 2437, 'kiss': 2484, 'sick': 3963, 'cruise': 1072, 'triumph': 4588, 'teenagers': 4390, 'corporate': 999, 'continued': 971, 'decade': 1145, 'highest': 2103, 'sequels': 3886, 'cases': 708, 'racism': 3505, 'deliver': 1169, 'suppose': 4304, 'succeed': 4262, 'underrated': 4640, 'voiced': 4761, 'burt': 629, 'partner': 3201, 'dogs': 1311, 'loyal': 2679, 'anne': 246, 'marie': 2737, 'noticed': 3050, 'arnold': 296, 'hidden': 2097, 'mighty': 2837, 'ties': 4489, 'forbidden': 1786, 'tomatoes': 4514, 'terrific': 4408, 'normally': 3035, 'constantly': 959, 'flash': 1746, 'der': 1191, 'named': 2962, 'explains': 1590, 'cave': 727, 'dragon': 1344, 'rings': 3700, 'zero': 4996, 'technique': 4382, 'villain': 4743, 'leg': 2562, 'jaws': 2386, 'superman': 4300, 'aids': 162, 'reduced': 3581, 'hollow': 2136, 'hip': 2115, 'sings': 3997, 'sunshine': 4293, 'slasher': 4020, 'cannibal': 669, 'couples': 1018, 'ghosts': 1904, 'kelly': 2453, 'valley': 4705, 'knife': 2488, 'blade': 496, 'firstly': 1738, 'shelf': 3926, 'bridge': 579, 'reached': 3539, 'aged': 150, 'extended': 1605, 'recorded': 3576, 'hill': 2109, 'chase': 769, 'utter': 4699, 'conceived': 930, 'dracula': 1341, 'cary': 706, 'classics': 837, 'stone': 4197, 'experiment': 1584, 'cleverly': 842, 'massive': 2756, 'un': 4628, 'green': 1972, 'dickens': 1240, 'streets': 4217, 'rain': 3509, 'pulls': 3467, 'sits': 4006, 'partly': 3200, 'judy': 2427, 'shy': 3962, 'creep': 1052, 'changing': 752, 'improved': 2256, 'chased': 770, 'hole': 2133, 'ballet': 389, 'somebody': 4062, 'extent': 1606, 'jessica': 2399, 'understanding': 4643, 'understood': 4645, 'cg': 739, 'ages': 153, 'personalities': 3244, 'native': 2973, 'historical': 2120, 'warned': 4797, 'ride': 3693, 'pro': 3409, 'pleased': 3308, 'product': 3421, 'recently': 3569, 'chorus': 803, 'failed': 1627, 'rushed': 3760, 'intention': 2320, 'theory': 4436, 'avoided': 364, 'disagree': 1269, 'sympathetic': 4341, 'lawyer': 2541, 'kenneth': 2456, 'branagh': 565, 'pulling': 3466, 'attorney': 348, 'process': 3415, 'safety': 3772, 'gang': 1868, 'beat': 423, 'ruth': 3763, 'entertain': 1498, 'korean': 2496, 'base': 402, 'san': 3780, 'francisco': 1820, 'appearances': 275, 'develops': 1226, 'force': 1787, 'delivering': 1171, 'fooled': 1781, 'staying': 4168, 'childish': 791, 'females': 1695, 'thirty': 4455, 'distinct': 1296, 'pleasant': 3305, 'cagney': 646, 'causing': 726, 'adequate': 121, 'aspects': 322, 'strictly': 4223, 'antics': 255, 'timothy': 4498, 'dalton': 1099, 'spare': 4093, 'pity': 3284, 'serious': 3891, 'cabin': 643, 'fever': 1700, 'resident': 3649, 'lying': 2690, 'tongue': 4517, 'blonde': 512, 'pack': 3167, 'awfully': 373, 'jeff': 2391, 'thinks': 4453, 'bag': 384, 'brains': 564, 'forgettable': 1795, 'truck': 4593, 'armed': 293, 'knock': 2489, 'burning': 627, 'wisdom': 4902, 'screaming': 3827, 'stays': 4169, 'stayed': 4167, 'swim': 4336, 'somehow': 4063, 'featured': 1680, 'race': 3502, 'bore': 541, 'training': 4556, 'fest': 1697, 'unhappy': 4654, 'babe': 375, 'anderson': 228, 'credible': 1049, 'portrayal': 3344, 'screenwriter': 3833, 'lay': 2542, 'soap': 4047, 'opera': 3117, 'wannabe': 4786, 'potentially': 3359, 'consequences': 948, 'likewise': 2603, 'wanna': 4785, 'delivers': 1172, 'semi': 3874, 'core': 996, 'definite': 1161, 'orleans': 3133, 'celluloid': 731, 'deserve': 1199, 'props': 3442, 'homosexual': 2146, 'thief': 4447, 'exceptional': 1559, 'tree': 4574, 'grandfather': 1955, 'germany': 1899, 'gotten': 1948, 'relationships': 3600, 'instantly': 2307, 'developing': 1224, 'basis': 408, 'ruins': 3752, 'description': 1197, 'horse': 2171, 'shining': 3933, 'hbo': 2056, 'charge': 761, 'investigation': 2344, 'donald': 1321, 'sutherland': 4332, 'masterpieces': 2760, 'passionate': 3209, 'jeffrey': 2392, 'creates': 1039, 'empathy': 1463, 'hatred': 2050, 'vicious': 4727, 'accents': 80, 'yesterday': 4983, 'reel': 3583, 'listed': 2618, 'teach': 4373, 'khan': 2460, 'kapoor': 2444, 'reference': 3584, 'producing': 3420, 'plague': 3288, 'bird': 485, 'attempted': 341, 'predictable': 3370, 'logical': 2639, 'patrick': 3216, 'cop': 992, 'insult': 2310, 'heston': 2095, 'signed': 3971, 'travesty': 4568, 'elegant': 1442, 'mans': 2730, 'accepted': 83, 'broad': 591, 'paranoia': 3189, 'greatly': 1968, 'plastic': 3297, 'melting': 2799, 'nurse': 3064, 'glass': 1918, 'army': 295, 'francis': 1819, 'attacks': 339, 'fx': 1859, 'ps': 3456, 'halloween': 2011, 'castle': 712, 'haunted': 2051, 'blew': 506, 'model': 2881, 'moves': 2926, 'professor': 3425, 'wacky': 4768, 'uneven': 4647, 'rising': 3704, 'jaw': 2385, 'dropped': 1371, 'viewings': 4740, 'east': 1408, 'cats': 721, 'aunt': 355, 'jackie': 2375, 'account': 90, 'edie': 1420, 'testament': 4416, 'interpretation': 2329, 'vice': 4726, 'situations': 4009, 'drugs': 1375, 'tarzan': 4366, 'shell': 3927, 'secretly': 3851, 'wishes': 4906, 'capture': 676, 'troubles': 4592, 'civilization': 827, 'exact': 1551, 'stretch': 4221, 'captured': 677, 'caused': 724, 'appearance': 274, 'norman': 3036, 'rough': 3741, 'narration': 2966, 'pitt': 3283, '1996': 27, 'patients': 3215, 'realizes': 3556, 'guns': 1999, 'cost': 1004, 'mine': 2854, 'kicking': 2463, 'photo': 3260, 'jumped': 2431, 'bitter': 492, 'forces': 1789, 'anybody': 257, 'humble': 2192, 'lose': 2654, 'ourselves': 3142, 'trademark': 4547, 'began': 441, 'cliff': 847, 'jesse': 2398, 'horrendous': 2163, 'glory': 1923, 'backgrounds': 381, 'dreary': 1356, 'secrets': 3852, 'summary': 4289, 'animated': 241, 'rural': 3758, 'conflict': 940, 'complicated': 926, 'aint': 164, 'fitting': 1743, 'scenario': 3808, '75': 58, 'tender': 4400, 'impact': 2245, 'include': 2262, 'settings': 3901, 'disturbed': 1299, 'murdered': 2941, 'investigate': 2343, 'realizing': 3557, 'floor': 1760, 'arrested': 298, 'fabulous': 1616, 'pure': 3474, 'react': 3542, 'awe': 370, 'inspiring': 2303, 'flicks': 1756, 'clips': 852, 'helicopter': 2077, 'li': 2587, 'lion': 2614, 'kay': 2448, 'pretending': 3385, 'daring': 1115, 'raw': 3534, 'christians': 809, 'placed': 3286, 'lasted': 2522, 'cheesy': 781, 'crazy': 1036, 'goodness': 1939, 'wedding': 4835, 'allow': 190, 'jake': 2378, 'remote': 3624, 'site': 4005, 'eerie': 1428, 'annoyed': 248, 'repeat': 3632, 'drops': 1373, 'months': 2898, 'sin': 3988, 'touched': 4533, 'angel': 232, 'commercials': 903, 'sole': 4055, 'quotes': 3500, 'wrap': 4963, 'blind': 507, 'buildings': 616, 'packed': 3169, 'cia': 814, 'lincoln': 2608, 'smaller': 4034, 'eighties': 1438, 'assistant': 326, 'hurt': 2203, 'unwatchable': 4680, 'warrior': 4801, 'bleak': 504, 'grinch': 1976, 'colorful': 878, 'lou': 2663, 'guessed': 1991, 'promised': 3434, 'pulled': 3465, 'understandable': 4642, 'upset': 4685, 'harsh': 2041, 'ah': 159, 'unbelievable': 4632, 'jamie': 2380, 'promise': 3433, 'dub': 1379, '1940s': 13, 'hat': 2046, 'rabbit': 3501, 'ears': 1403, 'imagery': 2235, 'drawing': 1350, 'sold': 4052, 'dozen': 1338, 'manner': 2729, 'behavior': 446, 'fairy': 1633, 'spend': 4105, 'considerable': 951, 'suitable': 4284, 'solve': 4060, 'solution': 4059, 'remotely': 3625, 'fbi': 1676, 'incompetent': 2267, 'distant': 1295, 'futuristic': 1858, 'determined': 1221, 'birth': 487, 'stole': 4194, 'countryside': 1016, 'enormous': 1491, 'acid': 96, 'plant': 3296, 'terrifying': 4409, 'kissing': 2485, 'cameron': 661, 'stellar': 4174, 'cook': 989, 'eating': 1414, 'intentions': 2322, 'sarah': 3785, 'michelle': 2831, 'adams': 113, 'robin': 3716, 'prequel': 3375, 'mentions': 2813, 'dating': 1121, 'remind': 3620, 'honestly': 2148, 'birthday': 488, 'sunday': 4292, 'politics': 3329, 'horrors': 2170, 'communist': 907, 'remarkably': 3616, 'occasionally': 3076, 'widmark': 4881, 'peters': 3251, 'ritter': 3706, 'delightful': 1168, 'remains': 3613, 'lena': 2568, 'embarrassment': 1456, 'range': 3518, 'lloyd': 2630, 'trashy': 4564, 'rocks': 3723, 'unbearable': 4631, 'homeless': 2144, 'burns': 628, 'blue': 519, 'succeeded': 4263, 'academy': 78, 'caliber': 649, 'cards': 683, 'subsequent': 4257, 'equivalent': 1513, 'letter': 2581, 'legend': 2564, 'wake': 4773, 'intentionally': 2321, 'implausible': 2246, 'savage': 3793, 'novels': 3054, 'centered': 733, 'facts': 1625, 'adam': 112, 'cheek': 779, 'everywhere': 1546, 'disgusting': 1286, 'twin': 4613, 'destruction': 1216, 'mindless': 2852, 'worthless': 4954, 'wrestling': 4966, 'brave': 568, 'lower': 2677, 'unforgettable': 4650, 'buying': 641, 'visible': 4752, 'cuts': 1092, 'six': 4010, 'delivered': 1170, 'nick': 3013, 'rental': 3629, 'inept': 2282, 'audio': 354, 'june': 2434, 'carter': 703, 'widely': 4880, 'cd': 728, 'manhattan': 2726, 'mayor': 2777, 'speech': 4102, 'nyc': 3066, 'engaging': 1482, 'shouldnt': 3952, 'convoluted': 988, 'photographer': 3262, 'encounters': 1468, 'mountain': 2918, 'witches': 4910, 'atmospheric': 334, 'areas': 287, 'perfection': 3228, 'prom': 3432, 'obsessed': 3070, 'nobody': 3023, 'security': 3854, 'killings': 2474, 'carrie': 697, '13th': 5, 'akshay': 170, 'noise': 3025, 'odd': 3081, 'beats': 426, 'dances': 1107, '24': 40, 'irritating': 2360, 'ordinary': 3129, 'downhill': 1336, '2nd': 42, 'connect': 945, 'pants': 3185, 'topic': 4525, 'successful': 4266, 'pie': 3274, 'bothered': 550, 'bold': 529, 'affected': 138, 'bo': 522, 'ticket': 4486, 'thoughtful': 4462, 'march': 2734, 'icon': 2212, 'commented': 900, 'pointed': 3320, 'edward': 1427, 'grant': 1957, 'mexican': 2827, 'par': 3187, 'properly': 3440, 'handle': 2019, 'enemy': 1478, 'anna': 245, 'obscure': 3069, '1980s': 22, 'activities': 103, 'failure': 1630, 'president': 3381, 'claimed': 829, 'wounded': 4961, 'defeat': 1157, 'territory': 4410, 'purchase': 3472, 'americas': 216, 'agent': 151, 'newly': 3005, 'wives': 4918, 'crying': 1075, 'fox': 1815, 'conflicts': 941, 'handed': 2017, 'melodrama': 2797, 'scooby': 3820, 'doo': 1325, 'marks': 2742, 'spin': 4112, 'engage': 1480, 'shorts': 3948, 'focuses': 1769, 'bigger': 479, 'rubber': 3747, 'checking': 778, 'fame': 1643, 'lengthy': 2570, 'contained': 964, 'generations': 1885, 'conspiracy': 957, 'translation': 4560, 'stood': 4199, 'bringing': 587, 'counter': 1012, 'stones': 4198, 'bone': 534, 'represent': 3639, 'conversations': 982, 'builds': 617, 'unpredictable': 4673, 'images': 2236, 'doom': 1326, 'greek': 1971, 'storm': 4206, 'splendid': 4119, 'blend': 505, 'information': 2289, 'imagination': 2237, 'teaching': 4376, 'learning': 2552, 'reminiscent': 3623, 'ignored': 2226, 'sid': 3964, 'quirky': 3496, 'warmth': 4795, 'pink': 3280, 'helen': 2076, 'chaplin': 756, 'hardy': 2038, 'restored': 3661, 'available': 361, 'promising': 3436, '1999': 28, 'lone': 2642, 'fix': 1745, 'trite': 4587, 'whenever': 4862, 'grows': 1986, 'tiresome': 4501, 'button': 639, 'bottle': 551, 'steps': 4177, '2007': 38, 'graphics': 1960, 'matched': 2763, 'rape': 3523, 'believing': 457, 'miike': 2838, 'mild': 2840, 'sorts': 4078, 'relatives': 3603, 'develop': 1222, 'twins': 4614, 'compassion': 915, 'sport': 4129, 'amitabh': 217, 'brain': 563, 'douglas': 1334, 'hart': 2042, 'steel': 4173, 'consists': 956, 'tricks': 4581, 'accompanied': 87, 'mike': 2839, 'believes': 456, 'distance': 1294, 'existence': 1572, 'happily': 2031, 'serve': 3893, 'lesbian': 2573, 'alexander': 181, 'afraid': 141, 'olivier': 3104, 'mile': 2843, 'zone': 4999, 'creators': 1045, 'curse': 1087, 'bargain': 400, 'bin': 483, 'throws': 4481, 'lab': 2502, 'monk': 2890, 'colour': 880, 'nail': 2958, 'alice': 183, 'ridiculously': 3695, 'references': 3585, 'hearing': 2064, 'sight': 3969, 'civil': 826, 'rights': 3698, 'vaguely': 4704, 'kicks': 2464, 'priceless': 3393, 'relation': 3597, 'dollars': 1315, 'mtv': 2934, 'bullets': 621, 'legs': 2566, 'places': 3287, 'identify': 2217, 'greed': 1969, 'essence': 1522, 'slick': 4026, 'advertising': 133, 'simpson': 3987, 'coherent': 871, 'rolling': 3731, 'internet': 2328, 'raised': 3511, 'tour': 4537, 'lifestyle': 2593, 'belief': 451, 'performs': 3237, 'broadway': 593, 'ham': 2012, 'arrives': 302, 'visits': 4755, 'sentence': 3881, 'joined': 2414, 'enjoying': 1488, 'whilst': 4868, 'regarding': 3591, 'correct': 1001, 'analysis': 225, 'sentimental': 3882, 'wishing': 4907, 'fashioned': 1661, 'educational': 1426, 'twelve': 4609, 'nude': 3059, 'germans': 1898, 'reed': 3582, 'charismatic': 763, 'poster': 3356, 'danes': 1109, 'airport': 168, 'thumbs': 4484, 'writes': 4970, 'valuable': 4706, 'dorothy': 1330, 'behave': 445, 'directions': 1262, 'spike': 4111, 'invisible': 2345, 'maker': 2714, 'largely': 2518, 'incoherent': 2266, 'tremendous': 4577, 'elvira': 1451, 'los': 2653, 'angeles': 233, 'pseudo': 3457, 'revolutionary': 3682, 'advance': 128, 'revolution': 3681, 'quit': 3497, 'soccer': 4048, 'indian': 2275, 'struggles': 4235, 'intrigue': 2334, 'genres': 1890, 'purple': 3476, 'rose': 3739, 'florida': 1762, 'student': 4238, 'via': 4725, 'ireland': 2353, 'union': 4659, 'royal': 3746, 'flies': 1757, 'spielberg': 4110, 'wells': 4844, 'japan': 2382, 'samurai': 3779, 'awesome': 371, 'bath': 411, 'matthew': 2772, 'junior': 2436, 'paulie': 3218, 'shall': 3916, 'strike': 4224, 'dreadful': 1353, 'hideous': 2099, 'bands': 392, 'performers': 3235, 'responsibility': 3657, 'attitudes': 347, 'conservative': 949, 'claims': 830, '80': 59, 'similarly': 3980, 'reach': 3538, 'enterprise': 1496, 'arrived': 301, 'kirk': 2483, 'wed': 4834, 'seek': 3858, 'established': 1525, 'kidding': 2466, 'purposes': 3478, 'persons': 3247, 'sudden': 4272, 'absence': 71, 'ruthless': 3764, 'month': 2897, 'survived': 4321, 'obsession': 3071, 'guessing': 1992, 'eva': 1532, 'continues': 972, 'mafia': 2700, 'assumed': 329, '1960s': 15, 'funeral': 1850, 'waters': 4816, 'concern': 932, 'folks': 1772, 'waited': 4770, 'hype': 2208, 'amanda': 206, 'relies': 3608, 'moronic': 2908, 'merit': 2816, 'appreciation': 281, 'peace': 3222, 'jewish': 2402, 'existed': 1571, 'hearts': 2067, 'overcome': 3153, 'cox': 1027, 'notable': 3042, 'nominated': 3026, 'smooth': 4041, 'blows': 518, 'namely': 2963, 'randomly': 3517, 'beer': 439, 'praise': 3367, 'received': 3566, 'resolution': 3651, 'spring': 4134, 'square': 4136, 'severe': 3906, 'web': 4832, 'holiday': 2135, 'leonard': 2572, 'depicting': 1184, 'ass': 323, 'sum': 4288, 'hitler': 2125, 'bourne': 555, 'associated': 327, 'newspaper': 3007, 'brutally': 605, 'choreographed': 801, 'planned': 3293, 'stunt': 4245, 'intensity': 2318, 'fictional': 1704, 'lovable': 2668, 'creation': 1041, 'travel': 4565, 'floating': 1759, 'manage': 2722, 'breathtaking': 575, 'relatively': 3602, 'alike': 186, 'charlotte': 766, '1933': 12, 'cooper': 991, 'fields': 1706, 'disneys': 1290, 'breath': 574, 'curiosity': 1083, 'unaware': 4630, 'cardboard': 682, 'combine': 884, 'perform': 3230, 'mechanical': 2788, 'hardcore': 2035, 'riding': 3696, 'hello': 2079, 'cowboy': 1026, 'secretary': 3850, 'unsettling': 4677, 'albeit': 174, 'comfortable': 892, 'discovery': 1282, 'channel': 753, 'cinderella': 815, 'nelson': 2998, 'demand': 1174, 'vietnam': 4734, 'balls': 390, 'waves': 4818, 'darker': 1117, 'section': 3853, '16': 8, 'rachel': 3503, 'domestic': 1318, '2004': 35, 'significant': 3972, 'chair': 742, '1990': 25, 'matt': 2768, 'inevitable': 2283, 'agents': 152, 'illegal': 2230, 'joan': 2405, 'miles': 2844, 'stretched': 4222, 'superhero': 4298, 'suffering': 4277, 'afford': 139, 'ward': 4792, 'rival': 3707, 'device': 1227, 'creator': 1044, 'lately': 2524, 'moved': 2923, 'twilight': 4612, 'diana': 1237, 'chose': 804, 'wendy': 4845, 'indie': 2277, 'estate': 1526, 'caine': 647, 'capturing': 679, 'china': 795, 'useful': 4692, 'confusing': 943, 'irrelevant': 2359, 'poignant': 3318, 'eccentric': 1415, 'emily': 1457, 'chess': 783, 'meeting': 2794, 'skill': 4013, 'delight': 1167, 'root': 3738, 'attend': 344, 'matches': 2764, 'nations': 2972, 'dressing': 1360, 'philosophy': 3257, 'fortunately': 1806, 'hopeless': 2159, 'provide': 3451, 'humanity': 2190, 'mentioning': 2812, 'hundreds': 2197, 'merits': 2817, 'capital': 673, 'murderous': 2943, 'nuclear': 3058, 'stanley': 4148, 'voight': 4763, 'sir': 4000, 'hamilton': 2013, 'terrorists': 4413, 'stolen': 4195, 'corpse': 1000, 'broadcast': 592, 'unbelievably': 4633, 'dear': 1141, 'clark': 832, 'fed': 1683, 'laws': 2540, 'raped': 3524, 'lane': 2515, 'harder': 2036, 'cares': 690, 'singer': 3993, 'fears': 1678, 'unit': 4661, 'grand': 1954, 'bucks': 607, 'swedish': 4334, 'edition': 1423, 'argue': 290, 'yelling': 4980, 'extreme': 1610, 'cities': 823, 'tribute': 4579, 'treatment': 4572, 'pot': 3357, 'strangers': 4214, 'reasonable': 3560, 'sloppy': 4030, 'belong': 459, 'hood': 2152, 'neighborhood': 2994, 'scripted': 3835, 'torn': 4527, 'rap': 3522, 'britain': 589, 'wwii': 4975, 'surviving': 4322, 'drives': 1368, 'annie': 247, 'toy': 4541, 'canadian': 667, 'perry': 3240, 'del': 1165, 'online': 3110, 'ego': 1436, 'blunt': 521, 'victor': 4730, 'ellen': 1447, 'joey': 2409, 'overrated': 3158, 'pretentious': 3386, 'punch': 3469, 'cameo': 657, 'ultra': 4627, 'daddy': 1097, 'frustration': 1844, '1984': 24, 'returned': 3667, 'houses': 2181, 'alcoholic': 178, 'cell': 730, 'sensitive': 3879, 'cringe': 1060, 'eaten': 1413, 'abusive': 76, 'eight': 1437, '1983': 23, 'engaged': 1481, 'hippie': 2116, 'sixties': 4011, 'dire': 1257, 'celebrity': 729, '3d': 47, 'climactic': 848, 'reasonably': 3561, 'medical': 2790, 'inventive': 2342, 'purchased': 3473, 'inspector': 2300, 'giallo': 1905, 'snow': 4045, 'cole': 873, 'hysterical': 2209, 'showcase': 3954, 'pearl': 3223, 'introduction': 2340, 'stooges': 4200, 'alongside': 197, 'trained': 4555, 'wonders': 4931, 'dinosaur': 1255, 'gross': 1979, 'irish': 2354, 'lifetime': 2594, 'deaf': 1135, 'outfit': 3146, 'wore': 4939, 'circle': 821, 'burn': 625, 'hates': 2049, 'historically': 2121, 'competent': 918, 'characterization': 759, 'tradition': 4548, 'mel': 2796, 'hook': 2153, 'switch': 4338, 'library': 2589, 'pulp': 3468, 'da': 1095, '2005': 36, 'eg': 1435, 'polished': 3326, 'dramas': 1347, 'charisma': 762, 'lucy': 2684, 'prisoner': 3405, 'species': 4098, 'doc': 1303, 'adventures': 132, 'disjointed': 1287, 'beast': 422, 'fish': 1739, 'intent': 2319, 'disappear': 1270, 'nuts': 3065, 'beliefs': 452, '1970s': 17, 'turkey': 4602, 'inane': 2259, 'dare': 1114, 'gandhi': 1867, 'card': 681, 'teens': 4391, 'eastern': 1409, 'cusack': 1089, 'burned': 626, 'makeup': 2717, 'enjoyment': 1489, 'denzel': 1181, 'washington': 4805, 'despair': 1207, 'patient': 3214, 'reunion': 3670, 'majority': 2712, 'prince': 3399, 'vivid': 4759, 'kurt': 2500, 'concerns': 935, 'tends': 4401, 'nazi': 2978, 'brady': 562, '13': 4, 'holly': 2137, 'previously': 3391, 'wholly': 4873, 'fatal': 1665, 'receives': 3567, 'frequent': 1832, 'menace': 2806, 'wolf': 4920, 'chicks': 787, '18': 10, 'metaphor': 2824, 'grave': 1963, 'stated': 4161, 'iraq': 2352, 'reaching': 3541, 'frankenstein': 1823, 'wizard': 4919, 'listening': 2620, 'rank': 3520, 'lowest': 2678, 'surrounded': 4317, 'suffice': 4279, 'dimensional': 1253, 'basement': 405, 'chan': 746, 'feed': 1684, 'idiots': 2221, 'oil': 3098, 'journalist': 2421, 'luckily': 2682, 'et': 1527, 'justify': 2440, 'explored': 1596, 'alex': 180, 'lyrics': 2692, 'altogether': 203, 'examples': 1555, '2003': 34, 'eastwood': 1410, 'honesty': 2149, 'satisfy': 3790, 'draws': 1352, 'harvey': 2043, 'blob': 508, 'spends': 4107, 'oscars': 3136, 'kubrick': 2497, 'le': 2544, 'relations': 3598, 'overlook': 3155, 'improve': 2255, 'possessed': 3350, 'critic': 1062, 'scrooge': 3837, 'provoking': 3455, 'ashley': 313, 'ruby': 3749, 'discuss': 1283, 'rangers': 3519, 'overacting': 3151, 'resort': 3652, 'rats': 3533, 'spooky': 4128, 'invasion': 2341, 'closed': 854, 'haunting': 2052, 'throwing': 4479, 'staring': 4152, 'ho': 2128, 'grace': 1951, 'neck': 2986, 'lips': 2615, 'thrillers': 4472, 'craft': 1029, 'lol': 2640, '14': 6, 'orange': 3126, 'projects': 3431, 'ethan': 1529, 'russell': 3761, 'richardson': 3689, 'displays': 1293, 'techniques': 4383, 'blown': 517, 'aging': 154, 'franchise': 1818, 'guilty': 1996, 'illogical': 2232, 'faced': 1618, 'jet': 2401, 'differences': 1247, 'lust': 2689, 'sandler': 3781, 'streisand': 4218, 'brosnan': 598, 'scottish': 3825, 'roberts': 3715, 'myers': 2953, 'wished': 4905, 'whale': 4856, 'ninja': 3019, 'basketball': 409, 'assigned': 325, 'birds': 486, 'fascinated': 1658, 'fired': 1736, 'murderer': 2942, 'amazed': 209, 'monkeys': 2892, 'hanks': 2026, 'progress': 3428, 'ha': 2003, 'politically': 3328, 'opportunities': 3121, 'amounts': 221, 'promises': 3435, 'jealous': 2389, 'practice': 3366, 'advise': 135, 'challenging': 744, 'seeks': 3860, 'ideal': 2215, 'horrific': 2167, 'nancy': 2965, 'reaction': 3543, 'gift': 1907, 'till': 4492, 'dawn': 1128, 'drivel': 1365, 'someones': 4065, 'destiny': 1212, 'suspicious': 4331, 'inner': 2293, 'scientists': 3819, 'remain': 3611, 'user': 4694, 'muslim': 2950, 'comedian': 887, 'connected': 946, 'outer': 3145, 'earl': 1399, 'intimate': 2332, 'roy': 3745, 'sitcom': 4004, 'canada': 666, 'sons': 4073, 'punk': 3471, 'vincent': 4745, 'ocean': 3080, 'unpleasant': 4672, 'splatter': 4118, 'immensely': 2244, 'stylish': 4251, 'rocky': 3724, 'hugh': 2187, 'brando': 567, 'finger': 1732, '2002': 33, 'gentle': 1891, 'sandra': 3782, 'block': 509, 'hed': 2073, 'clint': 850, 'godfather': 1928, 'bay': 416, 'hang': 2023, 'musicals': 2949, 'powell': 3361, 'crocodile': 1066, 'larger': 2519, 'dinosaurs': 1256, 'rex': 3684, 'pushing': 3482, 'lily': 2605, 'spirits': 4115, 'focusing': 1770, 'boom': 538, 'couldve': 1010, 'multiple': 2937, 'doll': 1313, 'robots': 3719, 'snake': 4042, 'iii': 2228, 'raymond': 3536, 'panic': 3184, '3000': 44, 'spider': 4109, 'verhoeven': 4718, 'laurel': 2537, 'vague': 4703, 'chapter': 757, 'defend': 1158, 'mickey': 2832, 'machines': 2694, 'legal': 2563, 'kane': 2443, 'championship': 745, 'kennedy': 2455, 'ear': 1398, 'superbly': 4296, 'useless': 4693, 'typically': 4622, 'tune': 4600, 'swimming': 4337, 'reviewers': 3679, 'st': 4137, 'measure': 2786, 'yellow': 4981, 'comparing': 913, 'dropping': 1372, 'boll': 530, 'hammer': 2015, 'stan': 4142, 'hamlet': 2014, 'principal': 3401, 'carpenter': 694, 'afterwards': 146, 'album': 176, 'spread': 4133, 'messed': 2821, 'mixture': 2879, 'compelled': 916, 'talked': 4358, 'unintentional': 4656, 'noble': 3022, 'opinions': 3120, 'vast': 4714, 'consistently': 955, 'iron': 2355, 'experiments': 1585, 'explosion': 1597, 'stranger': 4213, 'parties': 3199, 'meaningless': 2782, 'dynamic': 1395, 'clown': 862, 'reaches': 3540, 'gradually': 1953, 'appearing': 277, 'montana': 2896, 'stunts': 4246, 'regard': 3590, 'cheated': 775, 'flow': 1763, 'barry': 401, 'hop': 2155, 'introduce': 2337, 'revealing': 3673, 'fancy': 1650, 'threat': 4466, 'achieved': 94, 'digital': 1251, 'macy': 2695, 'hank': 2025, 'deaths': 1143, 'rat': 3527, 'complaint': 921, 'boxing': 557, 'philip': 3255, 'carol': 693, 'landscape': 2513, 'maria': 2736, 'frequently': 1833, 'travels': 4567, 'operation': 3118, 'drags': 1345, 'von': 4764, 'mysteries': 2955, 'reveal': 3671, 'explaining': 1589, 'everyones': 1544, 'upper': 4683, 'clip': 851, 'smoke': 4039, 'gruesome': 1987, 'tad': 4346, 'imaginative': 2238, 'bela': 450, 'lugosi': 2686, 'shine': 3931, 'eyre': 1615, 'rochester': 3720, 'popularity': 3337, 'intellectual': 2313, 'heavily': 2070, 'proof': 3437, 'spiritual': 4116, 'philosophical': 3256, 'poverty': 3360, 'distracting': 1297, 'furthermore': 1855, 'bullet': 620, 'classes': 834, 'alert': 179, 'schools': 3814, 'plausible': 3298, 'losers': 2656, 'citizen': 824, 'rambo': 3514, 'cuba': 1076, 'vengeance': 4717, 'loser': 2655, 'alfred': 182, 'astaire': 330, 'tap': 4363, 'betty': 474, 'descent': 1193, 'phantom': 3254, 'recording': 3577, 'forgive': 1796, 'warriors': 4802, 'defined': 1160, 'escaped': 1519, 'authentic': 358, 'dig': 1250, 'exceptionally': 1560, 'sidney': 3968, 'lumet': 2688, 'abysmal': 77, 'nomination': 3027, 'installment': 2304, '1968': 16, 'disappeared': 1271, 'gothic': 1946, 'hitchcock': 2124, 'subtlety': 4261, 'apes': 267, '25': 41, 'elsewhere': 1450, 'bare': 398, 'spoof': 4127, 'widow': 4882, 'omen': 3105, 'narrator': 2968, 'todd': 4509, 'rendition': 3627, 'surfing': 4310, 'enters': 1497, 'resources': 3653, 'suits': 4286, 'officers': 3094, 'faults': 1670, 'simmons': 3981, 'biography': 484, 'fonda': 1778, 'preview': 3389, 'dolls': 1316, 'elvis': 1452, 'cinematographer': 819, 'latin': 2527, 'warming': 4794, 'pit': 3281, 'polanski': 3324, 'banned': 395, 'ran': 3515, 'glenn': 1919, 'con': 929, 'wound': 4960, 'hung': 2198, 'richards': 3688, 'uwe': 4701, 'wandering': 4784, 'weapons': 4828, 'domino': 1319, 'kingdom': 2481, 'horses': 2172, 'exposure': 1600, 'poetry': 3317, 'tunes': 4601, 'classical': 836, 'terrorist': 4412, 'marty': 2749, 'donna': 1323, 'scores': 3823, 'blacks': 495, 'repetitive': 3635, 'catchy': 717, 'carl': 692, 'louise': 2666, 'psychic': 3459, 'orders': 3128, 'silver': 3977, 'judging': 2426, 'composed': 927, 'primarily': 3396, 'stargate': 4151, 'pamela': 3182, 'disease': 1285, 'neo': 2999, 'letters': 2582, 'colonel': 876, 'agreed': 157, 'eager': 1397, 'marketing': 2741, 'april': 284, 'motives': 2917, 'modesty': 2884, 'wondered': 4927, 'demented': 1176, 'oz': 3162, 'homer': 2145, 'worried': 4949, 'bacall': 377, 'sneak': 4043, 'singers': 3994, 'keaton': 2449, 'museum': 2946, 'stanwyck': 4149, 'abilities': 65, 'justin': 2441, 'reads': 3547, 'buried': 624, 'parent': 3190, 'landscapes': 2514, 'titanic': 4502, 'robinson': 3717, 'enemies': 1477, 'goldberg': 1934, 'mall': 2720, 'dentist': 1180, 'solely': 4056, 'diamond': 1236, 'feminist': 1696, 'bettie': 473, 'abc': 64, 'pool': 3330, 'destroying': 1215, 'illness': 2231, 'fond': 1777, 'instinct': 2309, 'transition': 4559, 'profound': 3426, 'searching': 3842, 'terry': 4414, 'abraham': 70, 'mildred': 2842, 'southern': 4088, 'hyde': 2207, 'che': 773, 'gadget': 1861, 'welles': 4843, 'campbell': 663, 'expressed': 1602, 'orson': 3134, 'dawson': 1129, 'incomprehensible': 2268, 'mundane': 2939, 'dedicated': 1153, 'willie': 4888, 'atlantis': 332, 'garbo': 1872, 'scarecrow': 3804}\n"
     ]
    }
   ],
   "source": [
    "print(str(vocabulary))"
   ]
  },
  {
   "cell_type": "markdown",
   "metadata": {},
   "source": [
    "Once you have added the endpoint name to the Lambda function, click on **Save**. Your Lambda function is now up and running. Next we need to create a way for our web app to execute the Lambda function."
   ]
  },
  {
   "cell_type": "markdown",
   "metadata": {},
   "source": [
    "### Setting up API Gateway\n",
    "\n",
    "Now that our Lambda function is set up, it is time to create a new API using API Gateway that will trigger the Lambda function we have just created.\n",
    "\n",
    "Using AWS Console, navigate to **Amazon API Gateway** and then click on **Get started**.\n",
    "\n",
    "On the next page, make sure that **New API** is selected and give the new api a name, for example, `sentiment_analysis_web_app`. Then, click on **Create API**.\n",
    "\n",
    "Now we have created an API, however it doesn't currently do anything. What we want it to do is to trigger the Lambda function that we created earlier.\n",
    "\n",
    "Select the **Actions** dropdown menu and click **Create Method**. A new blank method will be created, select its dropdown menu and select **POST**, then click on the check mark beside it.\n",
    "\n",
    "For the integration point, make sure that **Lambda Function** is selected and click on the **Use Lambda Proxy integration**. This option makes sure that the data that is sent to the API is then sent directly to the Lambda function with no processing. It also means that the return value must be a proper response object as it will also not be processed by API Gateway.\n",
    "\n",
    "Type the name of the Lambda function you created earlier into the **Lambda Function** text entry box and then click on **Save**. Click on **OK** in the pop-up box that then appears, giving permission to API Gateway to invoke the Lambda function you created.\n",
    "\n",
    "The last step in creating the API Gateway is to select the **Actions** dropdown and click on **Deploy API**. You will need to create a new Deployment stage and name it anything you like, for example `prod`.\n",
    "\n",
    "You have now successfully set up a public API to access your SageMaker model. Make sure to copy or write down the URL provided to invoke your newly created public API as this will be needed in the next step. This URL can be found at the top of the page, highlighted in blue next to the text **Invoke URL**."
   ]
  },
  {
   "cell_type": "markdown",
   "metadata": {},
   "source": [
    "## Step 7: Deploying our web app\n",
    "\n",
    "Now that we have a publicly available API, we can start using it in a web app. For our purposes, we have provided a simple static html file which can make use of the public api you created earlier.\n",
    "\n",
    "In the `website` folder there should be a file called `index.html`. Download the file to your computer and open that file up in a text editor of your choice. There should be a line which contains **\\*\\*REPLACE WITH PUBLIC API URL\\*\\***. Replace this string with the url that you wrote down in the last step and then save the file.\n",
    "\n",
    "Now, if you open `index.html` on your local computer, your browser will behave as a local web server and you can use the provided site to interact with your SageMaker model.\n",
    "\n",
    "If you'd like to go further, you can host this html file anywhere you'd like, for example using github or hosting a static site on Amazon's S3. Once you have done this you can share the link with anyone you'd like and have them play with it too!\n",
    "\n",
    "> **Important Note** In order for the web app to communicate with the SageMaker endpoint, the endpoint has to actually be deployed and running. This means that you are paying for it. Make sure that the endpoint is running when you want to use the web app but that you shut it down when you don't need it, otherwise you will end up with a surprisingly large AWS bill."
   ]
  },
  {
   "cell_type": "markdown",
   "metadata": {},
   "source": [
    "### Delete the endpoint\n",
    "\n",
    "Remember to always shut down your endpoint if you are no longer using it. You are charged for the length of time that the endpoint is running so if you forget and leave it on you could end up with an unexpectedly large bill."
   ]
  },
  {
   "cell_type": "code",
   "execution_count": 86,
   "metadata": {},
   "outputs": [],
   "source": [
    "xgb_predictor.delete_endpoint()"
   ]
  },
  {
   "cell_type": "markdown",
   "metadata": {},
   "source": [
    "## Optional: Clean up\n",
    "\n",
    "The default notebook instance on SageMaker doesn't have a lot of excess disk space available. As you continue to complete and execute notebooks you will eventually fill up this disk space, leading to errors which can be difficult to diagnose. Once you are completely finished using a notebook it is a good idea to remove the files that you created along the way. Of course, you can do this from the terminal or from the notebook hub if you would like. The cell below contains some commands to clean up the created files from within the notebook."
   ]
  },
  {
   "cell_type": "code",
   "execution_count": 87,
   "metadata": {},
   "outputs": [
    {
     "ename": "OSError",
     "evalue": "[Errno 12] Cannot allocate memory",
     "output_type": "error",
     "traceback": [
      "\u001b[0;31m---------------------------------------------------------------------------\u001b[0m",
      "\u001b[0;31mOSError\u001b[0m                                   Traceback (most recent call last)",
      "\u001b[0;32m<ipython-input-87-2c87d8eefdf2>\u001b[0m in \u001b[0;36m<module>\u001b[0;34m\u001b[0m\n\u001b[1;32m      1\u001b[0m \u001b[0;31m# First we will remove all of the files contained in the data_dir directory\u001b[0m\u001b[0;34m\u001b[0m\u001b[0;34m\u001b[0m\u001b[0;34m\u001b[0m\u001b[0m\n\u001b[0;32m----> 2\u001b[0;31m \u001b[0mget_ipython\u001b[0m\u001b[0;34m(\u001b[0m\u001b[0;34m)\u001b[0m\u001b[0;34m.\u001b[0m\u001b[0msystem\u001b[0m\u001b[0;34m(\u001b[0m\u001b[0;34m'rm $data_dir/*'\u001b[0m\u001b[0;34m)\u001b[0m\u001b[0;34m\u001b[0m\u001b[0;34m\u001b[0m\u001b[0m\n\u001b[0m\u001b[1;32m      3\u001b[0m \u001b[0;34m\u001b[0m\u001b[0m\n\u001b[1;32m      4\u001b[0m \u001b[0;31m# And then we delete the directory itself\u001b[0m\u001b[0;34m\u001b[0m\u001b[0;34m\u001b[0m\u001b[0;34m\u001b[0m\u001b[0m\n\u001b[1;32m      5\u001b[0m \u001b[0mget_ipython\u001b[0m\u001b[0;34m(\u001b[0m\u001b[0;34m)\u001b[0m\u001b[0;34m.\u001b[0m\u001b[0msystem\u001b[0m\u001b[0;34m(\u001b[0m\u001b[0;34m'rmdir $data_dir'\u001b[0m\u001b[0;34m)\u001b[0m\u001b[0;34m\u001b[0m\u001b[0;34m\u001b[0m\u001b[0m\n",
      "\u001b[0;32m~/anaconda3/envs/python3/lib/python3.6/site-packages/IPython/core/interactiveshell.py\u001b[0m in \u001b[0;36msystem_piped\u001b[0;34m(self, cmd)\u001b[0m\n\u001b[1;32m   2454\u001b[0m         \u001b[0;31m# a non-None value would trigger :func:`sys.displayhook` calls.\u001b[0m\u001b[0;34m\u001b[0m\u001b[0;34m\u001b[0m\u001b[0;34m\u001b[0m\u001b[0m\n\u001b[1;32m   2455\u001b[0m         \u001b[0;31m# Instead, we store the exit_code in user_ns.\u001b[0m\u001b[0;34m\u001b[0m\u001b[0;34m\u001b[0m\u001b[0;34m\u001b[0m\u001b[0m\n\u001b[0;32m-> 2456\u001b[0;31m         \u001b[0mself\u001b[0m\u001b[0;34m.\u001b[0m\u001b[0muser_ns\u001b[0m\u001b[0;34m[\u001b[0m\u001b[0;34m'_exit_code'\u001b[0m\u001b[0;34m]\u001b[0m \u001b[0;34m=\u001b[0m \u001b[0msystem\u001b[0m\u001b[0;34m(\u001b[0m\u001b[0mself\u001b[0m\u001b[0;34m.\u001b[0m\u001b[0mvar_expand\u001b[0m\u001b[0;34m(\u001b[0m\u001b[0mcmd\u001b[0m\u001b[0;34m,\u001b[0m \u001b[0mdepth\u001b[0m\u001b[0;34m=\u001b[0m\u001b[0;36m1\u001b[0m\u001b[0;34m)\u001b[0m\u001b[0;34m)\u001b[0m\u001b[0;34m\u001b[0m\u001b[0;34m\u001b[0m\u001b[0m\n\u001b[0m\u001b[1;32m   2457\u001b[0m \u001b[0;34m\u001b[0m\u001b[0m\n\u001b[1;32m   2458\u001b[0m     \u001b[0;32mdef\u001b[0m \u001b[0msystem_raw\u001b[0m\u001b[0;34m(\u001b[0m\u001b[0mself\u001b[0m\u001b[0;34m,\u001b[0m \u001b[0mcmd\u001b[0m\u001b[0;34m)\u001b[0m\u001b[0;34m:\u001b[0m\u001b[0;34m\u001b[0m\u001b[0;34m\u001b[0m\u001b[0m\n",
      "\u001b[0;32m~/anaconda3/envs/python3/lib/python3.6/site-packages/IPython/utils/_process_posix.py\u001b[0m in \u001b[0;36msystem\u001b[0;34m(self, cmd)\u001b[0m\n\u001b[1;32m    154\u001b[0m                 \u001b[0mchild\u001b[0m \u001b[0;34m=\u001b[0m \u001b[0mpexpect\u001b[0m\u001b[0;34m.\u001b[0m\u001b[0mspawnb\u001b[0m\u001b[0;34m(\u001b[0m\u001b[0mself\u001b[0m\u001b[0;34m.\u001b[0m\u001b[0msh\u001b[0m\u001b[0;34m,\u001b[0m \u001b[0margs\u001b[0m\u001b[0;34m=\u001b[0m\u001b[0;34m[\u001b[0m\u001b[0;34m'-c'\u001b[0m\u001b[0;34m,\u001b[0m \u001b[0mcmd\u001b[0m\u001b[0;34m]\u001b[0m\u001b[0;34m)\u001b[0m \u001b[0;31m# Pexpect-U\u001b[0m\u001b[0;34m\u001b[0m\u001b[0;34m\u001b[0m\u001b[0m\n\u001b[1;32m    155\u001b[0m             \u001b[0;32melse\u001b[0m\u001b[0;34m:\u001b[0m\u001b[0;34m\u001b[0m\u001b[0;34m\u001b[0m\u001b[0m\n\u001b[0;32m--> 156\u001b[0;31m                 \u001b[0mchild\u001b[0m \u001b[0;34m=\u001b[0m \u001b[0mpexpect\u001b[0m\u001b[0;34m.\u001b[0m\u001b[0mspawn\u001b[0m\u001b[0;34m(\u001b[0m\u001b[0mself\u001b[0m\u001b[0;34m.\u001b[0m\u001b[0msh\u001b[0m\u001b[0;34m,\u001b[0m \u001b[0margs\u001b[0m\u001b[0;34m=\u001b[0m\u001b[0;34m[\u001b[0m\u001b[0;34m'-c'\u001b[0m\u001b[0;34m,\u001b[0m \u001b[0mcmd\u001b[0m\u001b[0;34m]\u001b[0m\u001b[0;34m)\u001b[0m  \u001b[0;31m# Vanilla Pexpect\u001b[0m\u001b[0;34m\u001b[0m\u001b[0;34m\u001b[0m\u001b[0m\n\u001b[0m\u001b[1;32m    157\u001b[0m             \u001b[0mflush\u001b[0m \u001b[0;34m=\u001b[0m \u001b[0msys\u001b[0m\u001b[0;34m.\u001b[0m\u001b[0mstdout\u001b[0m\u001b[0;34m.\u001b[0m\u001b[0mflush\u001b[0m\u001b[0;34m\u001b[0m\u001b[0;34m\u001b[0m\u001b[0m\n\u001b[1;32m    158\u001b[0m             \u001b[0;32mwhile\u001b[0m \u001b[0;32mTrue\u001b[0m\u001b[0;34m:\u001b[0m\u001b[0;34m\u001b[0m\u001b[0;34m\u001b[0m\u001b[0m\n",
      "\u001b[0;32m~/anaconda3/envs/python3/lib/python3.6/site-packages/pexpect/pty_spawn.py\u001b[0m in \u001b[0;36m__init__\u001b[0;34m(self, command, args, timeout, maxread, searchwindowsize, logfile, cwd, env, ignore_sighup, echo, preexec_fn, encoding, codec_errors, dimensions, use_poll)\u001b[0m\n\u001b[1;32m    203\u001b[0m             \u001b[0mself\u001b[0m\u001b[0;34m.\u001b[0m\u001b[0mname\u001b[0m \u001b[0;34m=\u001b[0m \u001b[0;34m'<pexpect factory incomplete>'\u001b[0m\u001b[0;34m\u001b[0m\u001b[0;34m\u001b[0m\u001b[0m\n\u001b[1;32m    204\u001b[0m         \u001b[0;32melse\u001b[0m\u001b[0;34m:\u001b[0m\u001b[0;34m\u001b[0m\u001b[0;34m\u001b[0m\u001b[0m\n\u001b[0;32m--> 205\u001b[0;31m             \u001b[0mself\u001b[0m\u001b[0;34m.\u001b[0m\u001b[0m_spawn\u001b[0m\u001b[0;34m(\u001b[0m\u001b[0mcommand\u001b[0m\u001b[0;34m,\u001b[0m \u001b[0margs\u001b[0m\u001b[0;34m,\u001b[0m \u001b[0mpreexec_fn\u001b[0m\u001b[0;34m,\u001b[0m \u001b[0mdimensions\u001b[0m\u001b[0;34m)\u001b[0m\u001b[0;34m\u001b[0m\u001b[0;34m\u001b[0m\u001b[0m\n\u001b[0m\u001b[1;32m    206\u001b[0m         \u001b[0mself\u001b[0m\u001b[0;34m.\u001b[0m\u001b[0muse_poll\u001b[0m \u001b[0;34m=\u001b[0m \u001b[0muse_poll\u001b[0m\u001b[0;34m\u001b[0m\u001b[0;34m\u001b[0m\u001b[0m\n\u001b[1;32m    207\u001b[0m \u001b[0;34m\u001b[0m\u001b[0m\n",
      "\u001b[0;32m~/anaconda3/envs/python3/lib/python3.6/site-packages/pexpect/pty_spawn.py\u001b[0m in \u001b[0;36m_spawn\u001b[0;34m(self, command, args, preexec_fn, dimensions)\u001b[0m\n\u001b[1;32m    302\u001b[0m \u001b[0;34m\u001b[0m\u001b[0m\n\u001b[1;32m    303\u001b[0m         self.ptyproc = self._spawnpty(self.args, env=self.env,\n\u001b[0;32m--> 304\u001b[0;31m                                      cwd=self.cwd, **kwargs)\n\u001b[0m\u001b[1;32m    305\u001b[0m \u001b[0;34m\u001b[0m\u001b[0m\n\u001b[1;32m    306\u001b[0m         \u001b[0mself\u001b[0m\u001b[0;34m.\u001b[0m\u001b[0mpid\u001b[0m \u001b[0;34m=\u001b[0m \u001b[0mself\u001b[0m\u001b[0;34m.\u001b[0m\u001b[0mptyproc\u001b[0m\u001b[0;34m.\u001b[0m\u001b[0mpid\u001b[0m\u001b[0;34m\u001b[0m\u001b[0;34m\u001b[0m\u001b[0m\n",
      "\u001b[0;32m~/anaconda3/envs/python3/lib/python3.6/site-packages/pexpect/pty_spawn.py\u001b[0m in \u001b[0;36m_spawnpty\u001b[0;34m(self, args, **kwargs)\u001b[0m\n\u001b[1;32m    313\u001b[0m     \u001b[0;32mdef\u001b[0m \u001b[0m_spawnpty\u001b[0m\u001b[0;34m(\u001b[0m\u001b[0mself\u001b[0m\u001b[0;34m,\u001b[0m \u001b[0margs\u001b[0m\u001b[0;34m,\u001b[0m \u001b[0;34m**\u001b[0m\u001b[0mkwargs\u001b[0m\u001b[0;34m)\u001b[0m\u001b[0;34m:\u001b[0m\u001b[0;34m\u001b[0m\u001b[0;34m\u001b[0m\u001b[0m\n\u001b[1;32m    314\u001b[0m         \u001b[0;34m'''Spawn a pty and return an instance of PtyProcess.'''\u001b[0m\u001b[0;34m\u001b[0m\u001b[0;34m\u001b[0m\u001b[0m\n\u001b[0;32m--> 315\u001b[0;31m         \u001b[0;32mreturn\u001b[0m \u001b[0mptyprocess\u001b[0m\u001b[0;34m.\u001b[0m\u001b[0mPtyProcess\u001b[0m\u001b[0;34m.\u001b[0m\u001b[0mspawn\u001b[0m\u001b[0;34m(\u001b[0m\u001b[0margs\u001b[0m\u001b[0;34m,\u001b[0m \u001b[0;34m**\u001b[0m\u001b[0mkwargs\u001b[0m\u001b[0;34m)\u001b[0m\u001b[0;34m\u001b[0m\u001b[0;34m\u001b[0m\u001b[0m\n\u001b[0m\u001b[1;32m    316\u001b[0m \u001b[0;34m\u001b[0m\u001b[0m\n\u001b[1;32m    317\u001b[0m     \u001b[0;32mdef\u001b[0m \u001b[0mclose\u001b[0m\u001b[0;34m(\u001b[0m\u001b[0mself\u001b[0m\u001b[0;34m,\u001b[0m \u001b[0mforce\u001b[0m\u001b[0;34m=\u001b[0m\u001b[0;32mTrue\u001b[0m\u001b[0;34m)\u001b[0m\u001b[0;34m:\u001b[0m\u001b[0;34m\u001b[0m\u001b[0;34m\u001b[0m\u001b[0m\n",
      "\u001b[0;32m~/anaconda3/envs/python3/lib/python3.6/site-packages/ptyprocess/ptyprocess.py\u001b[0m in \u001b[0;36mspawn\u001b[0;34m(cls, argv, cwd, env, echo, preexec_fn, dimensions)\u001b[0m\n\u001b[1;32m    224\u001b[0m \u001b[0;34m\u001b[0m\u001b[0m\n\u001b[1;32m    225\u001b[0m         \u001b[0;32mif\u001b[0m \u001b[0muse_native_pty_fork\u001b[0m\u001b[0;34m:\u001b[0m\u001b[0;34m\u001b[0m\u001b[0;34m\u001b[0m\u001b[0m\n\u001b[0;32m--> 226\u001b[0;31m             \u001b[0mpid\u001b[0m\u001b[0;34m,\u001b[0m \u001b[0mfd\u001b[0m \u001b[0;34m=\u001b[0m \u001b[0mpty\u001b[0m\u001b[0;34m.\u001b[0m\u001b[0mfork\u001b[0m\u001b[0;34m(\u001b[0m\u001b[0;34m)\u001b[0m\u001b[0;34m\u001b[0m\u001b[0;34m\u001b[0m\u001b[0m\n\u001b[0m\u001b[1;32m    227\u001b[0m         \u001b[0;32melse\u001b[0m\u001b[0;34m:\u001b[0m\u001b[0;34m\u001b[0m\u001b[0;34m\u001b[0m\u001b[0m\n\u001b[1;32m    228\u001b[0m             \u001b[0;31m# Use internal fork_pty, for Solaris\u001b[0m\u001b[0;34m\u001b[0m\u001b[0;34m\u001b[0m\u001b[0;34m\u001b[0m\u001b[0m\n",
      "\u001b[0;32m~/anaconda3/envs/python3/lib/python3.6/pty.py\u001b[0m in \u001b[0;36mfork\u001b[0;34m()\u001b[0m\n\u001b[1;32m     95\u001b[0m \u001b[0;34m\u001b[0m\u001b[0m\n\u001b[1;32m     96\u001b[0m     \u001b[0mmaster_fd\u001b[0m\u001b[0;34m,\u001b[0m \u001b[0mslave_fd\u001b[0m \u001b[0;34m=\u001b[0m \u001b[0mopenpty\u001b[0m\u001b[0;34m(\u001b[0m\u001b[0;34m)\u001b[0m\u001b[0;34m\u001b[0m\u001b[0;34m\u001b[0m\u001b[0m\n\u001b[0;32m---> 97\u001b[0;31m     \u001b[0mpid\u001b[0m \u001b[0;34m=\u001b[0m \u001b[0mos\u001b[0m\u001b[0;34m.\u001b[0m\u001b[0mfork\u001b[0m\u001b[0;34m(\u001b[0m\u001b[0;34m)\u001b[0m\u001b[0;34m\u001b[0m\u001b[0;34m\u001b[0m\u001b[0m\n\u001b[0m\u001b[1;32m     98\u001b[0m     \u001b[0;32mif\u001b[0m \u001b[0mpid\u001b[0m \u001b[0;34m==\u001b[0m \u001b[0mCHILD\u001b[0m\u001b[0;34m:\u001b[0m\u001b[0;34m\u001b[0m\u001b[0;34m\u001b[0m\u001b[0m\n\u001b[1;32m     99\u001b[0m         \u001b[0;31m# Establish a new session.\u001b[0m\u001b[0;34m\u001b[0m\u001b[0;34m\u001b[0m\u001b[0;34m\u001b[0m\u001b[0m\n",
      "\u001b[0;31mOSError\u001b[0m: [Errno 12] Cannot allocate memory"
     ]
    }
   ],
   "source": [
    "# First we will remove all of the files contained in the data_dir directory\n",
    "!rm $data_dir/*\n",
    "\n",
    "# And then we delete the directory itself\n",
    "!rmdir $data_dir\n",
    "\n",
    "# Similarly we remove the files in the cache_dir directory and the directory itself\n",
    "!rm $cache_dir/*\n",
    "!rmdir $cache_dir"
   ]
  },
  {
   "cell_type": "code",
   "execution_count": null,
   "metadata": {},
   "outputs": [],
   "source": []
  }
 ],
 "metadata": {
  "kernelspec": {
   "display_name": "conda_python3",
   "language": "python",
   "name": "conda_python3"
  },
  "language_info": {
   "codemirror_mode": {
    "name": "ipython",
    "version": 3
   },
   "file_extension": ".py",
   "mimetype": "text/x-python",
   "name": "python",
   "nbconvert_exporter": "python",
   "pygments_lexer": "ipython3",
   "version": "3.6.10"
  }
 },
 "nbformat": 4,
 "nbformat_minor": 2
}
